{
 "cells": [
  {
   "cell_type": "markdown",
   "id": "65d015e7-f608-4f2c-a580-e476e4d23455",
   "metadata": {
    "execution": {
     "iopub.execute_input": "2024-04-27T14:24:44.399720Z",
     "iopub.status.busy": "2024-04-27T14:24:44.399074Z",
     "iopub.status.idle": "2024-04-27T14:24:44.688783Z",
     "shell.execute_reply": "2024-04-27T14:24:44.688485Z",
     "shell.execute_reply.started": "2024-04-27T14:24:44.399656Z"
    },
    "tags": []
   },
   "source": [
    "## 데이터셋 준비 하기\n",
    "Instruction Fine Tuning을 위해 데이터셋을 준비합니다.  \n",
    "데이터셋은 아래의 순서로 진행하려 합니다.\n",
    "---\n",
    "Instruction Tuning의 데이터셋은 어떻게 만들어야할까요?  \n",
    "학습에 필요한 Instruction Dataset은 아래와 같은 데이터 형태입니다.\n",
    "([Stanford Alpca 데이터셋](https://github.com/tatsu-lab/stanford_alpaca/blob/main/alpaca_data.json)을 참조했습니다)\n",
    "```plain\n",
    "질문 :\n",
    "건강하기 위한 3가지 팁 알려줘.\n",
    "답변 :\n",
    "1. 충분한 양의 채소와 과일을 섭취해서 균형있는 식단을 가지세요.\n",
    "2. 신체가 활동적이고 건강할 수 있도록 규칙적으로 운동을 하세요.\n",
    "3. 충분한 수면시간을 가지고 규칙적인 수면 습관을 가지세요.\n",
    "```\n",
    "위와 같은 데이터셋을 만들려면 여러 방법이 있습니다. 개인이 데이터셋을 구축하기 쉬운 방법중 하나는 강력한 언어모델의 힘을 빌리는 것일 겁니다.  \n",
    "이 예제에서는 ChatGPT를 활용하여 학습 데이터를 생성하였습니다.  \n",
    "⭐ 24년 5월 14일 OpenAI에서 `gpt-4o`를 출시하여 더욱 저렴한 가격으로 사용할 수 있게 되었습니다.  \n",
    "\n",
    "데이터셋은 1) 키워드 기반으로 질문을 생성, 2) 부동산 스터디 카페글을 크롤링하는 2가지 방법으로 생성해봤습니다.  \n",
    "\n",
    "이 예제에서 데이터셋을 만드는 순서는 간단하게 아래와 같습니다.  \n",
    "\n",
    "#### <span style=\"color: #F2D388;\"> 1. 도메인 정하기  </span>\n",
    "어떤 Assistant(챗봇)을 만들까?를 먼저 정해봅니다. 사내 봇? 주식 답변? ...  \n",
    "이 예제에서는 부동산을 타겟으로 하였습니다.  \n",
    "\n",
    "\n",
    "#### <span style=\"color: #F2D388;\"> 2. 키워드 기반으로 데이터셋 만들기 </span>\n",
    "##### <span style=\"color: #ECA75D;\"> 2-1. 부동산에 관련된 키워드 모으기 </span>\n",
    "책, 뉴스, 부동산 사이트에서 키워드를 수집해보았습니다.  \n",
    "사람들이 궁금해할만한 키워드를 대상으로 합니다. (예: 전세 계약, 신혼부부 특별공급, 토지거래허가구역...)  \n",
    "키워드에 대한 예제 데이터는 [data/seed_words.txt](https://github.com/aiqwe/instruction-tuning-with-rag-example/blob/main/data/seed_words.txt)를 참조해주세요.  \n",
    "##### <span style=\"color: #ECA75D;\"> 2-2. 부동산 키워드를 통해 사람들이 찾아볼만한 질문리스트를 만들기 </span>\n",
    "2번에서 수집한 키워드를 기반으로, 사람들이 궁금해할만한 질문리스트를 ChatGPT를 활용해 만들어봅니다.  \n",
    "검색 질문리스트 예제 데이터는 [data/questions_search.jsonl](https://github.com/aiqwe/instruction-tuning-with-rag-example/blob/main/data/questions_search.jsonl)를 참조해주세요. \n",
    "\n",
    "\n",
    "#### <span style=\"color: #F2D388;\"> 3. 카페글 기반으로 데이터셋 만들기 </span>\n",
    "##### <span style=\"color: #ECA75D;\"> 3-1. 네이버 카페 글의 질문으로 질문 데이터셋 만들기 </span>\n",
    "부동산 관련 카페중 가장 큰 규모인 부동산스터디 카페의 회원간 묻고 답하기 글을 크롤링합니다.  \n",
    "##### <span style=\"color: #ECA75D;\"> 3-2. 수집한 카페 글을 유사도 기준으로 필터링하기 </span>\n",
    "카페글 중엔 부동산과 관련이 없는 데이터셋이 있을 수 있습니다. 따라서 그러한 데이터를 필터링합니다.  \n",
    "수집된 데이터를 그대로 ChatGPT로 필터링하면 요금이 비싸기 때문에 먼저 인코더 모델로 유사도를 계산합니다.\n",
    "##### <span style=\"color: #ECA75D;\"> 3-3. 유사도로 필터링한 데이터를 ChatGPT로 한번 더 필터링하기 </span>\n",
    "3-2번에서 필터링한 데이터를 ChatGPT로 한번 더 필터링합니다. 이 때 유사도 기반으로 필터링하지 못한 데이터들을 ChatGPT가 필터링해줄 수 있습니다.  \n",
    "\n",
    "    \n",
    "#### <span style=\"color: #F2D388;\"> 4. 질문리스트로 네이버에 검색하여 인기 글 데이터 수집하기 </span>\n",
    "2, 3번에서 수집한 질문리스트를 Selenium 라이브러리를 활용하여 네이버에 검색합니다. 검색 결과중 인기글의 텍스트 데이터를 추출합니다.  \n",
    "인기글 문서 예제 데이터는 [data/documents.jsonl](https://github.com/aiqwe/instruction-tuning-with-rag-example/blob/main/data/documents.jsonl)를 참조해주세요.  \n",
    "\n",
    "\n",
    "#### <span style=\"color: #F2D388;\"> 5. encoder 모델을 활용하여 데이터를 유사도 기준으로 정렬하기 </span>\n",
    "4번에서 수집한 인기글 텍스트 데이터가 질문리스트와 얼마나 유사한지 계산합니다.\n",
    "질문리스트와 가장 유사한 인기글 텍스트를 상위 순위로 정렬합니다.\n",
    "인기글 문서 예제 데이터는 [data/documents.jsonl](https://github.com/aiqwe/instruction-tuning-with-rag-example/blob/main/data/documents.jsonl)를 참조해주세요.  \n",
    "\n",
    "\n",
    "#### <span style=\"color: #F2D388;\"> 6. Instuction 데이터셋 만들기 </span>\n",
    "질문리스트 + 정렬한 인기글을 합쳐서 ChatGPT에 Instruction 데이터를 만들어달라고 요청합니다. 이 Instruction 데이터는 Fine Tuning에 사용됩니다.\n",
    "인기글 문서 예제 데이터는 [data/instructions.jsonl](https://github.com/aiqwe/instruction-tuning-with-rag-example/blob/main/data/instructions.jsonl)를 참조해주세요.  "
   ]
  },
  {
   "cell_type": "code",
   "execution_count": 1,
   "id": "236cc32b-567d-4444-97cb-b3eff129879d",
   "metadata": {
    "execution": {
     "iopub.execute_input": "2024-05-12T10:52:02.242743Z",
     "iopub.status.busy": "2024-05-12T10:52:02.242475Z",
     "iopub.status.idle": "2024-05-12T10:52:04.043653Z",
     "shell.execute_reply": "2024-05-12T10:52:04.043335Z",
     "shell.execute_reply.started": "2024-05-12T10:52:02.242724Z"
    },
    "tags": []
   },
   "outputs": [
    {
     "name": "stdout",
     "output_type": "stream",
     "text": [
      "\n",
      "\u001b[1m[\u001b[0m\u001b[34;49mnotice\u001b[0m\u001b[1;39;49m]\u001b[0m\u001b[39;49m A new release of pip is available: \u001b[0m\u001b[31;49m23.3.1\u001b[0m\u001b[39;49m -> \u001b[0m\u001b[32;49m24.0\u001b[0m\n",
      "\u001b[1m[\u001b[0m\u001b[34;49mnotice\u001b[0m\u001b[1;39;49m]\u001b[0m\u001b[39;49m To update, run: \u001b[0m\u001b[32;49mpip install --upgrade pip\u001b[0m\n"
     ]
    }
   ],
   "source": [
    "!pip install --quiet\\\n",
    "selenium==4.20.0\\\n",
    "openai==1.23.6\\\n",
    "python-dotenv==1.0.1"
   ]
  },
  {
   "cell_type": "markdown",
   "id": "e2efb55f-3c57-4e7e-89e3-96fcab92db7d",
   "metadata": {},
   "source": [
    "## <span style=\"color: #F2D388;\"> 2. 키워드 기반으로 데이터셋 만들기 </span>"
   ]
  },
  {
   "cell_type": "markdown",
   "id": "6122411d-b899-41bc-8b3a-e6961161e86d",
   "metadata": {},
   "source": [
    "### <span style=\"color: #ECA75D;\"> 2-1. 부동산에 관련된 키워드 모으기 </span>\n",
    "부동산에 관련된 키워드를 수집하여 저장합니다.  \n",
    "예제 데이터는 [data/seed_words.txt](https://github.com/aiqwe/instruction-tuning-with-rag-example/blob/main/data/seed_words.txt)를 참조해주세요."
   ]
  },
  {
   "cell_type": "code",
   "execution_count": 24,
   "id": "8703faac-3a56-4259-b2f8-003c63485699",
   "metadata": {
    "execution": {
     "iopub.execute_input": "2024-05-12T14:35:43.414276Z",
     "iopub.status.busy": "2024-05-12T14:35:43.413684Z",
     "iopub.status.idle": "2024-05-12T14:35:43.420340Z",
     "shell.execute_reply": "2024-05-12T14:35:43.419588Z",
     "shell.execute_reply.started": "2024-05-12T14:35:43.414232Z"
    },
    "tags": []
   },
   "outputs": [],
   "source": [
    "with open(\"./data/seed_words.txt\", \"r\") as f:\n",
    "    seed_words = f.readlines()"
   ]
  },
  {
   "cell_type": "code",
   "execution_count": 3,
   "id": "0b731610-6b30-4eb4-ae3a-5faa7175b005",
   "metadata": {
    "execution": {
     "iopub.execute_input": "2024-05-12T10:52:05.672353Z",
     "iopub.status.busy": "2024-05-12T10:52:05.671688Z",
     "iopub.status.idle": "2024-05-12T10:52:05.682349Z",
     "shell.execute_reply": "2024-05-12T10:52:05.681209Z",
     "shell.execute_reply.started": "2024-05-12T10:52:05.672315Z"
    },
    "tags": []
   },
   "outputs": [
    {
     "data": {
      "text/plain": [
       "['전세 계약\\n', '임대차 계약\\n', '전세 사기\\n', '임대차 분쟁\\n']"
      ]
     },
     "execution_count": 3,
     "metadata": {},
     "output_type": "execute_result"
    }
   ],
   "source": [
    "seed_words[:4]"
   ]
  },
  {
   "cell_type": "markdown",
   "id": "02a47a69-2bbf-4bc2-b46f-62b48e46d2f6",
   "metadata": {},
   "source": [
    "불필요한 newline이 있어서 제거해줍니다."
   ]
  },
  {
   "cell_type": "code",
   "execution_count": 4,
   "id": "4cd9daee-9abf-49ca-a418-1515ef78aab3",
   "metadata": {
    "execution": {
     "iopub.execute_input": "2024-05-12T10:52:06.441851Z",
     "iopub.status.busy": "2024-05-12T10:52:06.441191Z",
     "iopub.status.idle": "2024-05-12T10:52:06.447554Z",
     "shell.execute_reply": "2024-05-12T10:52:06.446531Z",
     "shell.execute_reply.started": "2024-05-12T10:52:06.441795Z"
    },
    "tags": []
   },
   "outputs": [],
   "source": [
    "# Element마다 있는 \\n 제거, '전세 계약\\n' -> '전세 계약'\n",
    "seed_words = list(map(lambda x: x.strip(\"\\n\"), seed_words))"
   ]
  },
  {
   "cell_type": "code",
   "execution_count": 5,
   "id": "d4a7994b-fe60-4f7a-9446-22ee51936085",
   "metadata": {
    "execution": {
     "iopub.execute_input": "2024-05-12T10:52:06.550884Z",
     "iopub.status.busy": "2024-05-12T10:52:06.550193Z",
     "iopub.status.idle": "2024-05-12T10:52:06.556758Z",
     "shell.execute_reply": "2024-05-12T10:52:06.556135Z",
     "shell.execute_reply.started": "2024-05-12T10:52:06.550825Z"
    },
    "tags": []
   },
   "outputs": [
    {
     "data": {
      "text/plain": [
       "['전세 계약', '임대차 계약', '전세 사기', '임대차 분쟁']"
      ]
     },
     "execution_count": 5,
     "metadata": {},
     "output_type": "execute_result"
    }
   ],
   "source": [
    "seed_words[:4]"
   ]
  },
  {
   "cell_type": "markdown",
   "id": "c539ba2e-355f-4482-a1d7-b8a315a43c2e",
   "metadata": {
    "execution": {
     "iopub.execute_input": "2024-04-27T14:46:47.170359Z",
     "iopub.status.busy": "2024-04-27T14:46:47.169552Z",
     "iopub.status.idle": "2024-04-27T14:46:47.181132Z",
     "shell.execute_reply": "2024-04-27T14:46:47.178484Z",
     "shell.execute_reply.started": "2024-04-27T14:46:47.170307Z"
    },
    "tags": []
   },
   "source": [
    "### <span style=\"color: #ECA75D;\"> 2-2. 부동산 키워드를 통해 사람들이 찾아볼만한 질문리스트를 만들기 </span>\n",
    "미리 작성된 프롬프트에 `seed_words`를 `format` 적용하여 프롬프트를 완성시킵니다.  \n",
    "프롬프트 작성은 [Deeplearning.ai의 강의](https://www.deeplearning.ai/short-courses/chatgpt-prompt-engineering-for-developers)(무료)를 참조하였습니다."
   ]
  },
  {
   "cell_type": "code",
   "execution_count": 6,
   "id": "f06a5e79-9697-4ff9-ac38-6b23d298a483",
   "metadata": {
    "execution": {
     "iopub.execute_input": "2024-05-12T10:52:07.463173Z",
     "iopub.status.busy": "2024-05-12T10:52:07.462821Z",
     "iopub.status.idle": "2024-05-12T10:52:07.470238Z",
     "shell.execute_reply": "2024-05-12T10:52:07.469500Z",
     "shell.execute_reply.started": "2024-05-12T10:52:07.463137Z"
    },
    "tags": []
   },
   "outputs": [
    {
     "name": "stdout",
     "output_type": "stream",
     "text": [
      "당신은 부동산에 관심이 많은 사람입니다. 당신의 역할에 따라 주어진 seed_word에 대해 궁금해할 질문을 생성하세요.\n",
      "seed_word는 총 5개씩 주어집니다.\n",
      "seed_word에 대해 각각 20개의 질문을 생성해야합니다.\n",
      "생성할 질문에 대한 요구 사항은 다음과 같습니다:\n",
      "1. 지시대명사를 사용해서는 안됩니다. seed_word에 있는 명사를 그대로 사용하세요.\n",
      "2. 이미 만들어낸 질문과 동일하거나 유사한 질문을 만들어내서는 안됩니다.\n",
      "3. 만들어내는 질문들은 어휘의 다양성을 위해 다양한 단어를 사용해야 합니다.\n",
      "4. 만들어내는 질문들은 문장의 다양성을 위해 의문문과 평서문을 모두 사용해야 합니다.\n",
      "5. 반드시 한글로 질문을 만드세요.\n",
      "6. 만들어낸 질문은 JSON형식을 따라야 하고, indent는 없어야 합니다.\n",
      "7. 응답하는 답변 문자에는 줄바꿈, \\n, \\t, \\b 등의 특수 문자가 없어야합니다.\n",
      "8. seed_word에 대해 중복으로 질문을 생성했는지 확인하세요. seed_word에 대한 질문을 이미 생성했다면, 동일한 seed_word에 대한 작업을 해서는 안됩니다.\n",
      "9. 아래 양식으로 출력하세요:\n",
      "{{\"seed_word\": \"주어진 seed_word\", \"answer\": [\"1번째 질문\", \"2번째 질문\"... , \"20번째 질문\"]}}\n",
      "\n",
      "seed_word는 다음과 같습니다:\n",
      "{seed_word}\n"
     ]
    }
   ],
   "source": [
    "from prompts import SEED_WORD_PROMPT_PREFIX, SEED_WORD_PROMPT_CONTENT\n",
    "\n",
    "# prompts.py에 프롬프트들 템플릿이 있습니다.\n",
    "print(SEED_WORD_PROMPT_PREFIX + SEED_WORD_PROMPT_CONTENT)"
   ]
  },
  {
   "cell_type": "code",
   "execution_count": 7,
   "id": "18924823-18df-4d08-8b9a-34184d3f8153",
   "metadata": {
    "execution": {
     "iopub.execute_input": "2024-05-12T10:52:08.188996Z",
     "iopub.status.busy": "2024-05-12T10:52:08.188249Z",
     "iopub.status.idle": "2024-05-12T10:52:08.193891Z",
     "shell.execute_reply": "2024-05-12T10:52:08.192651Z",
     "shell.execute_reply.started": "2024-05-12T10:52:08.188964Z"
    },
    "tags": []
   },
   "outputs": [
    {
     "name": "stdout",
     "output_type": "stream",
     "text": [
      "당신은 부동산에 관심이 많은 사람입니다. 당신의 역할에 따라 주어진 seed_word에 대해 궁금해할 질문을 생성하세요.\n",
      "seed_word는 총 5개씩 주어집니다.\n",
      "seed_word에 대해 각각 20개의 질문을 생성해야합니다.\n",
      "생성할 질문에 대한 요구 사항은 다음과 같습니다:\n",
      "1. 지시대명사를 사용해서는 안됩니다. seed_word에 있는 명사를 그대로 사용하세요.\n",
      "2. 이미 만들어낸 질문과 동일하거나 유사한 질문을 만들어내서는 안됩니다.\n",
      "3. 만들어내는 질문들은 어휘의 다양성을 위해 다양한 단어를 사용해야 합니다.\n",
      "4. 만들어내는 질문들은 문장의 다양성을 위해 의문문과 평서문을 모두 사용해야 합니다.\n",
      "5. 반드시 한글로 질문을 만드세요.\n",
      "6. 만들어낸 질문은 JSON형식을 따라야 하고, indent는 없어야 합니다.\n",
      "7. 응답하는 답변 문자에는 줄바꿈, \\n, \\t, \\b 등의 특수 문자가 없어야합니다.\n",
      "8. seed_word에 대해 중복으로 질문을 생성했는지 확인하세요. seed_word에 대한 질문을 이미 생성했다면, 동일한 seed_word에 대한 작업을 해서는 안됩니다.\n",
      "9. 아래 양식으로 출력하세요:\n",
      "{{\"seed_word\": \"주어진 seed_word\", \"answer\": [\"1번째 질문\", \"2번째 질문\"... , \"20번째 질문\"]}}\n",
      "\n",
      "seed_word는 다음과 같습니다:\n",
      "전세 계약\n"
     ]
    }
   ],
   "source": [
    "print(SEED_WORD_PROMPT_PREFIX + SEED_WORD_PROMPT_CONTENT.format(seed_word=seed_words[0]))"
   ]
  },
  {
   "cell_type": "markdown",
   "id": "c3190d17-8336-4acb-9c89-c8474f0bb0de",
   "metadata": {},
   "source": [
    "GPT모델의 토큰 수 계산은 Input도 포함됩니다. 따라서 불필요하게 `SEED_WORD_PROMPT_PREFIX`를 모든 키워드에 반복해서 전달할 필요가 없습니다.  "
   ]
  },
  {
   "cell_type": "code",
   "execution_count": 8,
   "id": "ea0cf546-2d03-4c4e-b433-e02fb9bfed34",
   "metadata": {
    "execution": {
     "iopub.execute_input": "2024-05-12T10:52:10.391485Z",
     "iopub.status.busy": "2024-05-12T10:52:10.390753Z",
     "iopub.status.idle": "2024-05-12T10:52:10.397423Z",
     "shell.execute_reply": "2024-05-12T10:52:10.396340Z",
     "shell.execute_reply.started": "2024-05-12T10:52:10.391422Z"
    },
    "tags": []
   },
   "outputs": [],
   "source": [
    "# 모델에게 Prefix 토큰을 중복해서 전달할 필요가 없으므로, Prefix 토큰은 1번만 사용하고 Content을 반복해서 프롬프트를 생성\n",
    "seed_word_prefix = SEED_WORD_PROMPT_PREFIX\n",
    "seed_word_content = [SEED_WORD_PROMPT_CONTENT.format(seed_word=s) for s in seed_words]"
   ]
  },
  {
   "cell_type": "code",
   "execution_count": 9,
   "id": "3d94a38a-2f41-47ae-84a0-fec8a8cbe016",
   "metadata": {
    "execution": {
     "iopub.execute_input": "2024-05-12T10:52:11.055389Z",
     "iopub.status.busy": "2024-05-12T10:52:11.054213Z",
     "iopub.status.idle": "2024-05-12T10:52:11.061708Z",
     "shell.execute_reply": "2024-05-12T10:52:11.060805Z",
     "shell.execute_reply.started": "2024-05-12T10:52:11.055323Z"
    },
    "tags": []
   },
   "outputs": [],
   "source": [
    "# 1개의 Prefix 마다 n_content개의 Content를 추가합니다.\n",
    "n_content = 5\n",
    "\n",
    "seed_word_prompts = []\n",
    "total_prompts = len(seed_words) // n_content\n",
    "for idx in range(1, total_prompts+2):\n",
    "    start_index = (idx -1) * n_content\n",
    "    end_index = idx * n_content\n",
    "    seed_word_prompt = seed_word_prefix + \"\\n\".join(seed_word_content[start_index:end_index])\n",
    "    seed_word_prompts.append(seed_word_prompt)"
   ]
  },
  {
   "cell_type": "code",
   "execution_count": 10,
   "id": "45756685-409d-44e9-9833-c90d5d5a8ae9",
   "metadata": {
    "execution": {
     "iopub.execute_input": "2024-05-12T10:52:11.555088Z",
     "iopub.status.busy": "2024-05-12T10:52:11.554425Z",
     "iopub.status.idle": "2024-05-12T10:52:11.560965Z",
     "shell.execute_reply": "2024-05-12T10:52:11.560138Z",
     "shell.execute_reply.started": "2024-05-12T10:52:11.555032Z"
    },
    "tags": []
   },
   "outputs": [
    {
     "name": "stdout",
     "output_type": "stream",
     "text": [
      "당신은 부동산에 관심이 많은 사람입니다. 당신의 역할에 따라 주어진 seed_word에 대해 궁금해할 질문을 생성하세요.\n",
      "seed_word는 총 5개씩 주어집니다.\n",
      "seed_word에 대해 각각 20개의 질문을 생성해야합니다.\n",
      "생성할 질문에 대한 요구 사항은 다음과 같습니다:\n",
      "1. 지시대명사를 사용해서는 안됩니다. seed_word에 있는 명사를 그대로 사용하세요.\n",
      "2. 이미 만들어낸 질문과 동일하거나 유사한 질문을 만들어내서는 안됩니다.\n",
      "3. 만들어내는 질문들은 어휘의 다양성을 위해 다양한 단어를 사용해야 합니다.\n",
      "4. 만들어내는 질문들은 문장의 다양성을 위해 의문문과 평서문을 모두 사용해야 합니다.\n",
      "5. 반드시 한글로 질문을 만드세요.\n",
      "6. 만들어낸 질문은 JSON형식을 따라야 하고, indent는 없어야 합니다.\n",
      "7. 응답하는 답변 문자에는 줄바꿈, \\n, \\t, \\b 등의 특수 문자가 없어야합니다.\n",
      "8. seed_word에 대해 중복으로 질문을 생성했는지 확인하세요. seed_word에 대한 질문을 이미 생성했다면, 동일한 seed_word에 대한 작업을 해서는 안됩니다.\n",
      "9. 아래 양식으로 출력하세요:\n",
      "{{\"seed_word\": \"주어진 seed_word\", \"answer\": [\"1번째 질문\", \"2번째 질문\"... , \"20번째 질문\"]}}\n",
      "\n",
      "seed_word는 다음과 같습니다:\n",
      "전세 계약\n",
      "임대차 계약\n",
      "전세 사기\n",
      "임대차 분쟁\n",
      "깡통 전세\n"
     ]
    }
   ],
   "source": [
    "print(seed_word_prompts[0])"
   ]
  },
  {
   "cell_type": "markdown",
   "id": "c07e8462-bf81-4f73-9f8e-b6e34e913eaa",
   "metadata": {},
   "source": [
    "이제 ChatGPT에게 데이터를 작성하도록 합니다.  \n",
    "💡 ChatGPT API를 사용하기 전에, [ChatGPT 모델 가격 정책](https://openai.com/pricing)을 참조하세요.  \n",
    "ChatGPT는 지속적으로 업데이트를 하는데, 과거버전은 사용하지 않도록 합니다.  \n",
    "과거버젼은 퍼포먼스도 안좋은데 가격이 비싸므로 사용할 이유가 없습니다.  \n",
    "여기서는 `gpt-4-turbo`를 사용합니다."
   ]
  },
  {
   "cell_type": "markdown",
   "id": "a1ddde97-81e5-4929-8581-ff6f726ea438",
   "metadata": {},
   "source": [
    "데이터 전처리의 경우 병렬처리를 사용합니다.  \n",
    "spark, hive 등의 분산 처리 시스템 또는 Multi Threading과 같은 병렬 처리를 적극 활용하면 속도가 많이 개선됩니다.  \n",
    "이 예제의 ChatGPT API는 [Multi Threading](https://docs.python.org/ko/3/library/concurrent.futures.html#concurrent.futures.ThreadPoolExecutor)을 사용합니다."
   ]
  },
  {
   "cell_type": "code",
   "execution_count": 13,
   "id": "a6e2da76-3338-4183-ab31-930d9fb21cb0",
   "metadata": {
    "execution": {
     "iopub.execute_input": "2024-05-10T20:18:44.799148Z",
     "iopub.status.busy": "2024-05-10T20:18:44.798614Z",
     "iopub.status.idle": "2024-05-10T20:32:58.868999Z",
     "shell.execute_reply": "2024-05-10T20:32:58.865146Z",
     "shell.execute_reply.started": "2024-05-10T20:18:44.799110Z"
    },
    "tags": []
   },
   "outputs": [
    {
     "name": "stderr",
     "output_type": "stream",
     "text": [
      "55it [14:13, 15.53s/it]\n"
     ]
    }
   ],
   "source": [
    "from concurrent.futures import ThreadPoolExecutor\n",
    "from tqdm import tqdm\n",
    "\n",
    "# Worker의 수는 32개 또는 코어수 +4개가 디폴트값입니다. - 공식 가이드 문서 참조\n",
    "with ThreadPoolExecutor() as pool:\n",
    "    questions = list(tqdm(pool.map(partial(get_completion, model=\"gpt-4-turbo\"), seed_word_prompts)))\n",
    "    \n",
    "with open(\"./data/questions_keyword.jsonl\", \"a\") as f:\n",
    "    f.write(\"\\n\".join(questions))"
   ]
  },
  {
   "cell_type": "code",
   "execution_count": 17,
   "id": "385c8859-b237-4763-be9f-75a3e6633987",
   "metadata": {
    "execution": {
     "iopub.execute_input": "2024-05-12T11:02:50.820568Z",
     "iopub.status.busy": "2024-05-12T11:02:50.819879Z",
     "iopub.status.idle": "2024-05-12T11:02:50.835097Z",
     "shell.execute_reply": "2024-05-12T11:02:50.834105Z",
     "shell.execute_reply.started": "2024-05-12T11:02:50.820518Z"
    },
    "tags": []
   },
   "outputs": [
    {
     "data": {
      "text/plain": [
       "{'seed_word': '전세 계약',\n",
       " 'answer': ['전세 계약을 체결할 때 필요한 서류는 무엇인가요?',\n",
       "  '전세 계약 시 주의해야 할 점은 무엇인가요?',\n",
       "  '전세 계약 갱신 청구권은 어떻게 적용되나요?',\n",
       "  '전세 계약을 해지하려면 어떤 절차를 밟아야 하나요?',\n",
       "  '전세 계약 시 보증금 반환 문제는 어떻게 해결하나요?',\n",
       "  '전세 계약 기간 중 집주인이 바뀌면 어떻게 되나요?',\n",
       "  '전세 계약을 할 때 중개수수료는 얼마인가요?',\n",
       "  '전세 계약 시 보증금을 보호받을 수 있는 방법은 무엇인가요?',\n",
       "  '전세 계약 갱신 시 임대료 인상률은 어떻게 결정되나요?',\n",
       "  '전세 계약 체결 전에 확인해야 할 주택 상태는 무엇인가요?',\n",
       "  '전세 계약 시 임차인의 권리와 의무는 무엇인가요?',\n",
       "  '전세 계약 시 임대인의 권리와 의무는 무엇인가요?',\n",
       "  '전세 계약 시 확정일자는 왜 중요한가요?',\n",
       "  '전세 계약 시 전입신고는 언제 해야 하나요?',\n",
       "  '전세 계약 갱신 거절 시 임차인은 어떤 조치를 취할 수 있나요?',\n",
       "  '전세 계약 시 보증금을 전액 돌려받지 못하는 경우는 어떤 경우인가요?',\n",
       "  '전세 계약 시 임대인이 파산하면 보증금은 어떻게 되나요?',\n",
       "  '전세 계약 시 임대인과 임차인 간의 분쟁 해결 방법은 무엇인가요?',\n",
       "  '전세 계약 시 임대인이 계약을 일방적으로 해지할 수 있나요?',\n",
       "  '전세 계약 시 임차인이 보증금을 늦게 받는 경우 어떻게 대처해야 하나요?']}"
      ]
     },
     "execution_count": 17,
     "metadata": {},
     "output_type": "execute_result"
    }
   ],
   "source": [
    "from utils import jload\n",
    "\n",
    "jload(\"./data/questions_keyword.jsonl\")[0]"
   ]
  },
  {
   "cell_type": "markdown",
   "id": "e63dc71b-342d-45cc-b612-85b3118d2db2",
   "metadata": {},
   "source": [
    "## <span style=\"color: #F2D388;\"> 3. 카페글 기반으로 데이터셋 만들기 </span>"
   ]
  },
  {
   "cell_type": "markdown",
   "id": "4dceb2e7-660f-474f-97f3-204a02b07c52",
   "metadata": {},
   "source": [
    "### <span style=\"color: #ECA75D;\"> 3-1. 네이버 카페 글의 질문으로 질문 데이터셋 만들기 </span>\n",
    "부동산 관련 카페중 가장 큰 규모인 부동산스터디 카페의 회원간 묻고 답하기 글을 크롤링합니다.  "
   ]
  },
  {
   "cell_type": "code",
   "execution_count": 3,
   "id": "66d20daa-cf6a-4c53-b4c0-c1311ca64f41",
   "metadata": {
    "execution": {
     "iopub.execute_input": "2024-05-13T11:39:52.235776Z",
     "iopub.status.busy": "2024-05-13T11:39:52.235451Z",
     "iopub.status.idle": "2024-05-13T11:40:54.938922Z",
     "shell.execute_reply": "2024-05-13T11:40:54.938197Z",
     "shell.execute_reply.started": "2024-05-13T11:39:52.235753Z"
    },
    "tags": []
   },
   "outputs": [
    {
     "name": "stderr",
     "output_type": "stream",
     "text": [
      "200it [01:02,  3.20it/s]\n"
     ]
    }
   ],
   "source": [
    "from utils import get_document_through_selenium\n",
    "\n",
    "cafe_data = get_document_through_selenium(\n",
    "    crawling_type=\"cafe\",\n",
    "    n_page=200,\n",
    "    indent=4,\n",
    "    mode=\"w\",\n",
    "    save_path = \"./data/questions_cafe.json\"\n",
    ")"
   ]
  },
  {
   "cell_type": "code",
   "execution_count": 3,
   "id": "52b309ac-1c8a-48af-b483-8c8d1edb0f78",
   "metadata": {
    "execution": {
     "iopub.execute_input": "2024-05-13T11:10:06.795379Z",
     "iopub.status.busy": "2024-05-13T11:10:06.793186Z",
     "iopub.status.idle": "2024-05-13T11:10:06.818563Z",
     "shell.execute_reply": "2024-05-13T11:10:06.818052Z",
     "shell.execute_reply.started": "2024-05-13T11:10:06.795199Z"
    },
    "tags": []
   },
   "outputs": [
    {
     "data": {
      "text/plain": [
       "['[LG전자 베스트샵 봉천센트럴점]🥳RENEWAL OPEN 행사🥳 (광고)',\n",
       " '[LG전자 베스트샵 롯데 수원점] 리뉴얼 GRAND OPEN 가전제품 세일 💕',\n",
       " '부동산 스터디 카페에 올라오는 주식 홍보방들은 모두 사기글입니다.',\n",
       " '[공지]붇스터디게시판 운영가이드(2023.9.3 수정추가)',\n",
       " '부동산 스터디 카페 내에 계정 해킹 사례가 너무 많네요',\n",
       " '전라도 사람들은 투표권 주지말자',\n",
       " '고수님들은 3억 자금이 있다면 무엇을 하시나요?',\n",
       " '용산 vs 강남 신혼부부 집 조언부탁드립니다!',\n",
       " '서대문구, 종로구에서 갭 3억~3.5억 투자 추천아파트',\n",
       " '고소득 맞벌이 부부 매수 고민']"
      ]
     },
     "execution_count": 3,
     "metadata": {},
     "output_type": "execute_result"
    }
   ],
   "source": [
    "from utils import jload\n",
    "\n",
    "jload(\"./data/questions_cafe.json\")[0]['document'][:10]"
   ]
  },
  {
   "cell_type": "markdown",
   "id": "adc2ddbe-59d1-474a-96e2-16091b535559",
   "metadata": {
    "tags": []
   },
   "source": [
    "### <span style=\"color: #ECA75D;\"> 3-2. ChatGPT로 필터링하기 </span>\n",
    "수집한 데이터에서 부동산에 관련이 있는 데이터들만 필터링합니다.  \n",
    "ChatGPT에 요청하여 이러한 데이터들을 필터링할 수 있게 합니다.  \n",
    "💡 충분히 파인튜닝된 인코더 모델이 있다면, Similarity로 분류한 뒤 ChatGPT로 분류하면 토큰 비용을 아낄 수 있습니다."
   ]
  },
  {
   "cell_type": "code",
   "execution_count": 1,
   "id": "a9fcdbda-0557-4a3e-8f27-2728a1ee2f86",
   "metadata": {
    "execution": {
     "iopub.execute_input": "2024-05-13T11:46:20.061906Z",
     "iopub.status.busy": "2024-05-13T11:46:20.061757Z",
     "iopub.status.idle": "2024-05-13T11:46:21.940755Z",
     "shell.execute_reply": "2024-05-13T11:46:21.940434Z",
     "shell.execute_reply.started": "2024-05-13T11:46:20.061889Z"
    },
    "tags": []
   },
   "outputs": [],
   "source": [
    "from utils import jload\n",
    "\n",
    "questions_cafe = jload(\"./data/questions_cafe.json\")"
   ]
  },
  {
   "cell_type": "code",
   "execution_count": 2,
   "id": "0f8a9089-0464-4c89-8642-5e13da95a045",
   "metadata": {
    "execution": {
     "iopub.execute_input": "2024-05-13T11:46:21.942020Z",
     "iopub.status.busy": "2024-05-13T11:46:21.941883Z",
     "iopub.status.idle": "2024-05-13T11:46:21.945028Z",
     "shell.execute_reply": "2024-05-13T11:46:21.944739Z",
     "shell.execute_reply.started": "2024-05-13T11:46:21.942011Z"
    },
    "tags": []
   },
   "outputs": [
    {
     "data": {
      "text/plain": [
       "['강동역SK리더스뷰 파격조건 선착순 동호지정계약 진행중 (광고',\n",
       " '[LG전자 베스트샵 봉천센트럴점]🥳RENEWAL OPEN 행사🥳 (광고)',\n",
       " '부동산 스터디 카페에 올라오는 주식 홍보방들은 모두 사기글입니다.']"
      ]
     },
     "execution_count": 2,
     "metadata": {},
     "output_type": "execute_result"
    }
   ],
   "source": [
    "questions_cafe[0]['document'][:3]"
   ]
  },
  {
   "cell_type": "markdown",
   "id": "9728d5d6-6216-4d10-b327-5610124ef265",
   "metadata": {},
   "source": [
    "`List[Dict[List]]`의 중첩된 형태이므로, flatten하여 list 형태로 바꿔줍니다."
   ]
  },
  {
   "cell_type": "code",
   "execution_count": 3,
   "id": "1b61aa71-524f-46cc-a6f1-8b95df5d2308",
   "metadata": {
    "execution": {
     "iopub.execute_input": "2024-05-13T11:46:21.945552Z",
     "iopub.status.busy": "2024-05-13T11:46:21.945451Z",
     "iopub.status.idle": "2024-05-13T11:46:21.947938Z",
     "shell.execute_reply": "2024-05-13T11:46:21.947621Z",
     "shell.execute_reply.started": "2024-05-13T11:46:21.945542Z"
    },
    "tags": []
   },
   "outputs": [],
   "source": [
    "from itertools import chain\n",
    "\n",
    "documents = [q['document'] for q in questions_cafe]\n",
    "questions_cafe = list(chain(*documents))"
   ]
  },
  {
   "cell_type": "markdown",
   "id": "45248ccd-e027-46c0-80f9-1cecc2a76759",
   "metadata": {},
   "source": [
    "약 10000개의 게시글 타이틀이 수집되어 있습니다."
   ]
  },
  {
   "cell_type": "code",
   "execution_count": 4,
   "id": "82516429-5f30-49a5-bd1f-68f799f13fd0",
   "metadata": {
    "execution": {
     "iopub.execute_input": "2024-05-13T11:46:21.948342Z",
     "iopub.status.busy": "2024-05-13T11:46:21.948248Z",
     "iopub.status.idle": "2024-05-13T11:46:21.950653Z",
     "shell.execute_reply": "2024-05-13T11:46:21.950352Z",
     "shell.execute_reply.started": "2024-05-13T11:46:21.948330Z"
    },
    "tags": []
   },
   "outputs": [
    {
     "data": {
      "text/plain": [
       "10008"
      ]
     },
     "execution_count": 4,
     "metadata": {},
     "output_type": "execute_result"
    }
   ],
   "source": [
    "len(questions_cafe)"
   ]
  },
  {
   "cell_type": "markdown",
   "id": "f72d7005-848e-4c8e-81d4-104fb738ceee",
   "metadata": {},
   "source": [
    "이번에는 gpt-3.5-turbo를 사용해보겠습니다.  \n",
    "gpt-4-turbo보다 성능이 떨어지기 때문에 프롬프트에 few-shot을 넣어주겠습니다.  "
   ]
  },
  {
   "cell_type": "code",
   "execution_count": 5,
   "id": "856638aa-f049-4885-a0aa-9346de410be1",
   "metadata": {
    "execution": {
     "iopub.execute_input": "2024-05-13T11:46:21.951913Z",
     "iopub.status.busy": "2024-05-13T11:46:21.951820Z",
     "iopub.status.idle": "2024-05-13T11:46:21.958141Z",
     "shell.execute_reply": "2024-05-13T11:46:21.957039Z",
     "shell.execute_reply.started": "2024-05-13T11:46:21.951904Z"
    },
    "tags": []
   },
   "outputs": [],
   "source": [
    "from prompts import CAFE_PROMPT_PREFIX, CAFE_PROMPT_CONTENT"
   ]
  },
  {
   "cell_type": "code",
   "execution_count": 6,
   "id": "1f3d3591-4a52-4d01-89e2-b554c8d5dd77",
   "metadata": {
    "execution": {
     "iopub.execute_input": "2024-05-13T11:46:21.959892Z",
     "iopub.status.busy": "2024-05-13T11:46:21.959728Z",
     "iopub.status.idle": "2024-05-13T11:46:21.961938Z",
     "shell.execute_reply": "2024-05-13T11:46:21.961591Z",
     "shell.execute_reply.started": "2024-05-13T11:46:21.959876Z"
    },
    "tags": []
   },
   "outputs": [
    {
     "name": "stdout",
     "output_type": "stream",
     "text": [
      "당신은 부동산에 관심이 많은 사람입니다. documents를 요구사항에 따라 필터링하고 질문을 생성해야합니다.\n",
      "documents는 20개가 주어지며, 필터링한 documents를 수정하여 명확하고 구어적인 표현으로 질문을 생성해야 합니다.\n",
      "요구사항은 다음과 같습니다:\n",
      "1. 정치적 발언, 혐오 발언 등 독성있고 해로운 documents는 제외하세요.\n",
      "2. 부동산 분야와 관련된 documents만 필터링하세요. 조금도 부동산에 관련이 없다면 과감히 제외하세요.\n",
      "3. 필터링한 documents로 사람들이 궁금해 할만한 질문을 생성하세요.\n",
      "4. 필터링한 documents는 출력 결과에 포함하지마세요.\n",
      "5. 출력한 데이터는 JSON형식을 따라야하고, indent는 없어야 합니다.\n",
      "6. 아래 양식으로 출력하세요.\n",
      "\"생성한 질문1\"\n",
      "\"생성한 질문2\"\n",
      "...\n",
      "\n",
      "예시1:\n",
      "documents = '청약시 무주택자격 질문'\n",
      "생성한 질문 = '청약시 무주택 자격이 어떻게 되나요?'\n",
      "\n",
      "예시2:\n",
      "documents = '여의도 매수하려고 하는데요.'\n",
      "생성한 질문 = '여의도 매수 관하여 질문드립니다.'\n",
      "\n",
      "예시3:\n",
      "documents = '서울 아파트 매물이 빠른 속도로 소진되고 있네요...'\n",
      "생성한 질문 = '서울 아파트 매물이 추세가 어떻게 되고 있나요?'\n",
      "\n",
      "예시4:\n",
      "documents = '매매 전세 동시진행'\n",
      "생성한 질문 = '매매와 전세를 동시에 진행하는데 주의할 점이 뭘까요?'\n",
      "\n",
      "예시5:\n",
      "documents = '3기신도시 당해 아닌경우'\n",
      "생성한 질문 = '3기신도시 당해 조건에 해당하지 않는 경우 문의드립니다.'\n",
      "\n",
      "###documents:\n",
      "{documents}\n",
      "\n"
     ]
    }
   ],
   "source": [
    "print(CAFE_PROMPT_PREFIX + CAFE_PROMPT_CONTENT)"
   ]
  },
  {
   "cell_type": "markdown",
   "id": "48549f4d-4506-45e7-9895-da71e450da7f",
   "metadata": {},
   "source": [
    "1개의 프롬프트에 20개의 documents를 추가해줍니다.  "
   ]
  },
  {
   "cell_type": "code",
   "execution_count": 7,
   "id": "9ea1a385-e8ee-49e8-8ccf-194ac7f55644",
   "metadata": {
    "execution": {
     "iopub.execute_input": "2024-05-13T11:46:21.962670Z",
     "iopub.status.busy": "2024-05-13T11:46:21.962506Z",
     "iopub.status.idle": "2024-05-13T11:46:21.965809Z",
     "shell.execute_reply": "2024-05-13T11:46:21.965397Z",
     "shell.execute_reply.started": "2024-05-13T11:46:21.962659Z"
    },
    "tags": []
   },
   "outputs": [],
   "source": [
    "n_queries = 20\n",
    "\n",
    "queries = []\n",
    "batch = len(questions_cafe) // n_queries\n",
    "for idx in range(1, batch+2):\n",
    "    start_index = (idx -1) * n_queries\n",
    "    end_index = idx * n_queries\n",
    "    query_documents = questions_cafe[start_index:end_index]\n",
    "    query_documents = \"\\n\".join(query_documents)\n",
    "    queries.append(CAFE_PROMPT_PREFIX + CAFE_PROMPT_CONTENT.format(documents=query_documents))"
   ]
  },
  {
   "cell_type": "code",
   "execution_count": 8,
   "id": "49afef32-3eee-4b32-b7c2-b83ef5500e07",
   "metadata": {
    "execution": {
     "iopub.execute_input": "2024-05-13T11:46:21.966461Z",
     "iopub.status.busy": "2024-05-13T11:46:21.966357Z",
     "iopub.status.idle": "2024-05-13T11:46:21.968549Z",
     "shell.execute_reply": "2024-05-13T11:46:21.968230Z",
     "shell.execute_reply.started": "2024-05-13T11:46:21.966451Z"
    },
    "tags": []
   },
   "outputs": [
    {
     "name": "stdout",
     "output_type": "stream",
     "text": [
      "당신은 부동산에 관심이 많은 사람입니다. documents를 요구사항에 따라 필터링하고 질문을 생성해야합니다.\n",
      "documents는 20개가 주어지며, 필터링한 documents를 수정하여 명확하고 구어적인 표현으로 질문을 생성해야 합니다.\n",
      "요구사항은 다음과 같습니다:\n",
      "1. 정치적 발언, 혐오 발언 등 독성있고 해로운 documents는 제외하세요.\n",
      "2. 부동산 분야와 관련된 documents만 필터링하세요. 조금도 부동산에 관련이 없다면 과감히 제외하세요.\n",
      "3. 필터링한 documents로 사람들이 궁금해 할만한 질문을 생성하세요.\n",
      "4. 필터링한 documents는 출력 결과에 포함하지마세요.\n",
      "5. 출력한 데이터는 JSON형식을 따라야하고, indent는 없어야 합니다.\n",
      "6. 아래 양식으로 출력하세요.\n",
      "\"생성한 질문1\"\n",
      "\"생성한 질문2\"\n",
      "...\n",
      "\n",
      "예시1:\n",
      "documents = '청약시 무주택자격 질문'\n",
      "생성한 질문 = '청약시 무주택 자격이 어떻게 되나요?'\n",
      "\n",
      "예시2:\n",
      "documents = '여의도 매수하려고 하는데요.'\n",
      "생성한 질문 = '여의도 매수 관하여 질문드립니다.'\n",
      "\n",
      "예시3:\n",
      "documents = '서울 아파트 매물이 빠른 속도로 소진되고 있네요...'\n",
      "생성한 질문 = '서울 아파트 매물이 추세가 어떻게 되고 있나요?'\n",
      "\n",
      "예시4:\n",
      "documents = '매매 전세 동시진행'\n",
      "생성한 질문 = '매매와 전세를 동시에 진행하는데 주의할 점이 뭘까요?'\n",
      "\n",
      "예시5:\n",
      "documents = '3기신도시 당해 아닌경우'\n",
      "생성한 질문 = '3기신도시 당해 조건에 해당하지 않는 경우 문의드립니다.'\n",
      "\n",
      "###documents:\n",
      "강동역SK리더스뷰 파격조건 선착순 동호지정계약 진행중 (광고\n",
      "[LG전자 베스트샵 봉천센트럴점]🥳RENEWAL OPEN 행사🥳 (광고)\n",
      "부동산 스터디 카페에 올라오는 주식 홍보방들은 모두 사기글입니다.\n",
      "[공지]붇스터디게시판 운영가이드(2023.9.3 수정추가)\n",
      "부동산 스터디 카페 내에 계정 해킹 사례가 너무 많네요\n",
      "전라도 사람들은 투표권 주지말자\n",
      "50초반..퇴직해도 될까요?\n",
      "20억 초반으로 살 강남 아파트 골라주세요\n",
      "매도 하려고 하는데요\n",
      "뻥뷰10층이하(엘베2) vs 뻥뷰20층이상(엘베1)\n",
      "아마추어 ? 라고요 ?\n",
      "마용성 구축 1주택 매도 후 무주택자 되면..\n",
      "투표 부탁드립니다!! 풍무or검단\n",
      "수서 매도후 은마 매수 하면\n",
      "아파트 신축 잔금대출 소득보다 카드사용이 많다면?\n",
      "전세금 감액 후 따로 계약서 없는 상황에 후순위 생활안정자금 받으려면?\n",
      "전세 2년후 세입자가\n",
      "계약갱신청구권 질문드립니다.\n",
      "아파트 매수하고 2년실거주 하고 2년만에 매도하는거 너무 바보같나요??\n",
      "이삿짐센터 식사비\n",
      "\n"
     ]
    }
   ],
   "source": [
    "print(queries[0])"
   ]
  },
  {
   "cell_type": "markdown",
   "id": "be83ddec-3e27-4514-b814-fe64a860b003",
   "metadata": {},
   "source": [
    "프롬프트를 작성할 때, gpt-3.5-turbo는 아래와 같이 프롬프트를 작성하는 것이 도움이 됩니다.  \n",
    "+ Dictionary나 List 형태보다 텍스트 + 줄바꿈 규칙같은 단순한 규칙을 아주 잘 지킴\n",
    "+ Instruction을 위배할 때가 많기 때문에 소량의 데이터로 많이 테스트 해보기"
   ]
  },
  {
   "cell_type": "code",
   "execution_count": 14,
   "id": "2dfa8423-d3d9-4c40-9368-ca62dbff1fe0",
   "metadata": {
    "execution": {
     "iopub.execute_input": "2024-05-13T11:47:36.549136Z",
     "iopub.status.busy": "2024-05-13T11:47:36.548819Z",
     "iopub.status.idle": "2024-05-13T11:52:41.200309Z",
     "shell.execute_reply": "2024-05-13T11:52:41.199779Z",
     "shell.execute_reply.started": "2024-05-13T11:47:36.549113Z"
    },
    "tags": []
   },
   "outputs": [
    {
     "name": "stderr",
     "output_type": "stream",
     "text": [
      "501it [05:04,  1.64it/s]\n"
     ]
    }
   ],
   "source": [
    "from concurrent.futures import ThreadPoolExecutor\n",
    "from functools import partial\n",
    "from tqdm import tqdm\n",
    "from utils import get_completion\n",
    "import os\n",
    "\n",
    "with ThreadPoolExecutor(os.cpu_count()) as pool:\n",
    "    result = list(tqdm(pool.map(partial(get_completion, model=\"gpt-3.5-turbo\"), queries)))\n",
    "    with open(\"./data/questions_cafe_filtered.txt\", \"a\", encoding=\"utf-8\") as f:\n",
    "        for r in result:\n",
    "            for line in r.split(\"\\n\"):\n",
    "                f.write(line)\n",
    "                f.write(\"\\n\")"
   ]
  },
  {
   "cell_type": "markdown",
   "id": "e0d94a72-1606-46f7-a740-fe3bebc2d3e5",
   "metadata": {},
   "source": [
    "크롤링한 데이터에서 정치적 발언, 혐오 발언이 아직 포함되어 있어서 직접 데이터를 체크하여 제거해주었습니다.  "
   ]
  },
  {
   "cell_type": "code",
   "execution_count": 21,
   "id": "c489eb1e-8928-403c-a7fb-78bad5e42fb1",
   "metadata": {
    "execution": {
     "iopub.execute_input": "2024-05-13T12:01:39.916807Z",
     "iopub.status.busy": "2024-05-13T12:01:39.916636Z",
     "iopub.status.idle": "2024-05-13T12:01:39.921467Z",
     "shell.execute_reply": "2024-05-13T12:01:39.921152Z",
     "shell.execute_reply.started": "2024-05-13T12:01:39.916791Z"
    },
    "tags": []
   },
   "outputs": [],
   "source": [
    "with open(\"./data/questions_cafe_filtered.txt\", \"r\")as f:\n",
    "    questions_cafe_filtered = f.readlines()"
   ]
  },
  {
   "cell_type": "code",
   "execution_count": 28,
   "id": "fa606234-5463-4fdb-a23d-3d1a4c42acea",
   "metadata": {
    "execution": {
     "iopub.execute_input": "2024-05-13T12:03:17.775336Z",
     "iopub.status.busy": "2024-05-13T12:03:17.774981Z",
     "iopub.status.idle": "2024-05-13T12:03:17.799813Z",
     "shell.execute_reply": "2024-05-13T12:03:17.799460Z",
     "shell.execute_reply.started": "2024-05-13T12:03:17.775309Z"
    },
    "tags": []
   },
   "outputs": [],
   "source": [
    "from utils import jsave\n",
    "jsave(res_list, \"./data/questions_cafe_filtered.json\", indent=4)"
   ]
  },
  {
   "cell_type": "markdown",
   "id": "f76a60f6-b184-4c6d-bf3c-776eef680403",
   "metadata": {},
   "source": [
    "gpt-3.5-turbo가 제대로 필터링하거나 규칙에 따른 양식을 지키지 못하는 경우가 많습니다.  \n",
    "예제를 작성하면서 직접 데이터를 체크하였습니다.  "
   ]
  },
  {
   "cell_type": "code",
   "execution_count": 33,
   "id": "f996e962-d978-4323-8ff2-189de3da7fef",
   "metadata": {
    "execution": {
     "iopub.execute_input": "2024-05-13T12:04:39.615820Z",
     "iopub.status.busy": "2024-05-13T12:04:39.615452Z",
     "iopub.status.idle": "2024-05-13T12:04:39.620823Z",
     "shell.execute_reply": "2024-05-13T12:04:39.620404Z",
     "shell.execute_reply.started": "2024-05-13T12:04:39.615800Z"
    },
    "tags": []
   },
   "outputs": [
    {
     "data": {
      "text/plain": [
       "['신혼부부 집 선택 시 고려해야 할 사항은 무엇인가요?',\n",
       " '고소득 맞벌이 부부가 고민하는 매수 시 어떤 점을 고려해야 하나요?',\n",
       " '강남권 아파트 중에서 골프장이 잘 되어 있는 곳은 어디인가요?',\n",
       " '40평대 아파트의 입지 조건에 대해 알려주세요.']"
      ]
     },
     "execution_count": 33,
     "metadata": {},
     "output_type": "execute_result"
    }
   ],
   "source": [
    "jload(\"./data/questions_cafe_filtered.json\")[:4]"
   ]
  },
  {
   "cell_type": "markdown",
   "id": "83112114-910f-42e6-96a4-96b4ef6cca19",
   "metadata": {},
   "source": [
    "## <span style=\"color: #F2D388;\"> 4. 질문리스트로 네이버에 검색하여 인기 글 데이터 수집하기 </span>\n",
    "2번, 3번에서 생성한 질문리스트를 selenium 라이브러리를 통해 네이버로 검색합니다.  \n",
    "검색 결과의 인기글의 텍스트 정보를 저장합니다.  "
   ]
  },
  {
   "cell_type": "code",
   "execution_count": 1,
   "id": "ae2f00a6-9463-4689-adc3-23edb4fcbef4",
   "metadata": {
    "execution": {
     "iopub.execute_input": "2024-05-14T03:01:56.228460Z",
     "iopub.status.busy": "2024-05-14T03:01:56.228255Z",
     "iopub.status.idle": "2024-05-14T03:01:57.876030Z",
     "shell.execute_reply": "2024-05-14T03:01:57.875788Z",
     "shell.execute_reply.started": "2024-05-14T03:01:56.228432Z"
    },
    "tags": []
   },
   "outputs": [],
   "source": [
    "from utils import jload\n",
    "\n",
    "questions_keyword = jload(\"./data/questions_keyword.jsonl\")"
   ]
  },
  {
   "cell_type": "code",
   "execution_count": 2,
   "id": "ae8c5144-b151-4e2a-b9f4-c4a12c0890c0",
   "metadata": {
    "execution": {
     "iopub.execute_input": "2024-05-14T03:01:57.877083Z",
     "iopub.status.busy": "2024-05-14T03:01:57.876939Z",
     "iopub.status.idle": "2024-05-14T03:01:57.880282Z",
     "shell.execute_reply": "2024-05-14T03:01:57.879971Z",
     "shell.execute_reply.started": "2024-05-14T03:01:57.877074Z"
    },
    "tags": []
   },
   "outputs": [
    {
     "data": {
      "text/plain": [
       "{'seed_word': '전세 계약',\n",
       " 'answer': ['전세 계약을 체결할 때 필요한 서류는 무엇인가요?',\n",
       "  '전세 계약 시 주의해야 할 점은 무엇인가요?',\n",
       "  '전세 계약 갱신 청구권은 어떻게 적용되나요?',\n",
       "  '전세 계약을 해지하려면 어떤 절차를 밟아야 하나요?',\n",
       "  '전세 계약 시 보증금 반환 문제는 어떻게 해결하나요?',\n",
       "  '전세 계약 기간 중 집주인이 바뀌면 어떻게 되나요?',\n",
       "  '전세 계약을 할 때 중개수수료는 얼마인가요?',\n",
       "  '전세 계약 시 보증금을 보호받을 수 있는 방법은 무엇인가요?',\n",
       "  '전세 계약 갱신 시 임대료 인상률은 어떻게 결정되나요?',\n",
       "  '전세 계약 체결 전에 확인해야 할 주택 상태는 무엇인가요?',\n",
       "  '전세 계약 시 임차인의 권리와 의무는 무엇인가요?',\n",
       "  '전세 계약 시 임대인의 권리와 의무는 무엇인가요?',\n",
       "  '전세 계약 시 확정일자는 왜 중요한가요?',\n",
       "  '전세 계약 시 전입신고는 언제 해야 하나요?',\n",
       "  '전세 계약 갱신 거절 시 임차인은 어떤 조치를 취할 수 있나요?',\n",
       "  '전세 계약 시 보증금을 전액 돌려받지 못하는 경우는 어떤 경우인가요?',\n",
       "  '전세 계약 시 임대인이 파산하면 보증금은 어떻게 되나요?',\n",
       "  '전세 계약 시 임대인과 임차인 간의 분쟁 해결 방법은 무엇인가요?',\n",
       "  '전세 계약 시 임대인이 계약을 일방적으로 해지할 수 있나요?',\n",
       "  '전세 계약 시 임차인이 보증금을 늦게 받는 경우 어떻게 대처해야 하나요?']}"
      ]
     },
     "execution_count": 2,
     "metadata": {},
     "output_type": "execute_result"
    }
   ],
   "source": [
    "questions_keyword[0]"
   ]
  },
  {
   "cell_type": "code",
   "execution_count": 3,
   "id": "24b29dcf-f85e-48e9-ab0f-dfb1978bf1cd",
   "metadata": {
    "execution": {
     "iopub.execute_input": "2024-05-14T03:01:57.880816Z",
     "iopub.status.busy": "2024-05-14T03:01:57.880709Z",
     "iopub.status.idle": "2024-05-14T03:01:57.882997Z",
     "shell.execute_reply": "2024-05-14T03:01:57.882625Z",
     "shell.execute_reply.started": "2024-05-14T03:01:57.880806Z"
    },
    "tags": []
   },
   "outputs": [],
   "source": [
    "# 키워드로 생성한 데이터\n",
    "from itertools import chain\n",
    "\n",
    "# answer를 추출해서 [[query1], [query2]] 구조를 [query1, query2]로 flatten해주기\n",
    "answers = [data['answer'] for data in questions_keyword]\n",
    "questions_keyword = list(chain(*answers))"
   ]
  },
  {
   "cell_type": "code",
   "execution_count": 4,
   "id": "54711032-13b9-414a-aac1-309ad8330d87",
   "metadata": {
    "execution": {
     "iopub.execute_input": "2024-05-14T03:01:57.883853Z",
     "iopub.status.busy": "2024-05-14T03:01:57.883629Z",
     "iopub.status.idle": "2024-05-14T03:01:57.886351Z",
     "shell.execute_reply": "2024-05-14T03:01:57.885886Z",
     "shell.execute_reply.started": "2024-05-14T03:01:57.883836Z"
    },
    "tags": []
   },
   "outputs": [
    {
     "data": {
      "text/plain": [
       "['전세 계약을 체결할 때 필요한 서류는 무엇인가요?',\n",
       " '전세 계약 시 주의해야 할 점은 무엇인가요?',\n",
       " '전세 계약 갱신 청구권은 어떻게 적용되나요?',\n",
       " '전세 계약을 해지하려면 어떤 절차를 밟아야 하나요?']"
      ]
     },
     "execution_count": 4,
     "metadata": {},
     "output_type": "execute_result"
    }
   ],
   "source": [
    "questions_keyword[:4]"
   ]
  },
  {
   "cell_type": "code",
   "execution_count": 5,
   "id": "371856e7-9c46-4850-bb9e-8b2a770085f7",
   "metadata": {
    "execution": {
     "iopub.execute_input": "2024-05-14T03:01:57.886944Z",
     "iopub.status.busy": "2024-05-14T03:01:57.886860Z",
     "iopub.status.idle": "2024-05-14T03:01:57.890533Z",
     "shell.execute_reply": "2024-05-14T03:01:57.890276Z",
     "shell.execute_reply.started": "2024-05-14T03:01:57.886935Z"
    },
    "tags": []
   },
   "outputs": [],
   "source": [
    "questions_cafe = jload(\"./data/questions_cafe_filtered.json\")"
   ]
  },
  {
   "cell_type": "code",
   "execution_count": 6,
   "id": "53a0d45d-c9bc-4db0-ba52-fb05c5174729",
   "metadata": {
    "execution": {
     "iopub.execute_input": "2024-05-14T03:01:57.892766Z",
     "iopub.status.busy": "2024-05-14T03:01:57.892584Z",
     "iopub.status.idle": "2024-05-14T03:01:57.895279Z",
     "shell.execute_reply": "2024-05-14T03:01:57.894920Z",
     "shell.execute_reply.started": "2024-05-14T03:01:57.892755Z"
    },
    "tags": []
   },
   "outputs": [
    {
     "data": {
      "text/plain": [
       "['신혼부부 집 선택 시 고려해야 할 사항은 무엇인가요?',\n",
       " '고소득 맞벌이 부부가 고민하는 매수 시 어떤 점을 고려해야 하나요?',\n",
       " '강남권 아파트 중에서 골프장이 잘 되어 있는 곳은 어디인가요?',\n",
       " '40평대 아파트의 입지 조건에 대해 알려주세요.']"
      ]
     },
     "execution_count": 6,
     "metadata": {},
     "output_type": "execute_result"
    }
   ],
   "source": [
    "questions_cafe[:4]"
   ]
  },
  {
   "cell_type": "code",
   "execution_count": 7,
   "id": "0ba5fa31-de55-45c2-9e49-766f9a010790",
   "metadata": {
    "execution": {
     "iopub.execute_input": "2024-05-14T03:01:57.895962Z",
     "iopub.status.busy": "2024-05-14T03:01:57.895774Z",
     "iopub.status.idle": "2024-05-14T03:01:57.898093Z",
     "shell.execute_reply": "2024-05-14T03:01:57.897728Z",
     "shell.execute_reply.started": "2024-05-14T03:01:57.895945Z"
    },
    "tags": []
   },
   "outputs": [],
   "source": [
    "questions = questions_cafe + questions_keyword"
   ]
  },
  {
   "cell_type": "code",
   "execution_count": 8,
   "id": "665bdf3d-a828-4ff8-821b-50285d901365",
   "metadata": {
    "execution": {
     "iopub.execute_input": "2024-05-14T03:01:57.898487Z",
     "iopub.status.busy": "2024-05-14T03:01:57.898405Z",
     "iopub.status.idle": "2024-05-14T03:01:57.900793Z",
     "shell.execute_reply": "2024-05-14T03:01:57.900497Z",
     "shell.execute_reply.started": "2024-05-14T03:01:57.898477Z"
    },
    "tags": []
   },
   "outputs": [
    {
     "data": {
      "text/plain": [
       "10243"
      ]
     },
     "execution_count": 8,
     "metadata": {},
     "output_type": "execute_result"
    }
   ],
   "source": [
    "len(questions)"
   ]
  },
  {
   "cell_type": "markdown",
   "id": "1da64bd8-30be-4fff-bd61-76cb89867d54",
   "metadata": {},
   "source": [
    "selenium이 4.1 버전으로 업그레이드 되면서 별도로 webdriver를 다운로드 받을 필요가 없어졌습니다.  \n",
    "webdriver 파일이 없으면 selenium이 자체적으로 다운로드하게 된다고 합니다. [stackoverflow](https://stackoverflow.com/questions/22130109/cant-use-chrome-driver-for-seleniumhttps://stackoverflow.com/questions/22130109/cant-use-chrome-driver-for-selenium)  \n",
    "본 예제의 selenium 코드 크롤링 코드는 [wikidocs](https://wikidocs.net/137914) 내용을 참조하였습니다.  \n",
    "아래 코드는 내부에 `multiprocessing`으로 구현되어 있으며, pool의 갯수는 CPU Core 갯수로 설정되어 있습니다.  \n",
    "코드 실행시에 PC가 조금 느려질 수 있으니 참조해주세요."
   ]
  },
  {
   "cell_type": "code",
   "execution_count": 10,
   "id": "63e1ba1f-2e06-481d-a66b-6ad9e99b0940",
   "metadata": {
    "execution": {
     "iopub.execute_input": "2024-05-14T03:02:41.466028Z",
     "iopub.status.busy": "2024-05-14T03:02:41.465066Z",
     "iopub.status.idle": "2024-05-14T04:36:44.392053Z",
     "shell.execute_reply": "2024-05-14T04:36:44.391547Z",
     "shell.execute_reply.started": "2024-05-14T03:02:41.465967Z"
    },
    "tags": []
   },
   "outputs": [
    {
     "name": "stderr",
     "output_type": "stream",
     "text": [
      "10243it [1:34:02,  1.82it/s]\n"
     ]
    }
   ],
   "source": [
    "from utils import get_document_through_selenium\n",
    "from multiprocessing import cpu_count\n",
    "\n",
    "search_data = get_document_through_selenium(\n",
    "    crawling_type=\"search\",\n",
    "    inputs=questions,\n",
    "    n_worker=cpu_count() - 2,\n",
    "    n_documents=5,\n",
    "    indent=4,\n",
    "    mode=\"a\",\n",
    "    save_path = \"./data/document.json\"\n",
    ")"
   ]
  },
  {
   "cell_type": "code",
   "execution_count": 11,
   "id": "ba1dc97c-e57d-4930-9e9f-764a77521247",
   "metadata": {
    "execution": {
     "iopub.execute_input": "2024-05-14T04:48:55.455714Z",
     "iopub.status.busy": "2024-05-14T04:48:55.454663Z",
     "iopub.status.idle": "2024-05-14T04:48:55.665073Z",
     "shell.execute_reply": "2024-05-14T04:48:55.664601Z",
     "shell.execute_reply.started": "2024-05-14T04:48:55.455614Z"
    },
    "tags": []
   },
   "outputs": [
    {
     "data": {
      "text/plain": [
       "{'question': '신혼부부 집 선택 시 고려해야 할 사항은 무엇인가요?',\n",
       " 'document': ['신혼부부이혼 시 고려해야 할 사항이 있다면 안녕하세요, 든든한 법률파트너 유진우변호사입니다. 결혼은 일생일대의 큰 사건이자 인생의 반환점이 될 수 있는 일이기 때문에 신중하게 생각하고 진행하는 경우가 많습니다. 내 배우자가 될 사람이 어떤 사람인지 살펴보고 이 사람과 함께 가정을 꾸렸을 때, 끝까지 함께할 수 있는지를 하게 되는데요. 이렇게 신중하게...',\n",
       "  '신혼부부보험 가입하면서 간이식보험 정보 알아보세요 저는 원래 미갱신 건강보험만 준비했었는데, 최근 미갱신 건강보험 가입 추천 통화를 받았어요. 즉시 가입하는 것보다는 미갱신... 암 진단 시 보조인 비용도 중요하다는 것을 알고, 이런 부분들을 고려하여 가장 경제적이며 현명한 을 했다고 생각하였어요. 직접 상담보다는 자기 조사하고 탐색하는 것이 더...',\n",
       "  '특히 신혼부부 침대는 고려할 사항이 너무 많다 보니 어떤 것을 봐야 할지 어려워하던 도중 좋은 매장을 만나 현명하게 침대 구매를 할 수 있었답니다. 씰리침대 아현점 1. 한국에서... 후회없는 선택이라고 자부해요. 순금 사은품까지 제공! 저는 매트리스와 프레임을 함께 구입해 300만원 이상 구매 증정받을 수 있는 순금까지 받았어요. 결혼 전 혼수를 받은 것...',\n",
       "  '하며, 신혼부부 디딤돌대출의 한도는 최대 4억 원까지 입니다. 그리고 기간의 경우 만기 10, 15, 20, 30년으로 5년 단위로 책정이 되는데요. 거치는 최대 1년까지만 가능하니 이 점을 유의해 자산 계획을 세워보셔야 할 듯합니다. 그럼 금리는 어떻게 될까요? 해당 대출의 경우 2.45%에서 3.55% 사이로 금리가 책정됩니다만, 몇 가지 우대도 있어 이를 적용한다면 좀 더...',\n",
       "  '가격, 면적, 시설 등을 고려하여 신혼부부의 라이프 스타일에 맞는 아파트를 선택해야 합니다. 4. 아파트 구매 시 유의해야 할 법적 사항 아파트 매매 시에는 법적인 사항도 유의해야 합니다. 계약서 작성 및 검토, 중개사와의 협의, 유지 보수 지원 등을 포함하여 법적인 절차를 정확히 이행해야 합니다. 법률 전문가와 상담을 하거나 관련 정보를 자세히 숙지하는 것이...']}"
      ]
     },
     "execution_count": 11,
     "metadata": {},
     "output_type": "execute_result"
    }
   ],
   "source": [
    "jload(\"./data/document.json\")[0]"
   ]
  },
  {
   "cell_type": "markdown",
   "id": "658fe605-fb45-4c00-8034-283186c0058f",
   "metadata": {},
   "source": [
    "가끔 크롤링이 안되는 경우가 있어서 한번 검수해줍니다."
   ]
  },
  {
   "cell_type": "code",
   "execution_count": 4,
   "id": "46f9f0b3-3970-45ad-8f6b-7a423ff49ac9",
   "metadata": {
    "execution": {
     "iopub.execute_input": "2024-05-14T05:21:35.749882Z",
     "iopub.status.busy": "2024-05-14T05:21:35.748944Z",
     "iopub.status.idle": "2024-05-14T05:21:35.885728Z",
     "shell.execute_reply": "2024-05-14T05:21:35.885454Z",
     "shell.execute_reply.started": "2024-05-14T05:21:35.749826Z"
    },
    "tags": []
   },
   "outputs": [],
   "source": [
    "search_data = jload('./data/document.json')\n",
    "for idx in range(len(search_data)):\n",
    "    if len(search_data[idx]['document']) == 0:\n",
    "        print(f\"Index [{idx}] 번째 데이터가 수집되지 않았네요.\")"
   ]
  },
  {
   "cell_type": "markdown",
   "id": "930e1334-1b85-460f-9cd8-ead31b8ab56c",
   "metadata": {},
   "source": [
    "수집되지 않은 데이터를 한번더 크롤링하게 하고 `document.json`에 저장합니다."
   ]
  },
  {
   "cell_type": "code",
   "execution_count": 15,
   "id": "1cef1aaa-fb9e-42cb-a529-5a06097c75bc",
   "metadata": {
    "execution": {
     "iopub.execute_input": "2024-05-14T04:50:01.762586Z",
     "iopub.status.busy": "2024-05-14T04:50:01.761751Z",
     "iopub.status.idle": "2024-05-14T04:51:55.890393Z",
     "shell.execute_reply": "2024-05-14T04:51:55.889903Z",
     "shell.execute_reply.started": "2024-05-14T04:50:01.762528Z"
    },
    "tags": []
   },
   "outputs": [
    {
     "name": "stderr",
     "output_type": "stream",
     "text": [
      "1it [00:04,  4.16s/it]\n",
      "1it [00:03,  3.48s/it]\n",
      "1it [00:04,  4.02s/it]\n",
      "1it [00:03,  3.22s/it]\n",
      "1it [00:03,  3.93s/it]\n",
      "1it [00:04,  4.09s/it]\n",
      "1it [00:03,  3.93s/it]\n",
      "1it [00:03,  3.65s/it]\n",
      "1it [00:03,  3.43s/it]\n",
      "1it [00:04,  4.11s/it]\n",
      "1it [00:03,  3.76s/it]\n",
      "1it [00:03,  3.28s/it]\n",
      "1it [00:03,  3.77s/it]\n",
      "1it [00:03,  3.20s/it]\n",
      "1it [00:03,  3.63s/it]\n",
      "1it [00:03,  3.47s/it]\n",
      "1it [00:03,  3.08s/it]\n",
      "1it [00:03,  3.46s/it]\n",
      "1it [00:02,  2.96s/it]\n",
      "1it [00:03,  3.66s/it]\n",
      "1it [00:03,  3.24s/it]\n",
      "1it [00:03,  3.23s/it]\n",
      "1it [00:03,  3.83s/it]\n",
      "1it [00:04,  4.04s/it]\n",
      "1it [00:03,  3.33s/it]\n",
      "1it [00:03,  3.32s/it]\n",
      "1it [00:03,  3.70s/it]\n",
      "1it [00:03,  3.36s/it]\n",
      "1it [00:04,  4.25s/it]\n",
      "1it [00:07,  7.26s/it]\n"
     ]
    }
   ],
   "source": [
    "for idx in range(len(search_data)):\n",
    "    if len(search_data[idx]['document']) == 0:\n",
    "        search_data[idx] = get_document_through_selenium(\n",
    "            crawling_type=\"search\",\n",
    "            inputs=search_data[idx]['question'],\n",
    "            n_worker=cpu_count() - 2,\n",
    "            n_documents=5,\n",
    "            indent=4\n",
    "        )[0]"
   ]
  },
  {
   "cell_type": "markdown",
   "id": "dcf676a8-e2ce-4c8e-840f-e31071d887ce",
   "metadata": {},
   "source": [
    "제대로 수집되었는지 또 검사해줍니다."
   ]
  },
  {
   "cell_type": "code",
   "execution_count": 5,
   "id": "a91b48d5-4582-4e81-a61a-911baf012f62",
   "metadata": {
    "execution": {
     "iopub.execute_input": "2024-05-14T05:21:46.884863Z",
     "iopub.status.busy": "2024-05-14T05:21:46.883539Z",
     "iopub.status.idle": "2024-05-14T05:21:46.901954Z",
     "shell.execute_reply": "2024-05-14T05:21:46.901334Z",
     "shell.execute_reply.started": "2024-05-14T05:21:46.884806Z"
    },
    "tags": []
   },
   "outputs": [],
   "source": [
    "for idx in range(len(search_data)):\n",
    "    if len(search_data[idx]['document']) == 0:\n",
    "        print(f\"Index [{idx}] 번째 데이터가 수집되지 않았네요.\")"
   ]
  },
  {
   "cell_type": "markdown",
   "id": "3dd03837-9be5-4800-bb6b-cac946527463",
   "metadata": {},
   "source": [
    "원인 파악을 위해 해당 질문으로 직접 검색을 해봅니다.  \n",
    "검색해보면 인기글이 검색되지 않습니다.  \n",
    "해당 데이터는 삭제하겠습니다.  "
   ]
  },
  {
   "cell_type": "code",
   "execution_count": 87,
   "id": "2b177ce9-aad4-4f43-bd54-d503441c6d9d",
   "metadata": {
    "execution": {
     "iopub.execute_input": "2024-05-14T04:59:30.989249Z",
     "iopub.status.busy": "2024-05-14T04:59:30.988731Z",
     "iopub.status.idle": "2024-05-14T04:59:31.001804Z",
     "shell.execute_reply": "2024-05-14T04:59:31.001335Z",
     "shell.execute_reply.started": "2024-05-14T04:59:30.989215Z"
    },
    "tags": []
   },
   "outputs": [],
   "source": [
    "# 삭제할 인덱스 모으기\n",
    "remove_idx_list = []\n",
    "for idx in range(len(search_data)):\n",
    "    if len(search_data[idx]['document']) == 0:\n",
    "        remove_idx_list.append(idx)\n",
    "\n",
    "# 삭제할 인덱스를 pop \n",
    "for idx in remove_idx_list:\n",
    "    search_data.pop(idx)"
   ]
  },
  {
   "cell_type": "code",
   "execution_count": 7,
   "id": "3adf8e00-a3bc-4d6c-81af-54a651d94cd4",
   "metadata": {
    "execution": {
     "iopub.execute_input": "2024-05-14T05:22:08.845400Z",
     "iopub.status.busy": "2024-05-14T05:22:08.844412Z",
     "iopub.status.idle": "2024-05-14T05:22:08.859805Z",
     "shell.execute_reply": "2024-05-14T05:22:08.859348Z",
     "shell.execute_reply.started": "2024-05-14T05:22:08.845339Z"
    },
    "tags": []
   },
   "outputs": [],
   "source": [
    "for idx in range(len(search_data)):\n",
    "    if len(search_data[idx]['document']) == 0:\n",
    "        print(f\"Index [{idx}] 번째 데이터가 수집되지 않았네요.\")"
   ]
  },
  {
   "cell_type": "code",
   "execution_count": 8,
   "id": "f32ac551-7861-46cf-bed2-c9470d1455b2",
   "metadata": {
    "execution": {
     "iopub.execute_input": "2024-05-14T05:22:13.479498Z",
     "iopub.status.busy": "2024-05-14T05:22:13.479010Z",
     "iopub.status.idle": "2024-05-14T05:22:13.621413Z",
     "shell.execute_reply": "2024-05-14T05:22:13.620968Z",
     "shell.execute_reply.started": "2024-05-14T05:22:13.479466Z"
    },
    "tags": []
   },
   "outputs": [],
   "source": [
    "from utils import jsave\n",
    "\n",
    "jsave(data=search_data, save_path=\"./data/document.json\", mode=\"w\", indent=4)"
   ]
  },
  {
   "cell_type": "code",
   "execution_count": 9,
   "id": "c05304e7-eeec-4873-9c32-a7bf9aa102d8",
   "metadata": {
    "execution": {
     "iopub.execute_input": "2024-05-14T05:22:14.198335Z",
     "iopub.status.busy": "2024-05-14T05:22:14.197752Z",
     "iopub.status.idle": "2024-05-14T05:22:14.211416Z",
     "shell.execute_reply": "2024-05-14T05:22:14.210597Z",
     "shell.execute_reply.started": "2024-05-14T05:22:14.198285Z"
    },
    "tags": []
   },
   "outputs": [],
   "source": [
    "for idx in range(len(search_data)):\n",
    "    if len(search_data[idx]['document']) == 0:\n",
    "        print(f\"Index [{idx}] 번째 데이터가 수집되지 않았네요.\")"
   ]
  },
  {
   "cell_type": "code",
   "execution_count": 10,
   "id": "503d0c6b-d29b-4cc9-b114-8c763fa0f8fc",
   "metadata": {
    "execution": {
     "iopub.execute_input": "2024-05-14T05:22:14.599990Z",
     "iopub.status.busy": "2024-05-14T05:22:14.598687Z",
     "iopub.status.idle": "2024-05-14T05:22:14.613767Z",
     "shell.execute_reply": "2024-05-14T05:22:14.612721Z",
     "shell.execute_reply.started": "2024-05-14T05:22:14.599930Z"
    },
    "tags": []
   },
   "outputs": [
    {
     "data": {
      "text/plain": [
       "9967"
      ]
     },
     "execution_count": 10,
     "metadata": {},
     "output_type": "execute_result"
    }
   ],
   "source": [
    "len(search_data)"
   ]
  },
  {
   "cell_type": "markdown",
   "id": "2d6130e7-344c-4058-ace3-39eb80087cfb",
   "metadata": {
    "execution": {
     "iopub.execute_input": "2024-04-28T07:05:34.818904Z",
     "iopub.status.busy": "2024-04-28T07:05:34.818806Z",
     "iopub.status.idle": "2024-04-28T07:05:34.820806Z",
     "shell.execute_reply": "2024-04-28T07:05:34.820406Z",
     "shell.execute_reply.started": "2024-04-28T07:05:34.818896Z"
    },
    "jp-MarkdownHeadingCollapsed": true,
    "tags": []
   },
   "source": [
    "## <span style=\"color: #F2D388;\"> 5. encoder 모델을 활용하여 데이터를 유사도 기준으로 정렬하기 </span>\n",
    "비교적 최근에 공개된 인코더 모델인 [intfloat/multilingual-e5-base](https://huggingface.co/intfloat/multilingual-e5-base) 모델([arxiv](https://arxiv.org/pdf/2402.05672))을 사용하여 유사도를 계산합니다.  \n",
    "질문을 했을 때, 검색되는 인기글 데이터들중 유사도가 높은 순서대로 문서를 다시 정렬합니다.  \n",
    "정렬된 순서대로 데이터를 좀더 많이 참조하도록 프롬프트를 통해 지시합니다."
   ]
  },
  {
   "cell_type": "code",
   "execution_count": 11,
   "id": "6716c4ee-7092-4b5b-9090-7e3c6c20e683",
   "metadata": {
    "execution": {
     "iopub.execute_input": "2024-05-14T05:22:22.690708Z",
     "iopub.status.busy": "2024-05-14T05:22:22.689870Z",
     "iopub.status.idle": "2024-05-14T05:22:22.831263Z",
     "shell.execute_reply": "2024-05-14T05:22:22.830866Z",
     "shell.execute_reply.started": "2024-05-14T05:22:22.690624Z"
    },
    "tags": []
   },
   "outputs": [],
   "source": [
    "from utils import jload\n",
    "\n",
    "search_data = jload(\"./data/document.json\")"
   ]
  },
  {
   "cell_type": "markdown",
   "id": "3f6c1f6f-cd6c-4b89-a0ee-ff728c8e9ca6",
   "metadata": {},
   "source": [
    "e5모델의 자세한 내용은 [hugginface](https://huggingface.co/intfloat/e5-base-v2)를 참조하세요  \n",
    "유사도 계산시 `multiprocessing` 모듈을 사용합니다.  \n",
    "데이터 전처리시에 `multiprocessing`, `threading`, `concurrent.futures` 등의 병렬처리 도구를 사용하는 것이 속도 개선에 많이 도움이 되었습니다.  "
   ]
  },
  {
   "cell_type": "code",
   "execution_count": 19,
   "id": "03a50c95-1de6-46cc-86a4-67beeaebd6f5",
   "metadata": {
    "execution": {
     "iopub.execute_input": "2024-05-14T05:46:39.166169Z",
     "iopub.status.busy": "2024-05-14T05:46:39.165280Z",
     "iopub.status.idle": "2024-05-14T05:46:39.186049Z",
     "shell.execute_reply": "2024-05-14T05:46:39.184665Z",
     "shell.execute_reply.started": "2024-05-14T05:46:39.166109Z"
    },
    "tags": []
   },
   "outputs": [
    {
     "data": {
      "text/plain": [
       "8"
      ]
     },
     "execution_count": 19,
     "metadata": {},
     "output_type": "execute_result"
    }
   ],
   "source": [
    "cpu_count()-2"
   ]
  },
  {
   "cell_type": "code",
   "execution_count": 20,
   "id": "85523c92-9700-4b3c-a9b1-bbef7eb8c1cc",
   "metadata": {
    "execution": {
     "iopub.execute_input": "2024-05-14T05:47:28.065990Z",
     "iopub.status.busy": "2024-05-14T05:47:28.065291Z",
     "iopub.status.idle": "2024-05-14T05:47:28.280704Z",
     "shell.execute_reply": "2024-05-14T05:47:28.280411Z",
     "shell.execute_reply.started": "2024-05-14T05:47:28.065957Z"
    },
    "tags": []
   },
   "outputs": [
    {
     "name": "stderr",
     "output_type": "stream",
     "text": [
      "10000it [00:00, 1002414.80it/s]\n"
     ]
    }
   ],
   "source": [
    "test_data = [i for i in range(10000)]\n",
    "\n",
    "def _test(data):\n",
    "    return data+2\n",
    "\n",
    "\n",
    "with ThreadPoolExecutor(cpu_count()-2) as pool:\n",
    "    result = list(tqdm(pool.map(_test, test_data)))"
   ]
  },
  {
   "cell_type": "code",
   "execution_count": 22,
   "id": "37a42296-087f-41be-b539-d2a5219a6ac0",
   "metadata": {
    "execution": {
     "iopub.execute_input": "2024-05-14T06:34:08.162982Z",
     "iopub.status.busy": "2024-05-14T06:34:08.162330Z",
     "iopub.status.idle": "2024-05-14T06:34:08.172841Z",
     "shell.execute_reply": "2024-05-14T06:34:08.169081Z",
     "shell.execute_reply.started": "2024-05-14T06:34:08.162937Z"
    },
    "tags": []
   },
   "outputs": [],
   "source": [
    "# from similarity import sort_by_similarity\n",
    "# from tqdm import tqdm\n",
    "# from multiprocessing import cpu_count\n",
    "\n",
    "# for question in tqdm(search_data):\n",
    "#     question['document'], question['scores'] = sort_by_similarity(\n",
    "#         query=question['question'], \n",
    "#         documents=question['document'],\n",
    "#         score = 0.85,\n",
    "#         n_worker = len(question['document'][0])\n",
    "#     )"
   ]
  },
  {
   "cell_type": "code",
   "execution_count": null,
   "id": "3eaf1c9d-4c3b-4efc-903c-fed86027077f",
   "metadata": {
    "execution": {
     "iopub.status.busy": "2024-05-14T05:25:03.144982Z",
     "iopub.status.idle": "2024-05-14T05:25:03.145139Z",
     "shell.execute_reply": "2024-05-14T05:25:03.145047Z",
     "shell.execute_reply.started": "2024-05-14T05:25:03.145041Z"
    },
    "tags": []
   },
   "outputs": [],
   "source": [
    "jsave(search_data, \"./data/document.json\", \"w\", indent=4)"
   ]
  },
  {
   "cell_type": "markdown",
   "id": "c26fe065-19a8-4e0a-9288-d5bfcf4a198e",
   "metadata": {
    "tags": []
   },
   "source": [
    "## <span style=\"color: #F2D388;\"> 6. Instuction 데이터셋 만들기 </span>\n",
    "완성된 질문리스트와 인기글 데이터를 통해 ChatGPT에 정답을 출력하도록 요청합니다.  \n",
    "ChatGPT는 아래의 프롬프트처럼 question에 대한 answer 답변을 출력합니다.  \n",
    "완성된 question, answer 텍스트는 학습시킬 모델의 훈련용 데이터셋으로 전달됩니다.  \n",
    "본 문서의 프롬프트는 [Stanford Alpaca의 프롬프트](https://github.com/tatsu-lab/stanford_alpaca/blob/main/prompt.txthttps://github.com/tatsu-lab/stanford_alpaca/blob/main/prompt.txt)를 참조하였습니다.  "
   ]
  },
  {
   "cell_type": "code",
   "execution_count": 1,
   "id": "a71a94b5-435c-402f-906c-44b844c8989c",
   "metadata": {
    "execution": {
     "iopub.execute_input": "2024-05-14T10:49:37.598478Z",
     "iopub.status.busy": "2024-05-14T10:49:37.598134Z",
     "iopub.status.idle": "2024-05-14T10:49:37.621871Z",
     "shell.execute_reply": "2024-05-14T10:49:37.621077Z",
     "shell.execute_reply.started": "2024-05-14T10:49:37.598453Z"
    },
    "tags": []
   },
   "outputs": [
    {
     "name": "stdout",
     "output_type": "stream",
     "text": [
      "요청받은 question을 document를 참조하여 answer로 답변하세요.\n",
      "question 1개당 여러 개의 document가 주어지며, question은 각각 10개씩 전달됩니다.\n",
      "\n",
      "요구사항은 다음과 같습니다:\n",
      "1. 어휘의 다양성을 위해 같은 단어를 반복하지 않습니다.\n",
      "2. 문장의 형태가 다양해야합니다. 예를 들어 질문과 명령형이 결합되는 형태여야 합니다.\n",
      "3. document의 정보가 question과 관련있는 정보라면 참조합니다, 관련이 없다면 참조하지 않습니다.\n",
      "4. WebPilot을 이용하여 Google에서 검색을 하고, question과 관련있는 데이터를 참조하세요.\n",
      "5. 위 3, 4번의 데이터를 바탕으로 답변하세요.\n",
      "6. 답변은 자세한 내용이 포함되도록 제공되어야하지만 200단어 정도로 구성해주세요.\n",
      "9. 출력 형식은 JSON포맷을 따라야 하며, Indentation은 없도록 출력하세요.\n",
      "\n",
      "출력 형식은 아래 포맷을 참조하세요:\n",
      "{\"question\": \"1주택자 종부세 폐지 여부가 확정된 건가요?\", \"answer\": \"현재 1주택자에 대한 종합부동산세 폐지....\"}\n",
      "{\"question\": \"아파트 추이 분석에서 중요한 변수들은 무엇인가요?\", \"answer\": \"아파트 추이를 이해하기 위해 ....\"}\n",
      "###question:\n",
      "{question}\n",
      "###document:\n",
      "{document}\n",
      "\n"
     ]
    }
   ],
   "source": [
    "from prompts import INSTRUCTION_PROMPT_PREFIX, INSTRUCTION_PROMPT_CONTENT\n",
    "\n",
    "print(INSTRUCTION_PROMPT_PREFIX + INSTRUCTION_PROMPT_CONTENT)"
   ]
  },
  {
   "cell_type": "code",
   "execution_count": 2,
   "id": "63a00105-8d72-46d6-b762-afc2c90388d3",
   "metadata": {
    "execution": {
     "iopub.execute_input": "2024-05-14T10:49:38.470317Z",
     "iopub.status.busy": "2024-05-14T10:49:38.469994Z",
     "iopub.status.idle": "2024-05-14T10:49:40.716369Z",
     "shell.execute_reply": "2024-05-14T10:49:40.716074Z",
     "shell.execute_reply.started": "2024-05-14T10:49:38.470293Z"
    },
    "tags": []
   },
   "outputs": [],
   "source": [
    "from utils import jload\n",
    "\n",
    "search = jload(\"./data/document.json\")"
   ]
  },
  {
   "cell_type": "code",
   "execution_count": 3,
   "id": "2f88e377-cddf-4d41-beda-34d13b58f96c",
   "metadata": {
    "execution": {
     "iopub.execute_input": "2024-05-14T10:49:40.877283Z",
     "iopub.status.busy": "2024-05-14T10:49:40.876860Z",
     "iopub.status.idle": "2024-05-14T10:49:40.902969Z",
     "shell.execute_reply": "2024-05-14T10:49:40.902333Z",
     "shell.execute_reply.started": "2024-05-14T10:49:40.877258Z"
    },
    "tags": []
   },
   "outputs": [],
   "source": [
    "# 리스트 형태인 document 데이터를 하나로 합치기\n",
    "for data in search:\n",
    "    data['document'] = \"\\n\".join([f\"{idx+1}. {d}\" for idx, d in enumerate(data['document'])])"
   ]
  },
  {
   "cell_type": "code",
   "execution_count": 4,
   "id": "5e47d259-3bd7-4241-adfe-a37da70e23b8",
   "metadata": {
    "execution": {
     "iopub.execute_input": "2024-05-14T10:49:41.164892Z",
     "iopub.status.busy": "2024-05-14T10:49:41.164507Z",
     "iopub.status.idle": "2024-05-14T10:49:41.178611Z",
     "shell.execute_reply": "2024-05-14T10:49:41.177620Z",
     "shell.execute_reply.started": "2024-05-14T10:49:41.164867Z"
    },
    "tags": []
   },
   "outputs": [
    {
     "name": "stdout",
     "output_type": "stream",
     "text": [
      "1. 신혼부부이혼 시 고려해야 할 사항이 있다면 안녕하세요, 든든한 법률파트너 유진우변호사입니다. 결혼은 일생일대의 큰 사건이자 인생의 반환점이 될 수 있는 일이기 때문에 신중하게 생각하고 진행하는 경우가 많습니다. 내 배우자가 될 사람이 어떤 사람인지 살펴보고 이 사람과 함께 가정을 꾸렸을 때, 끝까지 함께할 수 있는지를 하게 되는데요. 이렇게 신중하게...\n",
      "2. 신혼부부보험 가입하면서 간이식보험 정보 알아보세요 저는 원래 미갱신 건강보험만 준비했었는데, 최근 미갱신 건강보험 가입 추천 통화를 받았어요. 즉시 가입하는 것보다는 미갱신... 암 진단 시 보조인 비용도 중요하다는 것을 알고, 이런 부분들을 고려하여 가장 경제적이며 현명한 을 했다고 생각하였어요. 직접 상담보다는 자기 조사하고 탐색하는 것이 더...\n",
      "3. 특히 신혼부부 침대는 고려할 사항이 너무 많다 보니 어떤 것을 봐야 할지 어려워하던 도중 좋은 매장을 만나 현명하게 침대 구매를 할 수 있었답니다. 씰리침대 아현점 1. 한국에서... 후회없는 선택이라고 자부해요. 순금 사은품까지 제공! 저는 매트리스와 프레임을 함께 구입해 300만원 이상 구매 증정받을 수 있는 순금까지 받았어요. 결혼 전 혼수를 받은 것...\n",
      "4. 하며, 신혼부부 디딤돌대출의 한도는 최대 4억 원까지 입니다. 그리고 기간의 경우 만기 10, 15, 20, 30년으로 5년 단위로 책정이 되는데요. 거치는 최대 1년까지만 가능하니 이 점을 유의해 자산 계획을 세워보셔야 할 듯합니다. 그럼 금리는 어떻게 될까요? 해당 대출의 경우 2.45%에서 3.55% 사이로 금리가 책정됩니다만, 몇 가지 우대도 있어 이를 적용한다면 좀 더...\n",
      "5. 가격, 면적, 시설 등을 고려하여 신혼부부의 라이프 스타일에 맞는 아파트를 선택해야 합니다. 4. 아파트 구매 시 유의해야 할 법적 사항 아파트 매매 시에는 법적인 사항도 유의해야 합니다. 계약서 작성 및 검토, 중개사와의 협의, 유지 보수 지원 등을 포함하여 법적인 절차를 정확히 이행해야 합니다. 법률 전문가와 상담을 하거나 관련 정보를 자세히 숙지하는 것이...\n"
     ]
    }
   ],
   "source": [
    "print(search[0]['document'])"
   ]
  },
  {
   "cell_type": "code",
   "execution_count": 5,
   "id": "455bfdac-8ad1-41cf-85be-54fbbdf26e13",
   "metadata": {
    "execution": {
     "iopub.execute_input": "2024-05-14T10:49:42.036703Z",
     "iopub.status.busy": "2024-05-14T10:49:42.036154Z",
     "iopub.status.idle": "2024-05-14T10:49:42.057606Z",
     "shell.execute_reply": "2024-05-14T10:49:42.056443Z",
     "shell.execute_reply.started": "2024-05-14T10:49:42.036657Z"
    },
    "tags": []
   },
   "outputs": [
    {
     "name": "stdout",
     "output_type": "stream",
     "text": [
      "\n",
      "###question:\n",
      "{question}\n",
      "###document:\n",
      "{document}\n",
      "\n"
     ]
    }
   ],
   "source": [
    "print(INSTRUCTION_PROMPT_CONTENT)"
   ]
  },
  {
   "cell_type": "code",
   "execution_count": 6,
   "id": "826d6649-9f4a-454a-b9b5-78b4751f9dd8",
   "metadata": {
    "execution": {
     "iopub.execute_input": "2024-05-14T10:49:42.243805Z",
     "iopub.status.busy": "2024-05-14T10:49:42.243379Z",
     "iopub.status.idle": "2024-05-14T10:49:42.284404Z",
     "shell.execute_reply": "2024-05-14T10:49:42.283968Z",
     "shell.execute_reply.started": "2024-05-14T10:49:42.243779Z"
    },
    "tags": []
   },
   "outputs": [],
   "source": [
    "prefix = INSTRUCTION_PROMPT_PREFIX\n",
    "instructions = []\n",
    "total_instructions = len(search) // 10\n",
    "for index in range(1, total_instructions + 2):\n",
    "    start_index = (index - 1) * 10\n",
    "    end_index = index * 10\n",
    "    content = \"\\n\".join([\n",
    "        INSTRUCTION_PROMPT_CONTENT.format(question = data['question'], document = data['document'])\n",
    "        for data in search[start_index:end_index]\n",
    "    ])\n",
    "    instruction = prefix + content\n",
    "    instructions.append(instruction)"
   ]
  },
  {
   "cell_type": "code",
   "execution_count": 7,
   "id": "e0f8f046-7f46-407b-83a4-e1a6f837d372",
   "metadata": {
    "execution": {
     "iopub.execute_input": "2024-05-14T10:49:43.146178Z",
     "iopub.status.busy": "2024-05-14T10:49:43.145629Z",
     "iopub.status.idle": "2024-05-14T10:49:43.154220Z",
     "shell.execute_reply": "2024-05-14T10:49:43.153154Z",
     "shell.execute_reply.started": "2024-05-14T10:49:43.146151Z"
    },
    "tags": []
   },
   "outputs": [
    {
     "name": "stdout",
     "output_type": "stream",
     "text": [
      "요청받은 question을 document를 참조하여 answer로 답변하세요.\n",
      "question 1개당 여러 개의 document가 주어지며, question은 각각 10개씩 전달됩니다.\n",
      "\n",
      "요구사항은 다음과 같습니다:\n",
      "1. 어휘의 다양성을 위해 같은 단어를 반복하지 않습니다.\n",
      "2. 문장의 형태가 다양해야합니다. 예를 들어 질문과 명령형이 결합되는 형태여야 합니다.\n",
      "3. document의 정보가 question과 관련있는 정보라면 참조합니다, 관련이 없다면 참조하지 않습니다.\n",
      "4. WebPilot을 이용하여 Google에서 검색을 하고, question과 관련있는 데이터를 참조하세요.\n",
      "5. 위 3, 4번의 데이터를 바탕으로 답변하세요.\n",
      "6. 답변은 자세한 내용이 포함되도록 제공되어야하지만 200단어 정도로 구성해주세요.\n",
      "9. 출력 형식은 JSON포맷을 따라야 하며, Indentation은 없도록 출력하세요.\n",
      "\n",
      "출력 형식은 아래 포맷을 참조하세요:\n",
      "{\"question\": \"1주택자 종부세 폐지 여부가 확정된 건가요?\", \"answer\": \"현재 1주택자에 대한 종합부동산세 폐지....\"}\n",
      "{\"question\": \"아파트 추이 분석에서 중요한 변수들은 무엇인가요?\", \"answer\": \"아파트 추이를 이해하기 위해 ....\"}\n",
      "###question:\n",
      "신혼부부 집 선택 시 고려해야 할 사항은 무엇인가요?\n",
      "###document:\n",
      "1. 신혼부부이혼 시 고려해야 할 사항이 있다면 안녕하세요, 든든한 법률파트너 유진우변호사입니다. 결혼은 일생일대의 큰 사건이자 인생의 반환점이 될 수 있는 일이기 때문에 신중하게 생각하고 진행하는 경우가 많습니다. 내 배우자가 될 사람이 어떤 사람인지 살펴보고 이 사람과 함께 가정을 꾸렸을 때, 끝까지 함께할 수 있는지를 하게 되는데요. 이렇게 신중하게...\n",
      "2. 신혼부부보험 가입하면서 간이식보험 정보 알아보세요 저는 원래 미갱신 건강보험만 준비했었는데, 최근 미갱신 건강보험 가입 추천 통화를 받았어요. 즉시 가입하는 것보다는 미갱신... 암\n"
     ]
    }
   ],
   "source": [
    "print(instructions[0][:1000])"
   ]
  },
  {
   "cell_type": "code",
   "execution_count": 13,
   "id": "6838a02f-2375-4fef-9817-b856e3f1658b",
   "metadata": {
    "execution": {
     "iopub.execute_input": "2024-05-14T10:52:00.297032Z",
     "iopub.status.busy": "2024-05-14T10:52:00.296725Z",
     "iopub.status.idle": "2024-05-14T11:29:38.957556Z",
     "shell.execute_reply": "2024-05-14T11:29:38.956813Z",
     "shell.execute_reply.started": "2024-05-14T10:52:00.297009Z"
    },
    "tags": []
   },
   "outputs": [
    {
     "name": "stderr",
     "output_type": "stream",
     "text": [
      "997it [37:38,  2.27s/it]\n"
     ]
    }
   ],
   "source": [
    "from concurrent.futures import ThreadPoolExecutor\n",
    "from functools import partial\n",
    "from tqdm import tqdm\n",
    "from utils import get_completion\n",
    "from threading import Lock\n",
    "import os\n",
    "\n",
    "error_prompts = []\n",
    "\n",
    "# https://superfastpython.com/thread-mutex-lock/\n",
    "# completion에 유니코드 에러가 자주 발생해서 병렬처리시 저장할 수 있도록 개선 / 예외처리 추가\n",
    "def _thread_safe_get_completion(prompt, model = \"gpt-4o\"):\n",
    "    try:\n",
    "        result = get_completion(model=model, prompt=prompt)\n",
    "    except Exception as e:\n",
    "        question = prompt.split(\"###question:\\n\")[1].split(\"###document\")[0][:-1]\n",
    "        print(f\"오류 발생한 questions: {question}\")\n",
    "        error_prompts.append(prompt)\n",
    "        print(e)\n",
    "        return None\n",
    "    lock = Lock()\n",
    "    with lock:\n",
    "        with open(\"./data/instruction.jsonl\", \"a\", encoding=\"utf-8\") as f:\n",
    "            for line in result.split(\"\\n\"):\n",
    "                f.write(line)\n",
    "                f.write(\"\\n\")\n",
    "            return result\n",
    "    \n",
    "\n",
    "with ThreadPoolExecutor() as pool:\n",
    "    results = list(tqdm(pool.map(partial(_thread_safe_get_completion, model=\"gpt-4o\"), instructions)))"
   ]
  },
  {
   "cell_type": "code",
   "execution_count": 12,
   "id": "8de15760-027c-48b3-ba33-11bcbd2bf1bd",
   "metadata": {
    "execution": {
     "iopub.execute_input": "2024-05-14T10:51:37.383137Z",
     "iopub.status.busy": "2024-05-14T10:51:37.382729Z",
     "iopub.status.idle": "2024-05-14T10:51:37.385870Z",
     "shell.execute_reply": "2024-05-14T10:51:37.385428Z",
     "shell.execute_reply.started": "2024-05-14T10:51:37.383112Z"
    },
    "tags": []
   },
   "outputs": [],
   "source": [
    "# 병렬처리하지 않을 경우\n",
    "\n",
    "# from concurrent.futures import ThreadPoolExecutor\n",
    "# from functools import partial\n",
    "# from tqdm import tqdm\n",
    "# from utils import get_completion\n",
    "# from threading import Lock\n",
    "# import os\n",
    "\n",
    "# for prompt in tqdm(instructions):\n",
    "#     try:\n",
    "#         result = get_completion(model=\"gpt-4o\", prompt=prompt)\n",
    "#         with open(\"./data/instruction2.jsonl\", \"a\", encoding=\"utf-8\") as f:\n",
    "#             for line in result.split(\"\\n\"):\n",
    "#                 f.write(line)\n",
    "#                 f.write(\"\\n\")\n",
    "#     except Exception as e:\n",
    "#         question = prompt.split(\"###question:\\n\")[1].split(\"###document\")[0][:-1]\n",
    "#         print(f\"오류 발생한 questions: {question}\")\n",
    "#         print(e)"
   ]
  },
  {
   "cell_type": "markdown",
   "id": "39c416d2-565e-4158-9c44-8fd0079d66d5",
   "metadata": {},
   "source": [
    "에러가 많지 않으니 해당 데이터를 제외했습니다.  \n",
    "줄바꿈이 2번있는경우 `jsonl`로 읽기 어려워서 전처리를 해줍니다."
   ]
  },
  {
   "cell_type": "code",
   "execution_count": 19,
   "id": "58f78941-4e6b-4929-b5b3-391cd96ec6f0",
   "metadata": {
    "execution": {
     "iopub.execute_input": "2024-05-14T11:33:41.509442Z",
     "iopub.status.busy": "2024-05-14T11:33:41.508517Z",
     "iopub.status.idle": "2024-05-14T11:33:41.562473Z",
     "shell.execute_reply": "2024-05-14T11:33:41.562145Z",
     "shell.execute_reply.started": "2024-05-14T11:33:41.509396Z"
    },
    "tags": []
   },
   "outputs": [],
   "source": [
    "with open(\"./data/instruction2.jsonl\", \"r\") as f:\n",
    "    parsed = f.readlines()\n",
    "parsed = [lines.replace(\"\\n\", \"\") for lines in parsed if lines != \"\\n\"]"
   ]
  },
  {
   "cell_type": "code",
   "execution_count": 20,
   "id": "2cafc2c9-a37e-4c88-886b-89129fd07653",
   "metadata": {
    "execution": {
     "iopub.execute_input": "2024-05-14T11:33:42.426259Z",
     "iopub.status.busy": "2024-05-14T11:33:42.425499Z",
     "iopub.status.idle": "2024-05-14T11:33:42.438811Z",
     "shell.execute_reply": "2024-05-14T11:33:42.438065Z",
     "shell.execute_reply.started": "2024-05-14T11:33:42.426206Z"
    },
    "tags": []
   },
   "outputs": [
    {
     "data": {
      "text/plain": [
       "9791"
      ]
     },
     "execution_count": 20,
     "metadata": {},
     "output_type": "execute_result"
    }
   ],
   "source": [
    "len(parsed)"
   ]
  },
  {
   "cell_type": "code",
   "execution_count": 22,
   "id": "fd9fa96c-c14f-4fd7-8e76-62ce3c616fba",
   "metadata": {
    "execution": {
     "iopub.execute_input": "2024-05-14T11:34:25.339327Z",
     "iopub.status.busy": "2024-05-14T11:34:25.338527Z",
     "iopub.status.idle": "2024-05-14T11:34:25.450678Z",
     "shell.execute_reply": "2024-05-14T11:34:25.450387Z",
     "shell.execute_reply.started": "2024-05-14T11:34:25.339271Z"
    },
    "tags": []
   },
   "outputs": [],
   "source": [
    "from utils import jsave\n",
    "\n",
    "jsave(data=parsed, save_path=\"./data/instruction.jsonl\", mode=\"w\")"
   ]
  },
  {
   "cell_type": "code",
   "execution_count": 23,
   "id": "efc429c0-7f5d-4589-8194-8b85d2dc2e07",
   "metadata": {
    "execution": {
     "iopub.execute_input": "2024-05-14T11:34:45.605227Z",
     "iopub.status.busy": "2024-05-14T11:34:45.604483Z",
     "iopub.status.idle": "2024-05-14T11:34:45.682149Z",
     "shell.execute_reply": "2024-05-14T11:34:45.681843Z",
     "shell.execute_reply.started": "2024-05-14T11:34:45.605174Z"
    },
    "tags": []
   },
   "outputs": [
    {
     "data": {
      "text/plain": [
       "9791"
      ]
     },
     "execution_count": 23,
     "metadata": {},
     "output_type": "execute_result"
    }
   ],
   "source": [
    "from utils import jload\n",
    "\n",
    "len(jload(\"./data/instruction.jsonl\"))"
   ]
  },
  {
   "cell_type": "code",
   "execution_count": 87,
   "id": "919c05b9-967b-4003-9432-0935a4731cc4",
   "metadata": {
    "execution": {
     "iopub.execute_input": "2024-05-14T10:35:30.082680Z",
     "iopub.status.busy": "2024-05-14T10:35:30.082126Z",
     "iopub.status.idle": "2024-05-14T10:35:30.090661Z",
     "shell.execute_reply": "2024-05-14T10:35:30.089516Z",
     "shell.execute_reply.started": "2024-05-14T10:35:30.082654Z"
    },
    "tags": []
   },
   "outputs": [],
   "source": [
    "pe = [e for e in errors if e is not None]"
   ]
  },
  {
   "cell_type": "code",
   "execution_count": 92,
   "id": "ecf611c2-6f16-48d4-aa2a-60f356ec5b39",
   "metadata": {
    "execution": {
     "iopub.execute_input": "2024-05-14T10:35:52.083451Z",
     "iopub.status.busy": "2024-05-14T10:35:52.083141Z",
     "iopub.status.idle": "2024-05-14T10:35:52.091331Z",
     "shell.execute_reply": "2024-05-14T10:35:52.088540Z",
     "shell.execute_reply.started": "2024-05-14T10:35:52.083427Z"
    },
    "tags": []
   },
   "outputs": [
    {
     "name": "stdout",
     "output_type": "stream",
     "text": [
      "요청받은 question을 document를 참조하여 answer로 답변하세요.\n",
      "question 1개당 여러 개의 document가 주어지며, question은 각각 10개씩 전달됩니다.\n",
      "\n",
      "요구사항은 다음과 같습니다:\n",
      "1. 어휘의 다양성을 위해 같은 단어를 반복하지 않습니다.\n",
      "2. 문장의 형태가 다양해야합니다. 예를 들어 질문과 명령형이 결합되는 형태여야 합니다.\n",
      "3. document의 정보가 question과 관련있는 정보라면 참조합니다, 관련이 없다면 참조하지 않습니다.\n",
      "4. WebPilot을 이용하여 Google에서 검색을 하고, question과 관련있는 데이터를 참조하세요.\n",
      "5. 위 3, 4번의 데이터를 바탕으로 답변하세요.\n",
      "6. 답변은 자세한 내용이 포함되도록 제공되어야하지만 200단어 정도로 구성해주세요.\n",
      "9. 출력 형식은 JSON포맷을 따라야 하며, Indentation은 없도록 출력하세요.\n",
      "\n",
      "출력 형식의 예시:\n",
      "{'question': '1주택자 종부세 폐지 여부가 확정된 건가요?', 'answer': '현재 1주택자에 대한 종합부동산세 폐지 여부는 확정되지 않았습니다. 더불어민주당 신임 원내대표가 실거주 1주택자에 대한 종부세 폐지 방침을 밝혔으나, 이는 아직 법적으로 확정된 사항은 아닙니다. 종부세법 개정 논의가 진행 중이며, 실거주, 가격, 면적, 주택수 등을 종합적으로 고려하여 합리적인 개정이 이루어질 것으로 기대됩니다. 따라서, 관련 법안이 통과되기 전까지는 현행 종부세 규정을 따르는 것이 필요합니다.'}\n",
      "###question:\n",
      "집주인이 전세 입자를 퇴거시 전세금을 마련하기 위한 대출이 가능한가요?\n",
      "###document:\n",
      "1. 글자크기19> 전세반환대출 퇴거자금 마련을 위한 2가지 방안에 대하여 국제적인 갈등으로 인해 유가가 오르는 상황 속에서 미국 중앙은행인 연방준비제도는 장기적인 통화 긴축 정책에 따라 금리 인상 가능성이 낮아졌다는 분석 결과가 발표했습니다. 물가 상승과 금리 변동성이 계속되면서 국내 경제 전문가들 사이에서는 물가 안정과 경기 부양 중 어느 쪽에 더 중점을...\n",
      "2. \" DSR \" 그런데 시중은행 및 정부에서 지원되는 전세금 반환을 위한 전세퇴거자금대출은 DSR(총부채원리금상환비율)로 인해 보증금보다 한도가 적어서 실효성 논란이 계속해서 터지는 중이에요. 정부가 먼저 활로를 모색하는 것도 중요하겠습니다. 가능한 범위 안에서 반환 은 규제를 어느정도 완화시켜야 임대인과 세들 다 2차 피해를 입지 않습니다....\n",
      "3. 다 포기하고 싶다는 생각만 들었지만 제 돈이 아닌 세입자의 돈이고, 이대로 주택을 하나 넘겨버리는 건 말도 안 되는 일이기에 전세퇴거자금대출에 대해 알아보게 되었죠. 여러 가지 방안에 대해 고려할 수 있었어요. 전세퇴거자금대출만 하더라도 정부에서 지원을 하는 것이 있는가 하면 1금융, 2금융 등의 다양한 선택지가 존재하였죠. 통상적으로 내 집 을 ...\n",
      "4. 전세퇴거자금대출역시 집주인이 세입자에게 돌려줄 보증금을 빌려주는 일종의 주택담보대출을 의미했어요. 하지만 DSR 규제의 적용을 받아 이미 최대한 은행에서 주담대를 받은... 반환하기 위한 금액을 뺀 나머지를 필요한 대환에 사용하는 경우가 많았습니다. 보증금 미반환 위험을 없애고자 하는 만큼 날짜에 자금을 잘 위해서는 미리미리 준비하여...\n",
      "5. 저는 전세를 줄 당시 매매가와 전세가에 큰 차이가 없는 시기였던 터라 받았던 보증금도 상당한 수준이었어요. 거기에 다른 지역에 집을 구하느라 저 또한 전세금을 제 보증금으로... 그러나 중고리에 해당하더라도 제가 선택했던 이유는 추가 차입이 필요하지 않고 신규 세가 들어오면 곧바로 반환이 하다는 점 때문이었어요. 그래서 자금을...\n",
      "\n",
      "\n",
      "###question:\n",
      "도로부지 9.5평 매물에 대해 궁금한 점이 있습니다.\n",
      "###document:\n",
      "1. 한림마을초등학교, 천초등학교 그 밖에도 다양한 초, 중, 고등학교가 있는 학군이 형성되어 있습니다 오늘 소개를 해드린 토지에 대해 궁금한 점이 있으시거나 문의 사항이 있으시다면 위의 번호로 연락을 주시면 친절히 상담해 드리겠습니다 또한, 해당 토지 외에도 제주도에 다양한 을 보유하고 있으니 관심 있으신 분들은 연락을 주신다면 정성껏 모시겠습니다\n",
      "2. 일반도로) 돌때도 마찬가지로 느껴집니다. 뭔가 차가 좌 우 롤?이 있는데 이게 무게로 인해 둔한 느낌?이네요. 착착 감기거나 쫀쫀함이 덜느껴져요. 그렇다고 19년식 2만키로 탄 m340i가 하체 교체할 정비 주기는 안됐다고 생각하고 있습니다. 물론 3시리즈 g바디의 기본적인 완벽한 하체는 너무 만족스럽구요!! 일정 허용 롤 이후로 코너를 계속 감아돌면...\n",
      "3. 다시 말하자면 프리미엄이 없는 매물입니다. 도로부지는 90㎡ 이상이면 재개발 지역에서 입주권을 받을 수 있습니다. 상황에 따라서는 원하는 평형의 입주권도 가능한 매물입니다.... 자격 요건만 맞으면 토지거래 허가는 받을 수 있습니다. 거주지가 서울이어야 합니다. 다른 조건은 없습니다. 갈현 2구역 신속 통합기획 재개발(갈현동 12-248번지 일대)에 ...\n",
      "4. 타운하우스 부지 남악신도시 필지 분양 많은 사람들이 보다더 가치가 있고 프리미엄을 느낄 수 있는 부동산 매물에 관심을 가지고 있는 모습을 쉽게 볼 수 있습니다. 라메르빌리지는... 지하 주자창이 도로와 같은 레벨에 설치 됩니다. 주차 공간이 8대가 확보 되므로 유리한 많습니다. 외부에 동선 노출도 되지 않고 눈과 비의 영향도 받지 않습니다. 사생활 보호...\n",
      "5. 그리고 인챈에 붙어있는 맥이 표기맥에 표시가 안되는 거라면 표기맥 120 인챈최댐 10 인 매물이랑 표기맥 118 인챈최댐 15인 매물이 있을경우 후자가 더 맥이 높은건가요 ? 그리고 활 듀얼 세공의 경우 유사와 맥은 최소 어느정도부터 유효로 치나요? (예: 유사 18이상 맥 16이상) 무기를 구해보려고 하는데 매물보기가 너무 어려워서 질문드립니다 ㅠㅠ\n",
      "\n",
      "\n",
      "###question:\n",
      "분양권 취득시 취득세에 대해 알고 싶습니다.\n",
      "###document:\n",
      "1. 오늘은 조합원 입주권이라 알고있는 조합원 분양권에 대해 알아볼겁니다. 그중에서도 조합원 물건을 취득할 경우 취득세가 얼마나 나오는지 알아보겠습니다. 일반분양권의 매매가 이루어지면 매수인은 당장 분양권의 취득세는 없습니다. 하지만 분양권으로 아파트가 지어지면 그때 를 납부하셔야 합니다. 당연 분양군 점에 주택수에 따라 ...\n",
      "2. 특히나 양도세 와 취득세율에 대해 많이 놓치고 있는 것 같습니다. 필자도 가끔 헥갈려 하기도 하는 것이 취득세, 양도소득세 입니다. 1주택자 분들도 꼭 알고 계셔야 하는 것이 바로 취득세와 양도소득세 입니다. 인천광역시 분양권 취득하신분들 특히나 20년 8월 12일 이후 을 하신분들은 필독 입니다. 필독!!!! 예) 검단신도시 예미지더시그너스...\n",
      "3. 분양권 취득세 판단 시점 2020년 8월 12일 이후 분양권 및 입주권을 취득 시 주택 수에 포함하는 것에 대해서 알고 있습니다. 문의하고자 하는 것은 이 분양권이나 입주권이 추후 주택이... 되어 취득세를 낼 때 납부 시점을 기준으로 취득세가 결정되는 것인지 아니면 분양권 또는 입주권 상태에서 결정되는지 알고 싶습니다. 이 부분에 서 지자체별로 해석이 다르다...\n",
      "4. 아파트 분양권 취득시 주의해야 할 취득세 이야기 오늘은 아파트 분양권을 취득하려는 분들을 위해 주의해야 할 사항 중 하나인 취득세에 대해 이야기 해보려고 합니다. 아파트를 구매하려면 취득세를 납부해야 하는데요, 아파트 분양권은 일반 아파트처럼 매매를 통한 이 아닌 을 하는 방식이기 때문에 많은 분들이 헷갈려하실 수 있기에 오늘...\n",
      "5. 매교역팰루시드의 분양권 취득세에 대해서 문의 하시는 분들이 있으신데요. 조합원분들 중에 현재 살고있는 주택과 입주권을 가지고계시면서 받은 평형이 작아 입주권을 매도하고... 입주 시 3주택으로 8%의 취득세를 내셔야하는데요. 기존에 가지고 있는 주택이 입주권이나 일 경우 일에 따라 주택 수 산정에 포함여부가 달라진다는 것을 ...\n",
      "\n",
      "\n",
      "###question:\n",
      "똑같은 입지 신축과 8년된 준신축의 시세차이는 몇 퍼센트 정도인가요?\n",
      "###document:\n",
      "1. 대단지 신축 단지가 형성될 예정입니다. 걸포동에 위치한 한강 메트로자이가 입주 5년 차인데 33평형이 6억 중반대의 매매가를 형성하고 있으며 입주 6년 차인 우방아이유쉘 아파트의 33평형이 5억 정도의 매매가를 형성하고 있습니다. 김포북변우미린 파크리브 아파트는 2027년에 입주하므로 약 의 연식의 가 보이므로 현재의 분양가는 적당해...\n",
      "2. 시세(84기준) [주변단지] - 준신축 : 2014년식 581세대 해운대센텀두산위브 (10.2억*70% = 7.14억이니까 비슷한 수준) - 구축 : 1996년식 926세대 센텀삼환 - 원래는 준구축의 70%정도라고 예상했는데, 입지가 워낙 좋은데다가 재건축은 어렵고 리모델링 이슈가 있다가 사그라들었다. 두산위브랑 가격이 거의 같이간다. 해운대구는 가...있구나,,ㅎㅎㅎ - 구축 아파트의...\n",
      "3. 똑같은입지에 방타입 층 전부 동일하다고 봤을때 그냥 길건너수준 18년식 아파트랑 26년에 완공예정인 신축 시세차이볼때 10%정도 잡으면 무난할까요?\n",
      "4. 서울에는 더 이상 대규모로 공급할 땅이 없고, 결국 재재를 통해 신축을 공급할 수밖에 없으니까요. 그렇기 때문에 결국 시간의 문제일 뿐 갈 곳은 갈 것이라고 생각합니다. 이제 밑그림이 그려진 초기 재개발이나 재건축을 들어가는 것은 위험할 수 있지만 어느 사업이 진행되었거나 가 좋은 곳들은 다시 한번 훈풍이 불 확률이 높다고 봅니다. 지금까지 재개발...\n",
      "5. 시세가 평당 8000만 원에서 9100만 원 사이인 것으로 보아 평당 6000만 원 이상이 되지 않을까 생각해 본다. 후분양제를 하게 된다면 분양가는 더 올라갈 것으로 보이고 분양을 이 가격대에 하더라도 추후엔 주변 래미안 리더스 원, 그랑 자이보다 높을 것으로 예상한다. 그 이유는 2028년이 완공 시기로 추측되는데 그때면 차, 9년 차가 되고 아크로 드 서초만 이...\n",
      "\n",
      "\n",
      "###question:\n",
      "월세 보증금 2억이지만 세금완납증명서를 받지 못했어요. 어떻게 해야 하나요?\n",
      "###document:\n",
      "1. 넘어가 보증금을 반환받지 못한 사례가 많았는데 그 이유 중 본세금은 당해세에 해당하여 전입신고 전 선순위 근저당이 없어도 낙찰가에서 우선 징수됨. 거액의 세금이 있다면 세입자가 피해를 볼 것이 명약관화하니 예방차원에서 꼭 징구해야합니다. 오프라인으로 국세지방세 발급 방법은? 주민센터에서 방문하셔서 발급받을 수 있습니다....\n",
      "2. 말대로 우니날의 대표적인 세금중에 하나인 지방세를 모두 납부했다고 정부가 발급해주는 증명서입니다. 주로 국세는 국세청에서 지방세는 시군구에서 많이 담당하고 있습니다. 아무래도 해당 서류를 통해서 임대인의 납세 여력, 신용정보를 유추해볼수 있습니다. 그리고 가장 중요한것은 체납이 있으면 경매순위에서 밀릴수가 있습니다. 이 작은 같은...\n",
      "3. 국세완납증명서 발급을 통해 세금을 전부 납부했는지 여부를 확인해야 하는 이유는 납세가 기본적으로 변제 권한보다 먼저 진행이 되기 때문입니다. 다시 말해 자신 소유의 주택이 공매 또는 경매로 넘어가게 될 시, 개인의 보증금보다 세금의 집행이 우선시 되어 내 몫의 자산을 일부, 또는 아예 되돌려 못하는 상황에 놓일 수도 있다는 겁니다. 그렇다면 이를 어떻게...\n",
      "4. 전세나 월세의 보증금을 반환받지 못하는 피해자들의 피해가 사회적 문제가 큰 현재입니다. 완벽할 순 없지만 보완을 해나가고 있고 대비책도 어느정도 마련이 되어 있는데요. 그래도 여전히 해소되지 않는 갈증은 여전합니다. 아쉬움을 뒤로 하고 피해방지를 위한 방법중 하나라 할 수 있는 임대인의 국세와 지방세 로 체납 확인,열람 또는 발급할 수 있는...\n",
      "5. 왜(WHY) 납세 증명서를 확인해야 할까요? © towfiqu999999, 출처 Unsplash 이번 전세사기 대란 때 문제가 되었던 것 중 하나가 사기꾼 임대인의 국세, 지방세 체납이었습니다. 임대인이 국세, 지방세를 체납하게 되어 집이 경매로 넘어가게 되면 최우선 순위는 국세, 지방세가 되어 임차인은 경매로 집이 팔려도 을 돌려 못하는 경우가 발생합니다. 따라서 임차 전...\n",
      "\n",
      "\n",
      "###question:\n",
      "개포 디에이치 아이파크의 자금조달계획서 증빙서류는 무엇이 필요한가요?\n",
      "###document:\n",
      "1. 그래서 오늘은 주택자금조달계획서 대상 증빙서류 제출 방법과 입주 계획서를 작성하는 방법을 알아보고 유의 사항도 함께 살펴보겠습니다. 관련 서식은 인터넷에 검색하면 쉽게 다운받을 수 있습니다. 우선 무엇을 위해 작성해야 하는 것인지 알아보자면, 규제 지역 안에 있는 주택을 거래하고 이를 신고하는 경우에 관련 를 제출하는 것이 의무화되었습니다....\n",
      "2. 조합원들의 문의가 많아 일일히 답변하기가 시간관계상 어려워 디에이치퍼스티어아이파크(개포주공1단지) 재건축 조합원 자금조달계획서 작성법 및 증빙서류 제출에 관한 세부 내용을 아래 대왕부동산tv 유튜브 채널에 업로드해 놓았으니 참고하시면 됩니다. 구독과 좋아요 눌러주시고 시청하시기 바랍니다. https://www.youtube.com/channel/UCPHmwZzXELwZ-2LT-BqrAvA [필독]...\n",
      "3. 부동산 투기과열지구 주택 을 매수 하는 경우 주택취득자금조달계획서와 증빙서류가 필요합니다 일반적으로는 담보대출 또는 전세를 이용하여 본인의 소득을 합하여 주택을 매수하는 경우가 대부분이라 특별히 문제되는 경우는 없지만, 자금출처를 작성하고 를 만드는 일은 번거롭기도 하고, 혹시나 잘못신고하여 불이익을 받게 되는건 아닐까 하는 걱정이...\n",
      "4. 대해 자금조달계획 및 입주계획서 신고서 의무화라 서류 제출도 필수입니다. #디에이치퍼스티어아이파크등기 #디에이치퍼스티어아이파크주담대 #디에이치퍼스티어아이파크대출 분양권 전매제한 개포 #디에이치퍼스티어아이파크전매제한 = 없습니다. 미준공상태라 등기를 못쳐서 전세대출, 주택담보대출이 안나와서 전세를 구하거나 매수자를 구할때...\n",
      "5. 경우에 따라서 어떤 지역은 이와 함께 증빙 서류까지도 같이 내야 하는 경우가 있으니 내가 구입할 곳이 어떤 상황인지 정확하게 파악하고 진행하는 것이 중요합니다. 서울은 용산이나... 주의가 필요합니다. 과태료는 500만 원이라는 생각보다 꽤 큰 금액이기 때문에 정해진 날짜 안에 제출하는 편이 훨씬 낫겠습니다. 주택 를 제출하는 방법에는 몇...\n",
      "\n",
      "\n",
      "###question:\n",
      "상가, 주택, 토지에 주간요양보호센터를 운영할 수 있는지요?\n",
      "###document:\n",
      "1. 부산방문요양 성모실버케어에서는 찾아가는 의료 서비스 그리고 요리 활동을 통해 신체적/정신적으로도 안정될 수 있도록 많은 지원 프로그램을 운영하고 있답니다 : ) 부모님 같은 어르신들을 더욱 정성으로 모시기 위해 최선을 다하고 있는 해운대 주야간 라고 많이 들어 보셨을텐데요. 낮 시간 동안 친절한 직원들의 케어로 어르신들이 다양한...\n",
      "2. [여주상가 임대] 여주시 하동에 위치한 1층 단독형 상가 건물 임대입니다 하동 시내권 2차선 도로변에 접하고 있어 차량 통행.주차 편리한 위치이며, 1층 단독 건물이라 전체를 이용할 수 있는 상가입니다. 오래 동안 학원으로 운영하던 곳으로 교습소. 학원. 사회복지시설(). 공방. 사무실. 소매점 등으로 이용 추천합니다. *임대료: 3천/ 180만원(부가세...\n",
      "3. 국비로 운영이 된다는거에 놀랐어요 부모님 부양하는게 심적으로도 힘들지만 경제적으로도 부담이 되는데 이렇게 나라에서 장기요양제도를 통하여 국비로 이 모든 서비스를 이용 받을 수 있다니 난 왜 이걸 이제 알았을까? 생각이 들면서 할머니가 하루 빨리 에 다니셔서 매일 재활훈련 받으시어 거동이 좀 편안해지고 활기를 되찾았으면 하는 마음이 더...\n",
      "4. 노인주간보호센터 창업을 하려면 일정 조건을 갖춘 상태여야지 운영을 할 수 있다는 것을 알았어요. 사무실과 사무용품은 기본이고 요양보호사 자격증을 가지고 있는 직원을 고용하고 있어야 됐습니다. 그 중 창업을 하기 위해서는 요양보호사, 면허증 등 다양한 자격증 중 하나를 보유하고 있어야 되더군요. 알아보니 경남 사회복지사2급이 있어도 조건에 해당이 된다는...\n",
      "5. 의료 면허를 소지하고 있거나 요양보호사자격과 5년 이상의 경력이 있으면 되지만 단기간에 갖출 수 있는게 없어보였거든요. 그러던 중 추가로 찾아보 던 글에서 사회복지사2급 자격증 을 취득하면 규모는 작겠지만 그래도 노인주간보호센터 창업조건 을 갖출 있고 우리끼리라도 을 할 있게 된다는걸 알게 되었습니다. 복지사의 경우 학점은행제라는 교육제도를...\n",
      "\n",
      "\n",
      "###question:\n",
      "전세 임차인이 있는 집의 실거주 조건 대출은 어려울까요?\n",
      "###document:\n",
      "1. 전세퇴거자금대출 실거주없어도 dsr우대 ltv95%한도추가 발생 부동산 시세가 이전처럼 회복될 전망은 당분간은 없어 보였어요. 영향을 미칠 수 있는 요소들이 지나치게 다수 산재해 있다는 문제가 크게 나타났어요. 사람들의 소비 심리가 높은 상황에서 조금 더 내 마련에 대한 의지가 생겨나기 마련인데 당장 먹고 마시는 것에 대한 물가 지수가 지나치게 높아진 상황이기...\n",
      "2. 금일은 이러한 일환 중 하나라 할 수 있는 청년버팀목전세자금대출과 관련한 정보를 살펴보도록 하겠습니다. 먼저 해당 제도를 이용하기 위해서는 몇 가지 조건을 충족해야 합니다. 첫 번째로 주택임대차계약을 체결한 뒤 임차보증금의 최소 5%를 지불해야 합니다. 그리고 연령대는 만 나이를 기준으로 19세 이상부터 34세 이하까지이며, 세대주여야 합니다. 단...\n",
      "3. 완화한 전세반환대출을 23년 7월부터 한시적으로 1년간 진행하고 있는 것이었다. 초기만 하더라도 부동산 매매가에 대한 제한이 붙어 있는 등으로 여러 애로사항이 발생하였다. 그러나 현재는 이런 부분은 모두 풀렸지만 여전히 사람들이 문제로 지적하는 사항이 많았다. 가장 대표적인 것은 아무래도 약정에 대한 부분일 것이다. 세입자 계약 여부에 대한 이...\n",
      "4. 전세보증금반환대출 퇴거 목적 조건 정리 지금 당장은 아니어도 알아두기만 하면 언젠가는 필요할 수도 있는 내용이라는 생각이 들어서 전해드리려 합니다. 상황은 정해진 것이... 금리한도 전세보증금 DSR규제 필요서류 이자에 관한 사항이에요. 2024년도에는 주택 가격이 6년 전인 18년도 정도로 하락할 것으로 보인다는 전망입니다. 금리 상승으로 인해 ...\n",
      "5. 갖고 있는 전업주부나 무직자인 경우에도 매출이 많지 않은 사업자의 상태에서 승인을 얻을 수 있다고 하였습니다. 또한 세입자에게 보증금을 원활하게 반환하는 목적으로 받는 것이기 때문에 세입자의 동의가 필요하지 않다는 면도 작용을 했어요. 부채통합연구소에서는 무료 상담을 통해 가장 먼저 가능한 퇴거자금 을 찾는것부터 확인받을 수...\n",
      "\n",
      "\n",
      "###question:\n",
      "전세가 상승과 매매가 관계에 대해 궁금합니다.\n",
      "###document:\n",
      "1. 그래서 오늘은, 여러분의 혼란을 줄여드리기 위해, 전세가율의 뜻과 계산 방법, 전세가 상승이 부동산 시장과의 관계에 대해 정리해보려 합니다. 1. 전세가율 뜻과 계산 방법 먼저 뜻과 계산방법을 설명드리겠습니다. 표면적 의미로 만 봤을 때, 전세가율은 매매가 대비 가 얼마의 비율을 차지하고 있는지입니다. 예를 들어 내가 10억 인 집에 6억의 보증금을 내고...\n",
      "2. 갭투자 갭투자는 시장 침체로 인해 전세가가 상승할 때 주로 발생하고 지난해 매매가격 하락세가 심했던 지역에서는 마이너스 갭까지 보였습니다. 전남 순천시에선 최근 3개월 동안... 그 사건에 대해 들어보면.. 해당 임차인은 지난 2019년 경남 진주 다가구주택에 7천만원 전세 계약 당시 공인중개사는 건물의 다른 호실 보증금을 임대인 말만 믿고 실제보다 낮게...\n",
      "3. 새로운 집주인은 매매가와 전세가의 차이가 거의 없는 일명 ‘갭투자’로 해당 부동산을 구입했습니다. 경기가 좋았던 상황에서 집값 상승을 기대한 투자였지만 부동산 경기가... 오늘은 부동산 문제로 어려움을 겪는 분들을 위해 도움을 줄 변호사를 찾는 법에 알려드리겠습니다. 시간이 촉박한 상황에서 전문성 없는 변호사에게 일을 맡길 경우 전세금 반환은 물론...\n",
      "4. 부동산 갭투자 부동산 갭투자는 매매가와 전세가의 차이, 즉 갭이 작은 부동산을 전세로 산 뒤, 향후 매매가격이 상승할 때 매각하여 시세차익을 얻는 투자 전략이다. 예를 들어... 매매가격의 상승으로 인한 시세차익을 기대할 수 있다는 점이다. 단점은 부동산 가격이 하락할 경우 손실을 볼 수 있고 전세보증금을 돌려받지 못할 수 있으며 로 얻은 이익에 세금...\n",
      "5. 전세가격이 상승하면 매매가격이 상승한다는 것은 부동산 투자의 정설 중 하나입니다. 이는 전세가격은 상승하고 매매가격은 약보합이거나 하락하여 전세가격과 매매가격의 차이가... 그래서 지표를 볼 때 하나를 보는 것보다는 상관관계가 있는 지표들을 같이 보는 것이 미래 예측에 도움이 됩니다. 어제보다 더 행복한 오늘 되시길 바랍니다!!\n",
      "\n",
      "\n",
      "###question:\n",
      "부동산 중개소 없이 매도하는 것에 대한 질문입니다.\n",
      "###document:\n",
      "1. 내놨고 중개사 복비도 잘 챙겨주자는 것이 기본적인 생각이었습니다. 하자 있는 불법건축물 제때에 매도했던 방법 경쟁력 있는 매도가격(만 6년 된 투룸 빌라 매도가 2.5억) 정상적인 투룸이라면 3.5억 수준이었지만 위반건축물이라서 1억 정도 낮은 가격 책정했습니다. 2. 노력에 대가 인정 거래하기 쉽지 않은 을 중개해 준 데에 따른 성과를 인정해...\n",
      "2. 중개 의뢰 전에 이 정보들을 참고하시면, 부동산 매도가격 (또는 매수자로서 매입 가격 수준 등)을 결정하는데 도움 되실 것 같습니다. 부동산통계정보시스템 조회 결과의 예시 일반인으로서 해당 내용을 살펴 보는 것 조차 불편과 어려움이 있는 때에 공인중개사사무소에 의뢰하시는 것도 중개 의뢰의 내용일 수 있으므로 직접 내용을 수집하고 파악하는 것이 어려운...\n",
      "3. 그러니 답변이 오는 동안 다른 걸 공부하며 기다릴 수 있고 몰랐던 것에 대해 다시 역질문할 필요 없이 상세하게 답변을 주는 구조가 매우 마음에 들었습니다. 어쩌면 이런 과정이 있었기에 제가 한 번에 합격할 수 있었던 게 아닐까요? 과목의 구성 1차는 부동산학개론과 민법 및 민사 특별법 2과목으로 구성되어 있으며 2차 시험은 법령 및 중개 실무, 공법...\n",
      "4. 최근 연락 오는 사람들이 또 생겨서 곧 거래가 될 것 같아 당근 부동산 직거래로 아파트 매수 or 매도하는 법을 당근 안내사항을 통해 적어보도록 하겠다. 1. 등기사항 증명서 확인하기... (매도용 인감증명서 발급 시 정확해야 함) 계약서에 일반적인 사항을 적고 상호 간의 특약사항이 있다면 합의하에 적도록 한다. 3. 거래 신고하기 끼고 하면 공인에...\n",
      "5. 매도를 희망하는 주택이 있어 인근 부동산 여러 곳에도 매물을 내놓았고, 당근/피터팬의 좋은방 구하기에도 셀프로 내놓은 상태입니다. 그렇다보니 제가 직접 방문하여 내놓은... 될 것 같아 조심스럽네요.. ㅎㅎ *발신 명의의 부동산 명을 네이버나 카카오 등에서 검색하면 나오진 않으나, 공인중개사협회 웹사이트에서 발신주소 및 공인분 성함, 등록번호로 검색하면...\n",
      "\n"
     ]
    }
   ],
   "source": [
    "print(pe[0][0])"
   ]
  },
  {
   "cell_type": "code",
   "execution_count": null,
   "id": "8051e048-944c-496e-b3bd-31b75a3ac149",
   "metadata": {},
   "outputs": [],
   "source": []
  },
  {
   "cell_type": "code",
   "execution_count": null,
   "id": "15a9df9a-0eb6-4290-8523-b2fa95b5fbd0",
   "metadata": {},
   "outputs": [],
   "source": []
  },
  {
   "cell_type": "code",
   "execution_count": null,
   "id": "bc2bb783-43b8-499b-a0ff-7e1e84bfa77a",
   "metadata": {},
   "outputs": [],
   "source": []
  },
  {
   "cell_type": "code",
   "execution_count": null,
   "id": "993ab23c-f14f-4cd7-b30a-26d3bbc27eb3",
   "metadata": {},
   "outputs": [],
   "source": []
  },
  {
   "cell_type": "code",
   "execution_count": null,
   "id": "0a8db6e8-db52-421c-ac2e-a5c6caaad1e7",
   "metadata": {},
   "outputs": [],
   "source": []
  },
  {
   "cell_type": "markdown",
   "id": "63d0ba72-ac6e-4f41-b3f7-1362d220e6c9",
   "metadata": {},
   "source": [
    "학습용 데이터셋을 만들었습니다.  \n",
    "학습용 데이터셋을 만드는 방법은 다양하고 도메인에 맞게 적용할 수 있습니다.  \n",
    "본 예제의 경우 1) 키워드 기반, 2) 크롤링 기반으로 데이터를 수집했습니다.  \n",
    "\n",
    "+ 키워드 기반 : 데이터셋을 쉽게 컨트롤 할 수 있습니다. harmful한 데이터를 사전에 방지할 수 있고, 특정 도메인을 지정할 수 있습니다.  \n",
    "+ 크롤링 기반 : 사람들이 사용할만한 문장들을 얻을 수 있습니다. 또한 내가 생각하지 못한 문장을 얻을 수 있습니다. 다양한 문장이 있기 때문에 과적합을 예방할 수 있습니다.\n",
    "\n",
    "GPT의 경우 `gpt-3.5-turbo`를 사용하려면 프롬프트를 좀더 강력하게 구축해야 했습니다.(그래도 말을 잘 안듣긴 하네요)  \n",
    "다행이도 `gpt-4o`가 출시된 덕에 저렴한 가격으로 데이터셋을 구축할 수 있었습니다.  \n",
    "Closed Platform으로 좋은 데이터셋을 얻기 위해서는 1) 프롬프트를 어떻게 구성할지 2) Few-shot 넣기 등의 방법이 매우 효과가 좋았습니다.  \n",
    "\n",
    "프롬프트는 각종 논문과 프롬프트를 모아놓은 github를 참조하면 좋을 것 같습니다.  \n",
    "아래 본 예제에서 참조한 논문과 프롬프트는 아래와 같습니다!\n",
    "\n",
    "+ [Stanford Alpaca](https://github.com/tatsu-lab/stanford_alpaca/blob/main/prompt.txt)\n",
    "+ [awesome-chatgpt-prompts](https://github.com/f/awesome-chatgpt-prompts)\n",
    "+ [Judging LLM-as-a-Judge with MT-Bench and Chatbot Arena](https://arxiv.org/pdf/2306.05685)\n",
    "+ [Chatbot Arena: An Open Platform for Evaluating LLMs by Human Preference](https://arxiv.org/pdf/2403.04132)"
   ]
  },
  {
   "cell_type": "code",
   "execution_count": null,
   "id": "2ec21861-aad5-4057-ba49-95cfe49c0c84",
   "metadata": {},
   "outputs": [],
   "source": []
  }
 ],
 "metadata": {
  "kernelspec": {
   "display_name": "Python 3 (ipykernel)",
   "language": "python",
   "name": "python3"
  },
  "language_info": {
   "codemirror_mode": {
    "name": "ipython",
    "version": 3
   },
   "file_extension": ".py",
   "mimetype": "text/x-python",
   "name": "python",
   "nbconvert_exporter": "python",
   "pygments_lexer": "ipython3",
   "version": "3.11.5"
  }
 },
 "nbformat": 4,
 "nbformat_minor": 5
}
