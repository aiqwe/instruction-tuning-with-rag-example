{
 "cells": [
  {
   "cell_type": "markdown",
   "id": "65d015e7-f608-4f2c-a580-e476e4d23455",
   "metadata": {
    "execution": {
     "iopub.execute_input": "2024-04-27T14:24:44.399720Z",
     "iopub.status.busy": "2024-04-27T14:24:44.399074Z",
     "iopub.status.idle": "2024-04-27T14:24:44.688783Z",
     "shell.execute_reply": "2024-04-27T14:24:44.688485Z",
     "shell.execute_reply.started": "2024-04-27T14:24:44.399656Z"
    },
    "tags": []
   },
   "source": [
    "## 데이터셋 준비 하기\n",
    "Instruction Fine Tuning을 위해 데이터셋을 준비합니다.  \n",
    "데이터셋은 아래의 순서로 진행하려 합니다.\n",
    "---\n",
    "Instruction Tuning의 데이터셋은 어떻게 만들어야할까요?  \n",
    "학습에 필요한 Instruction Dataset은 아래와 같은 데이터 형태입니다.\n",
    "([Stanford Alpca 데이터셋](https://github.com/tatsu-lab/stanford_alpaca/blob/main/alpaca_data.json)을 참조했습니다)\n",
    "```plain\n",
    "질문 :\n",
    "건강하기 위한 3가지 팁 알려줘.\n",
    "답변 :\n",
    "1. 충분한 양의 채소와 과일을 섭취해서 균형있는 식단을 가지세요.\n",
    "2. 신체가 활동적이고 건강할 수 있도록 규칙적으로 운동을 하세요.\n",
    "3. 충분한 수면시간을 가지고 규칙적인 수면 습관을 가지세요.\n",
    "```\n",
    "위와 같은 데이터셋을 만들려면 여러 방법이 있습니다. 개인이 데이터셋을 구축하기 쉬운 방법중 하나는 강력한 언어모델의 힘을 빌리는 것일 겁니다.  \n",
    "이 예제에서는 ChatGPT를 활용하여 학습 데이터를 생성하였습니다.  \n",
    "⭐ 24년 5월 14일 OpenAI에서 `gpt-4o`를 출시하여 더욱 저렴한 가격으로 사용할 수 있게 되었습니다.  \n",
    "\n",
    "데이터셋은 1) 키워드 기반으로 질문을 생성, 2) 부동산 스터디 카페글을 크롤링하는 2가지 방법으로 생성해봤습니다.  \n",
    "\n",
    "이 예제에서 데이터셋을 만드는 순서는 간단하게 아래와 같습니다.  \n",
    "\n",
    "#### <span style=\"color: #F2D388;\"> 1. 도메인 정하기  </span>\n",
    "어떤 Assistant(챗봇)을 만들까?를 먼저 정해봅니다. 사내 봇? 주식 답변? 등등...  \n",
    "이 예제에서는 부동산을 타겟으로 하였습니다.  \n",
    "\n",
    "\n",
    "#### <span style=\"color: #F2D388;\"> 2. 키워드 기반으로 데이터셋 만들기 </span>\n",
    "데이터셋은 2가지 방법으로 생성해봤습니다.  \n",
    "##### <span style=\"color: #ECA75D;\"> 2-1. 부동산에 관련된 키워드 모으기 </span>\n",
    "책, 뉴스, 부동산 사이트에서 키워드를 수집해보았습니다.  \n",
    "사람들이 궁금해할만한 키워드를 대상으로 합니다.  \n",
    "(예: 전세 계약, 신혼부부 특별공급, 토지거래허가구역...)  \n",
    "키워드에 대한 예제 데이터는 [data/seed_words.txt](https://github.com/aiqwe/instruction-tuning-with-rag-example/blob/main/data/seed_words.txt)를 참조해주세요.  \n",
    "##### <span style=\"color: #ECA75D;\"> 2-2. 부동산 키워드를 통해 사람들이 찾아볼만한 질문리스트를 만들기 </span>\n",
    "2번에서 수집한 키워드를 기반으로, 사람들이 궁금해할만한 질문리스트를 ChatGPT를 활용해 만들어봅니다.  \n",
    "(예: 전세계약 -> 전세계약할 때 주의해야할 점이 뭐가 있을까요?)  \n",
    "검색 질문리스트 예제 데이터는 [data/questions_search.jsonl](https://github.com/aiqwe/instruction-tuning-with-rag-example/blob/main/data/questions_search.jsonl)를 참조해주세요. \n",
    "\n",
    "\n",
    "#### <span style=\"color: #F2D388;\"> 3. 카페글 기반으로 데이터셋 만들기 </span>\n",
    "##### <span style=\"color: #ECA75D;\"> 3-1. 네이버 카페 글의 질문으로 질문 데이터셋 만들기 </span>\n",
    "부동산 관련 카페중 가장 큰 규모인 부동산스터디 카페의 회원간 묻고 답하기 글을 크롤링합니다.  \n",
    "##### <span style=\"color: #ECA75D;\"> 3-2. 수집한 카페 글을 유사도 기준으로 필터링하기 </span>\n",
    "카페글 중엔 부동산과 관련이 없는 데이터셋이 있을 수 있습니다. 따라서 그러한 데이터를 필터링합니다.  \n",
    "수집된 데이터를 그대로 ChatGPT로 필터링하면 요금이 비싸기 때문에 먼저 인코더 모델로 유사도를 계산합니다.\n",
    "##### <span style=\"color: #ECA75D;\"> 3-3. 유사도로 필터링한 데이터를 ChatGPT로 한번 더 필터링하기 </span>\n",
    "3-2번에서 필터링한 데이터를 ChatGPT로 한번 더 필터링합니다. 이 때 유사도 기반으로 필터링하지 못한 데이터들을 ChatGPT가 필터링해줄 수 있습니다.  \n",
    "\n",
    "    \n",
    "#### <span style=\"color: #F2D388;\"> 4. 질문리스트로 네이버에 검색하여 인기 글 데이터 수집하기 </span>\n",
    "2, 3번에서 수집한 질문리스트를 Selenium 라이브러리를 활용하여 네이버에 검색합니다. 검색 결과중 인기글의 텍스트 데이터를 추출합니다.  \n",
    "인기글 문서 예제 데이터는 [data/documents.jsonl](https://github.com/aiqwe/instruction-tuning-with-rag-example/blob/main/data/documents.jsonl)를 참조해주세요.  \n",
    "\n",
    "\n",
    "#### <span style=\"color: #F2D388;\"> 5. Instuction 데이터셋 만들기 </span>\n",
    "질문리스트 + 정렬한 인기글을 합쳐서 ChatGPT에 Instruction 데이터를 만들어달라고 요청합니다. 이 Instruction 데이터는 Fine Tuning에 사용됩니다.\n",
    "인기글 문서 예제 데이터는 [data/instructions.jsonl](https://github.com/aiqwe/instruction-tuning-with-rag-example/blob/main/data/instructions.jsonl)를 참조해주세요.  "
   ]
  },
  {
   "cell_type": "code",
   "execution_count": 1,
   "id": "236cc32b-567d-4444-97cb-b3eff129879d",
   "metadata": {
    "execution": {
     "iopub.execute_input": "2024-05-12T10:52:02.242743Z",
     "iopub.status.busy": "2024-05-12T10:52:02.242475Z",
     "iopub.status.idle": "2024-05-12T10:52:04.043653Z",
     "shell.execute_reply": "2024-05-12T10:52:04.043335Z",
     "shell.execute_reply.started": "2024-05-12T10:52:02.242724Z"
    },
    "tags": []
   },
   "outputs": [
    {
     "name": "stdout",
     "output_type": "stream",
     "text": [
      "\n",
      "\u001b[1m[\u001b[0m\u001b[34;49mnotice\u001b[0m\u001b[1;39;49m]\u001b[0m\u001b[39;49m A new release of pip is available: \u001b[0m\u001b[31;49m23.3.1\u001b[0m\u001b[39;49m -> \u001b[0m\u001b[32;49m24.0\u001b[0m\n",
      "\u001b[1m[\u001b[0m\u001b[34;49mnotice\u001b[0m\u001b[1;39;49m]\u001b[0m\u001b[39;49m To update, run: \u001b[0m\u001b[32;49mpip install --upgrade pip\u001b[0m\n"
     ]
    }
   ],
   "source": [
    "!pip install --quiet\\\n",
    "selenium==4.20.0\\\n",
    "openai==1.23.6\\\n",
    "python-dotenv==1.0.1"
   ]
  },
  {
   "cell_type": "markdown",
   "id": "e2efb55f-3c57-4e7e-89e3-96fcab92db7d",
   "metadata": {},
   "source": [
    "## <span style=\"color: #F2D388;\"> 2. 키워드 기반으로 데이터셋 만들기 </span>"
   ]
  },
  {
   "cell_type": "markdown",
   "id": "6122411d-b899-41bc-8b3a-e6961161e86d",
   "metadata": {},
   "source": [
    "### <span style=\"color: #ECA75D;\"> 2-1. 부동산에 관련된 키워드 모으기 </span>\n",
    "부동산에 관련된 키워드를 수집하여 저장합니다.  \n",
    "예제 데이터는 [data/seed_words.txt](https://github.com/aiqwe/instruction-tuning-with-rag-example/blob/main/data/seed_words.txt)를 참조해주세요."
   ]
  },
  {
   "cell_type": "code",
   "execution_count": 24,
   "id": "8703faac-3a56-4259-b2f8-003c63485699",
   "metadata": {
    "execution": {
     "iopub.execute_input": "2024-05-12T14:35:43.414276Z",
     "iopub.status.busy": "2024-05-12T14:35:43.413684Z",
     "iopub.status.idle": "2024-05-12T14:35:43.420340Z",
     "shell.execute_reply": "2024-05-12T14:35:43.419588Z",
     "shell.execute_reply.started": "2024-05-12T14:35:43.414232Z"
    },
    "tags": []
   },
   "outputs": [],
   "source": [
    "with open(\"./data/seed_words.txt\", \"r\") as f:\n",
    "    seed_words = f.readlines()"
   ]
  },
  {
   "cell_type": "code",
   "execution_count": 3,
   "id": "0b731610-6b30-4eb4-ae3a-5faa7175b005",
   "metadata": {
    "execution": {
     "iopub.execute_input": "2024-05-12T10:52:05.672353Z",
     "iopub.status.busy": "2024-05-12T10:52:05.671688Z",
     "iopub.status.idle": "2024-05-12T10:52:05.682349Z",
     "shell.execute_reply": "2024-05-12T10:52:05.681209Z",
     "shell.execute_reply.started": "2024-05-12T10:52:05.672315Z"
    },
    "tags": []
   },
   "outputs": [
    {
     "data": {
      "text/plain": [
       "['전세 계약\\n', '임대차 계약\\n', '전세 사기\\n', '임대차 분쟁\\n']"
      ]
     },
     "execution_count": 3,
     "metadata": {},
     "output_type": "execute_result"
    }
   ],
   "source": [
    "seed_words[:4]"
   ]
  },
  {
   "cell_type": "markdown",
   "id": "02a47a69-2bbf-4bc2-b46f-62b48e46d2f6",
   "metadata": {},
   "source": [
    "불필요한 newline이 있어서 제거해줍니다."
   ]
  },
  {
   "cell_type": "code",
   "execution_count": 4,
   "id": "4cd9daee-9abf-49ca-a418-1515ef78aab3",
   "metadata": {
    "execution": {
     "iopub.execute_input": "2024-05-12T10:52:06.441851Z",
     "iopub.status.busy": "2024-05-12T10:52:06.441191Z",
     "iopub.status.idle": "2024-05-12T10:52:06.447554Z",
     "shell.execute_reply": "2024-05-12T10:52:06.446531Z",
     "shell.execute_reply.started": "2024-05-12T10:52:06.441795Z"
    },
    "tags": []
   },
   "outputs": [],
   "source": [
    "# Element마다 있는 \\n 제거, '전세 계약\\n' -> '전세 계약'\n",
    "seed_words = list(map(lambda x: x.strip(\"\\n\"), seed_words))"
   ]
  },
  {
   "cell_type": "code",
   "execution_count": 5,
   "id": "d4a7994b-fe60-4f7a-9446-22ee51936085",
   "metadata": {
    "execution": {
     "iopub.execute_input": "2024-05-12T10:52:06.550884Z",
     "iopub.status.busy": "2024-05-12T10:52:06.550193Z",
     "iopub.status.idle": "2024-05-12T10:52:06.556758Z",
     "shell.execute_reply": "2024-05-12T10:52:06.556135Z",
     "shell.execute_reply.started": "2024-05-12T10:52:06.550825Z"
    },
    "tags": []
   },
   "outputs": [
    {
     "data": {
      "text/plain": [
       "['전세 계약', '임대차 계약', '전세 사기', '임대차 분쟁']"
      ]
     },
     "execution_count": 5,
     "metadata": {},
     "output_type": "execute_result"
    }
   ],
   "source": [
    "seed_words[:4]"
   ]
  },
  {
   "cell_type": "markdown",
   "id": "c539ba2e-355f-4482-a1d7-b8a315a43c2e",
   "metadata": {
    "execution": {
     "iopub.execute_input": "2024-04-27T14:46:47.170359Z",
     "iopub.status.busy": "2024-04-27T14:46:47.169552Z",
     "iopub.status.idle": "2024-04-27T14:46:47.181132Z",
     "shell.execute_reply": "2024-04-27T14:46:47.178484Z",
     "shell.execute_reply.started": "2024-04-27T14:46:47.170307Z"
    },
    "tags": []
   },
   "source": [
    "### <span style=\"color: #ECA75D;\"> 2-2. 부동산 키워드를 통해 사람들이 찾아볼만한 질문리스트를 만들기 </span>\n",
    "미리 작성된 프롬프트에 `seed_words`를 `format` 적용하여 프롬프트를 완성시킵니다.  \n",
    "프롬프트 작성은 [chatgpt-prompt-engineering-for-developers](https://www.deeplearning.ai/short-courses/chatgpt-prompt-engineering-for-developers)와 [Stanford Alpaca](https://github.com/tatsu-lab/stanford_alpaca/blob/main/prompt.txt)를 기반으로 작성하였습니다."
   ]
  },
  {
   "cell_type": "code",
   "execution_count": 6,
   "id": "f06a5e79-9697-4ff9-ac38-6b23d298a483",
   "metadata": {
    "execution": {
     "iopub.execute_input": "2024-05-12T10:52:07.463173Z",
     "iopub.status.busy": "2024-05-12T10:52:07.462821Z",
     "iopub.status.idle": "2024-05-12T10:52:07.470238Z",
     "shell.execute_reply": "2024-05-12T10:52:07.469500Z",
     "shell.execute_reply.started": "2024-05-12T10:52:07.463137Z"
    },
    "tags": []
   },
   "outputs": [
    {
     "name": "stdout",
     "output_type": "stream",
     "text": [
      "당신은 부동산에 관심이 많은 사람입니다. 당신의 역할에 따라 주어진 seed_word에 대해 궁금해할 질문을 생성하세요.\n",
      "seed_word는 총 5개씩 주어집니다.\n",
      "seed_word에 대해 각각 20개의 질문을 생성해야합니다.\n",
      "생성할 질문에 대한 요구 사항은 다음과 같습니다:\n",
      "1. 지시대명사를 사용해서는 안됩니다. seed_word에 있는 명사를 그대로 사용하세요.\n",
      "2. 이미 만들어낸 질문과 동일하거나 유사한 질문을 만들어내서는 안됩니다.\n",
      "3. 만들어내는 질문들은 어휘의 다양성을 위해 다양한 단어를 사용해야 합니다.\n",
      "4. 만들어내는 질문들은 문장의 다양성을 위해 의문문과 평서문을 모두 사용해야 합니다.\n",
      "5. 반드시 한글로 질문을 만드세요.\n",
      "6. 만들어낸 질문은 JSON형식을 따라야 하고, indent는 없어야 합니다.\n",
      "7. 응답하는 답변 문자에는 줄바꿈, \\n, \\t, \\b 등의 특수 문자가 없어야합니다.\n",
      "8. seed_word에 대해 중복으로 질문을 생성했는지 확인하세요. seed_word에 대한 질문을 이미 생성했다면, 동일한 seed_word에 대한 작업을 해서는 안됩니다.\n",
      "9. 아래 양식으로 출력하세요:\n",
      "{{\"seed_word\": \"주어진 seed_word\", \"answer\": [\"1번째 질문\", \"2번째 질문\"... , \"20번째 질문\"]}}\n",
      "\n",
      "seed_word는 다음과 같습니다:\n",
      "{seed_word}\n"
     ]
    }
   ],
   "source": [
    "from prompts import SEED_WORD_PROMPT_PREFIX, SEED_WORD_PROMPT_CONTENT\n",
    "\n",
    "# prompts.py에 프롬프트들 템플릿이 있습니다.\n",
    "print(SEED_WORD_PROMPT_PREFIX + SEED_WORD_PROMPT_CONTENT)"
   ]
  },
  {
   "cell_type": "code",
   "execution_count": 7,
   "id": "18924823-18df-4d08-8b9a-34184d3f8153",
   "metadata": {
    "execution": {
     "iopub.execute_input": "2024-05-12T10:52:08.188996Z",
     "iopub.status.busy": "2024-05-12T10:52:08.188249Z",
     "iopub.status.idle": "2024-05-12T10:52:08.193891Z",
     "shell.execute_reply": "2024-05-12T10:52:08.192651Z",
     "shell.execute_reply.started": "2024-05-12T10:52:08.188964Z"
    },
    "tags": []
   },
   "outputs": [
    {
     "name": "stdout",
     "output_type": "stream",
     "text": [
      "당신은 부동산에 관심이 많은 사람입니다. 당신의 역할에 따라 주어진 seed_word에 대해 궁금해할 질문을 생성하세요.\n",
      "seed_word는 총 5개씩 주어집니다.\n",
      "seed_word에 대해 각각 20개의 질문을 생성해야합니다.\n",
      "생성할 질문에 대한 요구 사항은 다음과 같습니다:\n",
      "1. 지시대명사를 사용해서는 안됩니다. seed_word에 있는 명사를 그대로 사용하세요.\n",
      "2. 이미 만들어낸 질문과 동일하거나 유사한 질문을 만들어내서는 안됩니다.\n",
      "3. 만들어내는 질문들은 어휘의 다양성을 위해 다양한 단어를 사용해야 합니다.\n",
      "4. 만들어내는 질문들은 문장의 다양성을 위해 의문문과 평서문을 모두 사용해야 합니다.\n",
      "5. 반드시 한글로 질문을 만드세요.\n",
      "6. 만들어낸 질문은 JSON형식을 따라야 하고, indent는 없어야 합니다.\n",
      "7. 응답하는 답변 문자에는 줄바꿈, \\n, \\t, \\b 등의 특수 문자가 없어야합니다.\n",
      "8. seed_word에 대해 중복으로 질문을 생성했는지 확인하세요. seed_word에 대한 질문을 이미 생성했다면, 동일한 seed_word에 대한 작업을 해서는 안됩니다.\n",
      "9. 아래 양식으로 출력하세요:\n",
      "{{\"seed_word\": \"주어진 seed_word\", \"answer\": [\"1번째 질문\", \"2번째 질문\"... , \"20번째 질문\"]}}\n",
      "\n",
      "seed_word는 다음과 같습니다:\n",
      "전세 계약\n"
     ]
    }
   ],
   "source": [
    "print(SEED_WORD_PROMPT_PREFIX + SEED_WORD_PROMPT_CONTENT.format(seed_word=seed_words[0]))"
   ]
  },
  {
   "cell_type": "markdown",
   "id": "c3190d17-8336-4acb-9c89-c8474f0bb0de",
   "metadata": {},
   "source": [
    "GPT모델의 토큰 수 계산은 Input도 포함됩니다. 따라서 불필요하게 `SEED_WORD_PROMPT_PREFIX`를 모든 키워드에 반복해서 전달할 필요가 없습니다.  "
   ]
  },
  {
   "cell_type": "code",
   "execution_count": 8,
   "id": "ea0cf546-2d03-4c4e-b433-e02fb9bfed34",
   "metadata": {
    "execution": {
     "iopub.execute_input": "2024-05-12T10:52:10.391485Z",
     "iopub.status.busy": "2024-05-12T10:52:10.390753Z",
     "iopub.status.idle": "2024-05-12T10:52:10.397423Z",
     "shell.execute_reply": "2024-05-12T10:52:10.396340Z",
     "shell.execute_reply.started": "2024-05-12T10:52:10.391422Z"
    },
    "tags": []
   },
   "outputs": [],
   "source": [
    "# 모델에게 Prefix 토큰을 중복해서 전달할 필요가 없으므로, Prefix 토큰은 1번만 사용하고 Content을 반복해서 프롬프트를 생성\n",
    "seed_word_prefix = SEED_WORD_PROMPT_PREFIX\n",
    "seed_word_content = [SEED_WORD_PROMPT_CONTENT.format(seed_word=s) for s in seed_words]"
   ]
  },
  {
   "cell_type": "code",
   "execution_count": 9,
   "id": "3d94a38a-2f41-47ae-84a0-fec8a8cbe016",
   "metadata": {
    "execution": {
     "iopub.execute_input": "2024-05-12T10:52:11.055389Z",
     "iopub.status.busy": "2024-05-12T10:52:11.054213Z",
     "iopub.status.idle": "2024-05-12T10:52:11.061708Z",
     "shell.execute_reply": "2024-05-12T10:52:11.060805Z",
     "shell.execute_reply.started": "2024-05-12T10:52:11.055323Z"
    },
    "tags": []
   },
   "outputs": [],
   "source": [
    "# 1개의 Prefix 마다 n_content개의 Content를 추가합니다.\n",
    "n_content = 5\n",
    "\n",
    "seed_word_prompts = []\n",
    "total_prompts = len(seed_words) // n_content\n",
    "for idx in range(1, total_prompts+2):\n",
    "    start_index = (idx -1) * n_content\n",
    "    end_index = idx * n_content\n",
    "    seed_word_prompt = seed_word_prefix + \"\\n\".join(seed_word_content[start_index:end_index])\n",
    "    seed_word_prompts.append(seed_word_prompt)"
   ]
  },
  {
   "cell_type": "code",
   "execution_count": 10,
   "id": "45756685-409d-44e9-9833-c90d5d5a8ae9",
   "metadata": {
    "execution": {
     "iopub.execute_input": "2024-05-12T10:52:11.555088Z",
     "iopub.status.busy": "2024-05-12T10:52:11.554425Z",
     "iopub.status.idle": "2024-05-12T10:52:11.560965Z",
     "shell.execute_reply": "2024-05-12T10:52:11.560138Z",
     "shell.execute_reply.started": "2024-05-12T10:52:11.555032Z"
    },
    "tags": []
   },
   "outputs": [
    {
     "name": "stdout",
     "output_type": "stream",
     "text": [
      "당신은 부동산에 관심이 많은 사람입니다. 당신의 역할에 따라 주어진 seed_word에 대해 궁금해할 질문을 생성하세요.\n",
      "seed_word는 총 5개씩 주어집니다.\n",
      "seed_word에 대해 각각 20개의 질문을 생성해야합니다.\n",
      "생성할 질문에 대한 요구 사항은 다음과 같습니다:\n",
      "1. 지시대명사를 사용해서는 안됩니다. seed_word에 있는 명사를 그대로 사용하세요.\n",
      "2. 이미 만들어낸 질문과 동일하거나 유사한 질문을 만들어내서는 안됩니다.\n",
      "3. 만들어내는 질문들은 어휘의 다양성을 위해 다양한 단어를 사용해야 합니다.\n",
      "4. 만들어내는 질문들은 문장의 다양성을 위해 의문문과 평서문을 모두 사용해야 합니다.\n",
      "5. 반드시 한글로 질문을 만드세요.\n",
      "6. 만들어낸 질문은 JSON형식을 따라야 하고, indent는 없어야 합니다.\n",
      "7. 응답하는 답변 문자에는 줄바꿈, \\n, \\t, \\b 등의 특수 문자가 없어야합니다.\n",
      "8. seed_word에 대해 중복으로 질문을 생성했는지 확인하세요. seed_word에 대한 질문을 이미 생성했다면, 동일한 seed_word에 대한 작업을 해서는 안됩니다.\n",
      "9. 아래 양식으로 출력하세요:\n",
      "{{\"seed_word\": \"주어진 seed_word\", \"answer\": [\"1번째 질문\", \"2번째 질문\"... , \"20번째 질문\"]}}\n",
      "\n",
      "seed_word는 다음과 같습니다:\n",
      "전세 계약\n",
      "임대차 계약\n",
      "전세 사기\n",
      "임대차 분쟁\n",
      "깡통 전세\n"
     ]
    }
   ],
   "source": [
    "print(seed_word_prompts[0])"
   ]
  },
  {
   "cell_type": "markdown",
   "id": "c07e8462-bf81-4f73-9f8e-b6e34e913eaa",
   "metadata": {},
   "source": [
    "이제 ChatGPT에게 데이터를 작성하도록 합니다.  \n",
    "💡 ChatGPT API를 사용하기 전에, [ChatGPT 모델 가격 정책](https://openai.com/pricing)을 참조하세요.  \n",
    "ChatGPT는 지속적으로 업데이트를 하는데, 과거버전은 사용하지 않도록 합니다.  \n",
    "과거버젼은 퍼포먼스도 안좋은데 가격이 비싸므로 사용할 이유가 없습니다.  \n",
    "여기서는 `gpt-4-turbo`를 사용합니다."
   ]
  },
  {
   "cell_type": "markdown",
   "id": "a1ddde97-81e5-4929-8581-ff6f726ea438",
   "metadata": {},
   "source": [
    "데이터 전처리는 spark, hive 등 분산 처리 시스템 / 멀티 쓰레딩, 멀피 프로세싱 / Concurrency와 같은 작업을 활용하면 속도가 많이 개선됩니다.  \n",
    "(파이썬이 GIL로 인해 진정한 멀티쓰레딩이 불가능하더라도, I/O 작업이 수반된다면 Concurrency를 통해 효율성이 개선됩니다.)  \n",
    "이 예제의 ChatGPT API는 [Multi Threading](https://docs.python.org/ko/3/library/concurrent.futures.html#concurrent.futures.ThreadPoolExecutor)를 사용합니다."
   ]
  },
  {
   "cell_type": "code",
   "execution_count": 13,
   "id": "a6e2da76-3338-4183-ab31-930d9fb21cb0",
   "metadata": {
    "execution": {
     "iopub.execute_input": "2024-05-10T20:18:44.799148Z",
     "iopub.status.busy": "2024-05-10T20:18:44.798614Z",
     "iopub.status.idle": "2024-05-10T20:32:58.868999Z",
     "shell.execute_reply": "2024-05-10T20:32:58.865146Z",
     "shell.execute_reply.started": "2024-05-10T20:18:44.799110Z"
    },
    "tags": []
   },
   "outputs": [
    {
     "name": "stderr",
     "output_type": "stream",
     "text": [
      "55it [14:13, 15.53s/it]\n"
     ]
    }
   ],
   "source": [
    "from concurrent.futures import ThreadPoolExecutor\n",
    "from tqdm import tqdm\n",
    "\n",
    "# Worker의 수는 32개 또는 코어수 +4개가 디폴트값입니다. - 공식 가이드 문서 참조\n",
    "with ThreadPoolExecutor() as pool:\n",
    "    questions = list(tqdm(pool.map(partial(get_completion, model=\"gpt-4-turbo\"), seed_word_prompts)))\n",
    "    \n",
    "with open(\"./data/questions_keyword.jsonl\", \"a\") as f:\n",
    "    f.write(\"\\n\".join(questions))"
   ]
  },
  {
   "cell_type": "code",
   "execution_count": 17,
   "id": "385c8859-b237-4763-be9f-75a3e6633987",
   "metadata": {
    "execution": {
     "iopub.execute_input": "2024-05-12T11:02:50.820568Z",
     "iopub.status.busy": "2024-05-12T11:02:50.819879Z",
     "iopub.status.idle": "2024-05-12T11:02:50.835097Z",
     "shell.execute_reply": "2024-05-12T11:02:50.834105Z",
     "shell.execute_reply.started": "2024-05-12T11:02:50.820518Z"
    },
    "tags": []
   },
   "outputs": [
    {
     "data": {
      "text/plain": [
       "{'seed_word': '전세 계약',\n",
       " 'answer': ['전세 계약을 체결할 때 필요한 서류는 무엇인가요?',\n",
       "  '전세 계약 시 주의해야 할 점은 무엇인가요?',\n",
       "  '전세 계약 갱신 청구권은 어떻게 적용되나요?',\n",
       "  '전세 계약을 해지하려면 어떤 절차를 밟아야 하나요?',\n",
       "  '전세 계약 시 보증금 반환 문제는 어떻게 해결하나요?',\n",
       "  '전세 계약 기간 중 집주인이 바뀌면 어떻게 되나요?',\n",
       "  '전세 계약을 할 때 중개수수료는 얼마인가요?',\n",
       "  '전세 계약 시 보증금을 보호받을 수 있는 방법은 무엇인가요?',\n",
       "  '전세 계약 갱신 시 임대료 인상률은 어떻게 결정되나요?',\n",
       "  '전세 계약 체결 전에 확인해야 할 주택 상태는 무엇인가요?',\n",
       "  '전세 계약 시 임차인의 권리와 의무는 무엇인가요?',\n",
       "  '전세 계약 시 임대인의 권리와 의무는 무엇인가요?',\n",
       "  '전세 계약 시 확정일자는 왜 중요한가요?',\n",
       "  '전세 계약 시 전입신고는 언제 해야 하나요?',\n",
       "  '전세 계약 갱신 거절 시 임차인은 어떤 조치를 취할 수 있나요?',\n",
       "  '전세 계약 시 보증금을 전액 돌려받지 못하는 경우는 어떤 경우인가요?',\n",
       "  '전세 계약 시 임대인이 파산하면 보증금은 어떻게 되나요?',\n",
       "  '전세 계약 시 임대인과 임차인 간의 분쟁 해결 방법은 무엇인가요?',\n",
       "  '전세 계약 시 임대인이 계약을 일방적으로 해지할 수 있나요?',\n",
       "  '전세 계약 시 임차인이 보증금을 늦게 받는 경우 어떻게 대처해야 하나요?']}"
      ]
     },
     "execution_count": 17,
     "metadata": {},
     "output_type": "execute_result"
    }
   ],
   "source": [
    "from utils import jload\n",
    "\n",
    "jload(\"./data/questions_keyword.jsonl\")[0]"
   ]
  },
  {
   "cell_type": "markdown",
   "id": "e63dc71b-342d-45cc-b612-85b3118d2db2",
   "metadata": {},
   "source": [
    "## <span style=\"color: #F2D388;\"> 3. 카페글 기반으로 데이터셋 만들기 </span>"
   ]
  },
  {
   "cell_type": "markdown",
   "id": "4dceb2e7-660f-474f-97f3-204a02b07c52",
   "metadata": {},
   "source": [
    "### <span style=\"color: #ECA75D;\"> 3-1. 네이버 카페 글의 질문으로 질문 데이터셋 만들기 </span>\n",
    "부동산 관련 카페중 가장 큰 규모인 부동산스터디 카페의 회원간 묻고 답하기 글을 크롤링합니다.  \n",
    "(`get_document_through_selenium` 함수는 내부적으로 Multiprocessing으로 구성되어있습니다)"
   ]
  },
  {
   "cell_type": "code",
   "execution_count": 3,
   "id": "66d20daa-cf6a-4c53-b4c0-c1311ca64f41",
   "metadata": {
    "execution": {
     "iopub.execute_input": "2024-05-13T11:39:52.235776Z",
     "iopub.status.busy": "2024-05-13T11:39:52.235451Z",
     "iopub.status.idle": "2024-05-13T11:40:54.938922Z",
     "shell.execute_reply": "2024-05-13T11:40:54.938197Z",
     "shell.execute_reply.started": "2024-05-13T11:39:52.235753Z"
    },
    "tags": []
   },
   "outputs": [
    {
     "name": "stderr",
     "output_type": "stream",
     "text": [
      "200it [01:02,  3.20it/s]\n"
     ]
    }
   ],
   "source": [
    "from utils import get_document_through_selenium\n",
    "\n",
    "cafe_data = get_document_through_selenium(\n",
    "    crawling_type=\"cafe\",\n",
    "    n_page=200,\n",
    "    indent=4,\n",
    "    mode=\"w\",\n",
    "    save_path = \"./data/questions_cafe.json\"\n",
    ")"
   ]
  },
  {
   "cell_type": "code",
   "execution_count": 3,
   "id": "52b309ac-1c8a-48af-b483-8c8d1edb0f78",
   "metadata": {
    "execution": {
     "iopub.execute_input": "2024-05-13T11:10:06.795379Z",
     "iopub.status.busy": "2024-05-13T11:10:06.793186Z",
     "iopub.status.idle": "2024-05-13T11:10:06.818563Z",
     "shell.execute_reply": "2024-05-13T11:10:06.818052Z",
     "shell.execute_reply.started": "2024-05-13T11:10:06.795199Z"
    },
    "tags": []
   },
   "outputs": [
    {
     "data": {
      "text/plain": [
       "['[LG전자 베스트샵 봉천센트럴점]🥳RENEWAL OPEN 행사🥳 (광고)',\n",
       " '[LG전자 베스트샵 롯데 수원점] 리뉴얼 GRAND OPEN 가전제품 세일 💕',\n",
       " '부동산 스터디 카페에 올라오는 주식 홍보방들은 모두 사기글입니다.',\n",
       " '[공지]붇스터디게시판 운영가이드(2023.9.3 수정추가)',\n",
       " '부동산 스터디 카페 내에 계정 해킹 사례가 너무 많네요',\n",
       " '전라도 사람들은 투표권 주지말자',\n",
       " '고수님들은 3억 자금이 있다면 무엇을 하시나요?',\n",
       " '용산 vs 강남 신혼부부 집 조언부탁드립니다!',\n",
       " '서대문구, 종로구에서 갭 3억~3.5억 투자 추천아파트',\n",
       " '고소득 맞벌이 부부 매수 고민']"
      ]
     },
     "execution_count": 3,
     "metadata": {},
     "output_type": "execute_result"
    }
   ],
   "source": [
    "from utils import jload\n",
    "\n",
    "jload(\"./data/questions_cafe.json\")[0]['document'][:10]"
   ]
  },
  {
   "cell_type": "markdown",
   "id": "adc2ddbe-59d1-474a-96e2-16091b535559",
   "metadata": {
    "tags": []
   },
   "source": [
    "### <span style=\"color: #ECA75D;\"> 3-2. ChatGPT로 필터링하기 </span>\n",
    "수집한 데이터에서 부동산에 관련이 있는 데이터들만 필터링합니다.  \n",
    "ChatGPT에 요청하여 이러한 데이터들을 필터링할 수 있게 합니다.  \n",
    "💡 충분히 파인튜닝된 인코더 모델이 있다면, Similarity로 분류한 뒤 ChatGPT로 분류하면 토큰 비용을 아낄 수 있습니다."
   ]
  },
  {
   "cell_type": "code",
   "execution_count": 1,
   "id": "a9fcdbda-0557-4a3e-8f27-2728a1ee2f86",
   "metadata": {
    "execution": {
     "iopub.execute_input": "2024-05-13T11:46:20.061906Z",
     "iopub.status.busy": "2024-05-13T11:46:20.061757Z",
     "iopub.status.idle": "2024-05-13T11:46:21.940755Z",
     "shell.execute_reply": "2024-05-13T11:46:21.940434Z",
     "shell.execute_reply.started": "2024-05-13T11:46:20.061889Z"
    },
    "tags": []
   },
   "outputs": [],
   "source": [
    "from utils import jload\n",
    "\n",
    "questions_cafe = jload(\"./data/questions_cafe.json\")"
   ]
  },
  {
   "cell_type": "code",
   "execution_count": 2,
   "id": "0f8a9089-0464-4c89-8642-5e13da95a045",
   "metadata": {
    "execution": {
     "iopub.execute_input": "2024-05-13T11:46:21.942020Z",
     "iopub.status.busy": "2024-05-13T11:46:21.941883Z",
     "iopub.status.idle": "2024-05-13T11:46:21.945028Z",
     "shell.execute_reply": "2024-05-13T11:46:21.944739Z",
     "shell.execute_reply.started": "2024-05-13T11:46:21.942011Z"
    },
    "tags": []
   },
   "outputs": [
    {
     "data": {
      "text/plain": [
       "['강동역SK리더스뷰 파격조건 선착순 동호지정계약 진행중 (광고',\n",
       " '[LG전자 베스트샵 봉천센트럴점]🥳RENEWAL OPEN 행사🥳 (광고)',\n",
       " '부동산 스터디 카페에 올라오는 주식 홍보방들은 모두 사기글입니다.']"
      ]
     },
     "execution_count": 2,
     "metadata": {},
     "output_type": "execute_result"
    }
   ],
   "source": [
    "questions_cafe[0]['document'][:3]"
   ]
  },
  {
   "cell_type": "markdown",
   "id": "9728d5d6-6216-4d10-b327-5610124ef265",
   "metadata": {},
   "source": [
    "`List[Dict[List]]`의 중첩된 형태이므로, flatten하여 list 형태로 바꿔줍니다."
   ]
  },
  {
   "cell_type": "code",
   "execution_count": 3,
   "id": "1b61aa71-524f-46cc-a6f1-8b95df5d2308",
   "metadata": {
    "execution": {
     "iopub.execute_input": "2024-05-13T11:46:21.945552Z",
     "iopub.status.busy": "2024-05-13T11:46:21.945451Z",
     "iopub.status.idle": "2024-05-13T11:46:21.947938Z",
     "shell.execute_reply": "2024-05-13T11:46:21.947621Z",
     "shell.execute_reply.started": "2024-05-13T11:46:21.945542Z"
    },
    "tags": []
   },
   "outputs": [],
   "source": [
    "from itertools import chain\n",
    "\n",
    "documents = [q['document'] for q in questions_cafe]\n",
    "questions_cafe = list(chain(*documents))"
   ]
  },
  {
   "cell_type": "markdown",
   "id": "45248ccd-e027-46c0-80f9-1cecc2a76759",
   "metadata": {},
   "source": [
    "약 10000개의 게시글 타이틀이 수집되어 있습니다."
   ]
  },
  {
   "cell_type": "code",
   "execution_count": 4,
   "id": "82516429-5f30-49a5-bd1f-68f799f13fd0",
   "metadata": {
    "execution": {
     "iopub.execute_input": "2024-05-13T11:46:21.948342Z",
     "iopub.status.busy": "2024-05-13T11:46:21.948248Z",
     "iopub.status.idle": "2024-05-13T11:46:21.950653Z",
     "shell.execute_reply": "2024-05-13T11:46:21.950352Z",
     "shell.execute_reply.started": "2024-05-13T11:46:21.948330Z"
    },
    "tags": []
   },
   "outputs": [
    {
     "data": {
      "text/plain": [
       "10008"
      ]
     },
     "execution_count": 4,
     "metadata": {},
     "output_type": "execute_result"
    }
   ],
   "source": [
    "len(questions_cafe)"
   ]
  },
  {
   "cell_type": "markdown",
   "id": "f72d7005-848e-4c8e-81d4-104fb738ceee",
   "metadata": {},
   "source": [
    "이번에는 gpt-3.5-turbo를 사용해보겠습니다.  \n",
    "gpt-4-turbo보다 성능이 떨어지기 때문에 프롬프트에 few-shot을 넣어주겠습니다.  "
   ]
  },
  {
   "cell_type": "code",
   "execution_count": 5,
   "id": "856638aa-f049-4885-a0aa-9346de410be1",
   "metadata": {
    "execution": {
     "iopub.execute_input": "2024-05-13T11:46:21.951913Z",
     "iopub.status.busy": "2024-05-13T11:46:21.951820Z",
     "iopub.status.idle": "2024-05-13T11:46:21.958141Z",
     "shell.execute_reply": "2024-05-13T11:46:21.957039Z",
     "shell.execute_reply.started": "2024-05-13T11:46:21.951904Z"
    },
    "tags": []
   },
   "outputs": [],
   "source": [
    "from prompts import CAFE_PROMPT_PREFIX, CAFE_PROMPT_CONTENT"
   ]
  },
  {
   "cell_type": "code",
   "execution_count": 6,
   "id": "1f3d3591-4a52-4d01-89e2-b554c8d5dd77",
   "metadata": {
    "execution": {
     "iopub.execute_input": "2024-05-13T11:46:21.959892Z",
     "iopub.status.busy": "2024-05-13T11:46:21.959728Z",
     "iopub.status.idle": "2024-05-13T11:46:21.961938Z",
     "shell.execute_reply": "2024-05-13T11:46:21.961591Z",
     "shell.execute_reply.started": "2024-05-13T11:46:21.959876Z"
    },
    "tags": []
   },
   "outputs": [
    {
     "name": "stdout",
     "output_type": "stream",
     "text": [
      "당신은 부동산에 관심이 많은 사람입니다. documents를 요구사항에 따라 필터링하고 질문을 생성해야합니다.\n",
      "documents는 20개가 주어지며, 필터링한 documents를 수정하여 명확하고 구어적인 표현으로 질문을 생성해야 합니다.\n",
      "요구사항은 다음과 같습니다:\n",
      "1. 정치적 발언, 혐오 발언 등 독성있고 해로운 documents는 제외하세요.\n",
      "2. 부동산 분야와 관련된 documents만 필터링하세요. 조금도 부동산에 관련이 없다면 과감히 제외하세요.\n",
      "3. 필터링한 documents로 사람들이 궁금해 할만한 질문을 생성하세요.\n",
      "4. 필터링한 documents는 출력 결과에 포함하지마세요.\n",
      "5. 출력한 데이터는 JSON형식을 따라야하고, indent는 없어야 합니다.\n",
      "6. 아래 양식으로 출력하세요.\n",
      "\"생성한 질문1\"\n",
      "\"생성한 질문2\"\n",
      "...\n",
      "\n",
      "예시1:\n",
      "documents = '청약시 무주택자격 질문'\n",
      "생성한 질문 = '청약시 무주택 자격이 어떻게 되나요?'\n",
      "\n",
      "예시2:\n",
      "documents = '여의도 매수하려고 하는데요.'\n",
      "생성한 질문 = '여의도 매수 관하여 질문드립니다.'\n",
      "\n",
      "예시3:\n",
      "documents = '서울 아파트 매물이 빠른 속도로 소진되고 있네요...'\n",
      "생성한 질문 = '서울 아파트 매물이 추세가 어떻게 되고 있나요?'\n",
      "\n",
      "예시4:\n",
      "documents = '매매 전세 동시진행'\n",
      "생성한 질문 = '매매와 전세를 동시에 진행하는데 주의할 점이 뭘까요?'\n",
      "\n",
      "예시5:\n",
      "documents = '3기신도시 당해 아닌경우'\n",
      "생성한 질문 = '3기신도시 당해 조건에 해당하지 않는 경우 문의드립니다.'\n",
      "\n",
      "###documents:\n",
      "{documents}\n",
      "\n"
     ]
    }
   ],
   "source": [
    "print(CAFE_PROMPT_PREFIX + CAFE_PROMPT_CONTENT)"
   ]
  },
  {
   "cell_type": "markdown",
   "id": "48549f4d-4506-45e7-9895-da71e450da7f",
   "metadata": {},
   "source": [
    "1개의 프롬프트에 20개의 documents를 추가해줍니다.  "
   ]
  },
  {
   "cell_type": "code",
   "execution_count": 7,
   "id": "9ea1a385-e8ee-49e8-8ccf-194ac7f55644",
   "metadata": {
    "execution": {
     "iopub.execute_input": "2024-05-13T11:46:21.962670Z",
     "iopub.status.busy": "2024-05-13T11:46:21.962506Z",
     "iopub.status.idle": "2024-05-13T11:46:21.965809Z",
     "shell.execute_reply": "2024-05-13T11:46:21.965397Z",
     "shell.execute_reply.started": "2024-05-13T11:46:21.962659Z"
    },
    "tags": []
   },
   "outputs": [],
   "source": [
    "n_queries = 20\n",
    "\n",
    "queries = []\n",
    "batch = len(questions_cafe) // n_queries\n",
    "for idx in range(1, batch+2):\n",
    "    start_index = (idx -1) * n_queries\n",
    "    end_index = idx * n_queries\n",
    "    query_documents = questions_cafe[start_index:end_index]\n",
    "    query_documents = \"\\n\".join(query_documents)\n",
    "    queries.append(CAFE_PROMPT_PREFIX + CAFE_PROMPT_CONTENT.format(documents=query_documents))"
   ]
  },
  {
   "cell_type": "code",
   "execution_count": 8,
   "id": "49afef32-3eee-4b32-b7c2-b83ef5500e07",
   "metadata": {
    "execution": {
     "iopub.execute_input": "2024-05-13T11:46:21.966461Z",
     "iopub.status.busy": "2024-05-13T11:46:21.966357Z",
     "iopub.status.idle": "2024-05-13T11:46:21.968549Z",
     "shell.execute_reply": "2024-05-13T11:46:21.968230Z",
     "shell.execute_reply.started": "2024-05-13T11:46:21.966451Z"
    },
    "tags": []
   },
   "outputs": [
    {
     "name": "stdout",
     "output_type": "stream",
     "text": [
      "당신은 부동산에 관심이 많은 사람입니다. documents를 요구사항에 따라 필터링하고 질문을 생성해야합니다.\n",
      "documents는 20개가 주어지며, 필터링한 documents를 수정하여 명확하고 구어적인 표현으로 질문을 생성해야 합니다.\n",
      "요구사항은 다음과 같습니다:\n",
      "1. 정치적 발언, 혐오 발언 등 독성있고 해로운 documents는 제외하세요.\n",
      "2. 부동산 분야와 관련된 documents만 필터링하세요. 조금도 부동산에 관련이 없다면 과감히 제외하세요.\n",
      "3. 필터링한 documents로 사람들이 궁금해 할만한 질문을 생성하세요.\n",
      "4. 필터링한 documents는 출력 결과에 포함하지마세요.\n",
      "5. 출력한 데이터는 JSON형식을 따라야하고, indent는 없어야 합니다.\n",
      "6. 아래 양식으로 출력하세요.\n",
      "\"생성한 질문1\"\n",
      "\"생성한 질문2\"\n",
      "...\n",
      "\n",
      "예시1:\n",
      "documents = '청약시 무주택자격 질문'\n",
      "생성한 질문 = '청약시 무주택 자격이 어떻게 되나요?'\n",
      "\n",
      "예시2:\n",
      "documents = '여의도 매수하려고 하는데요.'\n",
      "생성한 질문 = '여의도 매수 관하여 질문드립니다.'\n",
      "\n",
      "예시3:\n",
      "documents = '서울 아파트 매물이 빠른 속도로 소진되고 있네요...'\n",
      "생성한 질문 = '서울 아파트 매물이 추세가 어떻게 되고 있나요?'\n",
      "\n",
      "예시4:\n",
      "documents = '매매 전세 동시진행'\n",
      "생성한 질문 = '매매와 전세를 동시에 진행하는데 주의할 점이 뭘까요?'\n",
      "\n",
      "예시5:\n",
      "documents = '3기신도시 당해 아닌경우'\n",
      "생성한 질문 = '3기신도시 당해 조건에 해당하지 않는 경우 문의드립니다.'\n",
      "\n",
      "###documents:\n",
      "강동역SK리더스뷰 파격조건 선착순 동호지정계약 진행중 (광고\n",
      "[LG전자 베스트샵 봉천센트럴점]🥳RENEWAL OPEN 행사🥳 (광고)\n",
      "부동산 스터디 카페에 올라오는 주식 홍보방들은 모두 사기글입니다.\n",
      "[공지]붇스터디게시판 운영가이드(2023.9.3 수정추가)\n",
      "부동산 스터디 카페 내에 계정 해킹 사례가 너무 많네요\n",
      "전라도 사람들은 투표권 주지말자\n",
      "50초반..퇴직해도 될까요?\n",
      "20억 초반으로 살 강남 아파트 골라주세요\n",
      "매도 하려고 하는데요\n",
      "뻥뷰10층이하(엘베2) vs 뻥뷰20층이상(엘베1)\n",
      "아마추어 ? 라고요 ?\n",
      "마용성 구축 1주택 매도 후 무주택자 되면..\n",
      "투표 부탁드립니다!! 풍무or검단\n",
      "수서 매도후 은마 매수 하면\n",
      "아파트 신축 잔금대출 소득보다 카드사용이 많다면?\n",
      "전세금 감액 후 따로 계약서 없는 상황에 후순위 생활안정자금 받으려면?\n",
      "전세 2년후 세입자가\n",
      "계약갱신청구권 질문드립니다.\n",
      "아파트 매수하고 2년실거주 하고 2년만에 매도하는거 너무 바보같나요??\n",
      "이삿짐센터 식사비\n",
      "\n"
     ]
    }
   ],
   "source": [
    "print(queries[0])"
   ]
  },
  {
   "cell_type": "markdown",
   "id": "be83ddec-3e27-4514-b814-fe64a860b003",
   "metadata": {},
   "source": [
    "프롬프트를 작성할 때, gpt-3.5-turbo는 아래와 같이 프롬프트를 작성하는 것이 도움이 되었습니다.  \n",
    "+ Dictionary나 List 형태보다 텍스트 + 줄바꿈 규칙같은 단순한 규칙을 잘 지킴\n",
    "+ Instruction을 위배할 때가 많기 때문에 소량의 데이터로 많이 테스트 해봐야 함\n",
    "\n",
    "gpt-3.5-turbo는 저렴하지만 데이터 생성에 어려움이 클 정도로 gpt-4보다 확실히 성능이 많이 떨어집니다.(수작업이 많이 필요하네요.)  "
   ]
  },
  {
   "cell_type": "code",
   "execution_count": 14,
   "id": "2dfa8423-d3d9-4c40-9368-ca62dbff1fe0",
   "metadata": {
    "execution": {
     "iopub.execute_input": "2024-05-13T11:47:36.549136Z",
     "iopub.status.busy": "2024-05-13T11:47:36.548819Z",
     "iopub.status.idle": "2024-05-13T11:52:41.200309Z",
     "shell.execute_reply": "2024-05-13T11:52:41.199779Z",
     "shell.execute_reply.started": "2024-05-13T11:47:36.549113Z"
    },
    "tags": []
   },
   "outputs": [
    {
     "name": "stderr",
     "output_type": "stream",
     "text": [
      "501it [05:04,  1.64it/s]\n"
     ]
    }
   ],
   "source": [
    "from concurrent.futures import ThreadPoolExecutor\n",
    "from functools import partial\n",
    "from tqdm import tqdm\n",
    "from utils import get_completion\n",
    "import os\n",
    "\n",
    "with ThreadPoolExecutor(os.cpu_count()) as pool:\n",
    "    result = list(tqdm(pool.map(partial(get_completion, model=\"gpt-3.5-turbo\"), queries)))\n",
    "    with open(\"./data/questions_cafe_filtered.txt\", \"a\", encoding=\"utf-8\") as f:\n",
    "        for r in result:\n",
    "            for line in r.split(\"\\n\"):\n",
    "                f.write(line)\n",
    "                f.write(\"\\n\")"
   ]
  },
  {
   "cell_type": "markdown",
   "id": "e0d94a72-1606-46f7-a740-fe3bebc2d3e5",
   "metadata": {},
   "source": [
    "크롤링한 데이터에서 정치적 발언, 혐오 발언이 아직 포함되어 있어서 직접 데이터를 체크하여 제거해주었습니다.  "
   ]
  },
  {
   "cell_type": "code",
   "execution_count": 21,
   "id": "c489eb1e-8928-403c-a7fb-78bad5e42fb1",
   "metadata": {
    "execution": {
     "iopub.execute_input": "2024-05-13T12:01:39.916807Z",
     "iopub.status.busy": "2024-05-13T12:01:39.916636Z",
     "iopub.status.idle": "2024-05-13T12:01:39.921467Z",
     "shell.execute_reply": "2024-05-13T12:01:39.921152Z",
     "shell.execute_reply.started": "2024-05-13T12:01:39.916791Z"
    },
    "tags": []
   },
   "outputs": [],
   "source": [
    "with open(\"./data/questions_cafe_filtered.txt\", \"r\")as f:\n",
    "    questions_cafe_filtered = f.readlines()"
   ]
  },
  {
   "cell_type": "code",
   "execution_count": 28,
   "id": "fa606234-5463-4fdb-a23d-3d1a4c42acea",
   "metadata": {
    "execution": {
     "iopub.execute_input": "2024-05-13T12:03:17.775336Z",
     "iopub.status.busy": "2024-05-13T12:03:17.774981Z",
     "iopub.status.idle": "2024-05-13T12:03:17.799813Z",
     "shell.execute_reply": "2024-05-13T12:03:17.799460Z",
     "shell.execute_reply.started": "2024-05-13T12:03:17.775309Z"
    },
    "tags": []
   },
   "outputs": [],
   "source": [
    "from utils import jsave\n",
    "jsave(res_list, \"./data/questions_cafe_filtered.json\", indent=4)"
   ]
  },
  {
   "cell_type": "markdown",
   "id": "f76a60f6-b184-4c6d-bf3c-776eef680403",
   "metadata": {},
   "source": [
    "gpt-3.5-turbo가 제대로 필터링하거나 규칙에 따른 양식을 지키지 못하는 경우가 많습니다.  \n",
    "예제를 작성하면서 직접 데이터를 체크하였습니다.  "
   ]
  },
  {
   "cell_type": "code",
   "execution_count": 33,
   "id": "f996e962-d978-4323-8ff2-189de3da7fef",
   "metadata": {
    "execution": {
     "iopub.execute_input": "2024-05-13T12:04:39.615820Z",
     "iopub.status.busy": "2024-05-13T12:04:39.615452Z",
     "iopub.status.idle": "2024-05-13T12:04:39.620823Z",
     "shell.execute_reply": "2024-05-13T12:04:39.620404Z",
     "shell.execute_reply.started": "2024-05-13T12:04:39.615800Z"
    },
    "tags": []
   },
   "outputs": [
    {
     "data": {
      "text/plain": [
       "['신혼부부 집 선택 시 고려해야 할 사항은 무엇인가요?',\n",
       " '고소득 맞벌이 부부가 고민하는 매수 시 어떤 점을 고려해야 하나요?',\n",
       " '강남권 아파트 중에서 골프장이 잘 되어 있는 곳은 어디인가요?',\n",
       " '40평대 아파트의 입지 조건에 대해 알려주세요.']"
      ]
     },
     "execution_count": 33,
     "metadata": {},
     "output_type": "execute_result"
    }
   ],
   "source": [
    "jload(\"./data/questions_cafe_filtered.json\")[:4]"
   ]
  },
  {
   "cell_type": "markdown",
   "id": "83112114-910f-42e6-96a4-96b4ef6cca19",
   "metadata": {},
   "source": [
    "## <span style=\"color: #F2D388;\"> 4. 질문리스트로 네이버에 검색하여 인기 글 데이터 수집하기 </span>\n",
    "2번, 3번에서 생성한 질문리스트를 selenium 라이브러리를 통해 네이버로 검색합니다.  \n",
    "검색 결과의 인기글의 텍스트 정보를 저장합니다.  "
   ]
  },
  {
   "cell_type": "code",
   "execution_count": 1,
   "id": "ae2f00a6-9463-4689-adc3-23edb4fcbef4",
   "metadata": {
    "execution": {
     "iopub.execute_input": "2024-05-14T03:01:56.228460Z",
     "iopub.status.busy": "2024-05-14T03:01:56.228255Z",
     "iopub.status.idle": "2024-05-14T03:01:57.876030Z",
     "shell.execute_reply": "2024-05-14T03:01:57.875788Z",
     "shell.execute_reply.started": "2024-05-14T03:01:56.228432Z"
    },
    "tags": []
   },
   "outputs": [],
   "source": [
    "from utils import jload\n",
    "\n",
    "questions_keyword = jload(\"./data/questions_keyword.jsonl\")"
   ]
  },
  {
   "cell_type": "code",
   "execution_count": 2,
   "id": "ae8c5144-b151-4e2a-b9f4-c4a12c0890c0",
   "metadata": {
    "execution": {
     "iopub.execute_input": "2024-05-14T03:01:57.877083Z",
     "iopub.status.busy": "2024-05-14T03:01:57.876939Z",
     "iopub.status.idle": "2024-05-14T03:01:57.880282Z",
     "shell.execute_reply": "2024-05-14T03:01:57.879971Z",
     "shell.execute_reply.started": "2024-05-14T03:01:57.877074Z"
    },
    "tags": []
   },
   "outputs": [
    {
     "data": {
      "text/plain": [
       "{'seed_word': '전세 계약',\n",
       " 'answer': ['전세 계약을 체결할 때 필요한 서류는 무엇인가요?',\n",
       "  '전세 계약 시 주의해야 할 점은 무엇인가요?',\n",
       "  '전세 계약 갱신 청구권은 어떻게 적용되나요?',\n",
       "  '전세 계약을 해지하려면 어떤 절차를 밟아야 하나요?',\n",
       "  '전세 계약 시 보증금 반환 문제는 어떻게 해결하나요?',\n",
       "  '전세 계약 기간 중 집주인이 바뀌면 어떻게 되나요?',\n",
       "  '전세 계약을 할 때 중개수수료는 얼마인가요?',\n",
       "  '전세 계약 시 보증금을 보호받을 수 있는 방법은 무엇인가요?',\n",
       "  '전세 계약 갱신 시 임대료 인상률은 어떻게 결정되나요?',\n",
       "  '전세 계약 체결 전에 확인해야 할 주택 상태는 무엇인가요?',\n",
       "  '전세 계약 시 임차인의 권리와 의무는 무엇인가요?',\n",
       "  '전세 계약 시 임대인의 권리와 의무는 무엇인가요?',\n",
       "  '전세 계약 시 확정일자는 왜 중요한가요?',\n",
       "  '전세 계약 시 전입신고는 언제 해야 하나요?',\n",
       "  '전세 계약 갱신 거절 시 임차인은 어떤 조치를 취할 수 있나요?',\n",
       "  '전세 계약 시 보증금을 전액 돌려받지 못하는 경우는 어떤 경우인가요?',\n",
       "  '전세 계약 시 임대인이 파산하면 보증금은 어떻게 되나요?',\n",
       "  '전세 계약 시 임대인과 임차인 간의 분쟁 해결 방법은 무엇인가요?',\n",
       "  '전세 계약 시 임대인이 계약을 일방적으로 해지할 수 있나요?',\n",
       "  '전세 계약 시 임차인이 보증금을 늦게 받는 경우 어떻게 대처해야 하나요?']}"
      ]
     },
     "execution_count": 2,
     "metadata": {},
     "output_type": "execute_result"
    }
   ],
   "source": [
    "questions_keyword[0]"
   ]
  },
  {
   "cell_type": "code",
   "execution_count": 3,
   "id": "24b29dcf-f85e-48e9-ab0f-dfb1978bf1cd",
   "metadata": {
    "execution": {
     "iopub.execute_input": "2024-05-14T03:01:57.880816Z",
     "iopub.status.busy": "2024-05-14T03:01:57.880709Z",
     "iopub.status.idle": "2024-05-14T03:01:57.882997Z",
     "shell.execute_reply": "2024-05-14T03:01:57.882625Z",
     "shell.execute_reply.started": "2024-05-14T03:01:57.880806Z"
    },
    "tags": []
   },
   "outputs": [],
   "source": [
    "# 키워드로 생성한 데이터\n",
    "from itertools import chain\n",
    "\n",
    "# answer를 추출해서 [[query1], [query2]] 구조를 [query1, query2]로 flatten해주기\n",
    "answers = [data['answer'] for data in questions_keyword]\n",
    "questions_keyword = list(chain(*answers))"
   ]
  },
  {
   "cell_type": "code",
   "execution_count": 4,
   "id": "54711032-13b9-414a-aac1-309ad8330d87",
   "metadata": {
    "execution": {
     "iopub.execute_input": "2024-05-14T03:01:57.883853Z",
     "iopub.status.busy": "2024-05-14T03:01:57.883629Z",
     "iopub.status.idle": "2024-05-14T03:01:57.886351Z",
     "shell.execute_reply": "2024-05-14T03:01:57.885886Z",
     "shell.execute_reply.started": "2024-05-14T03:01:57.883836Z"
    },
    "tags": []
   },
   "outputs": [
    {
     "data": {
      "text/plain": [
       "['전세 계약을 체결할 때 필요한 서류는 무엇인가요?',\n",
       " '전세 계약 시 주의해야 할 점은 무엇인가요?',\n",
       " '전세 계약 갱신 청구권은 어떻게 적용되나요?',\n",
       " '전세 계약을 해지하려면 어떤 절차를 밟아야 하나요?']"
      ]
     },
     "execution_count": 4,
     "metadata": {},
     "output_type": "execute_result"
    }
   ],
   "source": [
    "questions_keyword[:4]"
   ]
  },
  {
   "cell_type": "code",
   "execution_count": 5,
   "id": "371856e7-9c46-4850-bb9e-8b2a770085f7",
   "metadata": {
    "execution": {
     "iopub.execute_input": "2024-05-14T03:01:57.886944Z",
     "iopub.status.busy": "2024-05-14T03:01:57.886860Z",
     "iopub.status.idle": "2024-05-14T03:01:57.890533Z",
     "shell.execute_reply": "2024-05-14T03:01:57.890276Z",
     "shell.execute_reply.started": "2024-05-14T03:01:57.886935Z"
    },
    "tags": []
   },
   "outputs": [],
   "source": [
    "questions_cafe = jload(\"./data/questions_cafe_filtered.json\")"
   ]
  },
  {
   "cell_type": "code",
   "execution_count": 6,
   "id": "53a0d45d-c9bc-4db0-ba52-fb05c5174729",
   "metadata": {
    "execution": {
     "iopub.execute_input": "2024-05-14T03:01:57.892766Z",
     "iopub.status.busy": "2024-05-14T03:01:57.892584Z",
     "iopub.status.idle": "2024-05-14T03:01:57.895279Z",
     "shell.execute_reply": "2024-05-14T03:01:57.894920Z",
     "shell.execute_reply.started": "2024-05-14T03:01:57.892755Z"
    },
    "tags": []
   },
   "outputs": [
    {
     "data": {
      "text/plain": [
       "['신혼부부 집 선택 시 고려해야 할 사항은 무엇인가요?',\n",
       " '고소득 맞벌이 부부가 고민하는 매수 시 어떤 점을 고려해야 하나요?',\n",
       " '강남권 아파트 중에서 골프장이 잘 되어 있는 곳은 어디인가요?',\n",
       " '40평대 아파트의 입지 조건에 대해 알려주세요.']"
      ]
     },
     "execution_count": 6,
     "metadata": {},
     "output_type": "execute_result"
    }
   ],
   "source": [
    "questions_cafe[:4]"
   ]
  },
  {
   "cell_type": "code",
   "execution_count": 7,
   "id": "0ba5fa31-de55-45c2-9e49-766f9a010790",
   "metadata": {
    "execution": {
     "iopub.execute_input": "2024-05-14T03:01:57.895962Z",
     "iopub.status.busy": "2024-05-14T03:01:57.895774Z",
     "iopub.status.idle": "2024-05-14T03:01:57.898093Z",
     "shell.execute_reply": "2024-05-14T03:01:57.897728Z",
     "shell.execute_reply.started": "2024-05-14T03:01:57.895945Z"
    },
    "tags": []
   },
   "outputs": [],
   "source": [
    "questions = questions_cafe + questions_keyword"
   ]
  },
  {
   "cell_type": "code",
   "execution_count": 8,
   "id": "665bdf3d-a828-4ff8-821b-50285d901365",
   "metadata": {
    "execution": {
     "iopub.execute_input": "2024-05-14T03:01:57.898487Z",
     "iopub.status.busy": "2024-05-14T03:01:57.898405Z",
     "iopub.status.idle": "2024-05-14T03:01:57.900793Z",
     "shell.execute_reply": "2024-05-14T03:01:57.900497Z",
     "shell.execute_reply.started": "2024-05-14T03:01:57.898477Z"
    },
    "tags": []
   },
   "outputs": [
    {
     "data": {
      "text/plain": [
       "10243"
      ]
     },
     "execution_count": 8,
     "metadata": {},
     "output_type": "execute_result"
    }
   ],
   "source": [
    "len(questions)"
   ]
  },
  {
   "cell_type": "markdown",
   "id": "1da64bd8-30be-4fff-bd61-76cb89867d54",
   "metadata": {},
   "source": [
    "selenium이 4.1 버전으로 업그레이드 되면서 별도로 webdriver를 다운로드 받을 필요가 없어졌습니다.  \n",
    "webdriver 파일이 없으면 selenium이 자체적으로 다운로드하게 된다고 합니다. [stackoverflow](https://stackoverflow.com/questions/22130109/cant-use-chrome-driver-for-seleniumhttps://stackoverflow.com/questions/22130109/cant-use-chrome-driver-for-selenium)  \n",
    "본 예제의 selenium 코드 크롤링 코드는 [wikidocs](https://wikidocs.net/137914) 내용을 참조하였습니다.  \n",
    "아래 코드는 내부에 `multiprocessing`으로 구현되어 있으며, pool의 갯수는 CPU Core 갯수로 설정되어 있습니다.  \n",
    "코드 실행시에 PC가 조금 느려질 수 있으니 참조해주세요."
   ]
  },
  {
   "cell_type": "code",
   "execution_count": 10,
   "id": "63e1ba1f-2e06-481d-a66b-6ad9e99b0940",
   "metadata": {
    "execution": {
     "iopub.execute_input": "2024-05-14T03:02:41.466028Z",
     "iopub.status.busy": "2024-05-14T03:02:41.465066Z",
     "iopub.status.idle": "2024-05-14T04:36:44.392053Z",
     "shell.execute_reply": "2024-05-14T04:36:44.391547Z",
     "shell.execute_reply.started": "2024-05-14T03:02:41.465967Z"
    },
    "tags": []
   },
   "outputs": [
    {
     "name": "stderr",
     "output_type": "stream",
     "text": [
      "10243it [1:34:02,  1.82it/s]\n"
     ]
    }
   ],
   "source": [
    "from utils import get_document_through_selenium\n",
    "from multiprocessing import cpu_count\n",
    "\n",
    "search_data = get_document_through_selenium(\n",
    "    crawling_type=\"search\",\n",
    "    inputs=questions,\n",
    "    n_worker=cpu_count() - 2,\n",
    "    n_documents=5,\n",
    "    indent=4,\n",
    "    mode=\"a\",\n",
    "    save_path = \"./data/document.json\"\n",
    ")"
   ]
  },
  {
   "cell_type": "code",
   "execution_count": 11,
   "id": "ba1dc97c-e57d-4930-9e9f-764a77521247",
   "metadata": {
    "execution": {
     "iopub.execute_input": "2024-05-14T04:48:55.455714Z",
     "iopub.status.busy": "2024-05-14T04:48:55.454663Z",
     "iopub.status.idle": "2024-05-14T04:48:55.665073Z",
     "shell.execute_reply": "2024-05-14T04:48:55.664601Z",
     "shell.execute_reply.started": "2024-05-14T04:48:55.455614Z"
    },
    "tags": []
   },
   "outputs": [
    {
     "data": {
      "text/plain": [
       "{'question': '신혼부부 집 선택 시 고려해야 할 사항은 무엇인가요?',\n",
       " 'document': ['신혼부부이혼 시 고려해야 할 사항이 있다면 안녕하세요, 든든한 법률파트너 유진우변호사입니다. 결혼은 일생일대의 큰 사건이자 인생의 반환점이 될 수 있는 일이기 때문에 신중하게 생각하고 진행하는 경우가 많습니다. 내 배우자가 될 사람이 어떤 사람인지 살펴보고 이 사람과 함께 가정을 꾸렸을 때, 끝까지 함께할 수 있는지를 하게 되는데요. 이렇게 신중하게...',\n",
       "  '신혼부부보험 가입하면서 간이식보험 정보 알아보세요 저는 원래 미갱신 건강보험만 준비했었는데, 최근 미갱신 건강보험 가입 추천 통화를 받았어요. 즉시 가입하는 것보다는 미갱신... 암 진단 시 보조인 비용도 중요하다는 것을 알고, 이런 부분들을 고려하여 가장 경제적이며 현명한 을 했다고 생각하였어요. 직접 상담보다는 자기 조사하고 탐색하는 것이 더...',\n",
       "  '특히 신혼부부 침대는 고려할 사항이 너무 많다 보니 어떤 것을 봐야 할지 어려워하던 도중 좋은 매장을 만나 현명하게 침대 구매를 할 수 있었답니다. 씰리침대 아현점 1. 한국에서... 후회없는 선택이라고 자부해요. 순금 사은품까지 제공! 저는 매트리스와 프레임을 함께 구입해 300만원 이상 구매 증정받을 수 있는 순금까지 받았어요. 결혼 전 혼수를 받은 것...',\n",
       "  '하며, 신혼부부 디딤돌대출의 한도는 최대 4억 원까지 입니다. 그리고 기간의 경우 만기 10, 15, 20, 30년으로 5년 단위로 책정이 되는데요. 거치는 최대 1년까지만 가능하니 이 점을 유의해 자산 계획을 세워보셔야 할 듯합니다. 그럼 금리는 어떻게 될까요? 해당 대출의 경우 2.45%에서 3.55% 사이로 금리가 책정됩니다만, 몇 가지 우대도 있어 이를 적용한다면 좀 더...',\n",
       "  '가격, 면적, 시설 등을 고려하여 신혼부부의 라이프 스타일에 맞는 아파트를 선택해야 합니다. 4. 아파트 구매 시 유의해야 할 법적 사항 아파트 매매 시에는 법적인 사항도 유의해야 합니다. 계약서 작성 및 검토, 중개사와의 협의, 유지 보수 지원 등을 포함하여 법적인 절차를 정확히 이행해야 합니다. 법률 전문가와 상담을 하거나 관련 정보를 자세히 숙지하는 것이...']}"
      ]
     },
     "execution_count": 11,
     "metadata": {},
     "output_type": "execute_result"
    }
   ],
   "source": [
    "jload(\"./data/document.json\")[0]"
   ]
  },
  {
   "cell_type": "markdown",
   "id": "658fe605-fb45-4c00-8034-283186c0058f",
   "metadata": {},
   "source": [
    "가끔 크롤링이 안되는 경우가 있어서 한번 검수해줍니다."
   ]
  },
  {
   "cell_type": "code",
   "execution_count": 4,
   "id": "46f9f0b3-3970-45ad-8f6b-7a423ff49ac9",
   "metadata": {
    "execution": {
     "iopub.execute_input": "2024-05-14T05:21:35.749882Z",
     "iopub.status.busy": "2024-05-14T05:21:35.748944Z",
     "iopub.status.idle": "2024-05-14T05:21:35.885728Z",
     "shell.execute_reply": "2024-05-14T05:21:35.885454Z",
     "shell.execute_reply.started": "2024-05-14T05:21:35.749826Z"
    },
    "tags": []
   },
   "outputs": [],
   "source": [
    "search_data = jload('./data/document.json')\n",
    "for idx in range(len(search_data)):\n",
    "    if len(search_data[idx]['document']) == 0:\n",
    "        print(f\"Index [{idx}] 번째 데이터가 수집되지 않았네요.\")"
   ]
  },
  {
   "cell_type": "markdown",
   "id": "930e1334-1b85-460f-9cd8-ead31b8ab56c",
   "metadata": {},
   "source": [
    "수집되지 않은 데이터를 한번더 크롤링하게 하고 `document.json`에 저장합니다."
   ]
  },
  {
   "cell_type": "code",
   "execution_count": 15,
   "id": "1cef1aaa-fb9e-42cb-a529-5a06097c75bc",
   "metadata": {
    "execution": {
     "iopub.execute_input": "2024-05-14T04:50:01.762586Z",
     "iopub.status.busy": "2024-05-14T04:50:01.761751Z",
     "iopub.status.idle": "2024-05-14T04:51:55.890393Z",
     "shell.execute_reply": "2024-05-14T04:51:55.889903Z",
     "shell.execute_reply.started": "2024-05-14T04:50:01.762528Z"
    },
    "tags": []
   },
   "outputs": [
    {
     "name": "stderr",
     "output_type": "stream",
     "text": [
      "1it [00:04,  4.16s/it]\n",
      "1it [00:03,  3.48s/it]\n",
      "1it [00:04,  4.02s/it]\n",
      "1it [00:03,  3.22s/it]\n",
      "1it [00:03,  3.93s/it]\n",
      "1it [00:04,  4.09s/it]\n",
      "1it [00:03,  3.93s/it]\n",
      "1it [00:03,  3.65s/it]\n",
      "1it [00:03,  3.43s/it]\n",
      "1it [00:04,  4.11s/it]\n",
      "1it [00:03,  3.76s/it]\n",
      "1it [00:03,  3.28s/it]\n",
      "1it [00:03,  3.77s/it]\n",
      "1it [00:03,  3.20s/it]\n",
      "1it [00:03,  3.63s/it]\n",
      "1it [00:03,  3.47s/it]\n",
      "1it [00:03,  3.08s/it]\n",
      "1it [00:03,  3.46s/it]\n",
      "1it [00:02,  2.96s/it]\n",
      "1it [00:03,  3.66s/it]\n",
      "1it [00:03,  3.24s/it]\n",
      "1it [00:03,  3.23s/it]\n",
      "1it [00:03,  3.83s/it]\n",
      "1it [00:04,  4.04s/it]\n",
      "1it [00:03,  3.33s/it]\n",
      "1it [00:03,  3.32s/it]\n",
      "1it [00:03,  3.70s/it]\n",
      "1it [00:03,  3.36s/it]\n",
      "1it [00:04,  4.25s/it]\n",
      "1it [00:07,  7.26s/it]\n"
     ]
    }
   ],
   "source": [
    "for idx in range(len(search_data)):\n",
    "    if len(search_data[idx]['document']) == 0:\n",
    "        search_data[idx] = get_document_through_selenium(\n",
    "            crawling_type=\"search\",\n",
    "            inputs=search_data[idx]['question'],\n",
    "            n_worker=cpu_count() - 2,\n",
    "            n_documents=5,\n",
    "            indent=4\n",
    "        )[0]"
   ]
  },
  {
   "cell_type": "markdown",
   "id": "dcf676a8-e2ce-4c8e-840f-e31071d887ce",
   "metadata": {},
   "source": [
    "제대로 수집되었는지 또 검사해줍니다."
   ]
  },
  {
   "cell_type": "code",
   "execution_count": 5,
   "id": "a91b48d5-4582-4e81-a61a-911baf012f62",
   "metadata": {
    "execution": {
     "iopub.execute_input": "2024-05-14T05:21:46.884863Z",
     "iopub.status.busy": "2024-05-14T05:21:46.883539Z",
     "iopub.status.idle": "2024-05-14T05:21:46.901954Z",
     "shell.execute_reply": "2024-05-14T05:21:46.901334Z",
     "shell.execute_reply.started": "2024-05-14T05:21:46.884806Z"
    },
    "tags": []
   },
   "outputs": [],
   "source": [
    "for idx in range(len(search_data)):\n",
    "    if len(search_data[idx]['document']) == 0:\n",
    "        print(f\"Index [{idx}] 번째 데이터가 수집되지 않았네요.\")"
   ]
  },
  {
   "cell_type": "markdown",
   "id": "3dd03837-9be5-4800-bb6b-cac946527463",
   "metadata": {},
   "source": [
    "크롤링이 왜 안됐는지 원인 파악을 위해 해당 질문으로 직접 검색을 해봅니다.  \n",
    "검색해보면... \"인기글\" 항목이 검색되지 않습니다.  \n",
    "따라서 해당 데이터는 삭제하였습니다.  "
   ]
  },
  {
   "cell_type": "code",
   "execution_count": 87,
   "id": "2b177ce9-aad4-4f43-bd54-d503441c6d9d",
   "metadata": {
    "execution": {
     "iopub.execute_input": "2024-05-14T04:59:30.989249Z",
     "iopub.status.busy": "2024-05-14T04:59:30.988731Z",
     "iopub.status.idle": "2024-05-14T04:59:31.001804Z",
     "shell.execute_reply": "2024-05-14T04:59:31.001335Z",
     "shell.execute_reply.started": "2024-05-14T04:59:30.989215Z"
    },
    "tags": []
   },
   "outputs": [],
   "source": [
    "# 삭제할 인덱스 모으기\n",
    "remove_idx_list = []\n",
    "for idx in range(len(search_data)):\n",
    "    if len(search_data[idx]['document']) == 0:\n",
    "        remove_idx_list.append(idx)\n",
    "\n",
    "# 삭제할 인덱스를 pop \n",
    "for idx in remove_idx_list:\n",
    "    search_data.pop(idx)"
   ]
  },
  {
   "cell_type": "code",
   "execution_count": 7,
   "id": "3adf8e00-a3bc-4d6c-81af-54a651d94cd4",
   "metadata": {
    "execution": {
     "iopub.execute_input": "2024-05-14T05:22:08.845400Z",
     "iopub.status.busy": "2024-05-14T05:22:08.844412Z",
     "iopub.status.idle": "2024-05-14T05:22:08.859805Z",
     "shell.execute_reply": "2024-05-14T05:22:08.859348Z",
     "shell.execute_reply.started": "2024-05-14T05:22:08.845339Z"
    },
    "tags": []
   },
   "outputs": [],
   "source": [
    "for idx in range(len(search_data)):\n",
    "    if len(search_data[idx]['document']) == 0:\n",
    "        print(f\"Index [{idx}] 번째 데이터가 수집되지 않았네요.\")"
   ]
  },
  {
   "cell_type": "code",
   "execution_count": 8,
   "id": "f32ac551-7861-46cf-bed2-c9470d1455b2",
   "metadata": {
    "execution": {
     "iopub.execute_input": "2024-05-14T05:22:13.479498Z",
     "iopub.status.busy": "2024-05-14T05:22:13.479010Z",
     "iopub.status.idle": "2024-05-14T05:22:13.621413Z",
     "shell.execute_reply": "2024-05-14T05:22:13.620968Z",
     "shell.execute_reply.started": "2024-05-14T05:22:13.479466Z"
    },
    "tags": []
   },
   "outputs": [],
   "source": [
    "from utils import jsave\n",
    "\n",
    "jsave(data=search_data, save_path=\"./data/document.json\", mode=\"w\", indent=4)"
   ]
  },
  {
   "cell_type": "code",
   "execution_count": 9,
   "id": "c05304e7-eeec-4873-9c32-a7bf9aa102d8",
   "metadata": {
    "execution": {
     "iopub.execute_input": "2024-05-14T05:22:14.198335Z",
     "iopub.status.busy": "2024-05-14T05:22:14.197752Z",
     "iopub.status.idle": "2024-05-14T05:22:14.211416Z",
     "shell.execute_reply": "2024-05-14T05:22:14.210597Z",
     "shell.execute_reply.started": "2024-05-14T05:22:14.198285Z"
    },
    "tags": []
   },
   "outputs": [],
   "source": [
    "for idx in range(len(search_data)):\n",
    "    if len(search_data[idx]['document']) == 0:\n",
    "        print(f\"Index [{idx}] 번째 데이터가 수집되지 않았네요.\")"
   ]
  },
  {
   "cell_type": "code",
   "execution_count": 10,
   "id": "503d0c6b-d29b-4cc9-b114-8c763fa0f8fc",
   "metadata": {
    "execution": {
     "iopub.execute_input": "2024-05-14T05:22:14.599990Z",
     "iopub.status.busy": "2024-05-14T05:22:14.598687Z",
     "iopub.status.idle": "2024-05-14T05:22:14.613767Z",
     "shell.execute_reply": "2024-05-14T05:22:14.612721Z",
     "shell.execute_reply.started": "2024-05-14T05:22:14.599930Z"
    },
    "tags": []
   },
   "outputs": [
    {
     "data": {
      "text/plain": [
       "9967"
      ]
     },
     "execution_count": 10,
     "metadata": {},
     "output_type": "execute_result"
    }
   ],
   "source": [
    "len(search_data)"
   ]
  },
  {
   "cell_type": "markdown",
   "id": "c26fe065-19a8-4e0a-9288-d5bfcf4a198e",
   "metadata": {
    "tags": []
   },
   "source": [
    "## <span style=\"color: #F2D388;\"> 5. Instuction 데이터셋 만들기 </span>\n",
    "완성된 질문리스트와 인기글 데이터를 통해 ChatGPT에 정답을 출력하도록 요청합니다.  \n",
    "gpt API로 아래의 프롬프트처럼 question에 대한 answer 답변을 출력하도록 요청합니다.  \n",
    "완성된 question, answer 텍스트는 학습시킬 모델의 훈련용 데이터셋으로 전달됩니다.  \n",
    "본 문서의 프롬프트는 [Stanford Alpaca의 프롬프트](https://github.com/tatsu-lab/stanford_alpaca/blob/main/prompt.txthttps://github.com/tatsu-lab/stanford_alpaca/blob/main/prompt.txt)를 참조하였습니다.  "
   ]
  },
  {
   "cell_type": "code",
   "execution_count": 1,
   "id": "a71a94b5-435c-402f-906c-44b844c8989c",
   "metadata": {
    "execution": {
     "iopub.execute_input": "2024-05-14T10:49:37.598478Z",
     "iopub.status.busy": "2024-05-14T10:49:37.598134Z",
     "iopub.status.idle": "2024-05-14T10:49:37.621871Z",
     "shell.execute_reply": "2024-05-14T10:49:37.621077Z",
     "shell.execute_reply.started": "2024-05-14T10:49:37.598453Z"
    },
    "tags": []
   },
   "outputs": [
    {
     "name": "stdout",
     "output_type": "stream",
     "text": [
      "요청받은 question을 document를 참조하여 answer로 답변하세요.\n",
      "question 1개당 여러 개의 document가 주어지며, question은 각각 10개씩 전달됩니다.\n",
      "\n",
      "요구사항은 다음과 같습니다:\n",
      "1. 어휘의 다양성을 위해 같은 단어를 반복하지 않습니다.\n",
      "2. 문장의 형태가 다양해야합니다. 예를 들어 질문과 명령형이 결합되는 형태여야 합니다.\n",
      "3. document의 정보가 question과 관련있는 정보라면 참조합니다, 관련이 없다면 참조하지 않습니다.\n",
      "4. WebPilot을 이용하여 Google에서 검색을 하고, question과 관련있는 데이터를 참조하세요.\n",
      "5. 위 3, 4번의 데이터를 바탕으로 답변하세요.\n",
      "6. 답변은 자세한 내용이 포함되도록 제공되어야하지만 200단어 정도로 구성해주세요.\n",
      "9. 출력 형식은 JSON포맷을 따라야 하며, Indentation은 없도록 출력하세요.\n",
      "\n",
      "출력 형식은 아래 포맷을 참조하세요:\n",
      "{\"question\": \"1주택자 종부세 폐지 여부가 확정된 건가요?\", \"answer\": \"현재 1주택자에 대한 종합부동산세 폐지....\"}\n",
      "{\"question\": \"아파트 추이 분석에서 중요한 변수들은 무엇인가요?\", \"answer\": \"아파트 추이를 이해하기 위해 ....\"}\n",
      "###question:\n",
      "{question}\n",
      "###document:\n",
      "{document}\n",
      "\n"
     ]
    }
   ],
   "source": [
    "from prompts import INSTRUCTION_PROMPT_PREFIX, INSTRUCTION_PROMPT_CONTENT\n",
    "\n",
    "print(INSTRUCTION_PROMPT_PREFIX + INSTRUCTION_PROMPT_CONTENT)"
   ]
  },
  {
   "cell_type": "code",
   "execution_count": 2,
   "id": "63a00105-8d72-46d6-b762-afc2c90388d3",
   "metadata": {
    "execution": {
     "iopub.execute_input": "2024-05-14T10:49:38.470317Z",
     "iopub.status.busy": "2024-05-14T10:49:38.469994Z",
     "iopub.status.idle": "2024-05-14T10:49:40.716369Z",
     "shell.execute_reply": "2024-05-14T10:49:40.716074Z",
     "shell.execute_reply.started": "2024-05-14T10:49:38.470293Z"
    },
    "tags": []
   },
   "outputs": [],
   "source": [
    "from utils import jload\n",
    "\n",
    "search = jload(\"./data/document.json\")"
   ]
  },
  {
   "cell_type": "code",
   "execution_count": 3,
   "id": "2f88e377-cddf-4d41-beda-34d13b58f96c",
   "metadata": {
    "execution": {
     "iopub.execute_input": "2024-05-14T10:49:40.877283Z",
     "iopub.status.busy": "2024-05-14T10:49:40.876860Z",
     "iopub.status.idle": "2024-05-14T10:49:40.902969Z",
     "shell.execute_reply": "2024-05-14T10:49:40.902333Z",
     "shell.execute_reply.started": "2024-05-14T10:49:40.877258Z"
    },
    "tags": []
   },
   "outputs": [],
   "source": [
    "# 리스트 형태인 document 데이터를 하나로 합치기\n",
    "for data in search:\n",
    "    data['document'] = \"\\n\".join([f\"{idx+1}. {d}\" for idx, d in enumerate(data['document'])])"
   ]
  },
  {
   "cell_type": "code",
   "execution_count": 4,
   "id": "5e47d259-3bd7-4241-adfe-a37da70e23b8",
   "metadata": {
    "execution": {
     "iopub.execute_input": "2024-05-14T10:49:41.164892Z",
     "iopub.status.busy": "2024-05-14T10:49:41.164507Z",
     "iopub.status.idle": "2024-05-14T10:49:41.178611Z",
     "shell.execute_reply": "2024-05-14T10:49:41.177620Z",
     "shell.execute_reply.started": "2024-05-14T10:49:41.164867Z"
    },
    "tags": []
   },
   "outputs": [
    {
     "name": "stdout",
     "output_type": "stream",
     "text": [
      "1. 신혼부부이혼 시 고려해야 할 사항이 있다면 안녕하세요, 든든한 법률파트너 유진우변호사입니다. 결혼은 일생일대의 큰 사건이자 인생의 반환점이 될 수 있는 일이기 때문에 신중하게 생각하고 진행하는 경우가 많습니다. 내 배우자가 될 사람이 어떤 사람인지 살펴보고 이 사람과 함께 가정을 꾸렸을 때, 끝까지 함께할 수 있는지를 하게 되는데요. 이렇게 신중하게...\n",
      "2. 신혼부부보험 가입하면서 간이식보험 정보 알아보세요 저는 원래 미갱신 건강보험만 준비했었는데, 최근 미갱신 건강보험 가입 추천 통화를 받았어요. 즉시 가입하는 것보다는 미갱신... 암 진단 시 보조인 비용도 중요하다는 것을 알고, 이런 부분들을 고려하여 가장 경제적이며 현명한 을 했다고 생각하였어요. 직접 상담보다는 자기 조사하고 탐색하는 것이 더...\n",
      "3. 특히 신혼부부 침대는 고려할 사항이 너무 많다 보니 어떤 것을 봐야 할지 어려워하던 도중 좋은 매장을 만나 현명하게 침대 구매를 할 수 있었답니다. 씰리침대 아현점 1. 한국에서... 후회없는 선택이라고 자부해요. 순금 사은품까지 제공! 저는 매트리스와 프레임을 함께 구입해 300만원 이상 구매 증정받을 수 있는 순금까지 받았어요. 결혼 전 혼수를 받은 것...\n",
      "4. 하며, 신혼부부 디딤돌대출의 한도는 최대 4억 원까지 입니다. 그리고 기간의 경우 만기 10, 15, 20, 30년으로 5년 단위로 책정이 되는데요. 거치는 최대 1년까지만 가능하니 이 점을 유의해 자산 계획을 세워보셔야 할 듯합니다. 그럼 금리는 어떻게 될까요? 해당 대출의 경우 2.45%에서 3.55% 사이로 금리가 책정됩니다만, 몇 가지 우대도 있어 이를 적용한다면 좀 더...\n",
      "5. 가격, 면적, 시설 등을 고려하여 신혼부부의 라이프 스타일에 맞는 아파트를 선택해야 합니다. 4. 아파트 구매 시 유의해야 할 법적 사항 아파트 매매 시에는 법적인 사항도 유의해야 합니다. 계약서 작성 및 검토, 중개사와의 협의, 유지 보수 지원 등을 포함하여 법적인 절차를 정확히 이행해야 합니다. 법률 전문가와 상담을 하거나 관련 정보를 자세히 숙지하는 것이...\n"
     ]
    }
   ],
   "source": [
    "print(search[0]['document'])"
   ]
  },
  {
   "cell_type": "code",
   "execution_count": 5,
   "id": "455bfdac-8ad1-41cf-85be-54fbbdf26e13",
   "metadata": {
    "execution": {
     "iopub.execute_input": "2024-05-14T10:49:42.036703Z",
     "iopub.status.busy": "2024-05-14T10:49:42.036154Z",
     "iopub.status.idle": "2024-05-14T10:49:42.057606Z",
     "shell.execute_reply": "2024-05-14T10:49:42.056443Z",
     "shell.execute_reply.started": "2024-05-14T10:49:42.036657Z"
    },
    "tags": []
   },
   "outputs": [
    {
     "name": "stdout",
     "output_type": "stream",
     "text": [
      "\n",
      "###question:\n",
      "{question}\n",
      "###document:\n",
      "{document}\n",
      "\n"
     ]
    }
   ],
   "source": [
    "print(INSTRUCTION_PROMPT_CONTENT)"
   ]
  },
  {
   "cell_type": "code",
   "execution_count": 6,
   "id": "826d6649-9f4a-454a-b9b5-78b4751f9dd8",
   "metadata": {
    "execution": {
     "iopub.execute_input": "2024-05-14T10:49:42.243805Z",
     "iopub.status.busy": "2024-05-14T10:49:42.243379Z",
     "iopub.status.idle": "2024-05-14T10:49:42.284404Z",
     "shell.execute_reply": "2024-05-14T10:49:42.283968Z",
     "shell.execute_reply.started": "2024-05-14T10:49:42.243779Z"
    },
    "tags": []
   },
   "outputs": [],
   "source": [
    "prefix = INSTRUCTION_PROMPT_PREFIX\n",
    "instructions = []\n",
    "total_instructions = len(search) // 10\n",
    "for index in range(1, total_instructions + 2):\n",
    "    start_index = (index - 1) * 10\n",
    "    end_index = index * 10\n",
    "    content = \"\\n\".join([\n",
    "        INSTRUCTION_PROMPT_CONTENT.format(question = data['question'], document = data['document'])\n",
    "        for data in search[start_index:end_index]\n",
    "    ])\n",
    "    instruction = prefix + content\n",
    "    instructions.append(instruction)"
   ]
  },
  {
   "cell_type": "code",
   "execution_count": 7,
   "id": "e0f8f046-7f46-407b-83a4-e1a6f837d372",
   "metadata": {
    "execution": {
     "iopub.execute_input": "2024-05-14T10:49:43.146178Z",
     "iopub.status.busy": "2024-05-14T10:49:43.145629Z",
     "iopub.status.idle": "2024-05-14T10:49:43.154220Z",
     "shell.execute_reply": "2024-05-14T10:49:43.153154Z",
     "shell.execute_reply.started": "2024-05-14T10:49:43.146151Z"
    },
    "tags": []
   },
   "outputs": [
    {
     "name": "stdout",
     "output_type": "stream",
     "text": [
      "요청받은 question을 document를 참조하여 answer로 답변하세요.\n",
      "question 1개당 여러 개의 document가 주어지며, question은 각각 10개씩 전달됩니다.\n",
      "\n",
      "요구사항은 다음과 같습니다:\n",
      "1. 어휘의 다양성을 위해 같은 단어를 반복하지 않습니다.\n",
      "2. 문장의 형태가 다양해야합니다. 예를 들어 질문과 명령형이 결합되는 형태여야 합니다.\n",
      "3. document의 정보가 question과 관련있는 정보라면 참조합니다, 관련이 없다면 참조하지 않습니다.\n",
      "4. WebPilot을 이용하여 Google에서 검색을 하고, question과 관련있는 데이터를 참조하세요.\n",
      "5. 위 3, 4번의 데이터를 바탕으로 답변하세요.\n",
      "6. 답변은 자세한 내용이 포함되도록 제공되어야하지만 200단어 정도로 구성해주세요.\n",
      "9. 출력 형식은 JSON포맷을 따라야 하며, Indentation은 없도록 출력하세요.\n",
      "\n",
      "출력 형식은 아래 포맷을 참조하세요:\n",
      "{\"question\": \"1주택자 종부세 폐지 여부가 확정된 건가요?\", \"answer\": \"현재 1주택자에 대한 종합부동산세 폐지....\"}\n",
      "{\"question\": \"아파트 추이 분석에서 중요한 변수들은 무엇인가요?\", \"answer\": \"아파트 추이를 이해하기 위해 ....\"}\n",
      "###question:\n",
      "신혼부부 집 선택 시 고려해야 할 사항은 무엇인가요?\n",
      "###document:\n",
      "1. 신혼부부이혼 시 고려해야 할 사항이 있다면 안녕하세요, 든든한 법률파트너 유진우변호사입니다. 결혼은 일생일대의 큰 사건이자 인생의 반환점이 될 수 있는 일이기 때문에 신중하게 생각하고 진행하는 경우가 많습니다. 내 배우자가 될 사람이 어떤 사람인지 살펴보고 이 사람과 함께 가정을 꾸렸을 때, 끝까지 함께할 수 있는지를 하게 되는데요. 이렇게 신중하게...\n",
      "2. 신혼부부보험 가입하면서 간이식보험 정보 알아보세요 저는 원래 미갱신 건강보험만 준비했었는데, 최근 미갱신 건강보험 가입 추천 통화를 받았어요. 즉시 가입하는 것보다는 미갱신... 암\n"
     ]
    }
   ],
   "source": [
    "print(instructions[0][:1000])"
   ]
  },
  {
   "cell_type": "markdown",
   "id": "9335c2a5-f2db-4a19-8463-dab013342839",
   "metadata": {},
   "source": [
    "종종 중간에 유니코드 에러가 발생해서 전체 작업이 멈추는 경우가 있었습니다.  \n",
    "중간에 에러가 발생해도 Skip하도록하고, 에러는 별도로 error_prompts 리스트에 추가하도록 합니다.  \n",
    "API로 응답받은 데이터는 파일로 저장하도록 합니다.  \n",
    "병렬처리시 파일 I/O의 race condition을 방지하기 위해 Lock으로 Thread safe하게 관리합니다."
   ]
  },
  {
   "cell_type": "code",
   "execution_count": 13,
   "id": "6838a02f-2375-4fef-9817-b856e3f1658b",
   "metadata": {
    "execution": {
     "iopub.execute_input": "2024-05-14T10:52:00.297032Z",
     "iopub.status.busy": "2024-05-14T10:52:00.296725Z",
     "iopub.status.idle": "2024-05-14T11:29:38.957556Z",
     "shell.execute_reply": "2024-05-14T11:29:38.956813Z",
     "shell.execute_reply.started": "2024-05-14T10:52:00.297009Z"
    },
    "tags": []
   },
   "outputs": [
    {
     "name": "stderr",
     "output_type": "stream",
     "text": [
      "997it [37:38,  2.27s/it]\n"
     ]
    }
   ],
   "source": [
    "from concurrent.futures import ThreadPoolExecutor\n",
    "from functools import partial\n",
    "from tqdm import tqdm\n",
    "from utils import get_completion\n",
    "from threading import Lock\n",
    "import os\n",
    "\n",
    "error_prompts = []\n",
    "\n",
    "# https://superfastpython.com/thread-mutex-lock/\n",
    "# completion에 유니코드 에러가 자주 발생해서 병렬처리시 저장할 수 있도록 개선 / 예외처리 추가\n",
    "def _thread_safe_get_completion(prompt, model = \"gpt-4o\"):\n",
    "    try:\n",
    "        result = get_completion(model=model, prompt=prompt)\n",
    "    except Exception as e:\n",
    "        question = prompt.split(\"###question:\\n\")[1].split(\"###document\")[0][:-1]\n",
    "        print(f\"오류 발생한 questions: {question}\")\n",
    "        error_prompts.append(prompt)\n",
    "        print(e)\n",
    "        return None\n",
    "    lock = Lock() # I/O에서 Race Condition이 발생하지 않도록\n",
    "    with lock:\n",
    "        with open(\"./data/instruction.jsonl\", \"a\", encoding=\"utf-8\") as f:\n",
    "            for line in result.split(\"\\n\"):\n",
    "                f.write(line)\n",
    "                f.write(\"\\n\")\n",
    "            return result\n",
    "    \n",
    "\n",
    "with ThreadPoolExecutor() as pool:\n",
    "    results = list(tqdm(pool.map(partial(_thread_safe_get_completion, model=\"gpt-4o\"), instructions)))"
   ]
  },
  {
   "cell_type": "markdown",
   "id": "39c416d2-565e-4158-9c44-8fd0079d66d5",
   "metadata": {},
   "source": [
    "`error_prompts` 내에 에러가 몇개 있었으나 많지 않아서 해당 데이터는 그냥 제외했습니다.  \n",
    "줄바꿈이 2번있는 경우 `jsonl`로 읽기 어려워서 후처리를 해줍니다.  \n",
    "[LangChain](https://github.com/langchain-ai/langchain)이나 [openai-python](https://github.com/openai/openai-python)를 이용해서 더 강력하게 프롬프트를 구성하면, 이러한 후처리 작업이 없을 것 같습니다."
   ]
  },
  {
   "cell_type": "code",
   "execution_count": 19,
   "id": "58f78941-4e6b-4929-b5b3-391cd96ec6f0",
   "metadata": {
    "execution": {
     "iopub.execute_input": "2024-05-14T11:33:41.509442Z",
     "iopub.status.busy": "2024-05-14T11:33:41.508517Z",
     "iopub.status.idle": "2024-05-14T11:33:41.562473Z",
     "shell.execute_reply": "2024-05-14T11:33:41.562145Z",
     "shell.execute_reply.started": "2024-05-14T11:33:41.509396Z"
    },
    "tags": []
   },
   "outputs": [],
   "source": [
    "with open(\"./data/instruction.jsonl\", \"r\") as f:\n",
    "    parsed = f.readlines()\n",
    "parsed = [lines.replace(\"\\n\", \"\") for lines in parsed if lines != \"\\n\"]"
   ]
  },
  {
   "cell_type": "code",
   "execution_count": 20,
   "id": "2cafc2c9-a37e-4c88-886b-89129fd07653",
   "metadata": {
    "execution": {
     "iopub.execute_input": "2024-05-14T11:33:42.426259Z",
     "iopub.status.busy": "2024-05-14T11:33:42.425499Z",
     "iopub.status.idle": "2024-05-14T11:33:42.438811Z",
     "shell.execute_reply": "2024-05-14T11:33:42.438065Z",
     "shell.execute_reply.started": "2024-05-14T11:33:42.426206Z"
    },
    "tags": []
   },
   "outputs": [
    {
     "data": {
      "text/plain": [
       "9791"
      ]
     },
     "execution_count": 20,
     "metadata": {},
     "output_type": "execute_result"
    }
   ],
   "source": [
    "len(parsed)"
   ]
  },
  {
   "cell_type": "code",
   "execution_count": 22,
   "id": "fd9fa96c-c14f-4fd7-8e76-62ce3c616fba",
   "metadata": {
    "execution": {
     "iopub.execute_input": "2024-05-14T11:34:25.339327Z",
     "iopub.status.busy": "2024-05-14T11:34:25.338527Z",
     "iopub.status.idle": "2024-05-14T11:34:25.450678Z",
     "shell.execute_reply": "2024-05-14T11:34:25.450387Z",
     "shell.execute_reply.started": "2024-05-14T11:34:25.339271Z"
    },
    "tags": []
   },
   "outputs": [],
   "source": [
    "from utils import jsave\n",
    "\n",
    "jsave(data=parsed, save_path=\"./data/instruction.jsonl\", mode=\"w\")"
   ]
  },
  {
   "cell_type": "code",
   "execution_count": 23,
   "id": "efc429c0-7f5d-4589-8194-8b85d2dc2e07",
   "metadata": {
    "execution": {
     "iopub.execute_input": "2024-05-14T11:34:45.605227Z",
     "iopub.status.busy": "2024-05-14T11:34:45.604483Z",
     "iopub.status.idle": "2024-05-14T11:34:45.682149Z",
     "shell.execute_reply": "2024-05-14T11:34:45.681843Z",
     "shell.execute_reply.started": "2024-05-14T11:34:45.605174Z"
    },
    "tags": []
   },
   "outputs": [
    {
     "data": {
      "text/plain": [
       "9791"
      ]
     },
     "execution_count": 23,
     "metadata": {},
     "output_type": "execute_result"
    }
   ],
   "source": [
    "from utils import jload\n",
    "\n",
    "len(jload(\"./data/instruction.jsonl\"))"
   ]
  },
  {
   "cell_type": "markdown",
   "id": "63d0ba72-ac6e-4f41-b3f7-1362d220e6c9",
   "metadata": {
    "tags": []
   },
   "source": [
    "## <span style=\"color: #F2D388;\"> Review </span>\n",
    "\n",
    "학습용 데이터셋을 만들었습니다.  \n",
    "학습용 데이터셋을 만드는 방법은 다양하고 도메인에 맞게 적용할 수 있습니다.  \n",
    "LLM을 활용해 데이터셋을 만드는 방법은 Self-Instruct([https://arxiv.org/pdf/2212.10560](https://arxiv.org/pdf/2212.10560))을 참고하면 좋을 것 같습니다.\n",
    "\n",
    "논문에서는 다양한 Instruction을 생성하기 위해 ROUGE-L 스코어를 활용하기도 합니다.  \n",
    "모델이 생성한 Instruction중 ROUGE-L 스코어가 0.7보다 낮은 Instruction을 다음 Instruction 생성때 활용하기도 합니다.\n",
    "\n",
    "이 예제에서는 하나의 키워드에 여러 Instruction을 생성하는 등 중복된 Instruction이 있을 수 있습니다.  \n",
    "하지만 이 예제는 모델 사이즈도 작고, 예산상 만들 수 있는 데이터셋도 한정되어있기 때문에 어느정도 오버피팅을 위해서 유사한 Instruction을 필터링하지 않았습니다.\n",
    "실제로 모델을 개발한다면 이러한 부분도 고려하여 개발되어야 합니다.\n",
    "\n",
    "또한 GPT의 경우 `gpt-3.5-turbo`를 사용하려면 프롬프트를 좀더 강력하게 구축해야 했습니다.(많은 수작업이 소요됩니다.)  \n",
    "다행히도 `gpt-4o`가 출시된 덕에 저렴한 가격으로 데이터셋을 구축할 수 있었습니다.  \n",
    "\n",
    "질좋은 답변을 위해 아래 2가지를 잘 고려해야합니다.\n",
    "+ 사람들이 많이 연구한 양질의 프롬프트를 사용하기\n",
    "+ Few-shot 추가하기  "
   ]
  },
  {
   "cell_type": "markdown",
   "id": "6af0f365-cf39-4450-aca6-26eef2202590",
   "metadata": {
    "execution": {
     "iopub.execute_input": "2024-05-27T16:34:17.463228Z",
     "iopub.status.busy": "2024-05-27T16:34:17.462026Z",
     "iopub.status.idle": "2024-05-27T16:34:17.476767Z",
     "shell.execute_reply": "2024-05-27T16:34:17.475982Z",
     "shell.execute_reply.started": "2024-05-27T16:34:17.463152Z"
    },
    "tags": []
   },
   "source": [
    "## <span style=\"color: #F2D388;\"> References </span>\n",
    "+ [Stanford Alpaca](https://github.com/tatsu-lab/stanford_alpaca/blob/main/prompt.txt)\n",
    "+ [awesome-chatgpt-prompts](https://github.com/f/awesome-chatgpt-prompts)\n",
    "+ [Self-Instruct: Aligning Language Models with Self-Generated Instructions](https://arxiv.org/pdf/2212.10560)\n",
    "+ [Judging LLM-as-a-Judge with MT-Bench and Chatbot Arena](https://arxiv.org/pdf/2306.05685)\n",
    "+ [chatgpt-prompt-engineering-for-developers](https://www.deeplearning.ai/short-courses/chatgpt-prompt-engineering-for-developers)\n",
    "+ [openai-python](https://github.com/openai/openai-python)"
   ]
  }
 ],
 "metadata": {
  "kernelspec": {
   "display_name": "Python 3 (ipykernel)",
   "language": "python",
   "name": "python3"
  },
  "language_info": {
   "codemirror_mode": {
    "name": "ipython",
    "version": 3
   },
   "file_extension": ".py",
   "mimetype": "text/x-python",
   "name": "python",
   "nbconvert_exporter": "python",
   "pygments_lexer": "ipython3",
   "version": "3.10.14"
  }
 },
 "nbformat": 4,
 "nbformat_minor": 5
}
