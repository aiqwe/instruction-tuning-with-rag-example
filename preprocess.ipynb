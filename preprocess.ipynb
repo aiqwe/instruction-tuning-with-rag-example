{
 "cells": [
  {
   "cell_type": "markdown",
   "id": "65d015e7-f608-4f2c-a580-e476e4d23455",
   "metadata": {
    "execution": {
     "iopub.execute_input": "2024-04-27T14:24:44.399720Z",
     "iopub.status.busy": "2024-04-27T14:24:44.399074Z",
     "iopub.status.idle": "2024-04-27T14:24:44.688783Z",
     "shell.execute_reply": "2024-04-27T14:24:44.688485Z",
     "shell.execute_reply.started": "2024-04-27T14:24:44.399656Z"
    },
    "tags": []
   },
   "source": [
    "### 데이터셋 준비 하기\n",
    "Instruction Fine Tuning을 위해 데이터셋을 준비합니다.  \n",
    "데이터셋은 아래의 순서로 준비합니다.\n",
    "---\n",
    "\n",
    "1. 도메인 정하기  \n",
    "부동산에 대해 잘 대답할 수 있는 챗봇을 타겟으로 설정합니다.  \n",
    "\n",
    "2. 부동산에 관련된 키워드를 생각해보기  \n",
    "책, 뉴스, 부동산 사이트에서 키워드를 수집합니다. 사람들이 궁금해할만한 키워드를 대상으로 합니다. (예: 전세 계약, 신혼부부 특별공급, 토지거래허가구역...)  \n",
    "\n",
    "3. 부동산 키워드를 통해 사람들이 찾아볼만한 질문리스트 만들어보기(`query.jsonl`)  \n",
    "2번에서 수집한 키워드를 기반으로, 사람들이 궁금해할만한 질문리스트를 ChatGPT를 활용해 만들어봅니다. 충분한 데이터셋 확보할 만큼의 질문리스트를 생성합니다.\n",
    "\n",
    "4. 질문리스트로 네이버에 검색하여 인기 글 데이터 수집하기(`search_data.json`)  \n",
    "3번에서 수집한 질문리스트를 Selenium 라이브러리를 활용하여 네이버에 검색합니다. 검색 결과중 인기글의 텍스트 데이터를 추출합니다.\n",
    "\n",
    "5. encoder 모델을 활용하여 데이터를 유사도 기준으로 정렬하기(`search_data.json`)  \n",
    "4번에서 수집한 인기글 텍스트 데이터가 질문리스트와 얼마나 유사한지 계산합니다.\n",
    "질문리스트와 가장 유사한 인기글 텍스트를 상위 순위로 정렬합니다.\n",
    "\n",
    "6. Instuction 데이터셋 만들기(`instruction.jsonl`)  \n",
    "질문리스트 + 정렬한 인기글을 합쳐서 ChatGPT에 Instruction 데이터를 만들어달라고 요청합니다. 이 Instruction 데이터는 Fine Tuning에 사용됩니다."
   ]
  },
  {
   "cell_type": "code",
   "execution_count": 3,
   "id": "236cc32b-567d-4444-97cb-b3eff129879d",
   "metadata": {
    "execution": {
     "iopub.execute_input": "2024-04-30T09:00:16.148751Z",
     "iopub.status.busy": "2024-04-30T09:00:16.148614Z",
     "iopub.status.idle": "2024-04-30T09:00:16.150524Z",
     "shell.execute_reply": "2024-04-30T09:00:16.150228Z",
     "shell.execute_reply.started": "2024-04-30T09:00:16.148738Z"
    },
    "tags": []
   },
   "outputs": [],
   "source": [
    "!pip install --quiet\\\n",
    "selenium\\\n",
    "openai\\\n",
    "colorama\\\n",
    "datasets\\\n",
    "accelerate==0.27.2\\\n",
    "flash-attn\\\n",
    "peft\\\n",
    "trl\\\n",
    "transformers\\\n",
    "python-dotenv"
   ]
  },
  {
   "cell_type": "code",
   "execution_count": 4,
   "id": "771138c9-f9e6-49ed-a04e-21486d54cb56",
   "metadata": {
    "execution": {
     "iopub.execute_input": "2024-04-30T09:00:19.270971Z",
     "iopub.status.busy": "2024-04-30T09:00:19.269879Z",
     "iopub.status.idle": "2024-04-30T09:00:19.279205Z",
     "shell.execute_reply": "2024-04-30T09:00:19.278256Z",
     "shell.execute_reply.started": "2024-04-30T09:00:19.270907Z"
    },
    "tags": []
   },
   "outputs": [],
   "source": [
    "import utils\n",
    "import prompts\n",
    "import json\n",
    "import similarity\n",
    "from tqdm import tqdm\n",
    "from transformers import AutoModel, AutoTokenizer"
   ]
  },
  {
   "cell_type": "markdown",
   "id": "e2efb55f-3c57-4e7e-89e3-96fcab92db7d",
   "metadata": {},
   "source": [
    "### 2. 부동산에 관련된 키워드를 생각해보기\n",
    "부동산에 관련된 키워드를 수집하여 저장합니다.  \n",
    "예시 데이터는 `seed_words.txt` 파일로 제공합니다."
   ]
  },
  {
   "cell_type": "code",
   "execution_count": 5,
   "id": "8703faac-3a56-4259-b2f8-003c63485699",
   "metadata": {
    "execution": {
     "iopub.execute_input": "2024-04-30T09:00:20.593929Z",
     "iopub.status.busy": "2024-04-30T09:00:20.592905Z",
     "iopub.status.idle": "2024-04-30T09:00:20.614966Z",
     "shell.execute_reply": "2024-04-30T09:00:20.612669Z",
     "shell.execute_reply.started": "2024-04-30T09:00:20.593858Z"
    },
    "tags": []
   },
   "outputs": [],
   "source": [
    "with open(\"./data/seed_words.txt\", \"r\") as f:\n",
    "    seed_words = f.readlines()"
   ]
  },
  {
   "cell_type": "code",
   "execution_count": 6,
   "id": "0b731610-6b30-4eb4-ae3a-5faa7175b005",
   "metadata": {
    "execution": {
     "iopub.execute_input": "2024-04-30T09:00:20.724960Z",
     "iopub.status.busy": "2024-04-30T09:00:20.724767Z",
     "iopub.status.idle": "2024-04-30T09:00:20.729219Z",
     "shell.execute_reply": "2024-04-30T09:00:20.728798Z",
     "shell.execute_reply.started": "2024-04-30T09:00:20.724941Z"
    },
    "tags": []
   },
   "outputs": [
    {
     "data": {
      "text/plain": [
       "['전세 계약\\n', '임대차 계약\\n', '전세 사기\\n', '임대차 분쟁\\n']"
      ]
     },
     "execution_count": 6,
     "metadata": {},
     "output_type": "execute_result"
    }
   ],
   "source": [
    "seed_words[:4]"
   ]
  },
  {
   "cell_type": "code",
   "execution_count": 7,
   "id": "4cd9daee-9abf-49ca-a418-1515ef78aab3",
   "metadata": {
    "execution": {
     "iopub.execute_input": "2024-04-30T09:00:20.849030Z",
     "iopub.status.busy": "2024-04-30T09:00:20.848473Z",
     "iopub.status.idle": "2024-04-30T09:00:20.861360Z",
     "shell.execute_reply": "2024-04-30T09:00:20.860067Z",
     "shell.execute_reply.started": "2024-04-30T09:00:20.848981Z"
    },
    "tags": []
   },
   "outputs": [],
   "source": [
    "# Element마다 있는 \\n 제거, '전세 계약\\n' -> '전세 계약'\n",
    "seed_words = list(map(lambda x: x.strip(\"\\n\"), seed_words))"
   ]
  },
  {
   "cell_type": "code",
   "execution_count": 8,
   "id": "d4a7994b-fe60-4f7a-9446-22ee51936085",
   "metadata": {
    "execution": {
     "iopub.execute_input": "2024-04-30T09:00:20.973461Z",
     "iopub.status.busy": "2024-04-30T09:00:20.972782Z",
     "iopub.status.idle": "2024-04-30T09:00:20.983228Z",
     "shell.execute_reply": "2024-04-30T09:00:20.982482Z",
     "shell.execute_reply.started": "2024-04-30T09:00:20.973406Z"
    },
    "tags": []
   },
   "outputs": [
    {
     "data": {
      "text/plain": [
       "['전세 계약', '임대차 계약', '전세 사기', '임대차 분쟁']"
      ]
     },
     "execution_count": 8,
     "metadata": {},
     "output_type": "execute_result"
    }
   ],
   "source": [
    "seed_words[:4]"
   ]
  },
  {
   "cell_type": "markdown",
   "id": "c539ba2e-355f-4482-a1d7-b8a315a43c2e",
   "metadata": {
    "execution": {
     "iopub.execute_input": "2024-04-27T14:46:47.170359Z",
     "iopub.status.busy": "2024-04-27T14:46:47.169552Z",
     "iopub.status.idle": "2024-04-27T14:46:47.181132Z",
     "shell.execute_reply": "2024-04-27T14:46:47.178484Z",
     "shell.execute_reply.started": "2024-04-27T14:46:47.170307Z"
    },
    "tags": []
   },
   "source": [
    "### 3. 부동산 키워드를 통해 사람들이 찾아볼만한 질문리스트 만들어보기\n",
    "`format` 메서드를 적용할 수 있게 프롬프트를 미리 작성합니다.  \n",
    "미리 작성된 프롬프트에 `seed_words`를 `format` 적용하여 프롬프트를 완성시킵니다.  \n",
    "예시 데이터는 `query.jsonl` 파일로 제공합니다."
   ]
  },
  {
   "cell_type": "code",
   "execution_count": 9,
   "id": "f06a5e79-9697-4ff9-ac38-6b23d298a483",
   "metadata": {
    "execution": {
     "iopub.execute_input": "2024-04-30T09:00:21.240233Z",
     "iopub.status.busy": "2024-04-30T09:00:21.239813Z",
     "iopub.status.idle": "2024-04-30T09:00:21.254282Z",
     "shell.execute_reply": "2024-04-30T09:00:21.251528Z",
     "shell.execute_reply.started": "2024-04-30T09:00:21.240206Z"
    },
    "tags": []
   },
   "outputs": [
    {
     "name": "stdout",
     "output_type": "stream",
     "text": [
      "주어진 seed_word에 대해 궁금해할 질문을 10개를 생성하세요.\n",
      "만들어낸 질문은 JSON형식을 따라야 합니다.\n",
      "Indentation은 없도록 출력하세요.\n",
      "아래 양식으로 출력하세요:\n",
      "{{\"seed_word\": \"{seed_word}\", \"answer\": [\"1번째 질문\", \"2번째 질문\"... , \"10번째 질문\"]}}\n"
     ]
    }
   ],
   "source": [
    "print(prompts.SEED_WORD_PROMPT_PREFIX + prompts.SEED_WORD_PROMPT_CONTENT)"
   ]
  },
  {
   "cell_type": "code",
   "execution_count": 10,
   "id": "18924823-18df-4d08-8b9a-34184d3f8153",
   "metadata": {
    "execution": {
     "iopub.execute_input": "2024-04-30T09:00:21.366342Z",
     "iopub.status.busy": "2024-04-30T09:00:21.365838Z",
     "iopub.status.idle": "2024-04-30T09:00:21.375640Z",
     "shell.execute_reply": "2024-04-30T09:00:21.374740Z",
     "shell.execute_reply.started": "2024-04-30T09:00:21.366318Z"
    },
    "tags": []
   },
   "outputs": [
    {
     "name": "stdout",
     "output_type": "stream",
     "text": [
      "주어진 seed_word에 대해 궁금해할 질문을 10개를 생성하세요.\n",
      "만들어낸 질문은 JSON형식을 따라야 합니다.\n",
      "Indentation은 없도록 출력하세요.\n",
      "아래 양식으로 출력하세요:\n",
      "{\"seed_word\": \"전세 계약\", \"answer\": [\"1번째 질문\", \"2번째 질문\"... , \"10번째 질문\"]}\n"
     ]
    }
   ],
   "source": [
    "print(prompts.SEED_WORD_PROMPT_PREFIX + prompts.SEED_WORD_PROMPT_CONTENT.format(seed_word=seed_words[0]))"
   ]
  },
  {
   "cell_type": "code",
   "execution_count": 11,
   "id": "ea0cf546-2d03-4c4e-b433-e02fb9bfed34",
   "metadata": {
    "execution": {
     "iopub.execute_input": "2024-04-30T09:00:22.947537Z",
     "iopub.status.busy": "2024-04-30T09:00:22.946979Z",
     "iopub.status.idle": "2024-04-30T09:00:22.957688Z",
     "shell.execute_reply": "2024-04-30T09:00:22.956411Z",
     "shell.execute_reply.started": "2024-04-30T09:00:22.947504Z"
    },
    "tags": []
   },
   "outputs": [],
   "source": [
    "# 모델에게 Prefix 토큰을 중복해서 전달할 필요가 없으므로, Prefix 토큰은 1번만 사용하고 Content을 반복해서 프롬프트를 생성\n",
    "seed_word_prefix = prompts.SEED_WORD_PROMPT_PREFIX\n",
    "seed_word_content = [prompts.SEED_WORD_PROMPT_CONTENT.format(seed_word=s) for s in seed_words]"
   ]
  },
  {
   "cell_type": "code",
   "execution_count": 12,
   "id": "3d94a38a-2f41-47ae-84a0-fec8a8cbe016",
   "metadata": {
    "execution": {
     "iopub.execute_input": "2024-04-30T09:00:23.036104Z",
     "iopub.status.busy": "2024-04-30T09:00:23.035744Z",
     "iopub.status.idle": "2024-04-30T09:00:23.046460Z",
     "shell.execute_reply": "2024-04-30T09:00:23.045566Z",
     "shell.execute_reply.started": "2024-04-30T09:00:23.036078Z"
    },
    "tags": []
   },
   "outputs": [],
   "source": [
    "# 모델에게 Prefix 토큰을 중복해서 전달할 필요가 없으므로, Prefix 토큰은 1번만 사용하고 Content을 반복해서 프롬프트를 생성\n",
    "# 1개의 Prefix 마다 10개의 Content를 추가한다\n",
    "seed_word_prompts = []\n",
    "total_prompts = len(seed_words) // 10\n",
    "for idx in range(1, total_prompts+2):\n",
    "    start_index = (idx -1) * 10\n",
    "    end_index = idx * 10\n",
    "    seed_word_prompt = seed_word_prefix + \"\\n\".join(seed_word_content[start_index:end_index])\n",
    "    seed_word_prompts.append(seed_word_prompt)"
   ]
  },
  {
   "cell_type": "code",
   "execution_count": 13,
   "id": "45756685-409d-44e9-9833-c90d5d5a8ae9",
   "metadata": {
    "execution": {
     "iopub.execute_input": "2024-04-30T09:00:23.430696Z",
     "iopub.status.busy": "2024-04-30T09:00:23.429862Z",
     "iopub.status.idle": "2024-04-30T09:00:23.444415Z",
     "shell.execute_reply": "2024-04-30T09:00:23.443958Z",
     "shell.execute_reply.started": "2024-04-30T09:00:23.430657Z"
    },
    "tags": []
   },
   "outputs": [
    {
     "name": "stdout",
     "output_type": "stream",
     "text": [
      "주어진 seed_word에 대해 궁금해할 질문을 10개를 생성하세요.\n",
      "만들어낸 질문은 JSON형식을 따라야 합니다.\n",
      "Indentation은 없도록 출력하세요.\n",
      "아래 양식으로 출력하세요:\n",
      "{\"seed_word\": \"장기보유 특별 공제\", \"answer\": [\"1번째 질문\", \"2번째 질문\"... , \"10번째 질문\"]}\n",
      "{\"seed_word\": \"주택임대사업자\", \"answer\": [\"1번째 질문\", \"2번째 질문\"... , \"10번째 질문\"]}\n",
      "{\"seed_word\": \"종부세 중과세\", \"answer\": [\"1번째 질문\", \"2번째 질문\"... , \"10번째 질문\"]}\n",
      "{\"seed_word\": \"보금자리론\", \"answer\": [\"1번째 질문\", \"2번째 질문\"... , \"10번째 질문\"]}\n",
      "{\"seed_word\": \"디딤돌대출\", \"answer\": [\"1번째 질문\", \"2번째 질문\"... , \"10번째 질문\"]}\n",
      "{\"seed_word\": \"정책모기지\", \"answer\": [\"1번째 질문\", \"2번째 질문\"... , \"10번째 질문\"]}\n"
     ]
    }
   ],
   "source": [
    "print(seed_word_prompts[9])"
   ]
  },
  {
   "cell_type": "markdown",
   "id": "83112114-910f-42e6-96a4-96b4ef6cca19",
   "metadata": {},
   "source": [
    "### 4. 질문리스트로 네이버에 검색하여 인기 글 데이터 수집하기\n",
    "3번에서 생성한 질문리스트를 selenium 라이브러리를 통해 네이버로 검색합니다.  \n",
    "검색 결과의 인기글의 텍스트 정보를 저장합니다.  \n",
    "예시 데이터는 `search.jsonl`로 제공합니다.  "
   ]
  },
  {
   "cell_type": "code",
   "execution_count": 14,
   "id": "ae2f00a6-9463-4689-adc3-23edb4fcbef4",
   "metadata": {
    "execution": {
     "iopub.execute_input": "2024-04-30T09:00:25.037482Z",
     "iopub.status.busy": "2024-04-30T09:00:25.036974Z",
     "iopub.status.idle": "2024-04-30T09:00:25.053507Z",
     "shell.execute_reply": "2024-04-30T09:00:25.052441Z",
     "shell.execute_reply.started": "2024-04-30T09:00:25.037453Z"
    },
    "tags": []
   },
   "outputs": [],
   "source": [
    "query_data = utils.jload(\"./data/query.jsonl\")"
   ]
  },
  {
   "cell_type": "code",
   "execution_count": 15,
   "id": "ae8c5144-b151-4e2a-b9f4-c4a12c0890c0",
   "metadata": {
    "execution": {
     "iopub.execute_input": "2024-04-30T09:00:25.233746Z",
     "iopub.status.busy": "2024-04-30T09:00:25.233208Z",
     "iopub.status.idle": "2024-04-30T09:00:25.247862Z",
     "shell.execute_reply": "2024-04-30T09:00:25.247152Z",
     "shell.execute_reply.started": "2024-04-30T09:00:25.233701Z"
    },
    "tags": []
   },
   "outputs": [
    {
     "data": {
      "text/plain": [
       "['{\"seed_word\": \"전세 계약\", \"answer\": [\"전세 계약 기간은 보통 얼마나 되나요?\", \"전세 계약서에는 어떤 내용이 포함되어야 하나요?\", \"전세 계약 시 부동산 중개수수료는 어떻게 책정되나요?\", \"전세 계약 갱신 시 주의해야 할 점은 무엇인가요?\", \"전세 계약 종료 시 보증금 반환은 어떻게 이루어지나요?\", \"전세 계약 중 집주인이 바뀌면 어떻게 해야 하나요?\", \"전세 계약 시 등기부등본은 왜 확인해야 하나요?\", \"전세 계약 기간 중 월세로 전환하는 것이 가능한가요?\", \"전세 계약 시 확인해야 할 집의 하자 사항은 무엇인가요?\", \"전세 계약 분쟁 발생 시 어떤 법적 대응을 할 수 있나요?\"]}\\n',\n",
       " '{\"seed_word\": \"임대차 계약\", \"answer\": [\"임대차 계약서에는 어떤 내용이 포함되어야 하나요?\", \"임대차 계약 기간은 일반적으로 얼마나 되나요?\", \"임대차 계약 시 임차인이 부담해야 하는 비용은 무엇인가요?\", \"임대차 계약 종료 시 임차인의 원상복구 의무는 어떻게 되나요?\", \"임대차 계약 기간 중 임대인이 집을 매도하면 어떻게 되나요?\", \"임대차 계약 갱신 거절 시 임대인이 내세울 수 있는 사유는 무엇인가요?\", \"임대차 계약 시 확인해야 할 특약 사항은 무엇인가요?\", \"임대차 계약 기간 중 임차인이 계약을 해지하고 싶다면 어떻게 해야 하나요?\", \"임대차 계약상 임차인의 권리와 의무는 무엇인가요?\", \"임대차 계약 분쟁 발생 시 어떤 법적 대응을 할 수 있나요?\"]}\\n']"
      ]
     },
     "execution_count": 15,
     "metadata": {},
     "output_type": "execute_result"
    }
   ],
   "source": [
    "query_data[:2]"
   ]
  },
  {
   "cell_type": "code",
   "execution_count": 16,
   "id": "24b29dcf-f85e-48e9-ab0f-dfb1978bf1cd",
   "metadata": {
    "execution": {
     "iopub.execute_input": "2024-04-30T09:00:26.534192Z",
     "iopub.status.busy": "2024-04-30T09:00:26.533504Z",
     "iopub.status.idle": "2024-04-30T09:00:26.547411Z",
     "shell.execute_reply": "2024-04-30T09:00:26.546633Z",
     "shell.execute_reply.started": "2024-04-30T09:00:26.534150Z"
    },
    "tags": []
   },
   "outputs": [],
   "source": [
    "queries = []\n",
    "for line in query_data:\n",
    "    query = json.loads(line)\n",
    "    queries = queries + query['answer']"
   ]
  },
  {
   "cell_type": "code",
   "execution_count": 17,
   "id": "e79b1e26-5bc6-48b0-b049-7cb120fe5d07",
   "metadata": {
    "execution": {
     "iopub.execute_input": "2024-04-30T09:00:26.690360Z",
     "iopub.status.busy": "2024-04-30T09:00:26.689097Z",
     "iopub.status.idle": "2024-04-30T09:00:26.704311Z",
     "shell.execute_reply": "2024-04-30T09:00:26.701937Z",
     "shell.execute_reply.started": "2024-04-30T09:00:26.690095Z"
    },
    "tags": []
   },
   "outputs": [
    {
     "data": {
      "text/plain": [
       "['전세 계약 기간은 보통 얼마나 되나요?',\n",
       " '전세 계약서에는 어떤 내용이 포함되어야 하나요?',\n",
       " '전세 계약 시 부동산 중개수수료는 어떻게 책정되나요?',\n",
       " '전세 계약 갱신 시 주의해야 할 점은 무엇인가요?',\n",
       " '전세 계약 종료 시 보증금 반환은 어떻게 이루어지나요?']"
      ]
     },
     "execution_count": 17,
     "metadata": {},
     "output_type": "execute_result"
    }
   ],
   "source": [
    "queries[:5]"
   ]
  },
  {
   "cell_type": "code",
   "execution_count": 18,
   "id": "0530fa8b-cc76-4241-8bbb-011d7916053f",
   "metadata": {
    "execution": {
     "iopub.execute_input": "2024-04-30T09:00:26.846476Z",
     "iopub.status.busy": "2024-04-30T09:00:26.845839Z",
     "iopub.status.idle": "2024-04-30T09:00:26.865519Z",
     "shell.execute_reply": "2024-04-30T09:00:26.862826Z",
     "shell.execute_reply.started": "2024-04-30T09:00:26.846424Z"
    },
    "tags": []
   },
   "outputs": [
    {
     "data": {
      "text/plain": [
       "960"
      ]
     },
     "execution_count": 18,
     "metadata": {},
     "output_type": "execute_result"
    }
   ],
   "source": [
    "len(queries)"
   ]
  },
  {
   "cell_type": "markdown",
   "id": "1da64bd8-30be-4fff-bd61-76cb89867d54",
   "metadata": {},
   "source": [
    "selenium으로 네이버 검색 데이터를 수집할 때, webdriver의 버전을 확인하세요.  \n",
    "버전에 맞는 webdriver 설치 방법은 [여기](https://wikidocs.net/91474)를 참조하세요.  \n",
    "본 문서의 selenium 코드는 [wikidocs](https://wikidocs.net/137914) 내용을 참조하였습니다.  "
   ]
  },
  {
   "cell_type": "code",
   "execution_count": 25,
   "id": "63e1ba1f-2e06-481d-a66b-6ad9e99b0940",
   "metadata": {
    "execution": {
     "iopub.execute_input": "2024-04-30T11:20:22.806561Z",
     "iopub.status.busy": "2024-04-30T11:20:22.805108Z",
     "iopub.status.idle": "2024-04-30T11:20:22.815007Z",
     "shell.execute_reply": "2024-04-30T11:20:22.813949Z",
     "shell.execute_reply.started": "2024-04-30T11:20:22.806502Z"
    },
    "tags": []
   },
   "outputs": [],
   "source": [
    "search_data = utils.get_document_through_selenium(inputs=queries, save_path = \"./data/document.json\")"
   ]
  },
  {
   "cell_type": "code",
   "execution_count": 22,
   "id": "ba1dc97c-e57d-4930-9e9f-764a77521247",
   "metadata": {
    "execution": {
     "iopub.execute_input": "2024-04-30T09:03:33.033604Z",
     "iopub.status.busy": "2024-04-30T09:03:33.032723Z",
     "iopub.status.idle": "2024-04-30T09:03:33.051059Z",
     "shell.execute_reply": "2024-04-30T09:03:33.048565Z",
     "shell.execute_reply.started": "2024-04-30T09:03:33.033553Z"
    },
    "tags": []
   },
   "outputs": [
    {
     "name": "stdout",
     "output_type": "stream",
     "text": [
      "말해야 되나요? 주택임대차보호법 제 6조 제 1항 (계약의 갱신) 계약이 해지되기 6개월 전부터 2개월 전까지, 계약을 해지하겠다는 통보를 해야 한다. 즉, 법률상 늦어도 계약이 종료되기 2개월 전까지는 임대인에게 말해야 된다는 뜻인데요. 만약 해당 기간 안에 말하지 않았다면? 자동으로 연장되는 묵시적 갱신이 될 수 있습니다. 때문에, 종료 시점에 맞춰서 자금을...\n"
     ]
    }
   ],
   "source": [
    "print(utils.jload(\"./data/document.json\")[0]['document'][0])"
   ]
  },
  {
   "cell_type": "markdown",
   "id": "2d6130e7-344c-4058-ace3-39eb80087cfb",
   "metadata": {
    "execution": {
     "iopub.execute_input": "2024-04-28T07:05:34.818904Z",
     "iopub.status.busy": "2024-04-28T07:05:34.818806Z",
     "iopub.status.idle": "2024-04-28T07:05:34.820806Z",
     "shell.execute_reply": "2024-04-28T07:05:34.820406Z",
     "shell.execute_reply.started": "2024-04-28T07:05:34.818896Z"
    },
    "tags": []
   },
   "source": [
    "### 5. encoder 모델을 활용하여 데이터를 유사도 기준으로 정렬하기\n",
    "최근에 공개된 intfloat의 e5 Multi Lingual 모델을 사용하여 유사도를 계산합니다.  \n",
    "질문을 했을 때, 검색되는 인기글 데이터들중 유사도가 높은 순서대로 문서를 다시 정렬합니다.  \n",
    "정렬된 순서대로 데이터를 좀더 많이 참조하도록 프롬프트를 통해 지시합니다."
   ]
  },
  {
   "cell_type": "code",
   "execution_count": 26,
   "id": "6716c4ee-7092-4b5b-9090-7e3c6c20e683",
   "metadata": {
    "execution": {
     "iopub.execute_input": "2024-04-30T11:20:33.674412Z",
     "iopub.status.busy": "2024-04-30T11:20:33.672993Z",
     "iopub.status.idle": "2024-04-30T11:20:33.683742Z",
     "shell.execute_reply": "2024-04-30T11:20:33.682679Z",
     "shell.execute_reply.started": "2024-04-30T11:20:33.674352Z"
    },
    "tags": []
   },
   "outputs": [],
   "source": [
    "search_data = utils.jload(\"./data/document.json\")"
   ]
  },
  {
   "cell_type": "markdown",
   "id": "3f6c1f6f-cd6c-4b89-a0ee-ff728c8e9ca6",
   "metadata": {},
   "source": [
    "e5모델의 자세한 내용은 [hugginface](https://huggingface.co/intfloat/e5-base-v2)를 참조하세요"
   ]
  },
  {
   "cell_type": "code",
   "execution_count": null,
   "id": "37a42296-087f-41be-b539-d2a5219a6ac0",
   "metadata": {
    "execution": {
     "iopub.status.busy": "2024-04-29T13:57:23.063513Z",
     "iopub.status.idle": "2024-04-29T13:57:23.063730Z",
     "shell.execute_reply": "2024-04-29T13:57:23.063574Z",
     "shell.execute_reply.started": "2024-04-29T13:57:23.063568Z"
    },
    "tags": []
   },
   "outputs": [],
   "source": [
    "model_id = \"intfloat/e5-base-v2\"\n",
    "model_device = \"cpu\"\n",
    "tokenizer = AutoTokenizer.from_pretrained(model_id, device_map=model_device)\n",
    "model = AutoModel.from_pretrained(model_id)\n",
    "\n",
    "for question in tqdm(search_data):\n",
    "    input1 = similarity.average_pool(model=model, tokenizer=tokenizer, input_text=question['question'])\n",
    "    input2 = similarity.average_pool(model=model, tokenizer=tokenizer, input_text=question['document'])\n",
    "    scores = similarity.cosine_similarity(input1, input2)\n",
    "    \n",
    "    # scores 순서대로 정렬\n",
    "    question['document'], question['scores'] = similarity.sort_by_iterable(target=question['document'], key_iter=scores)"
   ]
  },
  {
   "cell_type": "code",
   "execution_count": null,
   "id": "3eaf1c9d-4c3b-4efc-903c-fed86027077f",
   "metadata": {
    "execution": {
     "iopub.status.busy": "2024-04-29T13:57:23.064755Z",
     "iopub.status.idle": "2024-04-29T13:57:23.065435Z",
     "shell.execute_reply": "2024-04-29T13:57:23.065355Z",
     "shell.execute_reply.started": "2024-04-29T13:57:23.065348Z"
    },
    "tags": []
   },
   "outputs": [],
   "source": [
    "utils.jsave(search_data, \"./data/search_data.json\")"
   ]
  },
  {
   "cell_type": "markdown",
   "id": "c26fe065-19a8-4e0a-9288-d5bfcf4a198e",
   "metadata": {
    "tags": []
   },
   "source": [
    "### 6. Instuction 데이터셋 만들기\n",
    "완성된 질문리스트와 인기글 데이터를 통해 ChatGPT에 정답을 출력하도록 요청합니다.  \n",
    "ChatGPT는 아래의 프롬프트처럼 question에 대한 answer 답변을 출력합니다.  \n",
    "완성된 question, answer 텍스트는 학습시킬 모델의 훈련용 데이터셋으로 전달됩니다.  \n",
    "본 문서의 프롬프트는 [Stanford Alpaca의 프롬프트](https://github.com/tatsu-lab/stanford_alpaca/blob/main/prompt.txthttps://github.com/tatsu-lab/stanford_alpaca/blob/main/prompt.txt)를 참조하였습니다.  \n",
    "예시 데이터는 `instruction.jsonl`로 제공합니다."
   ]
  },
  {
   "cell_type": "code",
   "execution_count": null,
   "id": "a71a94b5-435c-402f-906c-44b844c8989c",
   "metadata": {
    "execution": {
     "iopub.status.busy": "2024-04-29T13:57:23.065951Z",
     "iopub.status.idle": "2024-04-29T13:57:23.066159Z",
     "shell.execute_reply": "2024-04-29T13:57:23.066075Z",
     "shell.execute_reply.started": "2024-04-29T13:57:23.066067Z"
    },
    "tags": []
   },
   "outputs": [],
   "source": [
    "print(prompts.INSTRUCTION_PROMPT_PREFIX + prompts.INSTRUCTION_PROMPT_CONTENT)"
   ]
  },
  {
   "cell_type": "code",
   "execution_count": null,
   "id": "63a00105-8d72-46d6-b762-afc2c90388d3",
   "metadata": {
    "execution": {
     "iopub.status.busy": "2024-04-29T13:57:23.066592Z",
     "iopub.status.idle": "2024-04-29T13:57:23.066730Z",
     "shell.execute_reply": "2024-04-29T13:57:23.066640Z",
     "shell.execute_reply.started": "2024-04-29T13:57:23.066636Z"
    },
    "tags": []
   },
   "outputs": [],
   "source": [
    "search = utils.jload(\"./data/search_data.json\")"
   ]
  },
  {
   "cell_type": "code",
   "execution_count": null,
   "id": "2f88e377-cddf-4d41-beda-34d13b58f96c",
   "metadata": {
    "execution": {
     "iopub.status.busy": "2024-04-29T13:57:23.067352Z",
     "iopub.status.idle": "2024-04-29T13:57:23.067644Z",
     "shell.execute_reply": "2024-04-29T13:57:23.067485Z",
     "shell.execute_reply.started": "2024-04-29T13:57:23.067470Z"
    },
    "tags": []
   },
   "outputs": [],
   "source": [
    "# 리스트 형태인 document 데이터를 하나로 합치기\n",
    "for data in search:\n",
    "    data['document'] = \"\\n\".join([f\"{idx+1}. {d}\" for idx, d in enumerate(data['document'])])"
   ]
  },
  {
   "cell_type": "code",
   "execution_count": null,
   "id": "5e47d259-3bd7-4241-adfe-a37da70e23b8",
   "metadata": {
    "execution": {
     "iopub.status.busy": "2024-04-29T13:57:23.069463Z",
     "iopub.status.idle": "2024-04-29T13:57:23.069841Z",
     "shell.execute_reply": "2024-04-29T13:57:23.069657Z",
     "shell.execute_reply.started": "2024-04-29T13:57:23.069650Z"
    },
    "tags": []
   },
   "outputs": [],
   "source": [
    "print(search[0]['document'])"
   ]
  },
  {
   "cell_type": "code",
   "execution_count": null,
   "id": "455bfdac-8ad1-41cf-85be-54fbbdf26e13",
   "metadata": {
    "execution": {
     "iopub.status.busy": "2024-04-29T13:57:23.071672Z",
     "iopub.status.idle": "2024-04-29T13:57:23.072167Z",
     "shell.execute_reply": "2024-04-29T13:57:23.071766Z",
     "shell.execute_reply.started": "2024-04-29T13:57:23.071760Z"
    },
    "tags": []
   },
   "outputs": [],
   "source": [
    "print(prompts.INSTRUCTION_PROMPT_CONTENT)"
   ]
  },
  {
   "cell_type": "code",
   "execution_count": null,
   "id": "826d6649-9f4a-454a-b9b5-78b4751f9dd8",
   "metadata": {
    "execution": {
     "iopub.status.busy": "2024-04-29T13:57:23.073969Z",
     "iopub.status.idle": "2024-04-29T13:57:23.074246Z",
     "shell.execute_reply": "2024-04-29T13:57:23.074178Z",
     "shell.execute_reply.started": "2024-04-29T13:57:23.074170Z"
    },
    "tags": []
   },
   "outputs": [],
   "source": [
    "prefix = prompts.INSTRUCTION_PROMPT_PREFIX\n",
    "instructions = []\n",
    "total_instructions = len(search) // 10\n",
    "for index in range(1, total_instructions + 2):\n",
    "    start_index = (index - 1) * 10\n",
    "    end_index = index * 10\n",
    "    content = \"\\n\".join([\n",
    "        prompts.INSTRUCTION_PROMPT_CONTENT.format(question = data['question'], document = data['document'])\n",
    "        for data in search[start_index:end_index]\n",
    "    ])\n",
    "    instruction = prefix + content\n",
    "    instructions.append(instruction)"
   ]
  },
  {
   "cell_type": "code",
   "execution_count": null,
   "id": "e0f8f046-7f46-407b-83a4-e1a6f837d372",
   "metadata": {
    "execution": {
     "iopub.status.busy": "2024-04-29T13:57:23.074626Z",
     "iopub.status.idle": "2024-04-29T13:57:23.074861Z",
     "shell.execute_reply": "2024-04-29T13:57:23.074686Z",
     "shell.execute_reply.started": "2024-04-29T13:57:23.074675Z"
    },
    "tags": []
   },
   "outputs": [],
   "source": [
    "print(instructions[0])"
   ]
  },
  {
   "cell_type": "markdown",
   "id": "6f9db1a4-759b-462a-83b4-0645ad4ceaf4",
   "metadata": {},
   "source": [
    "포맷팅하여 완성한 프롬프트는 아래와 같습니다.  \n",
    "아래 데이터를 ChatGPT API로 넘겨줍니다."
   ]
  },
  {
   "cell_type": "code",
   "execution_count": 10,
   "id": "9d4d6657-68fe-408a-8951-656ec3288cce",
   "metadata": {
    "execution": {
     "iopub.execute_input": "2024-04-28T08:27:26.838588Z",
     "iopub.status.busy": "2024-04-28T08:27:26.837702Z",
     "iopub.status.idle": "2024-04-28T08:27:26.848920Z",
     "shell.execute_reply": "2024-04-28T08:27:26.847911Z",
     "shell.execute_reply.started": "2024-04-28T08:27:26.838527Z"
    },
    "tags": []
   },
   "outputs": [
    {
     "name": "stdout",
     "output_type": "stream",
     "text": [
      "요청받은 question을 document를 참조하여 answer로 답변하세요.\n",
      "question 1개당 여러개의 document가 주어지며, question은 5개씩 전달됩니다.\n",
      "\n",
      "요구사항은 다음과 같습니다:\n",
      "1. 어휘의 다양성을 위해 같은 단어를 반복하지 않습니다.\n",
      "2. 문장의 형태가 다양해야합니다. 예를 들어 질문과 명령형이 결합되는 형태여야 합니다.\n",
      "3. 답변은 제공받는 document들을 기반으로 작성되어야 합니다.\n",
      "4. 제공되는 document의 순서가 먼저 제공될 수록 더 중요한 데이터이므로 답변에 더 많은 영향을 끼쳐야합니다.\n",
      "5. 답변은 자세한 내용이 포함되도록 제공되어야하지만 200단어를 넘지 않는 것이 좋습니다.\n",
      "\n",
      "출력 형식은 JSON형식을 따라야 합니다.\n",
      "Indentation은 없도록 출력하세요.\n",
      "각 question마다 출력 형식은 다음과 같아야합니다:\n",
      "{'question': '전달 받은 question의 내용', 'answer': '답변 내용'}\n",
      "\n",
      "###question:\n",
      "전세 계약 기간은 보통 얼마나 되나요?\n",
      "###document:\n",
      "1. 말해야 되나요? 주택임대차보호법 제 6조 제 1항 (계약의 갱신) 계약이 해지되기 6개월 전부터 2개월 전까지, 계약을 해지하겠다는 통보를 해야 한다. 즉, 법률상 늦어도 계약이 종료되기 2개월 전까지는 임대인에게 말해야 된다는 뜻인데요. 만약 해당 기간 안에 말하지 않았다면? 자동으로 연장되는 묵시적 갱신이 될 수 있습니다. 때문에, 종료 시점에 맞춰서 자금을...\n",
      "2. 기간을 보통 2달 정도 주게 되는데, 해당 기간 내 임대인은 건설사에 중도금 대출과 잔금을 모두 상환해야 하기 때문에 금액이 떨어지게 됩니다. 오늘은, 미등기 신축 아파트 전세 계약... 요즘은, 임차인이 전세를 구할 때 전세자금 대출을 받는 경우가 상당히 많습니다. 그런데 대출에 필요한 모든 서류를 은행에 제출했을 경우 은행에서 대출금이 나오는지?는...\n",
      "3. 전세보증금반환소송 유리한 결과를 위해 전세 보증금은 결국 임대인과 임차인이 계약을 하게 된 시점부터 법적 효력이 가능한 기간 동안 임차인이 임대인의 부동산을 사용하겠다는... 사례에는 얼마나 더 다양한 시점이 있는지를 사전에 꼭 파악한 뒤 철저히 준비를 해야 한다고 하였습니다. 인가결정이나도 안도할 수 없어 반환금 지급 명령은 인가 결정이 되었다고...\n",
      "4. 결국 전세계약기간이 얼마나 남았는지는 중요치 않습니다. 집주인이 만기에 보증금을 돌려줄 여력이 없다는 정황을 밝혀 서둘러 집행에 들어가야 합니다. 서둘러 등기부등본을... 보통 낙찰이 되면 세금을 우선적으로 배당을 한 뒤에 남은 돈을 채무자들에게 배당하게 됩니다. 따라서 세금의 액수가 크다면 임차인까지 내려오는 배당금이 남아있지 않게 됩니다. 다만...\n",
      "5. 생각하면 전세사기 초기 때의 내 예전 모습이 떠올라서, 마음이 찡해진다... 얼마나 힘드실까... 그래서 결심했다. 그 사람들을 위해서, 정보의 사막 속에서 몸소 필요한 정보를 찾고... 어, 근데 계약기간이 남았다? 1. 이사 가고 싶다. 2. 전세금 반환 소송을 걸고 싶다. (승소 후 재산 압류, 경매 진행, 채권추심 하고 싶다.) 1, 2 중 하나에 해당된다면, 중도해지하는 걸...\n",
      "\n",
      "\n",
      "###question:\n",
      "전세 계약서에는 어떤 내용이 포함되어야 하나요?\n",
      "###document:\n",
      "1. 전세사기 근저당과 같은 문제는 으로 인해 발생합니다. 는 있지만 실제로 많은 사람들이 돈을 빌려준다면 원금이나 이자를 갚지 못하는 경우가 많기 때문에 꼭 알아두시는 것이 좋습니다. 주의를 하셔야 할 내용들을 하나하나 정리해보았으니 자세하게 살펴보겠습니다만 이 글을 마무리하고자 합니다. 조언드렸지만 현재 진행 중인 을 정리해 보자면 다음과...\n",
      "2. 것도 하나의 방법이겠죠. 이렇듯 힘들게 작성하여 보냈는데, 만약 반송이 된다면 어떻게 해야 될까요? 전세계약해지 내용증명 공시송달 신청하세요 공시송달이란, 법원에 게시하는... 의사표시 공시송달 신청서를 작성한 후, 계약서와 초본 등을 첨부하여 법원에 접수하면 끝인데요. 해당 절차까지 고려한다면\n"
     ]
    }
   ],
   "source": [
    "print(instructions[0][:2000])"
   ]
  },
  {
   "cell_type": "markdown",
   "id": "f4b33665-0ece-4d79-898a-a05ff6880f0c",
   "metadata": {},
   "source": [
    "`gpt-4-turbo`는 `gpt-4` 보다 성능이 좋으면서 가격은 1/3입니다.  \n",
    "절대로 `gpt-4`를 사용하지말고 `gpt-4-turbo`를 사용하세요.  \n",
    "[OpenAI 가격 정책](https://openai.com/pricing)을 참조하세요"
   ]
  },
  {
   "cell_type": "code",
   "execution_count": 14,
   "id": "6838a02f-2375-4fef-9817-b856e3f1658b",
   "metadata": {
    "execution": {
     "iopub.execute_input": "2024-04-29T02:00:45.568410Z",
     "iopub.status.busy": "2024-04-29T02:00:45.567626Z",
     "iopub.status.idle": "2024-04-29T02:00:45.577575Z",
     "shell.execute_reply": "2024-04-29T02:00:45.576075Z",
     "shell.execute_reply.started": "2024-04-29T02:00:45.568355Z"
    },
    "tags": []
   },
   "outputs": [],
   "source": [
    "for inst in tqdm(instructions):\n",
    "    result = utils.get_completion(inst, model=\"gpt-4-turbo-2024-04-09\")\n",
    "    with open(\"instruction.jsonl\", \"a\", encoding=\"utf-8\") as f:\n",
    "        for line in result.split(\"\\n\"):\n",
    "            f.write(line)\n",
    "            f.write(\"\\n\")"
   ]
  }
 ],
 "metadata": {
  "kernelspec": {
   "display_name": "base",
   "language": "python",
   "name": ".base"
  },
  "language_info": {
   "codemirror_mode": {
    "name": "ipython",
    "version": 3
   },
   "file_extension": ".py",
   "mimetype": "text/x-python",
   "name": "python",
   "nbconvert_exporter": "python",
   "pygments_lexer": "ipython3",
   "version": "3.11.5"
  }
 },
 "nbformat": 4,
 "nbformat_minor": 5
}
