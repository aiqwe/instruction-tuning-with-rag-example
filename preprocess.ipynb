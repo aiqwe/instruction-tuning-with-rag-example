{
 "cells": [
  {
   "cell_type": "markdown",
   "id": "65d015e7-f608-4f2c-a580-e476e4d23455",
   "metadata": {
    "execution": {
     "iopub.execute_input": "2024-04-27T14:24:44.399720Z",
     "iopub.status.busy": "2024-04-27T14:24:44.399074Z",
     "iopub.status.idle": "2024-04-27T14:24:44.688783Z",
     "shell.execute_reply": "2024-04-27T14:24:44.688485Z",
     "shell.execute_reply.started": "2024-04-27T14:24:44.399656Z"
    },
    "tags": []
   },
   "source": [
    "### 데이터셋 준비 하기\n",
    "Instruction Fine Tuning을 위해 데이터셋을 준비합니다.  \n",
    "데이터셋은 아래의 순서로 준비합니다.\n",
    "---\n",
    "\n",
    "1. 도메인 정하기  \n",
    "부동산에 대해 잘 대답할 수 있는 챗봇을 타겟으로 설정합니다.  \n",
    "\n",
    "2. 부동산에 관련된 키워드를 생각해보기  \n",
    "책, 뉴스, 부동산 사이트에서 키워드를 수집합니다. 사람들이 궁금해할만한 키워드를 대상으로 합니다. (예: 전세 계약, 신혼부부 특별공급, 토지거래허가구역...)  \n",
    "\n",
    "3. 부동산 키워드를 통해 사람들이 찾아볼만한 질문리스트 만들어보기(`query.jsonl`)  \n",
    "2번에서 수집한 키워드를 기반으로, 사람들이 궁금해할만한 질문리스트를 ChatGPT를 활용해 만들어봅니다. 충분한 데이터셋 확보할 만큼의 질문리스트를 생성합니다.\n",
    "\n",
    "4. 질문리스트로 네이버에 검색하여 인기 글 데이터 수집하기(`search_data.json`)  \n",
    "3번에서 수집한 질문리스트를 Selenium 라이브러리를 활용하여 네이버에 검색합니다. 검색 결과중 인기글의 텍스트 데이터를 추출합니다.\n",
    "\n",
    "5. encoder 모델을 활용하여 데이터를 유사도 기준으로 정렬하기(`search_data.json`)  \n",
    "4번에서 수집한 인기글 텍스트 데이터가 질문리스트와 얼마나 유사한지 계산합니다.\n",
    "질문리스트와 가장 유사한 인기글 텍스트를 상위 순위로 정렬합니다.\n",
    "\n",
    "6. Instuction 데이터셋 만들기(`instruction.jsonl`)  \n",
    "질문리스트 + 정렬한 인기글을 합쳐서 ChatGPT에 Instruction 데이터를 만들어달라고 요청합니다. 이 Instruction 데이터는 Fine Tuning에 사용됩니다."
   ]
  },
  {
   "cell_type": "code",
   "execution_count": 2,
   "id": "236cc32b-567d-4444-97cb-b3eff129879d",
   "metadata": {
    "execution": {
     "iopub.execute_input": "2024-05-02T00:23:49.385402Z",
     "iopub.status.busy": "2024-05-02T00:23:49.384244Z",
     "iopub.status.idle": "2024-05-02T00:23:49.397075Z",
     "shell.execute_reply": "2024-05-02T00:23:49.395444Z",
     "shell.execute_reply.started": "2024-05-02T00:23:49.385339Z"
    },
    "tags": []
   },
   "outputs": [],
   "source": [
    "!pip install --quiet\\\n",
    "selenium==4.20.0\\\n",
    "openai==1.23.6\\\n",
    "datasets==2.19.0\\\n",
    "accelerate==0.27.2\\\n",
    "flash-attn==0.2.4\\\n",
    "peft==0.10.0\\\n",
    "trl==0.8.6\\\n",
    "transformers==4.40.1\\\n",
    "python-dotenv==1.0.1"
   ]
  },
  {
   "cell_type": "code",
   "execution_count": 1,
   "id": "771138c9-f9e6-49ed-a04e-21486d54cb56",
   "metadata": {
    "execution": {
     "iopub.execute_input": "2024-05-02T12:59:21.787253Z",
     "iopub.status.busy": "2024-05-02T12:59:21.787076Z",
     "iopub.status.idle": "2024-05-02T12:59:23.684142Z",
     "shell.execute_reply": "2024-05-02T12:59:23.683881Z",
     "shell.execute_reply.started": "2024-05-02T12:59:21.787229Z"
    },
    "tags": []
   },
   "outputs": [],
   "source": [
    "import json\n",
    "from tqdm import tqdm\n",
    "from transformers import AutoModel, AutoTokenizer\n",
    "\n",
    "import utils\n",
    "import prompts\n",
    "import similarity"
   ]
  },
  {
   "cell_type": "markdown",
   "id": "e2efb55f-3c57-4e7e-89e3-96fcab92db7d",
   "metadata": {},
   "source": [
    "### 2. 부동산에 관련된 키워드를 생각해보기\n",
    "부동산에 관련된 키워드를 수집하여 저장합니다.  \n",
    "예시 데이터는 `seed_words.txt` 파일로 제공합니다."
   ]
  },
  {
   "cell_type": "code",
   "execution_count": 12,
   "id": "8703faac-3a56-4259-b2f8-003c63485699",
   "metadata": {
    "execution": {
     "iopub.execute_input": "2024-05-02T08:46:57.668646Z",
     "iopub.status.busy": "2024-05-02T08:46:57.668338Z",
     "iopub.status.idle": "2024-05-02T08:46:57.680118Z",
     "shell.execute_reply": "2024-05-02T08:46:57.679661Z",
     "shell.execute_reply.started": "2024-05-02T08:46:57.668624Z"
    },
    "tags": []
   },
   "outputs": [],
   "source": [
    "with open(\"./data/seed_words.txt\", \"r\") as f:\n",
    "    seed_words = f.readlines()"
   ]
  },
  {
   "cell_type": "code",
   "execution_count": 13,
   "id": "0b731610-6b30-4eb4-ae3a-5faa7175b005",
   "metadata": {
    "execution": {
     "iopub.execute_input": "2024-05-02T08:46:57.793470Z",
     "iopub.status.busy": "2024-05-02T08:46:57.792857Z",
     "iopub.status.idle": "2024-05-02T08:46:57.808966Z",
     "shell.execute_reply": "2024-05-02T08:46:57.808185Z",
     "shell.execute_reply.started": "2024-05-02T08:46:57.793424Z"
    },
    "tags": []
   },
   "outputs": [
    {
     "data": {
      "text/plain": [
       "['전세 계약\\n', '임대차 계약\\n', '전세 사기\\n', '임대차 분쟁\\n']"
      ]
     },
     "execution_count": 13,
     "metadata": {},
     "output_type": "execute_result"
    }
   ],
   "source": [
    "seed_words[:4]"
   ]
  },
  {
   "cell_type": "code",
   "execution_count": 14,
   "id": "4cd9daee-9abf-49ca-a418-1515ef78aab3",
   "metadata": {
    "execution": {
     "iopub.execute_input": "2024-05-02T08:46:57.934020Z",
     "iopub.status.busy": "2024-05-02T08:46:57.933791Z",
     "iopub.status.idle": "2024-05-02T08:46:57.944589Z",
     "shell.execute_reply": "2024-05-02T08:46:57.943222Z",
     "shell.execute_reply.started": "2024-05-02T08:46:57.933998Z"
    },
    "tags": []
   },
   "outputs": [],
   "source": [
    "# Element마다 있는 \\n 제거, '전세 계약\\n' -> '전세 계약'\n",
    "seed_words = list(map(lambda x: x.strip(\"\\n\"), seed_words))"
   ]
  },
  {
   "cell_type": "code",
   "execution_count": 15,
   "id": "d4a7994b-fe60-4f7a-9446-22ee51936085",
   "metadata": {
    "execution": {
     "iopub.execute_input": "2024-05-02T08:46:58.634675Z",
     "iopub.status.busy": "2024-05-02T08:46:58.634148Z",
     "iopub.status.idle": "2024-05-02T08:46:58.649073Z",
     "shell.execute_reply": "2024-05-02T08:46:58.648552Z",
     "shell.execute_reply.started": "2024-05-02T08:46:58.634645Z"
    },
    "tags": []
   },
   "outputs": [
    {
     "data": {
      "text/plain": [
       "['전세 계약', '임대차 계약', '전세 사기', '임대차 분쟁']"
      ]
     },
     "execution_count": 15,
     "metadata": {},
     "output_type": "execute_result"
    }
   ],
   "source": [
    "seed_words[:4]"
   ]
  },
  {
   "cell_type": "markdown",
   "id": "c539ba2e-355f-4482-a1d7-b8a315a43c2e",
   "metadata": {
    "execution": {
     "iopub.execute_input": "2024-04-27T14:46:47.170359Z",
     "iopub.status.busy": "2024-04-27T14:46:47.169552Z",
     "iopub.status.idle": "2024-04-27T14:46:47.181132Z",
     "shell.execute_reply": "2024-04-27T14:46:47.178484Z",
     "shell.execute_reply.started": "2024-04-27T14:46:47.170307Z"
    },
    "tags": []
   },
   "source": [
    "### 3. 부동산 키워드를 통해 사람들이 찾아볼만한 질문리스트 만들어보기\n",
    "`format` 메서드를 적용할 수 있게 프롬프트를 미리 작성합니다.  \n",
    "미리 작성된 프롬프트에 `seed_words`를 `format` 적용하여 프롬프트를 완성시킵니다.  \n",
    "예시 데이터는 `query.jsonl` 파일로 제공합니다."
   ]
  },
  {
   "cell_type": "code",
   "execution_count": 16,
   "id": "f06a5e79-9697-4ff9-ac38-6b23d298a483",
   "metadata": {
    "execution": {
     "iopub.execute_input": "2024-05-02T08:46:58.927363Z",
     "iopub.status.busy": "2024-05-02T08:46:58.926986Z",
     "iopub.status.idle": "2024-05-02T08:46:58.935516Z",
     "shell.execute_reply": "2024-05-02T08:46:58.934601Z",
     "shell.execute_reply.started": "2024-05-02T08:46:58.927335Z"
    },
    "tags": []
   },
   "outputs": [
    {
     "name": "stdout",
     "output_type": "stream",
     "text": [
      "주어진 seed_word에 대해 궁금해할 질문을 10개를 생성하세요.\n",
      "만들어낸 질문은 JSON형식을 따라야 합니다.\n",
      "Indentation은 없도록 출력하세요.\n",
      "아래 양식으로 출력하세요:\n",
      "{{\"seed_word\": \"{seed_word}\", \"answer\": [\"1번째 질문\", \"2번째 질문\"... , \"10번째 질문\"]}}\n"
     ]
    }
   ],
   "source": [
    "print(prompts.SEED_WORD_PROMPT_PREFIX + prompts.SEED_WORD_PROMPT_CONTENT)"
   ]
  },
  {
   "cell_type": "code",
   "execution_count": 17,
   "id": "18924823-18df-4d08-8b9a-34184d3f8153",
   "metadata": {
    "execution": {
     "iopub.execute_input": "2024-05-02T08:46:59.099083Z",
     "iopub.status.busy": "2024-05-02T08:46:59.098766Z",
     "iopub.status.idle": "2024-05-02T08:46:59.113459Z",
     "shell.execute_reply": "2024-05-02T08:46:59.112988Z",
     "shell.execute_reply.started": "2024-05-02T08:46:59.099059Z"
    },
    "tags": []
   },
   "outputs": [
    {
     "name": "stdout",
     "output_type": "stream",
     "text": [
      "주어진 seed_word에 대해 궁금해할 질문을 10개를 생성하세요.\n",
      "만들어낸 질문은 JSON형식을 따라야 합니다.\n",
      "Indentation은 없도록 출력하세요.\n",
      "아래 양식으로 출력하세요:\n",
      "{\"seed_word\": \"전세 계약\", \"answer\": [\"1번째 질문\", \"2번째 질문\"... , \"10번째 질문\"]}\n"
     ]
    }
   ],
   "source": [
    "print(prompts.SEED_WORD_PROMPT_PREFIX + prompts.SEED_WORD_PROMPT_CONTENT.format(seed_word=seed_words[0]))"
   ]
  },
  {
   "cell_type": "code",
   "execution_count": 18,
   "id": "ea0cf546-2d03-4c4e-b433-e02fb9bfed34",
   "metadata": {
    "execution": {
     "iopub.execute_input": "2024-05-02T08:46:59.228891Z",
     "iopub.status.busy": "2024-05-02T08:46:59.228718Z",
     "iopub.status.idle": "2024-05-02T08:46:59.231643Z",
     "shell.execute_reply": "2024-05-02T08:46:59.231245Z",
     "shell.execute_reply.started": "2024-05-02T08:46:59.228876Z"
    },
    "tags": []
   },
   "outputs": [],
   "source": [
    "# 모델에게 Prefix 토큰을 중복해서 전달할 필요가 없으므로, Prefix 토큰은 1번만 사용하고 Content을 반복해서 프롬프트를 생성\n",
    "seed_word_prefix = prompts.SEED_WORD_PROMPT_PREFIX\n",
    "seed_word_content = [prompts.SEED_WORD_PROMPT_CONTENT.format(seed_word=s) for s in seed_words]"
   ]
  },
  {
   "cell_type": "code",
   "execution_count": 19,
   "id": "3d94a38a-2f41-47ae-84a0-fec8a8cbe016",
   "metadata": {
    "execution": {
     "iopub.execute_input": "2024-05-02T08:46:59.341476Z",
     "iopub.status.busy": "2024-05-02T08:46:59.340547Z",
     "iopub.status.idle": "2024-05-02T08:46:59.349862Z",
     "shell.execute_reply": "2024-05-02T08:46:59.349254Z",
     "shell.execute_reply.started": "2024-05-02T08:46:59.341432Z"
    },
    "tags": []
   },
   "outputs": [],
   "source": [
    "# 모델에게 Prefix 토큰을 중복해서 전달할 필요가 없으므로, Prefix 토큰은 1번만 사용하고 Content을 반복해서 프롬프트를 생성\n",
    "# 1개의 Prefix 마다 10개의 Content를 추가한다\n",
    "seed_word_prompts = []\n",
    "total_prompts = len(seed_words) // 10\n",
    "for idx in range(1, total_prompts+2):\n",
    "    start_index = (idx -1) * 10\n",
    "    end_index = idx * 10\n",
    "    seed_word_prompt = seed_word_prefix + \"\\n\".join(seed_word_content[start_index:end_index])\n",
    "    seed_word_prompts.append(seed_word_prompt)"
   ]
  },
  {
   "cell_type": "code",
   "execution_count": 20,
   "id": "45756685-409d-44e9-9833-c90d5d5a8ae9",
   "metadata": {
    "execution": {
     "iopub.execute_input": "2024-05-02T08:46:59.500354Z",
     "iopub.status.busy": "2024-05-02T08:46:59.500047Z",
     "iopub.status.idle": "2024-05-02T08:46:59.514605Z",
     "shell.execute_reply": "2024-05-02T08:46:59.513065Z",
     "shell.execute_reply.started": "2024-05-02T08:46:59.500330Z"
    },
    "tags": []
   },
   "outputs": [
    {
     "name": "stdout",
     "output_type": "stream",
     "text": [
      "주어진 seed_word에 대해 궁금해할 질문을 10개를 생성하세요.\n",
      "만들어낸 질문은 JSON형식을 따라야 합니다.\n",
      "Indentation은 없도록 출력하세요.\n",
      "아래 양식으로 출력하세요:\n",
      "{\"seed_word\": \"장기보유 특별 공제\", \"answer\": [\"1번째 질문\", \"2번째 질문\"... , \"10번째 질문\"]}\n",
      "{\"seed_word\": \"주택임대사업자\", \"answer\": [\"1번째 질문\", \"2번째 질문\"... , \"10번째 질문\"]}\n",
      "{\"seed_word\": \"종부세 중과세\", \"answer\": [\"1번째 질문\", \"2번째 질문\"... , \"10번째 질문\"]}\n",
      "{\"seed_word\": \"보금자리론\", \"answer\": [\"1번째 질문\", \"2번째 질문\"... , \"10번째 질문\"]}\n",
      "{\"seed_word\": \"디딤돌대출\", \"answer\": [\"1번째 질문\", \"2번째 질문\"... , \"10번째 질문\"]}\n",
      "{\"seed_word\": \"정책모기지\", \"answer\": [\"1번째 질문\", \"2번째 질문\"... , \"10번째 질문\"]}\n"
     ]
    }
   ],
   "source": [
    "print(seed_word_prompts[9])"
   ]
  },
  {
   "cell_type": "markdown",
   "id": "83112114-910f-42e6-96a4-96b4ef6cca19",
   "metadata": {},
   "source": [
    "### 4. 질문리스트로 네이버에 검색하여 인기 글 데이터 수집하기\n",
    "3번에서 생성한 질문리스트를 selenium 라이브러리를 통해 네이버로 검색합니다.  \n",
    "검색 결과의 인기글의 텍스트 정보를 저장합니다.  \n",
    "예시 데이터는 `search.jsonl`로 제공합니다.  "
   ]
  },
  {
   "cell_type": "code",
   "execution_count": 21,
   "id": "ae2f00a6-9463-4689-adc3-23edb4fcbef4",
   "metadata": {
    "execution": {
     "iopub.execute_input": "2024-05-02T08:47:00.493511Z",
     "iopub.status.busy": "2024-05-02T08:47:00.493018Z",
     "iopub.status.idle": "2024-05-02T08:47:00.503796Z",
     "shell.execute_reply": "2024-05-02T08:47:00.503078Z",
     "shell.execute_reply.started": "2024-05-02T08:47:00.493483Z"
    },
    "tags": []
   },
   "outputs": [],
   "source": [
    "query_data = utils.jload(\"./data/query.jsonl\")"
   ]
  },
  {
   "cell_type": "code",
   "execution_count": 22,
   "id": "ae8c5144-b151-4e2a-b9f4-c4a12c0890c0",
   "metadata": {
    "execution": {
     "iopub.execute_input": "2024-05-02T08:47:00.670968Z",
     "iopub.status.busy": "2024-05-02T08:47:00.670554Z",
     "iopub.status.idle": "2024-05-02T08:47:00.688798Z",
     "shell.execute_reply": "2024-05-02T08:47:00.686658Z",
     "shell.execute_reply.started": "2024-05-02T08:47:00.670899Z"
    },
    "tags": []
   },
   "outputs": [
    {
     "data": {
      "text/plain": [
       "['{\"seed_word\": \"전세 계약\", \"answer\": [\"전세 계약 기간은 보통 얼마나 되나요?\", \"전세 계약서에는 어떤 내용이 포함되어야 하나요?\", \"전세 계약 시 부동산 중개수수료는 어떻게 책정되나요?\", \"전세 계약 갱신 시 주의해야 할 점은 무엇인가요?\", \"전세 계약 종료 시 보증금 반환은 어떻게 이루어지나요?\", \"전세 계약 중 집주인이 바뀌면 어떻게 해야 하나요?\", \"전세 계약 시 등기부등본은 왜 확인해야 하나요?\", \"전세 계약 기간 중 월세로 전환하는 것이 가능한가요?\", \"전세 계약 시 확인해야 할 집의 하자 사항은 무엇인가요?\", \"전세 계약 분쟁 발생 시 어떤 법적 대응을 할 수 있나요?\"]}\\n',\n",
       " '{\"seed_word\": \"임대차 계약\", \"answer\": [\"임대차 계약서에는 어떤 내용이 포함되어야 하나요?\", \"임대차 계약 기간은 일반적으로 얼마나 되나요?\", \"임대차 계약 시 임차인이 부담해야 하는 비용은 무엇인가요?\", \"임대차 계약 종료 시 임차인의 원상복구 의무는 어떻게 되나요?\", \"임대차 계약 기간 중 임대인이 집을 매도하면 어떻게 되나요?\", \"임대차 계약 갱신 거절 시 임대인이 내세울 수 있는 사유는 무엇인가요?\", \"임대차 계약 시 확인해야 할 특약 사항은 무엇인가요?\", \"임대차 계약 기간 중 임차인이 계약을 해지하고 싶다면 어떻게 해야 하나요?\", \"임대차 계약상 임차인의 권리와 의무는 무엇인가요?\", \"임대차 계약 분쟁 발생 시 어떤 법적 대응을 할 수 있나요?\"]}\\n']"
      ]
     },
     "execution_count": 22,
     "metadata": {},
     "output_type": "execute_result"
    }
   ],
   "source": [
    "query_data[:2]"
   ]
  },
  {
   "cell_type": "code",
   "execution_count": 23,
   "id": "24b29dcf-f85e-48e9-ab0f-dfb1978bf1cd",
   "metadata": {
    "execution": {
     "iopub.execute_input": "2024-05-02T08:47:01.578884Z",
     "iopub.status.busy": "2024-05-02T08:47:01.578256Z",
     "iopub.status.idle": "2024-05-02T08:47:01.611354Z",
     "shell.execute_reply": "2024-05-02T08:47:01.610813Z",
     "shell.execute_reply.started": "2024-05-02T08:47:01.578832Z"
    },
    "tags": []
   },
   "outputs": [],
   "source": [
    "queries = []\n",
    "for line in query_data:\n",
    "    query = json.loads(line)\n",
    "    queries = queries + query['answer']"
   ]
  },
  {
   "cell_type": "code",
   "execution_count": 24,
   "id": "e79b1e26-5bc6-48b0-b049-7cb120fe5d07",
   "metadata": {
    "execution": {
     "iopub.execute_input": "2024-05-02T08:47:01.773318Z",
     "iopub.status.busy": "2024-05-02T08:47:01.772198Z",
     "iopub.status.idle": "2024-05-02T08:47:01.795256Z",
     "shell.execute_reply": "2024-05-02T08:47:01.794476Z",
     "shell.execute_reply.started": "2024-05-02T08:47:01.773256Z"
    },
    "tags": []
   },
   "outputs": [
    {
     "data": {
      "text/plain": [
       "['전세 계약 기간은 보통 얼마나 되나요?',\n",
       " '전세 계약서에는 어떤 내용이 포함되어야 하나요?',\n",
       " '전세 계약 시 부동산 중개수수료는 어떻게 책정되나요?',\n",
       " '전세 계약 갱신 시 주의해야 할 점은 무엇인가요?',\n",
       " '전세 계약 종료 시 보증금 반환은 어떻게 이루어지나요?']"
      ]
     },
     "execution_count": 24,
     "metadata": {},
     "output_type": "execute_result"
    }
   ],
   "source": [
    "queries[:5]"
   ]
  },
  {
   "cell_type": "code",
   "execution_count": 25,
   "id": "0530fa8b-cc76-4241-8bbb-011d7916053f",
   "metadata": {
    "execution": {
     "iopub.execute_input": "2024-05-02T08:47:01.918487Z",
     "iopub.status.busy": "2024-05-02T08:47:01.918064Z",
     "iopub.status.idle": "2024-05-02T08:47:01.936852Z",
     "shell.execute_reply": "2024-05-02T08:47:01.935973Z",
     "shell.execute_reply.started": "2024-05-02T08:47:01.918453Z"
    },
    "tags": []
   },
   "outputs": [
    {
     "data": {
      "text/plain": [
       "960"
      ]
     },
     "execution_count": 25,
     "metadata": {},
     "output_type": "execute_result"
    }
   ],
   "source": [
    "len(queries)"
   ]
  },
  {
   "cell_type": "markdown",
   "id": "1da64bd8-30be-4fff-bd61-76cb89867d54",
   "metadata": {},
   "source": [
    "selenium이 4.1 버전으로 업그레이드 되면서 별도로 webdriver를 다운로드 받을 필요가 없어졌습니다.  \n",
    "webdriver 파일이 없으면 selenium이 자체적으로 다운로드하게 된다고 합니다. [stackoverflow](https://stackoverflow.com/questions/22130109/cant-use-chrome-driver-for-seleniumhttps://stackoverflow.com/questions/22130109/cant-use-chrome-driver-for-selenium)  \n",
    "본 예제의 selenium 코드 크롤링 코드는 [wikidocs](https://wikidocs.net/137914) 내용을 참조하였습니다.  "
   ]
  },
  {
   "cell_type": "code",
   "execution_count": 26,
   "id": "63e1ba1f-2e06-481d-a66b-6ad9e99b0940",
   "metadata": {
    "execution": {
     "iopub.execute_input": "2024-05-02T08:47:04.112714Z",
     "iopub.status.busy": "2024-05-02T08:47:04.111532Z",
     "iopub.status.idle": "2024-05-02T11:34:13.060728Z",
     "shell.execute_reply": "2024-05-02T11:34:13.060165Z",
     "shell.execute_reply.started": "2024-05-02T08:47:04.112661Z"
    },
    "tags": []
   },
   "outputs": [
    {
     "name": "stderr",
     "output_type": "stream",
     "text": [
      "100%|███████████████████████████████████████████████████████████████████████████████| 960/960 [2:47:07<00:00, 10.45s/it]\n"
     ]
    }
   ],
   "source": [
    "search_data = utils.get_document_through_selenium(\n",
    "    inputs=queries,\n",
    "    n_documents=5,\n",
    "    indent=4,\n",
    "    save_path = \"./data/document.json\"\n",
    ")"
   ]
  },
  {
   "cell_type": "code",
   "execution_count": 31,
   "id": "ba1dc97c-e57d-4930-9e9f-764a77521247",
   "metadata": {
    "execution": {
     "iopub.execute_input": "2024-05-02T12:07:25.068422Z",
     "iopub.status.busy": "2024-05-02T12:07:25.068151Z",
     "iopub.status.idle": "2024-05-02T12:07:25.106825Z",
     "shell.execute_reply": "2024-05-02T12:07:25.106458Z",
     "shell.execute_reply.started": "2024-05-02T12:07:25.068405Z"
    },
    "tags": []
   },
   "outputs": [
    {
     "name": "stdout",
     "output_type": "stream",
     "text": [
      "말해야 되나요? 주택임대차보호법 제 6조 제 1항 (계약의 갱신) 계약이 해지되기 6개월 전부터 2개월 전까지, 계약을 해지하겠다는 통보를 해야 한다. 즉, 법률상 늦어도 계약이 종료되기 2개월 전까지는 임대인에게 말해야 된다는 뜻인데요. 만약 해당 기간 안에 말하지 않았다면? 자동으로 연장되는 묵시적 갱신이 될 수 있습니다. 때문에, 종료 시점에 맞춰서 자금을...\n"
     ]
    }
   ],
   "source": [
    "print(utils.jload(\"./data/document.json\")[0]['document'][0])"
   ]
  },
  {
   "cell_type": "markdown",
   "id": "658fe605-fb45-4c00-8034-283186c0058f",
   "metadata": {},
   "source": [
    "가끔 크롤링이 안되는 경우가 있어서 한번 검수해줍니다."
   ]
  },
  {
   "cell_type": "code",
   "execution_count": 2,
   "id": "46f9f0b3-3970-45ad-8f6b-7a423ff49ac9",
   "metadata": {
    "execution": {
     "iopub.execute_input": "2024-05-02T12:59:30.800891Z",
     "iopub.status.busy": "2024-05-02T12:59:30.798800Z",
     "iopub.status.idle": "2024-05-02T12:59:30.835056Z",
     "shell.execute_reply": "2024-05-02T12:59:30.834540Z",
     "shell.execute_reply.started": "2024-05-02T12:59:30.800839Z"
    },
    "tags": []
   },
   "outputs": [
    {
     "name": "stdout",
     "output_type": "stream",
     "text": [
      "Index [18] 번째 데이터가 수집되지 않았네요.\n",
      "Index [298] 번째 데이터가 수집되지 않았네요.\n",
      "Index [503] 번째 데이터가 수집되지 않았네요.\n",
      "Index [507] 번째 데이터가 수집되지 않았네요.\n",
      "Index [594] 번째 데이터가 수집되지 않았네요.\n",
      "Index [693] 번째 데이터가 수집되지 않았네요.\n",
      "Index [783] 번째 데이터가 수집되지 않았네요.\n",
      "Index [933] 번째 데이터가 수집되지 않았네요.\n",
      "Index [937] 번째 데이터가 수집되지 않았네요.\n"
     ]
    }
   ],
   "source": [
    "search_data = utils.jload('./data/document.json')\n",
    "for idx in range(len(search_data)):\n",
    "    if len(search_data[idx]['document']) == 0:\n",
    "        print(f\"Index [{idx}] 번째 데이터가 수집되지 않았네요.\")"
   ]
  },
  {
   "cell_type": "markdown",
   "id": "930e1334-1b85-460f-9cd8-ead31b8ab56c",
   "metadata": {},
   "source": [
    "수집되지 않은 데이터를 한번더 크롤링하게 하고 `document.json`에 저장합니다."
   ]
  },
  {
   "cell_type": "code",
   "execution_count": 3,
   "id": "1cef1aaa-fb9e-42cb-a529-5a06097c75bc",
   "metadata": {
    "execution": {
     "iopub.execute_input": "2024-05-02T12:59:32.965698Z",
     "iopub.status.busy": "2024-05-02T12:59:32.964938Z",
     "iopub.status.idle": "2024-05-02T13:01:11.154786Z",
     "shell.execute_reply": "2024-05-02T13:01:11.154105Z",
     "shell.execute_reply.started": "2024-05-02T12:59:32.965659Z"
    },
    "tags": []
   },
   "outputs": [
    {
     "name": "stderr",
     "output_type": "stream",
     "text": [
      "100%|█████████████████████████████████████████████████████████████████████████████████████| 1/1 [00:15<00:00, 15.80s/it]\n",
      "100%|█████████████████████████████████████████████████████████████████████████████████████| 1/1 [00:01<00:00,  1.70s/it]\n",
      "100%|█████████████████████████████████████████████████████████████████████████████████████| 1/1 [00:05<00:00,  5.79s/it]\n",
      "100%|█████████████████████████████████████████████████████████████████████████████████████| 1/1 [00:16<00:00, 16.60s/it]\n",
      "100%|█████████████████████████████████████████████████████████████████████████████████████| 1/1 [00:11<00:00, 11.55s/it]\n",
      "100%|█████████████████████████████████████████████████████████████████████████████████████| 1/1 [00:10<00:00, 10.45s/it]\n",
      "100%|█████████████████████████████████████████████████████████████████████████████████████| 1/1 [00:08<00:00,  8.61s/it]\n",
      "100%|█████████████████████████████████████████████████████████████████████████████████████| 1/1 [00:04<00:00,  4.64s/it]\n",
      "100%|█████████████████████████████████████████████████████████████████████████████████████| 1/1 [00:15<00:00, 15.56s/it]\n"
     ]
    }
   ],
   "source": [
    "for idx in range(len(search_data)):\n",
    "    if len(search_data[idx]['document']) == 0:\n",
    "        search_data[idx] = utils.get_document_through_selenium(\n",
    "            inputs=search_data[idx]['question'],\n",
    "            n_documents=5,\n",
    "            indent=4\n",
    "        )[0]"
   ]
  },
  {
   "cell_type": "markdown",
   "id": "dcf676a8-e2ce-4c8e-840f-e31071d887ce",
   "metadata": {},
   "source": [
    "제대로 수집되었는지 또 검사해줍니다."
   ]
  },
  {
   "cell_type": "code",
   "execution_count": 53,
   "id": "a91b48d5-4582-4e81-a61a-911baf012f62",
   "metadata": {
    "execution": {
     "iopub.execute_input": "2024-05-02T12:53:24.337948Z",
     "iopub.status.busy": "2024-05-02T12:53:24.336090Z",
     "iopub.status.idle": "2024-05-02T12:53:24.354848Z",
     "shell.execute_reply": "2024-05-02T12:53:24.354255Z",
     "shell.execute_reply.started": "2024-05-02T12:53:24.337764Z"
    },
    "tags": []
   },
   "outputs": [
    {
     "name": "stdout",
     "output_type": "stream",
     "text": [
      "Index [693] 번째 데이터가 수집되지 않았네요.\n"
     ]
    }
   ],
   "source": [
    "for idx in range(len(search_data)):\n",
    "    if len(search_data[idx]['document']) == 0:\n",
    "        print(f\"Index [{idx}] 번째 데이터가 수집되지 않았네요.\")"
   ]
  },
  {
   "cell_type": "markdown",
   "id": "3dd03837-9be5-4800-bb6b-cac946527463",
   "metadata": {},
   "source": [
    "원인 파악을 위해 해당 페이지로 검색해보면 인기글이 없으므로 데이터에서 삭제합니다."
   ]
  },
  {
   "cell_type": "code",
   "execution_count": 4,
   "id": "2b177ce9-aad4-4f43-bd54-d503441c6d9d",
   "metadata": {
    "execution": {
     "iopub.execute_input": "2024-05-02T13:01:11.156506Z",
     "iopub.status.busy": "2024-05-02T13:01:11.156206Z",
     "iopub.status.idle": "2024-05-02T13:01:11.160800Z",
     "shell.execute_reply": "2024-05-02T13:01:11.160103Z",
     "shell.execute_reply.started": "2024-05-02T13:01:11.156472Z"
    },
    "tags": []
   },
   "outputs": [],
   "source": [
    "# 삭제할 인덱스 모으기\n",
    "remove_idx_list = []\n",
    "for idx in range(len(search_data)):\n",
    "    if len(search_data[idx]['document']) == 0:\n",
    "        remove_idx_list.append(idx)\n",
    "\n",
    "# 삭제할 인덱스를 pop \n",
    "for idx in remove_idx_list:\n",
    "    search_data.pop(idx)"
   ]
  },
  {
   "cell_type": "code",
   "execution_count": 8,
   "id": "f32ac551-7861-46cf-bed2-c9470d1455b2",
   "metadata": {
    "execution": {
     "iopub.execute_input": "2024-05-02T13:02:28.740226Z",
     "iopub.status.busy": "2024-05-02T13:02:28.739366Z",
     "iopub.status.idle": "2024-05-02T13:02:28.770919Z",
     "shell.execute_reply": "2024-05-02T13:02:28.770602Z",
     "shell.execute_reply.started": "2024-05-02T13:02:28.740166Z"
    },
    "tags": []
   },
   "outputs": [],
   "source": [
    "utils.jsave(data=search_data, file=\"./data/document.json\", mode=\"w\", indent=4)"
   ]
  },
  {
   "cell_type": "code",
   "execution_count": 6,
   "id": "c05304e7-eeec-4873-9c32-a7bf9aa102d8",
   "metadata": {
    "execution": {
     "iopub.execute_input": "2024-05-02T13:02:08.866268Z",
     "iopub.status.busy": "2024-05-02T13:02:08.865247Z",
     "iopub.status.idle": "2024-05-02T13:02:08.883309Z",
     "shell.execute_reply": "2024-05-02T13:02:08.882333Z",
     "shell.execute_reply.started": "2024-05-02T13:02:08.866206Z"
    },
    "tags": []
   },
   "outputs": [],
   "source": [
    "for idx in range(len(search_data)):\n",
    "    if len(search_data[idx]['document']) == 0:\n",
    "        print(f\"Index [{idx}] 번째 데이터가 수집되지 않았네요.\")"
   ]
  },
  {
   "cell_type": "markdown",
   "id": "2d6130e7-344c-4058-ace3-39eb80087cfb",
   "metadata": {
    "execution": {
     "iopub.execute_input": "2024-04-28T07:05:34.818904Z",
     "iopub.status.busy": "2024-04-28T07:05:34.818806Z",
     "iopub.status.idle": "2024-04-28T07:05:34.820806Z",
     "shell.execute_reply": "2024-04-28T07:05:34.820406Z",
     "shell.execute_reply.started": "2024-04-28T07:05:34.818896Z"
    },
    "tags": []
   },
   "source": [
    "### 5. encoder 모델을 활용하여 데이터를 유사도 기준으로 정렬하기\n",
    "최근에 공개된 intfloat의 e5 Multi Lingual 모델을 사용하여 유사도를 계산합니다.  \n",
    "질문을 했을 때, 검색되는 인기글 데이터들중 유사도가 높은 순서대로 문서를 다시 정렬합니다.  \n",
    "정렬된 순서대로 데이터를 좀더 많이 참조하도록 프롬프트를 통해 지시합니다."
   ]
  },
  {
   "cell_type": "code",
   "execution_count": 9,
   "id": "6716c4ee-7092-4b5b-9090-7e3c6c20e683",
   "metadata": {
    "execution": {
     "iopub.execute_input": "2024-05-02T13:02:32.307651Z",
     "iopub.status.busy": "2024-05-02T13:02:32.306749Z",
     "iopub.status.idle": "2024-05-02T13:02:32.339749Z",
     "shell.execute_reply": "2024-05-02T13:02:32.339246Z",
     "shell.execute_reply.started": "2024-05-02T13:02:32.307614Z"
    },
    "tags": []
   },
   "outputs": [],
   "source": [
    "search_data = utils.jload(\"./data/document.json\")"
   ]
  },
  {
   "cell_type": "markdown",
   "id": "3f6c1f6f-cd6c-4b89-a0ee-ff728c8e9ca6",
   "metadata": {},
   "source": [
    "e5모델의 자세한 내용은 [hugginface](https://huggingface.co/intfloat/e5-base-v2)를 참조하세요"
   ]
  },
  {
   "cell_type": "code",
   "execution_count": 10,
   "id": "37a42296-087f-41be-b539-d2a5219a6ac0",
   "metadata": {
    "execution": {
     "iopub.execute_input": "2024-05-02T13:02:33.681144Z",
     "iopub.status.busy": "2024-05-02T13:02:33.680440Z",
     "iopub.status.idle": "2024-05-02T13:02:48.106305Z",
     "shell.execute_reply": "2024-05-02T13:02:48.105795Z",
     "shell.execute_reply.started": "2024-05-02T13:02:33.681100Z"
    },
    "tags": []
   },
   "outputs": [
    {
     "name": "stderr",
     "output_type": "stream",
     "text": [
      "  1%|▊                                                                                 | 10/959 [00:13<22:04,  1.40s/it]\n"
     ]
    },
    {
     "ename": "KeyboardInterrupt",
     "evalue": "",
     "output_type": "error",
     "traceback": [
      "\u001b[0;31m---------------------------------------------------------------------------\u001b[0m",
      "\u001b[0;31mKeyboardInterrupt\u001b[0m                         Traceback (most recent call last)",
      "Cell \u001b[0;32mIn[10], line 2\u001b[0m\n\u001b[1;32m      1\u001b[0m \u001b[38;5;28;01mfor\u001b[39;00m question \u001b[38;5;129;01min\u001b[39;00m tqdm(search_data):\n\u001b[0;32m----> 2\u001b[0m     question[\u001b[38;5;124m'\u001b[39m\u001b[38;5;124mdocument\u001b[39m\u001b[38;5;124m'\u001b[39m], question[\u001b[38;5;124m'\u001b[39m\u001b[38;5;124mscores\u001b[39m\u001b[38;5;124m'\u001b[39m] \u001b[38;5;241m=\u001b[39m \u001b[44msimilarity\u001b[49m\u001b[38;5;241;44m.\u001b[39;49m\u001b[44msort_by_similarity\u001b[49m\u001b[44m(\u001b[49m\u001b[44mquestion\u001b[49m\u001b[44m[\u001b[49m\u001b[38;5;124;44m'\u001b[39;49m\u001b[38;5;124;44mquestion\u001b[39;49m\u001b[38;5;124;44m'\u001b[39;49m\u001b[44m]\u001b[49m\u001b[44m,\u001b[49m\u001b[44m \u001b[49m\u001b[44mquestion\u001b[49m\u001b[44m[\u001b[49m\u001b[38;5;124;44m'\u001b[39;49m\u001b[38;5;124;44mdocument\u001b[39;49m\u001b[38;5;124;44m'\u001b[39;49m\u001b[44m]\u001b[49m\u001b[44m)\u001b[49m\n",
      "File \u001b[0;32m~/Desktop/notebook/study/instruction-tuning-with-rag-example/similarity.py:98\u001b[0m, in \u001b[0;36msort_by_similarity\u001b[0;34m(query, documents, device)\u001b[0m\n\u001b[1;32m     96\u001b[0m model_device \u001b[38;5;241m=\u001b[39m device\n\u001b[1;32m     97\u001b[0m tokenizer \u001b[38;5;241m=\u001b[39m AutoTokenizer\u001b[38;5;241m.\u001b[39mfrom_pretrained(model_id)\n\u001b[0;32m---> 98\u001b[0m model \u001b[38;5;241m=\u001b[39m \u001b[44mAutoModel\u001b[49m\u001b[38;5;241;44m.\u001b[39;49m\u001b[44mfrom_pretrained\u001b[49m\u001b[44m(\u001b[49m\u001b[44mmodel_id\u001b[49m\u001b[44m,\u001b[49m\u001b[44m \u001b[49m\u001b[44mdevice_map\u001b[49m\u001b[38;5;241;44m=\u001b[39;49m\u001b[44mmodel_device\u001b[49m\u001b[44m)\u001b[49m\n\u001b[1;32m    100\u001b[0m x1 \u001b[38;5;241m=\u001b[39m average_pool(model, tokenizer, query)\n\u001b[1;32m    101\u001b[0m x2 \u001b[38;5;241m=\u001b[39m average_pool(model, tokenizer, documents)\n",
      "File \u001b[0;32m~/.base/lib/python3.11/site-packages/transformers/models/auto/auto_factory.py:484\u001b[0m, in \u001b[0;36m_BaseAutoModelClass.from_pretrained\u001b[0;34m(cls, pretrained_model_name_or_path, *model_args, **kwargs)\u001b[0m\n\u001b[1;32m    481\u001b[0m \u001b[38;5;28;01mif\u001b[39;00m commit_hash \u001b[38;5;129;01mis\u001b[39;00m \u001b[38;5;28;01mNone\u001b[39;00m:\n\u001b[1;32m    482\u001b[0m     \u001b[38;5;28;01mif\u001b[39;00m \u001b[38;5;129;01mnot\u001b[39;00m \u001b[38;5;28misinstance\u001b[39m(config, PretrainedConfig):\n\u001b[1;32m    483\u001b[0m         \u001b[38;5;66;03m# We make a call to the config file first (which may be absent) to get the commit hash as soon as possible\u001b[39;00m\n\u001b[0;32m--> 484\u001b[0m         resolved_config_file \u001b[38;5;241m=\u001b[39m \u001b[44mcached_file\u001b[49m\u001b[44m(\u001b[49m\n\u001b[1;32m    485\u001b[0m \u001b[44m            \u001b[49m\u001b[44mpretrained_model_name_or_path\u001b[49m\u001b[44m,\u001b[49m\n\u001b[1;32m    486\u001b[0m \u001b[44m            \u001b[49m\u001b[44mCONFIG_NAME\u001b[49m\u001b[44m,\u001b[49m\n\u001b[1;32m    487\u001b[0m \u001b[44m            \u001b[49m\u001b[44m_raise_exceptions_for_gated_repo\u001b[49m\u001b[38;5;241;44m=\u001b[39;49m\u001b[38;5;28;44;01mFalse\u001b[39;49;00m\u001b[44m,\u001b[49m\n\u001b[1;32m    488\u001b[0m \u001b[44m            \u001b[49m\u001b[44m_raise_exceptions_for_missing_entries\u001b[49m\u001b[38;5;241;44m=\u001b[39;49m\u001b[38;5;28;44;01mFalse\u001b[39;49;00m\u001b[44m,\u001b[49m\n\u001b[1;32m    489\u001b[0m \u001b[44m            \u001b[49m\u001b[44m_raise_exceptions_for_connection_errors\u001b[49m\u001b[38;5;241;44m=\u001b[39;49m\u001b[38;5;28;44;01mFalse\u001b[39;49;00m\u001b[44m,\u001b[49m\n\u001b[1;32m    490\u001b[0m \u001b[44m            \u001b[49m\u001b[38;5;241;44m*\u001b[39;49m\u001b[38;5;241;44m*\u001b[39;49m\u001b[44mhub_kwargs\u001b[49m\u001b[44m,\u001b[49m\n\u001b[1;32m    491\u001b[0m \u001b[44m        \u001b[49m\u001b[44m)\u001b[49m\n\u001b[1;32m    492\u001b[0m         commit_hash \u001b[38;5;241m=\u001b[39m extract_commit_hash(resolved_config_file, commit_hash)\n\u001b[1;32m    493\u001b[0m     \u001b[38;5;28;01melse\u001b[39;00m:\n",
      "File \u001b[0;32m~/.base/lib/python3.11/site-packages/transformers/utils/hub.py:398\u001b[0m, in \u001b[0;36mcached_file\u001b[0;34m(path_or_repo_id, filename, cache_dir, force_download, resume_download, proxies, token, revision, local_files_only, subfolder, repo_type, user_agent, _raise_exceptions_for_gated_repo, _raise_exceptions_for_missing_entries, _raise_exceptions_for_connection_errors, _commit_hash, **deprecated_kwargs)\u001b[0m\n\u001b[1;32m    395\u001b[0m user_agent \u001b[38;5;241m=\u001b[39m http_user_agent(user_agent)\n\u001b[1;32m    396\u001b[0m \u001b[38;5;28;01mtry\u001b[39;00m:\n\u001b[1;32m    397\u001b[0m     \u001b[38;5;66;03m# Load from URL or cache if already cached\u001b[39;00m\n\u001b[0;32m--> 398\u001b[0m     resolved_file \u001b[38;5;241m=\u001b[39m \u001b[44mhf_hub_download\u001b[49m\u001b[44m(\u001b[49m\n\u001b[1;32m    399\u001b[0m \u001b[44m        \u001b[49m\u001b[44mpath_or_repo_id\u001b[49m\u001b[44m,\u001b[49m\n\u001b[1;32m    400\u001b[0m \u001b[44m        \u001b[49m\u001b[44mfilename\u001b[49m\u001b[44m,\u001b[49m\n\u001b[1;32m    401\u001b[0m \u001b[44m        \u001b[49m\u001b[44msubfolder\u001b[49m\u001b[38;5;241;44m=\u001b[39;49m\u001b[38;5;28;44;01mNone\u001b[39;49;00m\u001b[44m \u001b[49m\u001b[38;5;28;44;01mif\u001b[39;49;00m\u001b[44m \u001b[49m\u001b[38;5;28;44mlen\u001b[39;49m\u001b[44m(\u001b[49m\u001b[44msubfolder\u001b[49m\u001b[44m)\u001b[49m\u001b[44m \u001b[49m\u001b[38;5;241;44m==\u001b[39;49m\u001b[44m \u001b[49m\u001b[38;5;241;44m0\u001b[39;49m\u001b[44m \u001b[49m\u001b[38;5;28;44;01melse\u001b[39;49;00m\u001b[44m \u001b[49m\u001b[44msubfolder\u001b[49m\u001b[44m,\u001b[49m\n\u001b[1;32m    402\u001b[0m \u001b[44m        \u001b[49m\u001b[44mrepo_type\u001b[49m\u001b[38;5;241;44m=\u001b[39;49m\u001b[44mrepo_type\u001b[49m\u001b[44m,\u001b[49m\n\u001b[1;32m    403\u001b[0m \u001b[44m        \u001b[49m\u001b[44mrevision\u001b[49m\u001b[38;5;241;44m=\u001b[39;49m\u001b[44mrevision\u001b[49m\u001b[44m,\u001b[49m\n\u001b[1;32m    404\u001b[0m \u001b[44m        \u001b[49m\u001b[44mcache_dir\u001b[49m\u001b[38;5;241;44m=\u001b[39;49m\u001b[44mcache_dir\u001b[49m\u001b[44m,\u001b[49m\n\u001b[1;32m    405\u001b[0m \u001b[44m        \u001b[49m\u001b[44muser_agent\u001b[49m\u001b[38;5;241;44m=\u001b[39;49m\u001b[44muser_agent\u001b[49m\u001b[44m,\u001b[49m\n\u001b[1;32m    406\u001b[0m \u001b[44m        \u001b[49m\u001b[44mforce_download\u001b[49m\u001b[38;5;241;44m=\u001b[39;49m\u001b[44mforce_download\u001b[49m\u001b[44m,\u001b[49m\n\u001b[1;32m    407\u001b[0m \u001b[44m        \u001b[49m\u001b[44mproxies\u001b[49m\u001b[38;5;241;44m=\u001b[39;49m\u001b[44mproxies\u001b[49m\u001b[44m,\u001b[49m\n\u001b[1;32m    408\u001b[0m \u001b[44m        \u001b[49m\u001b[44mresume_download\u001b[49m\u001b[38;5;241;44m=\u001b[39;49m\u001b[44mresume_download\u001b[49m\u001b[44m,\u001b[49m\n\u001b[1;32m    409\u001b[0m \u001b[44m        \u001b[49m\u001b[44mtoken\u001b[49m\u001b[38;5;241;44m=\u001b[39;49m\u001b[44mtoken\u001b[49m\u001b[44m,\u001b[49m\n\u001b[1;32m    410\u001b[0m \u001b[44m        \u001b[49m\u001b[44mlocal_files_only\u001b[49m\u001b[38;5;241;44m=\u001b[39;49m\u001b[44mlocal_files_only\u001b[49m\u001b[44m,\u001b[49m\n\u001b[1;32m    411\u001b[0m \u001b[44m    \u001b[49m\u001b[44m)\u001b[49m\n\u001b[1;32m    412\u001b[0m \u001b[38;5;28;01mexcept\u001b[39;00m GatedRepoError \u001b[38;5;28;01mas\u001b[39;00m e:\n\u001b[1;32m    413\u001b[0m     resolved_file \u001b[38;5;241m=\u001b[39m _get_cache_file_to_return(path_or_repo_id, full_filename, cache_dir, revision)\n",
      "File \u001b[0;32m~/.base/lib/python3.11/site-packages/huggingface_hub/utils/_validators.py:119\u001b[0m, in \u001b[0;36mvalidate_hf_hub_args.<locals>._inner_fn\u001b[0;34m(*args, **kwargs)\u001b[0m\n\u001b[1;32m    116\u001b[0m \u001b[38;5;28;01mif\u001b[39;00m check_use_auth_token:\n\u001b[1;32m    117\u001b[0m     kwargs \u001b[38;5;241m=\u001b[39m smoothly_deprecate_use_auth_token(fn_name\u001b[38;5;241m=\u001b[39mfn\u001b[38;5;241m.\u001b[39m\u001b[38;5;18m__name__\u001b[39m, has_token\u001b[38;5;241m=\u001b[39mhas_token, kwargs\u001b[38;5;241m=\u001b[39mkwargs)\n\u001b[0;32m--> 119\u001b[0m \u001b[38;5;28;01mreturn\u001b[39;00m \u001b[44mfn\u001b[49m\u001b[44m(\u001b[49m\u001b[38;5;241;44m*\u001b[39;49m\u001b[44margs\u001b[49m\u001b[44m,\u001b[49m\u001b[44m \u001b[49m\u001b[38;5;241;44m*\u001b[39;49m\u001b[38;5;241;44m*\u001b[39;49m\u001b[44mkwargs\u001b[49m\u001b[44m)\u001b[49m\n",
      "File \u001b[0;32m~/.base/lib/python3.11/site-packages/huggingface_hub/file_download.py:1261\u001b[0m, in \u001b[0;36mhf_hub_download\u001b[0;34m(repo_id, filename, subfolder, repo_type, revision, library_name, library_version, cache_dir, local_dir, local_dir_use_symlinks, user_agent, force_download, force_filename, proxies, etag_timeout, resume_download, token, local_files_only, headers, legacy_cache_layout, endpoint)\u001b[0m\n\u001b[1;32m   1259\u001b[0m \u001b[38;5;28;01mtry\u001b[39;00m:\n\u001b[1;32m   1260\u001b[0m     \u001b[38;5;28;01mtry\u001b[39;00m:\n\u001b[0;32m-> 1261\u001b[0m         metadata \u001b[38;5;241m=\u001b[39m \u001b[44mget_hf_file_metadata\u001b[49m\u001b[44m(\u001b[49m\n\u001b[1;32m   1262\u001b[0m \u001b[44m            \u001b[49m\u001b[44murl\u001b[49m\u001b[38;5;241;44m=\u001b[39;49m\u001b[44murl\u001b[49m\u001b[44m,\u001b[49m\n\u001b[1;32m   1263\u001b[0m \u001b[44m            \u001b[49m\u001b[44mtoken\u001b[49m\u001b[38;5;241;44m=\u001b[39;49m\u001b[44mtoken\u001b[49m\u001b[44m,\u001b[49m\n\u001b[1;32m   1264\u001b[0m \u001b[44m            \u001b[49m\u001b[44mproxies\u001b[49m\u001b[38;5;241;44m=\u001b[39;49m\u001b[44mproxies\u001b[49m\u001b[44m,\u001b[49m\n\u001b[1;32m   1265\u001b[0m \u001b[44m            \u001b[49m\u001b[44mtimeout\u001b[49m\u001b[38;5;241;44m=\u001b[39;49m\u001b[44metag_timeout\u001b[49m\u001b[44m,\u001b[49m\n\u001b[1;32m   1266\u001b[0m \u001b[44m            \u001b[49m\u001b[44mlibrary_name\u001b[49m\u001b[38;5;241;44m=\u001b[39;49m\u001b[44mlibrary_name\u001b[49m\u001b[44m,\u001b[49m\n\u001b[1;32m   1267\u001b[0m \u001b[44m            \u001b[49m\u001b[44mlibrary_version\u001b[49m\u001b[38;5;241;44m=\u001b[39;49m\u001b[44mlibrary_version\u001b[49m\u001b[44m,\u001b[49m\n\u001b[1;32m   1268\u001b[0m \u001b[44m            \u001b[49m\u001b[44muser_agent\u001b[49m\u001b[38;5;241;44m=\u001b[39;49m\u001b[44muser_agent\u001b[49m\u001b[44m,\u001b[49m\n\u001b[1;32m   1269\u001b[0m \u001b[44m        \u001b[49m\u001b[44m)\u001b[49m\n\u001b[1;32m   1270\u001b[0m     \u001b[38;5;28;01mexcept\u001b[39;00m EntryNotFoundError \u001b[38;5;28;01mas\u001b[39;00m http_error:\n\u001b[1;32m   1271\u001b[0m         \u001b[38;5;66;03m# Cache the non-existence of the file and raise\u001b[39;00m\n\u001b[1;32m   1272\u001b[0m         commit_hash \u001b[38;5;241m=\u001b[39m http_error\u001b[38;5;241m.\u001b[39mresponse\u001b[38;5;241m.\u001b[39mheaders\u001b[38;5;241m.\u001b[39mget(HUGGINGFACE_HEADER_X_REPO_COMMIT)\n",
      "File \u001b[0;32m~/.base/lib/python3.11/site-packages/huggingface_hub/utils/_validators.py:119\u001b[0m, in \u001b[0;36mvalidate_hf_hub_args.<locals>._inner_fn\u001b[0;34m(*args, **kwargs)\u001b[0m\n\u001b[1;32m    116\u001b[0m \u001b[38;5;28;01mif\u001b[39;00m check_use_auth_token:\n\u001b[1;32m    117\u001b[0m     kwargs \u001b[38;5;241m=\u001b[39m smoothly_deprecate_use_auth_token(fn_name\u001b[38;5;241m=\u001b[39mfn\u001b[38;5;241m.\u001b[39m\u001b[38;5;18m__name__\u001b[39m, has_token\u001b[38;5;241m=\u001b[39mhas_token, kwargs\u001b[38;5;241m=\u001b[39mkwargs)\n\u001b[0;32m--> 119\u001b[0m \u001b[38;5;28;01mreturn\u001b[39;00m \u001b[44mfn\u001b[49m\u001b[44m(\u001b[49m\u001b[38;5;241;44m*\u001b[39;49m\u001b[44margs\u001b[49m\u001b[44m,\u001b[49m\u001b[44m \u001b[49m\u001b[38;5;241;44m*\u001b[39;49m\u001b[38;5;241;44m*\u001b[39;49m\u001b[44mkwargs\u001b[49m\u001b[44m)\u001b[49m\n",
      "File \u001b[0;32m~/.base/lib/python3.11/site-packages/huggingface_hub/file_download.py:1674\u001b[0m, in \u001b[0;36mget_hf_file_metadata\u001b[0;34m(url, token, proxies, timeout, library_name, library_version, user_agent, headers)\u001b[0m\n\u001b[1;32m   1671\u001b[0m headers[\u001b[38;5;124m\"\u001b[39m\u001b[38;5;124mAccept-Encoding\u001b[39m\u001b[38;5;124m\"\u001b[39m] \u001b[38;5;241m=\u001b[39m \u001b[38;5;124m\"\u001b[39m\u001b[38;5;124midentity\u001b[39m\u001b[38;5;124m\"\u001b[39m  \u001b[38;5;66;03m# prevent any compression => we want to know the real size of the file\u001b[39;00m\n\u001b[1;32m   1673\u001b[0m \u001b[38;5;66;03m# Retrieve metadata\u001b[39;00m\n\u001b[0;32m-> 1674\u001b[0m r \u001b[38;5;241m=\u001b[39m \u001b[44m_request_wrapper\u001b[49m\u001b[44m(\u001b[49m\n\u001b[1;32m   1675\u001b[0m \u001b[44m    \u001b[49m\u001b[44mmethod\u001b[49m\u001b[38;5;241;44m=\u001b[39;49m\u001b[38;5;124;44m\"\u001b[39;49m\u001b[38;5;124;44mHEAD\u001b[39;49m\u001b[38;5;124;44m\"\u001b[39;49m\u001b[44m,\u001b[49m\n\u001b[1;32m   1676\u001b[0m \u001b[44m    \u001b[49m\u001b[44murl\u001b[49m\u001b[38;5;241;44m=\u001b[39;49m\u001b[44murl\u001b[49m\u001b[44m,\u001b[49m\n\u001b[1;32m   1677\u001b[0m \u001b[44m    \u001b[49m\u001b[44mheaders\u001b[49m\u001b[38;5;241;44m=\u001b[39;49m\u001b[44mheaders\u001b[49m\u001b[44m,\u001b[49m\n\u001b[1;32m   1678\u001b[0m \u001b[44m    \u001b[49m\u001b[44mallow_redirects\u001b[49m\u001b[38;5;241;44m=\u001b[39;49m\u001b[38;5;28;44;01mFalse\u001b[39;49;00m\u001b[44m,\u001b[49m\n\u001b[1;32m   1679\u001b[0m \u001b[44m    \u001b[49m\u001b[44mfollow_relative_redirects\u001b[49m\u001b[38;5;241;44m=\u001b[39;49m\u001b[38;5;28;44;01mTrue\u001b[39;49;00m\u001b[44m,\u001b[49m\n\u001b[1;32m   1680\u001b[0m \u001b[44m    \u001b[49m\u001b[44mproxies\u001b[49m\u001b[38;5;241;44m=\u001b[39;49m\u001b[44mproxies\u001b[49m\u001b[44m,\u001b[49m\n\u001b[1;32m   1681\u001b[0m \u001b[44m    \u001b[49m\u001b[44mtimeout\u001b[49m\u001b[38;5;241;44m=\u001b[39;49m\u001b[44mtimeout\u001b[49m\u001b[44m,\u001b[49m\n\u001b[1;32m   1682\u001b[0m \u001b[44m\u001b[49m\u001b[44m)\u001b[49m\n\u001b[1;32m   1683\u001b[0m hf_raise_for_status(r)\n\u001b[1;32m   1685\u001b[0m \u001b[38;5;66;03m# Return\u001b[39;00m\n",
      "File \u001b[0;32m~/.base/lib/python3.11/site-packages/huggingface_hub/file_download.py:369\u001b[0m, in \u001b[0;36m_request_wrapper\u001b[0;34m(method, url, follow_relative_redirects, **params)\u001b[0m\n\u001b[1;32m    367\u001b[0m \u001b[38;5;66;03m# Recursively follow relative redirects\u001b[39;00m\n\u001b[1;32m    368\u001b[0m \u001b[38;5;28;01mif\u001b[39;00m follow_relative_redirects:\n\u001b[0;32m--> 369\u001b[0m     response \u001b[38;5;241m=\u001b[39m \u001b[44m_request_wrapper\u001b[49m\u001b[44m(\u001b[49m\n\u001b[1;32m    370\u001b[0m \u001b[44m        \u001b[49m\u001b[44mmethod\u001b[49m\u001b[38;5;241;44m=\u001b[39;49m\u001b[44mmethod\u001b[49m\u001b[44m,\u001b[49m\n\u001b[1;32m    371\u001b[0m \u001b[44m        \u001b[49m\u001b[44murl\u001b[49m\u001b[38;5;241;44m=\u001b[39;49m\u001b[44murl\u001b[49m\u001b[44m,\u001b[49m\n\u001b[1;32m    372\u001b[0m \u001b[44m        \u001b[49m\u001b[44mfollow_relative_redirects\u001b[49m\u001b[38;5;241;44m=\u001b[39;49m\u001b[38;5;28;44;01mFalse\u001b[39;49;00m\u001b[44m,\u001b[49m\n\u001b[1;32m    373\u001b[0m \u001b[44m        \u001b[49m\u001b[38;5;241;44m*\u001b[39;49m\u001b[38;5;241;44m*\u001b[39;49m\u001b[44mparams\u001b[49m\u001b[44m,\u001b[49m\n\u001b[1;32m    374\u001b[0m \u001b[44m    \u001b[49m\u001b[44m)\u001b[49m\n\u001b[1;32m    376\u001b[0m     \u001b[38;5;66;03m# If redirection, we redirect only relative paths.\u001b[39;00m\n\u001b[1;32m    377\u001b[0m     \u001b[38;5;66;03m# This is useful in case of a renamed repository.\u001b[39;00m\n\u001b[1;32m    378\u001b[0m     \u001b[38;5;28;01mif\u001b[39;00m \u001b[38;5;241m300\u001b[39m \u001b[38;5;241m<\u001b[39m\u001b[38;5;241m=\u001b[39m response\u001b[38;5;241m.\u001b[39mstatus_code \u001b[38;5;241m<\u001b[39m\u001b[38;5;241m=\u001b[39m \u001b[38;5;241m399\u001b[39m:\n",
      "File \u001b[0;32m~/.base/lib/python3.11/site-packages/huggingface_hub/file_download.py:392\u001b[0m, in \u001b[0;36m_request_wrapper\u001b[0;34m(method, url, follow_relative_redirects, **params)\u001b[0m\n\u001b[1;32m    389\u001b[0m     \u001b[38;5;28;01mreturn\u001b[39;00m response\n\u001b[1;32m    391\u001b[0m \u001b[38;5;66;03m# Perform request and return if status_code is not in the retry list.\u001b[39;00m\n\u001b[0;32m--> 392\u001b[0m response \u001b[38;5;241m=\u001b[39m \u001b[44mget_session\u001b[49m\u001b[44m(\u001b[49m\u001b[44m)\u001b[49m\u001b[38;5;241;44m.\u001b[39;49m\u001b[44mrequest\u001b[49m\u001b[44m(\u001b[49m\u001b[44mmethod\u001b[49m\u001b[38;5;241;44m=\u001b[39;49m\u001b[44mmethod\u001b[49m\u001b[44m,\u001b[49m\u001b[44m \u001b[49m\u001b[44murl\u001b[49m\u001b[38;5;241;44m=\u001b[39;49m\u001b[44murl\u001b[49m\u001b[44m,\u001b[49m\u001b[44m \u001b[49m\u001b[38;5;241;44m*\u001b[39;49m\u001b[38;5;241;44m*\u001b[39;49m\u001b[44mparams\u001b[49m\u001b[44m)\u001b[49m\n\u001b[1;32m    393\u001b[0m hf_raise_for_status(response)\n\u001b[1;32m    394\u001b[0m \u001b[38;5;28;01mreturn\u001b[39;00m response\n",
      "File \u001b[0;32m~/.base/lib/python3.11/site-packages/requests/sessions.py:589\u001b[0m, in \u001b[0;36mSession.request\u001b[0;34m(self, method, url, params, data, headers, cookies, files, auth, timeout, allow_redirects, proxies, hooks, stream, verify, cert, json)\u001b[0m\n\u001b[1;32m    584\u001b[0m send_kwargs \u001b[38;5;241m=\u001b[39m {\n\u001b[1;32m    585\u001b[0m     \u001b[38;5;124m\"\u001b[39m\u001b[38;5;124mtimeout\u001b[39m\u001b[38;5;124m\"\u001b[39m: timeout,\n\u001b[1;32m    586\u001b[0m     \u001b[38;5;124m\"\u001b[39m\u001b[38;5;124mallow_redirects\u001b[39m\u001b[38;5;124m\"\u001b[39m: allow_redirects,\n\u001b[1;32m    587\u001b[0m }\n\u001b[1;32m    588\u001b[0m send_kwargs\u001b[38;5;241m.\u001b[39mupdate(settings)\n\u001b[0;32m--> 589\u001b[0m resp \u001b[38;5;241m=\u001b[39m \u001b[38;5;28;44mself\u001b[39;49m\u001b[38;5;241;44m.\u001b[39;49m\u001b[44msend\u001b[49m\u001b[44m(\u001b[49m\u001b[44mprep\u001b[49m\u001b[44m,\u001b[49m\u001b[44m \u001b[49m\u001b[38;5;241;44m*\u001b[39;49m\u001b[38;5;241;44m*\u001b[39;49m\u001b[44msend_kwargs\u001b[49m\u001b[44m)\u001b[49m\n\u001b[1;32m    591\u001b[0m \u001b[38;5;28;01mreturn\u001b[39;00m resp\n",
      "File \u001b[0;32m~/.base/lib/python3.11/site-packages/requests/sessions.py:703\u001b[0m, in \u001b[0;36mSession.send\u001b[0;34m(self, request, **kwargs)\u001b[0m\n\u001b[1;32m    700\u001b[0m start \u001b[38;5;241m=\u001b[39m preferred_clock()\n\u001b[1;32m    702\u001b[0m \u001b[38;5;66;03m# Send the request\u001b[39;00m\n\u001b[0;32m--> 703\u001b[0m r \u001b[38;5;241m=\u001b[39m \u001b[44madapter\u001b[49m\u001b[38;5;241;44m.\u001b[39;49m\u001b[44msend\u001b[49m\u001b[44m(\u001b[49m\u001b[44mrequest\u001b[49m\u001b[44m,\u001b[49m\u001b[44m \u001b[49m\u001b[38;5;241;44m*\u001b[39;49m\u001b[38;5;241;44m*\u001b[39;49m\u001b[44mkwargs\u001b[49m\u001b[44m)\u001b[49m\n\u001b[1;32m    705\u001b[0m \u001b[38;5;66;03m# Total elapsed time of the request (approximately)\u001b[39;00m\n\u001b[1;32m    706\u001b[0m elapsed \u001b[38;5;241m=\u001b[39m preferred_clock() \u001b[38;5;241m-\u001b[39m start\n",
      "File \u001b[0;32m~/.base/lib/python3.11/site-packages/huggingface_hub/utils/_http.py:68\u001b[0m, in \u001b[0;36mUniqueRequestIdAdapter.send\u001b[0;34m(self, request, *args, **kwargs)\u001b[0m\n\u001b[1;32m     66\u001b[0m \u001b[38;5;250m\u001b[39m\u001b[38;5;124;03m\"\"\"Catch any RequestException to append request id to the error message for debugging.\"\"\"\u001b[39;00m\n\u001b[1;32m     67\u001b[0m \u001b[38;5;28;01mtry\u001b[39;00m:\n\u001b[0;32m---> 68\u001b[0m     \u001b[38;5;28;01mreturn\u001b[39;00m \u001b[38;5;28;44msuper\u001b[39;49m\u001b[44m(\u001b[49m\u001b[44m)\u001b[49m\u001b[38;5;241;44m.\u001b[39;49m\u001b[44msend\u001b[49m\u001b[44m(\u001b[49m\u001b[44mrequest\u001b[49m\u001b[44m,\u001b[49m\u001b[44m \u001b[49m\u001b[38;5;241;44m*\u001b[39;49m\u001b[44margs\u001b[49m\u001b[44m,\u001b[49m\u001b[44m \u001b[49m\u001b[38;5;241;44m*\u001b[39;49m\u001b[38;5;241;44m*\u001b[39;49m\u001b[44mkwargs\u001b[49m\u001b[44m)\u001b[49m\n\u001b[1;32m     69\u001b[0m \u001b[38;5;28;01mexcept\u001b[39;00m requests\u001b[38;5;241m.\u001b[39mRequestException \u001b[38;5;28;01mas\u001b[39;00m e:\n\u001b[1;32m     70\u001b[0m     request_id \u001b[38;5;241m=\u001b[39m request\u001b[38;5;241m.\u001b[39mheaders\u001b[38;5;241m.\u001b[39mget(X_AMZN_TRACE_ID)\n",
      "File \u001b[0;32m~/.base/lib/python3.11/site-packages/requests/adapters.py:486\u001b[0m, in \u001b[0;36mHTTPAdapter.send\u001b[0;34m(self, request, stream, timeout, verify, cert, proxies)\u001b[0m\n\u001b[1;32m    483\u001b[0m     timeout \u001b[38;5;241m=\u001b[39m TimeoutSauce(connect\u001b[38;5;241m=\u001b[39mtimeout, read\u001b[38;5;241m=\u001b[39mtimeout)\n\u001b[1;32m    485\u001b[0m \u001b[38;5;28;01mtry\u001b[39;00m:\n\u001b[0;32m--> 486\u001b[0m     resp \u001b[38;5;241m=\u001b[39m \u001b[44mconn\u001b[49m\u001b[38;5;241;44m.\u001b[39;49m\u001b[44murlopen\u001b[49m\u001b[44m(\u001b[49m\n\u001b[1;32m    487\u001b[0m \u001b[44m        \u001b[49m\u001b[44mmethod\u001b[49m\u001b[38;5;241;44m=\u001b[39;49m\u001b[44mrequest\u001b[49m\u001b[38;5;241;44m.\u001b[39;49m\u001b[44mmethod\u001b[49m\u001b[44m,\u001b[49m\n\u001b[1;32m    488\u001b[0m \u001b[44m        \u001b[49m\u001b[44murl\u001b[49m\u001b[38;5;241;44m=\u001b[39;49m\u001b[44murl\u001b[49m\u001b[44m,\u001b[49m\n\u001b[1;32m    489\u001b[0m \u001b[44m        \u001b[49m\u001b[44mbody\u001b[49m\u001b[38;5;241;44m=\u001b[39;49m\u001b[44mrequest\u001b[49m\u001b[38;5;241;44m.\u001b[39;49m\u001b[44mbody\u001b[49m\u001b[44m,\u001b[49m\n\u001b[1;32m    490\u001b[0m \u001b[44m        \u001b[49m\u001b[44mheaders\u001b[49m\u001b[38;5;241;44m=\u001b[39;49m\u001b[44mrequest\u001b[49m\u001b[38;5;241;44m.\u001b[39;49m\u001b[44mheaders\u001b[49m\u001b[44m,\u001b[49m\n\u001b[1;32m    491\u001b[0m \u001b[44m        \u001b[49m\u001b[44mredirect\u001b[49m\u001b[38;5;241;44m=\u001b[39;49m\u001b[38;5;28;44;01mFalse\u001b[39;49;00m\u001b[44m,\u001b[49m\n\u001b[1;32m    492\u001b[0m \u001b[44m        \u001b[49m\u001b[44massert_same_host\u001b[49m\u001b[38;5;241;44m=\u001b[39;49m\u001b[38;5;28;44;01mFalse\u001b[39;49;00m\u001b[44m,\u001b[49m\n\u001b[1;32m    493\u001b[0m \u001b[44m        \u001b[49m\u001b[44mpreload_content\u001b[49m\u001b[38;5;241;44m=\u001b[39;49m\u001b[38;5;28;44;01mFalse\u001b[39;49;00m\u001b[44m,\u001b[49m\n\u001b[1;32m    494\u001b[0m \u001b[44m        \u001b[49m\u001b[44mdecode_content\u001b[49m\u001b[38;5;241;44m=\u001b[39;49m\u001b[38;5;28;44;01mFalse\u001b[39;49;00m\u001b[44m,\u001b[49m\n\u001b[1;32m    495\u001b[0m \u001b[44m        \u001b[49m\u001b[44mretries\u001b[49m\u001b[38;5;241;44m=\u001b[39;49m\u001b[38;5;28;44mself\u001b[39;49m\u001b[38;5;241;44m.\u001b[39;49m\u001b[44mmax_retries\u001b[49m\u001b[44m,\u001b[49m\n\u001b[1;32m    496\u001b[0m \u001b[44m        \u001b[49m\u001b[44mtimeout\u001b[49m\u001b[38;5;241;44m=\u001b[39;49m\u001b[44mtimeout\u001b[49m\u001b[44m,\u001b[49m\n\u001b[1;32m    497\u001b[0m \u001b[44m        \u001b[49m\u001b[44mchunked\u001b[49m\u001b[38;5;241;44m=\u001b[39;49m\u001b[44mchunked\u001b[49m\u001b[44m,\u001b[49m\n\u001b[1;32m    498\u001b[0m \u001b[44m    \u001b[49m\u001b[44m)\u001b[49m\n\u001b[1;32m    500\u001b[0m \u001b[38;5;28;01mexcept\u001b[39;00m (ProtocolError, \u001b[38;5;167;01mOSError\u001b[39;00m) \u001b[38;5;28;01mas\u001b[39;00m err:\n\u001b[1;32m    501\u001b[0m     \u001b[38;5;28;01mraise\u001b[39;00m \u001b[38;5;167;01mConnectionError\u001b[39;00m(err, request\u001b[38;5;241m=\u001b[39mrequest)\n",
      "File \u001b[0;32m~/.base/lib/python3.11/site-packages/urllib3/connectionpool.py:715\u001b[0m, in \u001b[0;36mHTTPConnectionPool.urlopen\u001b[0;34m(self, method, url, body, headers, retries, redirect, assert_same_host, timeout, pool_timeout, release_conn, chunked, body_pos, **response_kw)\u001b[0m\n\u001b[1;32m    712\u001b[0m     \u001b[38;5;28mself\u001b[39m\u001b[38;5;241m.\u001b[39m_prepare_proxy(conn)\n\u001b[1;32m    714\u001b[0m \u001b[38;5;66;03m# Make the request on the httplib connection object.\u001b[39;00m\n\u001b[0;32m--> 715\u001b[0m httplib_response \u001b[38;5;241m=\u001b[39m \u001b[38;5;28;44mself\u001b[39;49m\u001b[38;5;241;44m.\u001b[39;49m\u001b[44m_make_request\u001b[49m\u001b[44m(\u001b[49m\n\u001b[1;32m    716\u001b[0m \u001b[44m    \u001b[49m\u001b[44mconn\u001b[49m\u001b[44m,\u001b[49m\n\u001b[1;32m    717\u001b[0m \u001b[44m    \u001b[49m\u001b[44mmethod\u001b[49m\u001b[44m,\u001b[49m\n\u001b[1;32m    718\u001b[0m \u001b[44m    \u001b[49m\u001b[44murl\u001b[49m\u001b[44m,\u001b[49m\n\u001b[1;32m    719\u001b[0m \u001b[44m    \u001b[49m\u001b[44mtimeout\u001b[49m\u001b[38;5;241;44m=\u001b[39;49m\u001b[44mtimeout_obj\u001b[49m\u001b[44m,\u001b[49m\n\u001b[1;32m    720\u001b[0m \u001b[44m    \u001b[49m\u001b[44mbody\u001b[49m\u001b[38;5;241;44m=\u001b[39;49m\u001b[44mbody\u001b[49m\u001b[44m,\u001b[49m\n\u001b[1;32m    721\u001b[0m \u001b[44m    \u001b[49m\u001b[44mheaders\u001b[49m\u001b[38;5;241;44m=\u001b[39;49m\u001b[44mheaders\u001b[49m\u001b[44m,\u001b[49m\n\u001b[1;32m    722\u001b[0m \u001b[44m    \u001b[49m\u001b[44mchunked\u001b[49m\u001b[38;5;241;44m=\u001b[39;49m\u001b[44mchunked\u001b[49m\u001b[44m,\u001b[49m\n\u001b[1;32m    723\u001b[0m \u001b[44m\u001b[49m\u001b[44m)\u001b[49m\n\u001b[1;32m    725\u001b[0m \u001b[38;5;66;03m# If we're going to release the connection in ``finally:``, then\u001b[39;00m\n\u001b[1;32m    726\u001b[0m \u001b[38;5;66;03m# the response doesn't need to know about the connection. Otherwise\u001b[39;00m\n\u001b[1;32m    727\u001b[0m \u001b[38;5;66;03m# it will also try to release it and we'll have a double-release\u001b[39;00m\n\u001b[1;32m    728\u001b[0m \u001b[38;5;66;03m# mess.\u001b[39;00m\n\u001b[1;32m    729\u001b[0m response_conn \u001b[38;5;241m=\u001b[39m conn \u001b[38;5;28;01mif\u001b[39;00m \u001b[38;5;129;01mnot\u001b[39;00m release_conn \u001b[38;5;28;01melse\u001b[39;00m \u001b[38;5;28;01mNone\u001b[39;00m\n",
      "File \u001b[0;32m~/.base/lib/python3.11/site-packages/urllib3/connectionpool.py:467\u001b[0m, in \u001b[0;36mHTTPConnectionPool._make_request\u001b[0;34m(self, conn, method, url, timeout, chunked, **httplib_request_kw)\u001b[0m\n\u001b[1;32m    462\u001b[0m             httplib_response \u001b[38;5;241m=\u001b[39m conn\u001b[38;5;241m.\u001b[39mgetresponse()\n\u001b[1;32m    463\u001b[0m         \u001b[38;5;28;01mexcept\u001b[39;00m \u001b[38;5;167;01mBaseException\u001b[39;00m \u001b[38;5;28;01mas\u001b[39;00m e:\n\u001b[1;32m    464\u001b[0m             \u001b[38;5;66;03m# Remove the TypeError from the exception chain in\u001b[39;00m\n\u001b[1;32m    465\u001b[0m             \u001b[38;5;66;03m# Python 3 (including for exceptions like SystemExit).\u001b[39;00m\n\u001b[1;32m    466\u001b[0m             \u001b[38;5;66;03m# Otherwise it looks like a bug in the code.\u001b[39;00m\n\u001b[0;32m--> 467\u001b[0m             \u001b[44msix\u001b[49m\u001b[38;5;241;44m.\u001b[39;49m\u001b[44mraise_from\u001b[49m\u001b[44m(\u001b[49m\u001b[44me\u001b[49m\u001b[44m,\u001b[49m\u001b[44m \u001b[49m\u001b[38;5;28;44;01mNone\u001b[39;49;00m\u001b[44m)\u001b[49m\n\u001b[1;32m    468\u001b[0m \u001b[38;5;28;01mexcept\u001b[39;00m (SocketTimeout, BaseSSLError, SocketError) \u001b[38;5;28;01mas\u001b[39;00m e:\n\u001b[1;32m    469\u001b[0m     \u001b[38;5;28mself\u001b[39m\u001b[38;5;241m.\u001b[39m_raise_timeout(err\u001b[38;5;241m=\u001b[39me, url\u001b[38;5;241m=\u001b[39murl, timeout_value\u001b[38;5;241m=\u001b[39mread_timeout)\n",
      "File \u001b[0;32m<string>:3\u001b[0m, in \u001b[0;36mraise_from\u001b[0;34m(value, from_value)\u001b[0m\n",
      "File \u001b[0;32m~/.base/lib/python3.11/site-packages/urllib3/connectionpool.py:462\u001b[0m, in \u001b[0;36mHTTPConnectionPool._make_request\u001b[0;34m(self, conn, method, url, timeout, chunked, **httplib_request_kw)\u001b[0m\n\u001b[1;32m    459\u001b[0m \u001b[38;5;28;01mexcept\u001b[39;00m \u001b[38;5;167;01mTypeError\u001b[39;00m:\n\u001b[1;32m    460\u001b[0m     \u001b[38;5;66;03m# Python 3\u001b[39;00m\n\u001b[1;32m    461\u001b[0m     \u001b[38;5;28;01mtry\u001b[39;00m:\n\u001b[0;32m--> 462\u001b[0m         httplib_response \u001b[38;5;241m=\u001b[39m \u001b[44mconn\u001b[49m\u001b[38;5;241;44m.\u001b[39;49m\u001b[44mgetresponse\u001b[49m\u001b[44m(\u001b[49m\u001b[44m)\u001b[49m\n\u001b[1;32m    463\u001b[0m     \u001b[38;5;28;01mexcept\u001b[39;00m \u001b[38;5;167;01mBaseException\u001b[39;00m \u001b[38;5;28;01mas\u001b[39;00m e:\n\u001b[1;32m    464\u001b[0m         \u001b[38;5;66;03m# Remove the TypeError from the exception chain in\u001b[39;00m\n\u001b[1;32m    465\u001b[0m         \u001b[38;5;66;03m# Python 3 (including for exceptions like SystemExit).\u001b[39;00m\n\u001b[1;32m    466\u001b[0m         \u001b[38;5;66;03m# Otherwise it looks like a bug in the code.\u001b[39;00m\n\u001b[1;32m    467\u001b[0m         six\u001b[38;5;241m.\u001b[39mraise_from(e, \u001b[38;5;28;01mNone\u001b[39;00m)\n",
      "File \u001b[0;32m/opt/homebrew/Cellar/python@3.11/3.11.5/Frameworks/Python.framework/Versions/3.11/lib/python3.11/http/client.py:1378\u001b[0m, in \u001b[0;36mHTTPConnection.getresponse\u001b[0;34m(self)\u001b[0m\n\u001b[1;32m   1376\u001b[0m \u001b[38;5;28;01mtry\u001b[39;00m:\n\u001b[1;32m   1377\u001b[0m     \u001b[38;5;28;01mtry\u001b[39;00m:\n\u001b[0;32m-> 1378\u001b[0m         \u001b[44mresponse\u001b[49m\u001b[38;5;241;44m.\u001b[39;49m\u001b[44mbegin\u001b[49m\u001b[44m(\u001b[49m\u001b[44m)\u001b[49m\n\u001b[1;32m   1379\u001b[0m     \u001b[38;5;28;01mexcept\u001b[39;00m \u001b[38;5;167;01mConnectionError\u001b[39;00m:\n\u001b[1;32m   1380\u001b[0m         \u001b[38;5;28mself\u001b[39m\u001b[38;5;241m.\u001b[39mclose()\n",
      "File \u001b[0;32m/opt/homebrew/Cellar/python@3.11/3.11.5/Frameworks/Python.framework/Versions/3.11/lib/python3.11/http/client.py:318\u001b[0m, in \u001b[0;36mHTTPResponse.begin\u001b[0;34m(self)\u001b[0m\n\u001b[1;32m    316\u001b[0m \u001b[38;5;66;03m# read until we get a non-100 response\u001b[39;00m\n\u001b[1;32m    317\u001b[0m \u001b[38;5;28;01mwhile\u001b[39;00m \u001b[38;5;28;01mTrue\u001b[39;00m:\n\u001b[0;32m--> 318\u001b[0m     version, status, reason \u001b[38;5;241m=\u001b[39m \u001b[38;5;28;44mself\u001b[39;49m\u001b[38;5;241;44m.\u001b[39;49m\u001b[44m_read_status\u001b[49m\u001b[44m(\u001b[49m\u001b[44m)\u001b[49m\n\u001b[1;32m    319\u001b[0m     \u001b[38;5;28;01mif\u001b[39;00m status \u001b[38;5;241m!=\u001b[39m CONTINUE:\n\u001b[1;32m    320\u001b[0m         \u001b[38;5;28;01mbreak\u001b[39;00m\n",
      "File \u001b[0;32m/opt/homebrew/Cellar/python@3.11/3.11.5/Frameworks/Python.framework/Versions/3.11/lib/python3.11/http/client.py:279\u001b[0m, in \u001b[0;36mHTTPResponse._read_status\u001b[0;34m(self)\u001b[0m\n\u001b[1;32m    278\u001b[0m \u001b[38;5;28;01mdef\u001b[39;00m \u001b[38;5;21m_read_status\u001b[39m(\u001b[38;5;28mself\u001b[39m):\n\u001b[0;32m--> 279\u001b[0m     line \u001b[38;5;241m=\u001b[39m \u001b[38;5;28mstr\u001b[39m(\u001b[38;5;28mself\u001b[39m\u001b[38;5;241m.\u001b[39mfp\u001b[38;5;241m.\u001b[39mreadline(_MAXLINE \u001b[38;5;241m+\u001b[39m \u001b[38;5;241m1\u001b[39m), \u001b[38;5;124m\"\u001b[39m\u001b[38;5;124miso-8859-1\u001b[39m\u001b[38;5;124m\"\u001b[39m)\n\u001b[1;32m    280\u001b[0m     \u001b[38;5;28;01mif\u001b[39;00m \u001b[38;5;28mlen\u001b[39m(line) \u001b[38;5;241m>\u001b[39m _MAXLINE:\n\u001b[1;32m    281\u001b[0m         \u001b[38;5;28;01mraise\u001b[39;00m LineTooLong(\u001b[38;5;124m\"\u001b[39m\u001b[38;5;124mstatus line\u001b[39m\u001b[38;5;124m\"\u001b[39m)\n",
      "File \u001b[0;32m/opt/homebrew/Cellar/python@3.11/3.11.5/Frameworks/Python.framework/Versions/3.11/lib/python3.11/socket.py:706\u001b[0m, in \u001b[0;36mSocketIO.readinto\u001b[0;34m(self, b)\u001b[0m\n\u001b[1;32m    704\u001b[0m \u001b[38;5;28;01mwhile\u001b[39;00m \u001b[38;5;28;01mTrue\u001b[39;00m:\n\u001b[1;32m    705\u001b[0m     \u001b[38;5;28;01mtry\u001b[39;00m:\n\u001b[0;32m--> 706\u001b[0m         \u001b[38;5;28;01mreturn\u001b[39;00m \u001b[38;5;28;44mself\u001b[39;49m\u001b[38;5;241;44m.\u001b[39;49m\u001b[44m_sock\u001b[49m\u001b[38;5;241;44m.\u001b[39;49m\u001b[44mrecv_into\u001b[49m\u001b[44m(\u001b[49m\u001b[44mb\u001b[49m\u001b[44m)\u001b[49m\n\u001b[1;32m    707\u001b[0m     \u001b[38;5;28;01mexcept\u001b[39;00m timeout:\n\u001b[1;32m    708\u001b[0m         \u001b[38;5;28mself\u001b[39m\u001b[38;5;241m.\u001b[39m_timeout_occurred \u001b[38;5;241m=\u001b[39m \u001b[38;5;28;01mTrue\u001b[39;00m\n",
      "File \u001b[0;32m/opt/homebrew/Cellar/python@3.11/3.11.5/Frameworks/Python.framework/Versions/3.11/lib/python3.11/ssl.py:1311\u001b[0m, in \u001b[0;36mSSLSocket.recv_into\u001b[0;34m(self, buffer, nbytes, flags)\u001b[0m\n\u001b[1;32m   1307\u001b[0m     \u001b[38;5;28;01mif\u001b[39;00m flags \u001b[38;5;241m!=\u001b[39m \u001b[38;5;241m0\u001b[39m:\n\u001b[1;32m   1308\u001b[0m         \u001b[38;5;28;01mraise\u001b[39;00m \u001b[38;5;167;01mValueError\u001b[39;00m(\n\u001b[1;32m   1309\u001b[0m           \u001b[38;5;124m\"\u001b[39m\u001b[38;5;124mnon-zero flags not allowed in calls to recv_into() on \u001b[39m\u001b[38;5;132;01m%s\u001b[39;00m\u001b[38;5;124m\"\u001b[39m \u001b[38;5;241m%\u001b[39m\n\u001b[1;32m   1310\u001b[0m           \u001b[38;5;28mself\u001b[39m\u001b[38;5;241m.\u001b[39m\u001b[38;5;18m__class__\u001b[39m)\n\u001b[0;32m-> 1311\u001b[0m     \u001b[38;5;28;01mreturn\u001b[39;00m \u001b[38;5;28;44mself\u001b[39;49m\u001b[38;5;241;44m.\u001b[39;49m\u001b[44mread\u001b[49m\u001b[44m(\u001b[49m\u001b[44mnbytes\u001b[49m\u001b[44m,\u001b[49m\u001b[44m \u001b[49m\u001b[44mbuffer\u001b[49m\u001b[44m)\u001b[49m\n\u001b[1;32m   1312\u001b[0m \u001b[38;5;28;01melse\u001b[39;00m:\n\u001b[1;32m   1313\u001b[0m     \u001b[38;5;28;01mreturn\u001b[39;00m \u001b[38;5;28msuper\u001b[39m()\u001b[38;5;241m.\u001b[39mrecv_into(buffer, nbytes, flags)\n",
      "File \u001b[0;32m/opt/homebrew/Cellar/python@3.11/3.11.5/Frameworks/Python.framework/Versions/3.11/lib/python3.11/ssl.py:1167\u001b[0m, in \u001b[0;36mSSLSocket.read\u001b[0;34m(self, len, buffer)\u001b[0m\n\u001b[1;32m   1165\u001b[0m \u001b[38;5;28;01mtry\u001b[39;00m:\n\u001b[1;32m   1166\u001b[0m     \u001b[38;5;28;01mif\u001b[39;00m buffer \u001b[38;5;129;01mis\u001b[39;00m \u001b[38;5;129;01mnot\u001b[39;00m \u001b[38;5;28;01mNone\u001b[39;00m:\n\u001b[0;32m-> 1167\u001b[0m         \u001b[38;5;28;01mreturn\u001b[39;00m \u001b[38;5;28;44mself\u001b[39;49m\u001b[38;5;241;44m.\u001b[39;49m\u001b[44m_sslobj\u001b[49m\u001b[38;5;241;44m.\u001b[39;49m\u001b[44mread\u001b[49m\u001b[44m(\u001b[49m\u001b[38;5;28;44mlen\u001b[39;49m\u001b[44m,\u001b[49m\u001b[44m \u001b[49m\u001b[44mbuffer\u001b[49m\u001b[44m)\u001b[49m\n\u001b[1;32m   1168\u001b[0m     \u001b[38;5;28;01melse\u001b[39;00m:\n\u001b[1;32m   1169\u001b[0m         \u001b[38;5;28;01mreturn\u001b[39;00m \u001b[38;5;28mself\u001b[39m\u001b[38;5;241m.\u001b[39m_sslobj\u001b[38;5;241m.\u001b[39mread(\u001b[38;5;28mlen\u001b[39m)\n",
      "\u001b[0;31mKeyboardInterrupt\u001b[0m: "
     ]
    }
   ],
   "source": [
    "for question in tqdm(search_data):\n",
    "    question['document'], question['scores'] = similarity.sort_by_similarity(question['question'], question['document'])"
   ]
  },
  {
   "cell_type": "code",
   "execution_count": null,
   "id": "3eaf1c9d-4c3b-4efc-903c-fed86027077f",
   "metadata": {
    "execution": {
     "iopub.status.busy": "2024-05-02T04:56:22.532826Z",
     "iopub.status.idle": "2024-05-02T04:56:22.532936Z",
     "shell.execute_reply": "2024-05-02T04:56:22.532886Z",
     "shell.execute_reply.started": "2024-05-02T04:56:22.532881Z"
    },
    "tags": []
   },
   "outputs": [],
   "source": [
    "utils.jsave(search_data, \"./data/search_data.json\")"
   ]
  },
  {
   "cell_type": "markdown",
   "id": "c26fe065-19a8-4e0a-9288-d5bfcf4a198e",
   "metadata": {
    "tags": []
   },
   "source": [
    "### 6. Instuction 데이터셋 만들기\n",
    "완성된 질문리스트와 인기글 데이터를 통해 ChatGPT에 정답을 출력하도록 요청합니다.  \n",
    "ChatGPT는 아래의 프롬프트처럼 question에 대한 answer 답변을 출력합니다.  \n",
    "완성된 question, answer 텍스트는 학습시킬 모델의 훈련용 데이터셋으로 전달됩니다.  \n",
    "본 문서의 프롬프트는 [Stanford Alpaca의 프롬프트](https://github.com/tatsu-lab/stanford_alpaca/blob/main/prompt.txthttps://github.com/tatsu-lab/stanford_alpaca/blob/main/prompt.txt)를 참조하였습니다.  \n",
    "예시 데이터는 `instruction.jsonl`로 제공합니다."
   ]
  },
  {
   "cell_type": "code",
   "execution_count": null,
   "id": "a71a94b5-435c-402f-906c-44b844c8989c",
   "metadata": {
    "execution": {
     "iopub.status.busy": "2024-05-02T04:56:22.533629Z",
     "iopub.status.idle": "2024-05-02T04:56:22.533753Z",
     "shell.execute_reply": "2024-05-02T04:56:22.533681Z",
     "shell.execute_reply.started": "2024-05-02T04:56:22.533676Z"
    },
    "tags": []
   },
   "outputs": [],
   "source": [
    "print(prompts.INSTRUCTION_PROMPT_PREFIX + prompts.INSTRUCTION_PROMPT_CONTENT)"
   ]
  },
  {
   "cell_type": "code",
   "execution_count": null,
   "id": "63a00105-8d72-46d6-b762-afc2c90388d3",
   "metadata": {
    "execution": {
     "iopub.status.busy": "2024-05-02T04:56:22.534096Z",
     "iopub.status.idle": "2024-05-02T04:56:22.534208Z",
     "shell.execute_reply": "2024-05-02T04:56:22.534153Z",
     "shell.execute_reply.started": "2024-05-02T04:56:22.534147Z"
    },
    "tags": []
   },
   "outputs": [],
   "source": [
    "search = utils.jload(\"./data/search_data.json\")"
   ]
  },
  {
   "cell_type": "code",
   "execution_count": null,
   "id": "2f88e377-cddf-4d41-beda-34d13b58f96c",
   "metadata": {
    "execution": {
     "iopub.status.busy": "2024-05-02T04:56:22.534596Z",
     "iopub.status.idle": "2024-05-02T04:56:22.534734Z",
     "shell.execute_reply": "2024-05-02T04:56:22.534643Z",
     "shell.execute_reply.started": "2024-05-02T04:56:22.534639Z"
    },
    "tags": []
   },
   "outputs": [],
   "source": [
    "# 리스트 형태인 document 데이터를 하나로 합치기\n",
    "for data in search:\n",
    "    data['document'] = \"\\n\".join([f\"{idx+1}. {d}\" for idx, d in enumerate(data['document'])])"
   ]
  },
  {
   "cell_type": "code",
   "execution_count": null,
   "id": "5e47d259-3bd7-4241-adfe-a37da70e23b8",
   "metadata": {
    "execution": {
     "iopub.status.busy": "2024-05-02T04:56:22.535250Z",
     "iopub.status.idle": "2024-05-02T04:56:22.535363Z",
     "shell.execute_reply": "2024-05-02T04:56:22.535310Z",
     "shell.execute_reply.started": "2024-05-02T04:56:22.535305Z"
    },
    "tags": []
   },
   "outputs": [],
   "source": [
    "print(search[0]['document'])"
   ]
  },
  {
   "cell_type": "code",
   "execution_count": null,
   "id": "455bfdac-8ad1-41cf-85be-54fbbdf26e13",
   "metadata": {
    "execution": {
     "iopub.status.busy": "2024-05-02T04:56:22.535912Z",
     "iopub.status.idle": "2024-05-02T04:56:22.536021Z",
     "shell.execute_reply": "2024-05-02T04:56:22.535965Z",
     "shell.execute_reply.started": "2024-05-02T04:56:22.535960Z"
    },
    "tags": []
   },
   "outputs": [],
   "source": [
    "print(prompts.INSTRUCTION_PROMPT_CONTENT)"
   ]
  },
  {
   "cell_type": "code",
   "execution_count": null,
   "id": "826d6649-9f4a-454a-b9b5-78b4751f9dd8",
   "metadata": {
    "execution": {
     "iopub.status.busy": "2024-05-02T04:56:22.536297Z",
     "iopub.status.idle": "2024-05-02T04:56:22.536389Z",
     "shell.execute_reply": "2024-05-02T04:56:22.536338Z",
     "shell.execute_reply.started": "2024-05-02T04:56:22.536334Z"
    },
    "tags": []
   },
   "outputs": [],
   "source": [
    "prefix = prompts.INSTRUCTION_PROMPT_PREFIX\n",
    "instructions = []\n",
    "total_instructions = len(search) // 10\n",
    "for index in range(1, total_instructions + 2):\n",
    "    start_index = (index - 1) * 10\n",
    "    end_index = index * 10\n",
    "    content = \"\\n\".join([\n",
    "        prompts.INSTRUCTION_PROMPT_CONTENT.format(question = data['question'], document = data['document'])\n",
    "        for data in search[start_index:end_index]\n",
    "    ])\n",
    "    instruction = prefix + content\n",
    "    instructions.append(instruction)"
   ]
  },
  {
   "cell_type": "code",
   "execution_count": null,
   "id": "e0f8f046-7f46-407b-83a4-e1a6f837d372",
   "metadata": {
    "execution": {
     "iopub.status.busy": "2024-05-02T04:56:22.536773Z",
     "iopub.status.idle": "2024-05-02T04:56:22.536873Z",
     "shell.execute_reply": "2024-05-02T04:56:22.536821Z",
     "shell.execute_reply.started": "2024-05-02T04:56:22.536816Z"
    },
    "tags": []
   },
   "outputs": [],
   "source": [
    "print(instructions[0])"
   ]
  },
  {
   "cell_type": "markdown",
   "id": "6f9db1a4-759b-462a-83b4-0645ad4ceaf4",
   "metadata": {},
   "source": [
    "포맷팅하여 완성한 프롬프트는 아래와 같습니다.  \n",
    "아래 데이터를 ChatGPT API로 넘겨줍니다."
   ]
  },
  {
   "cell_type": "code",
   "execution_count": null,
   "id": "9d4d6657-68fe-408a-8951-656ec3288cce",
   "metadata": {
    "execution": {
     "iopub.status.busy": "2024-05-02T04:56:22.537505Z",
     "iopub.status.idle": "2024-05-02T04:56:22.537629Z",
     "shell.execute_reply": "2024-05-02T04:56:22.537548Z",
     "shell.execute_reply.started": "2024-05-02T04:56:22.537544Z"
    },
    "tags": []
   },
   "outputs": [],
   "source": [
    "print(instructions[0][:2000])"
   ]
  },
  {
   "cell_type": "markdown",
   "id": "f4b33665-0ece-4d79-898a-a05ff6880f0c",
   "metadata": {},
   "source": [
    "`gpt-4-turbo`는 `gpt-4` 보다 성능이 좋으면서 가격은 1/3입니다.  \n",
    "`gpt-4-turbo`를 사용하길 추천드립니다.  \n",
    "[OpenAI 가격 정책](https://openai.com/pricing)을 참조하세요"
   ]
  },
  {
   "cell_type": "code",
   "execution_count": 14,
   "id": "6838a02f-2375-4fef-9817-b856e3f1658b",
   "metadata": {
    "execution": {
     "iopub.execute_input": "2024-04-29T02:00:45.568410Z",
     "iopub.status.busy": "2024-04-29T02:00:45.567626Z",
     "iopub.status.idle": "2024-04-29T02:00:45.577575Z",
     "shell.execute_reply": "2024-04-29T02:00:45.576075Z",
     "shell.execute_reply.started": "2024-04-29T02:00:45.568355Z"
    },
    "tags": []
   },
   "outputs": [],
   "source": [
    "for inst in tqdm(instructions):\n",
    "    result = utils.get_completion(inst, model=\"gpt-4-turbo-2024-04-09\")\n",
    "    with open(\"instruction.jsonl\", \"a\", encoding=\"utf-8\") as f:\n",
    "        for line in result.split(\"\\n\"):\n",
    "            f.write(line)\n",
    "            f.write(\"\\n\")"
   ]
  }
 ],
 "metadata": {
  "kernelspec": {
   "display_name": "base",
   "language": "python",
   "name": ".base"
  },
  "language_info": {
   "codemirror_mode": {
    "name": "ipython",
    "version": 3
   },
   "file_extension": ".py",
   "mimetype": "text/x-python",
   "name": "python",
   "nbconvert_exporter": "python",
   "pygments_lexer": "ipython3",
   "version": "3.11.5"
  }
 },
 "nbformat": 4,
 "nbformat_minor": 5
}
