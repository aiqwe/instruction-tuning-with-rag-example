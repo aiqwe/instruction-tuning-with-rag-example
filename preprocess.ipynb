{
 "cells": [
  {
   "cell_type": "markdown",
   "id": "65d015e7-f608-4f2c-a580-e476e4d23455",
   "metadata": {
    "execution": {
     "iopub.execute_input": "2024-04-27T14:24:44.399720Z",
     "iopub.status.busy": "2024-04-27T14:24:44.399074Z",
     "iopub.status.idle": "2024-04-27T14:24:44.688783Z",
     "shell.execute_reply": "2024-04-27T14:24:44.688485Z",
     "shell.execute_reply.started": "2024-04-27T14:24:44.399656Z"
    },
    "tags": []
   },
   "source": [
    "### 데이터셋 준비 하기\n",
    "Instruction Fine Tuning을 위해 데이터셋을 준비합니다.  \n",
    "데이터셋은 아래의 순서로 준비합니다.\n",
    "---\n",
    "\n",
    "1. 도메인 정하기  \n",
    "부동산에 대해 잘 대답할 수 있는 챗봇을 타겟으로 설정합니다.  \n",
    "\n",
    "2. 부동산에 관련된 키워드를 생각해보기  \n",
    "책, 뉴스, 부동산 사이트에서 키워드를 수집합니다. 사람들이 궁금해할만한 키워드를 대상으로 합니다. (예: 전세 계약, 신혼부부 특별공급, 토지거래허가구역...)  \n",
    "\n",
    "3. 부동산 키워드를 통해 사람들이 찾아볼만한 질문리스트 만들어보기(`query.jsonl`)  \n",
    "2번에서 수집한 키워드를 기반으로, 사람들이 궁금해할만한 질문리스트를 ChatGPT를 활용해 만들어봅니다. 충분한 데이터셋 확보할 만큼의 질문리스트를 생성합니다.\n",
    "\n",
    "4. 질문리스트로 네이버에 검색하여 인기 글 데이터 수집하기(`search_data.json`)  \n",
    "3번에서 수집한 질문리스트를 Selenium 라이브러리를 활용하여 네이버에 검색합니다. 검색 결과중 인기글의 텍스트 데이터를 추출합니다.\n",
    "\n",
    "5. encoder 모델을 활용하여 데이터를 유사도 기준으로 정렬하기(`search_data.json`)  \n",
    "4번에서 수집한 인기글 텍스트 데이터가 질문리스트와 얼마나 유사한지 계산합니다.\n",
    "질문리스트와 가장 유사한 인기글 텍스트를 상위 순위로 정렬합니다.\n",
    "\n",
    "6. Instuction 데이터셋 만들기(`instruction.jsonl`)  \n",
    "질문리스트 + 정렬한 인기글을 합쳐서 ChatGPT에 Instruction 데이터를 만들어달라고 요청합니다. 이 Instruction 데이터는 Fine Tuning에 사용됩니다."
   ]
  },
  {
   "cell_type": "code",
   "execution_count": 2,
   "id": "236cc32b-567d-4444-97cb-b3eff129879d",
   "metadata": {
    "execution": {
     "iopub.execute_input": "2024-05-02T00:23:49.385402Z",
     "iopub.status.busy": "2024-05-02T00:23:49.384244Z",
     "iopub.status.idle": "2024-05-02T00:23:49.397075Z",
     "shell.execute_reply": "2024-05-02T00:23:49.395444Z",
     "shell.execute_reply.started": "2024-05-02T00:23:49.385339Z"
    },
    "tags": []
   },
   "outputs": [],
   "source": [
    "!pip install --quiet\\\n",
    "selenium==4.20.0\\\n",
    "openai==1.23.6\\\n",
    "datasets==2.19.0\\\n",
    "accelerate==0.27.2\\\n",
    "flash-attn==0.2.4\\\n",
    "peft==0.10.0\\\n",
    "trl==0.8.6\\\n",
    "transformers==4.40.1\\\n",
    "python-dotenv==1.0.1"
   ]
  },
  {
   "cell_type": "code",
   "execution_count": 1,
   "id": "771138c9-f9e6-49ed-a04e-21486d54cb56",
   "metadata": {
    "execution": {
     "iopub.execute_input": "2024-05-02T15:58:43.092602Z",
     "iopub.status.busy": "2024-05-02T15:58:43.092430Z",
     "iopub.status.idle": "2024-05-02T15:58:44.563923Z",
     "shell.execute_reply": "2024-05-02T15:58:44.563682Z",
     "shell.execute_reply.started": "2024-05-02T15:58:43.092579Z"
    },
    "tags": []
   },
   "outputs": [],
   "source": [
    "import json\n",
    "from tqdm import tqdm\n",
    "from transformers import AutoModel, AutoTokenizer\n",
    "\n",
    "import utils\n",
    "import prompts\n",
    "import similarity"
   ]
  },
  {
   "cell_type": "markdown",
   "id": "e2efb55f-3c57-4e7e-89e3-96fcab92db7d",
   "metadata": {},
   "source": [
    "### 2. 부동산에 관련된 키워드를 생각해보기\n",
    "부동산에 관련된 키워드를 수집하여 저장합니다.  \n",
    "예시 데이터는 `seed_words.txt` 파일로 제공합니다."
   ]
  },
  {
   "cell_type": "code",
   "execution_count": 38,
   "id": "8703faac-3a56-4259-b2f8-003c63485699",
   "metadata": {
    "execution": {
     "iopub.execute_input": "2024-05-02T15:24:33.322229Z",
     "iopub.status.busy": "2024-05-02T15:24:33.321643Z",
     "iopub.status.idle": "2024-05-02T15:24:33.328207Z",
     "shell.execute_reply": "2024-05-02T15:24:33.327640Z",
     "shell.execute_reply.started": "2024-05-02T15:24:33.322172Z"
    },
    "tags": []
   },
   "outputs": [],
   "source": [
    "with open(\"./data/seed_words.txt\", \"r\") as f:\n",
    "    seed_words = f.readlines()"
   ]
  },
  {
   "cell_type": "code",
   "execution_count": 39,
   "id": "0b731610-6b30-4eb4-ae3a-5faa7175b005",
   "metadata": {
    "execution": {
     "iopub.execute_input": "2024-05-02T15:24:33.476253Z",
     "iopub.status.busy": "2024-05-02T15:24:33.475722Z",
     "iopub.status.idle": "2024-05-02T15:24:33.482725Z",
     "shell.execute_reply": "2024-05-02T15:24:33.481872Z",
     "shell.execute_reply.started": "2024-05-02T15:24:33.476203Z"
    },
    "tags": []
   },
   "outputs": [
    {
     "data": {
      "text/plain": [
       "['전세 계약\\n', '임대차 계약\\n', '전세 사기\\n', '임대차 분쟁\\n']"
      ]
     },
     "execution_count": 39,
     "metadata": {},
     "output_type": "execute_result"
    }
   ],
   "source": [
    "seed_words[:4]"
   ]
  },
  {
   "cell_type": "code",
   "execution_count": 40,
   "id": "4cd9daee-9abf-49ca-a418-1515ef78aab3",
   "metadata": {
    "execution": {
     "iopub.execute_input": "2024-05-02T15:24:33.659028Z",
     "iopub.status.busy": "2024-05-02T15:24:33.658407Z",
     "iopub.status.idle": "2024-05-02T15:24:33.667094Z",
     "shell.execute_reply": "2024-05-02T15:24:33.665583Z",
     "shell.execute_reply.started": "2024-05-02T15:24:33.658973Z"
    },
    "tags": []
   },
   "outputs": [],
   "source": [
    "# Element마다 있는 \\n 제거, '전세 계약\\n' -> '전세 계약'\n",
    "seed_words = list(map(lambda x: x.strip(\"\\n\"), seed_words))"
   ]
  },
  {
   "cell_type": "code",
   "execution_count": 41,
   "id": "d4a7994b-fe60-4f7a-9446-22ee51936085",
   "metadata": {
    "execution": {
     "iopub.execute_input": "2024-05-02T15:24:33.792597Z",
     "iopub.status.busy": "2024-05-02T15:24:33.791978Z",
     "iopub.status.idle": "2024-05-02T15:24:33.799690Z",
     "shell.execute_reply": "2024-05-02T15:24:33.799022Z",
     "shell.execute_reply.started": "2024-05-02T15:24:33.792541Z"
    },
    "tags": []
   },
   "outputs": [
    {
     "data": {
      "text/plain": [
       "['전세 계약', '임대차 계약', '전세 사기', '임대차 분쟁']"
      ]
     },
     "execution_count": 41,
     "metadata": {},
     "output_type": "execute_result"
    }
   ],
   "source": [
    "seed_words[:4]"
   ]
  },
  {
   "cell_type": "markdown",
   "id": "c539ba2e-355f-4482-a1d7-b8a315a43c2e",
   "metadata": {
    "execution": {
     "iopub.execute_input": "2024-04-27T14:46:47.170359Z",
     "iopub.status.busy": "2024-04-27T14:46:47.169552Z",
     "iopub.status.idle": "2024-04-27T14:46:47.181132Z",
     "shell.execute_reply": "2024-04-27T14:46:47.178484Z",
     "shell.execute_reply.started": "2024-04-27T14:46:47.170307Z"
    },
    "tags": []
   },
   "source": [
    "### 3. 부동산 키워드를 통해 사람들이 찾아볼만한 질문리스트 만들어보기\n",
    "`format` 메서드를 적용할 수 있게 프롬프트를 미리 작성합니다.  \n",
    "미리 작성된 프롬프트에 `seed_words`를 `format` 적용하여 프롬프트를 완성시킵니다.  \n",
    "예시 데이터는 `query.jsonl` 파일로 제공합니다."
   ]
  },
  {
   "cell_type": "code",
   "execution_count": 42,
   "id": "f06a5e79-9697-4ff9-ac38-6b23d298a483",
   "metadata": {
    "execution": {
     "iopub.execute_input": "2024-05-02T15:24:45.038111Z",
     "iopub.status.busy": "2024-05-02T15:24:45.037620Z",
     "iopub.status.idle": "2024-05-02T15:24:45.043921Z",
     "shell.execute_reply": "2024-05-02T15:24:45.043337Z",
     "shell.execute_reply.started": "2024-05-02T15:24:45.038055Z"
    },
    "tags": []
   },
   "outputs": [
    {
     "name": "stdout",
     "output_type": "stream",
     "text": [
      "주어진 seed_word에 대해 궁금해할 질문을 10개를 생성하세요.\n",
      "만들어낸 질문은 JSON형식을 따라야 합니다.\n",
      "Indentation은 없도록 출력하세요.\n",
      "아래 양식으로 출력하세요:\n",
      "{{\"seed_word\": \"{seed_word}\", \"answer\": [\"1번째 질문\", \"2번째 질문\"... , \"10번째 질문\"]}}\n"
     ]
    }
   ],
   "source": [
    "print(prompts.SEED_WORD_PROMPT_PREFIX + prompts.SEED_WORD_PROMPT_CONTENT)"
   ]
  },
  {
   "cell_type": "code",
   "execution_count": 43,
   "id": "18924823-18df-4d08-8b9a-34184d3f8153",
   "metadata": {
    "execution": {
     "iopub.execute_input": "2024-05-02T15:24:45.189905Z",
     "iopub.status.busy": "2024-05-02T15:24:45.189292Z",
     "iopub.status.idle": "2024-05-02T15:24:45.196730Z",
     "shell.execute_reply": "2024-05-02T15:24:45.195598Z",
     "shell.execute_reply.started": "2024-05-02T15:24:45.189854Z"
    },
    "tags": []
   },
   "outputs": [
    {
     "name": "stdout",
     "output_type": "stream",
     "text": [
      "주어진 seed_word에 대해 궁금해할 질문을 10개를 생성하세요.\n",
      "만들어낸 질문은 JSON형식을 따라야 합니다.\n",
      "Indentation은 없도록 출력하세요.\n",
      "아래 양식으로 출력하세요:\n",
      "{\"seed_word\": \"전세 계약\", \"answer\": [\"1번째 질문\", \"2번째 질문\"... , \"10번째 질문\"]}\n"
     ]
    }
   ],
   "source": [
    "print(prompts.SEED_WORD_PROMPT_PREFIX + prompts.SEED_WORD_PROMPT_CONTENT.format(seed_word=seed_words[0]))"
   ]
  },
  {
   "cell_type": "code",
   "execution_count": 44,
   "id": "ea0cf546-2d03-4c4e-b433-e02fb9bfed34",
   "metadata": {
    "execution": {
     "iopub.execute_input": "2024-05-02T15:24:45.341270Z",
     "iopub.status.busy": "2024-05-02T15:24:45.340633Z",
     "iopub.status.idle": "2024-05-02T15:24:45.348536Z",
     "shell.execute_reply": "2024-05-02T15:24:45.347640Z",
     "shell.execute_reply.started": "2024-05-02T15:24:45.341214Z"
    },
    "tags": []
   },
   "outputs": [],
   "source": [
    "# 모델에게 Prefix 토큰을 중복해서 전달할 필요가 없으므로, Prefix 토큰은 1번만 사용하고 Content을 반복해서 프롬프트를 생성\n",
    "seed_word_prefix = prompts.SEED_WORD_PROMPT_PREFIX\n",
    "seed_word_content = [prompts.SEED_WORD_PROMPT_CONTENT.format(seed_word=s) for s in seed_words]"
   ]
  },
  {
   "cell_type": "code",
   "execution_count": 45,
   "id": "3d94a38a-2f41-47ae-84a0-fec8a8cbe016",
   "metadata": {
    "execution": {
     "iopub.execute_input": "2024-05-02T15:24:46.165980Z",
     "iopub.status.busy": "2024-05-02T15:24:46.165659Z",
     "iopub.status.idle": "2024-05-02T15:24:46.172728Z",
     "shell.execute_reply": "2024-05-02T15:24:46.171797Z",
     "shell.execute_reply.started": "2024-05-02T15:24:46.165957Z"
    },
    "tags": []
   },
   "outputs": [],
   "source": [
    "# 모델에게 Prefix 토큰을 중복해서 전달할 필요가 없으므로, Prefix 토큰은 1번만 사용하고 Content을 반복해서 프롬프트를 생성\n",
    "# 1개의 Prefix 마다 10개의 Content를 추가한다\n",
    "seed_word_prompts = []\n",
    "total_prompts = len(seed_words) // 10\n",
    "for idx in range(1, total_prompts+2):\n",
    "    start_index = (idx -1) * 10\n",
    "    end_index = idx * 10\n",
    "    seed_word_prompt = seed_word_prefix + \"\\n\".join(seed_word_content[start_index:end_index])\n",
    "    seed_word_prompts.append(seed_word_prompt)"
   ]
  },
  {
   "cell_type": "code",
   "execution_count": 46,
   "id": "45756685-409d-44e9-9833-c90d5d5a8ae9",
   "metadata": {
    "execution": {
     "iopub.execute_input": "2024-05-02T15:24:46.377490Z",
     "iopub.status.busy": "2024-05-02T15:24:46.377104Z",
     "iopub.status.idle": "2024-05-02T15:24:46.382429Z",
     "shell.execute_reply": "2024-05-02T15:24:46.381493Z",
     "shell.execute_reply.started": "2024-05-02T15:24:46.377461Z"
    },
    "tags": []
   },
   "outputs": [
    {
     "name": "stdout",
     "output_type": "stream",
     "text": [
      "주어진 seed_word에 대해 궁금해할 질문을 10개를 생성하세요.\n",
      "만들어낸 질문은 JSON형식을 따라야 합니다.\n",
      "Indentation은 없도록 출력하세요.\n",
      "아래 양식으로 출력하세요:\n",
      "{\"seed_word\": \"장기보유 특별 공제\", \"answer\": [\"1번째 질문\", \"2번째 질문\"... , \"10번째 질문\"]}\n",
      "{\"seed_word\": \"주택임대사업자\", \"answer\": [\"1번째 질문\", \"2번째 질문\"... , \"10번째 질문\"]}\n",
      "{\"seed_word\": \"종부세 중과세\", \"answer\": [\"1번째 질문\", \"2번째 질문\"... , \"10번째 질문\"]}\n",
      "{\"seed_word\": \"보금자리론\", \"answer\": [\"1번째 질문\", \"2번째 질문\"... , \"10번째 질문\"]}\n",
      "{\"seed_word\": \"디딤돌대출\", \"answer\": [\"1번째 질문\", \"2번째 질문\"... , \"10번째 질문\"]}\n",
      "{\"seed_word\": \"정책모기지\", \"answer\": [\"1번째 질문\", \"2번째 질문\"... , \"10번째 질문\"]}\n"
     ]
    }
   ],
   "source": [
    "print(seed_word_prompts[9])"
   ]
  },
  {
   "cell_type": "markdown",
   "id": "d2252e71-1be1-499d-b2f1-e1b1e7640065",
   "metadata": {},
   "source": [
    "아래의 코드로 ChatGPT로부터 질문리스트 데이터를 답변받을 수 있습니다."
   ]
  },
  {
   "cell_type": "code",
   "execution_count": 11,
   "id": "0f00d8df-785d-461e-a5b8-eb67f62ed7c0",
   "metadata": {
    "execution": {
     "iopub.execute_input": "2024-05-03T10:06:14.357962Z",
     "iopub.status.busy": "2024-05-03T10:06:14.356184Z",
     "iopub.status.idle": "2024-05-03T10:06:14.377856Z",
     "shell.execute_reply": "2024-05-03T10:06:14.375803Z",
     "shell.execute_reply.started": "2024-05-03T10:06:14.357899Z"
    },
    "tags": []
   },
   "outputs": [],
   "source": [
    "# for prompt in tqdm(seed_word_prompts[]):\n",
    "#     completion = utils.get_completion(prompt, model=\"gpt-4-turbo\")\n",
    "#     with open(\"./data/query.jsonl\", \"a\", encoding=\"utf-8\") as f:\n",
    "#     for line in completion.split(\"\\n\"):\n",
    "#         f.write(line)\n",
    "#         f.write(\"\\n\")"
   ]
  },
  {
   "cell_type": "markdown",
   "id": "83112114-910f-42e6-96a4-96b4ef6cca19",
   "metadata": {},
   "source": [
    "### 4. 질문리스트로 네이버에 검색하여 인기 글 데이터 수집하기\n",
    "3번에서 생성한 질문리스트를 selenium 라이브러리를 통해 네이버로 검색합니다.  \n",
    "검색 결과의 인기글의 텍스트 정보를 저장합니다.  \n",
    "예시 데이터는 `search.jsonl`로 제공합니다.  "
   ]
  },
  {
   "cell_type": "code",
   "execution_count": 47,
   "id": "ae2f00a6-9463-4689-adc3-23edb4fcbef4",
   "metadata": {
    "execution": {
     "iopub.execute_input": "2024-05-02T15:24:48.276809Z",
     "iopub.status.busy": "2024-05-02T15:24:48.276285Z",
     "iopub.status.idle": "2024-05-02T15:24:48.283053Z",
     "shell.execute_reply": "2024-05-02T15:24:48.282462Z",
     "shell.execute_reply.started": "2024-05-02T15:24:48.276767Z"
    },
    "tags": []
   },
   "outputs": [],
   "source": [
    "query_data = utils.jload(\"./data/query.jsonl\")"
   ]
  },
  {
   "cell_type": "code",
   "execution_count": 48,
   "id": "ae8c5144-b151-4e2a-b9f4-c4a12c0890c0",
   "metadata": {
    "execution": {
     "iopub.execute_input": "2024-05-02T15:24:48.475093Z",
     "iopub.status.busy": "2024-05-02T15:24:48.474839Z",
     "iopub.status.idle": "2024-05-02T15:24:48.478239Z",
     "shell.execute_reply": "2024-05-02T15:24:48.477911Z",
     "shell.execute_reply.started": "2024-05-02T15:24:48.475071Z"
    },
    "tags": []
   },
   "outputs": [
    {
     "data": {
      "text/plain": [
       "['{\"seed_word\": \"전세 계약\", \"answer\": [\"전세 계약 기간은 보통 얼마나 되나요?\", \"전세 계약서에는 어떤 내용이 포함되어야 하나요?\", \"전세 계약 시 부동산 중개수수료는 어떻게 책정되나요?\", \"전세 계약 갱신 시 주의해야 할 점은 무엇인가요?\", \"전세 계약 종료 시 보증금 반환은 어떻게 이루어지나요?\", \"전세 계약 중 집주인이 바뀌면 어떻게 해야 하나요?\", \"전세 계약 시 등기부등본은 왜 확인해야 하나요?\", \"전세 계약 기간 중 월세로 전환하는 것이 가능한가요?\", \"전세 계약 시 확인해야 할 집의 하자 사항은 무엇인가요?\", \"전세 계약 분쟁 발생 시 어떤 법적 대응을 할 수 있나요?\"]}\\n',\n",
       " '{\"seed_word\": \"임대차 계약\", \"answer\": [\"임대차 계약서에는 어떤 내용이 포함되어야 하나요?\", \"임대차 계약 기간은 일반적으로 얼마나 되나요?\", \"임대차 계약 시 임차인이 부담해야 하는 비용은 무엇인가요?\", \"임대차 계약 종료 시 임차인의 원상복구 의무는 어떻게 되나요?\", \"임대차 계약 기간 중 임대인이 집을 매도하면 어떻게 되나요?\", \"임대차 계약 갱신 거절 시 임대인이 내세울 수 있는 사유는 무엇인가요?\", \"임대차 계약 시 확인해야 할 특약 사항은 무엇인가요?\", \"임대차 계약 기간 중 임차인이 계약을 해지하고 싶다면 어떻게 해야 하나요?\", \"임대차 계약상 임차인의 권리와 의무는 무엇인가요?\", \"임대차 계약 분쟁 발생 시 어떤 법적 대응을 할 수 있나요?\"]}\\n']"
      ]
     },
     "execution_count": 48,
     "metadata": {},
     "output_type": "execute_result"
    }
   ],
   "source": [
    "query_data[:2]"
   ]
  },
  {
   "cell_type": "code",
   "execution_count": 49,
   "id": "24b29dcf-f85e-48e9-ab0f-dfb1978bf1cd",
   "metadata": {
    "execution": {
     "iopub.execute_input": "2024-05-02T15:24:48.657459Z",
     "iopub.status.busy": "2024-05-02T15:24:48.656846Z",
     "iopub.status.idle": "2024-05-02T15:24:48.678116Z",
     "shell.execute_reply": "2024-05-02T15:24:48.673531Z",
     "shell.execute_reply.started": "2024-05-02T15:24:48.657402Z"
    },
    "tags": []
   },
   "outputs": [],
   "source": [
    "queries = []\n",
    "for line in query_data:\n",
    "    query = json.loads(line)\n",
    "    queries = queries + query['answer']"
   ]
  },
  {
   "cell_type": "code",
   "execution_count": 50,
   "id": "e79b1e26-5bc6-48b0-b049-7cb120fe5d07",
   "metadata": {
    "execution": {
     "iopub.execute_input": "2024-05-02T15:24:49.650820Z",
     "iopub.status.busy": "2024-05-02T15:24:49.650313Z",
     "iopub.status.idle": "2024-05-02T15:24:49.656533Z",
     "shell.execute_reply": "2024-05-02T15:24:49.656003Z",
     "shell.execute_reply.started": "2024-05-02T15:24:49.650774Z"
    },
    "tags": []
   },
   "outputs": [
    {
     "data": {
      "text/plain": [
       "['전세 계약 기간은 보통 얼마나 되나요?',\n",
       " '전세 계약서에는 어떤 내용이 포함되어야 하나요?',\n",
       " '전세 계약 시 부동산 중개수수료는 어떻게 책정되나요?',\n",
       " '전세 계약 갱신 시 주의해야 할 점은 무엇인가요?',\n",
       " '전세 계약 종료 시 보증금 반환은 어떻게 이루어지나요?']"
      ]
     },
     "execution_count": 50,
     "metadata": {},
     "output_type": "execute_result"
    }
   ],
   "source": [
    "queries[:5]"
   ]
  },
  {
   "cell_type": "code",
   "execution_count": 51,
   "id": "0530fa8b-cc76-4241-8bbb-011d7916053f",
   "metadata": {
    "execution": {
     "iopub.execute_input": "2024-05-02T15:24:51.251551Z",
     "iopub.status.busy": "2024-05-02T15:24:51.250981Z",
     "iopub.status.idle": "2024-05-02T15:24:51.257922Z",
     "shell.execute_reply": "2024-05-02T15:24:51.257198Z",
     "shell.execute_reply.started": "2024-05-02T15:24:51.251502Z"
    },
    "tags": []
   },
   "outputs": [
    {
     "data": {
      "text/plain": [
       "960"
      ]
     },
     "execution_count": 51,
     "metadata": {},
     "output_type": "execute_result"
    }
   ],
   "source": [
    "len(queries)"
   ]
  },
  {
   "cell_type": "markdown",
   "id": "1da64bd8-30be-4fff-bd61-76cb89867d54",
   "metadata": {},
   "source": [
    "selenium이 4.1 버전으로 업그레이드 되면서 별도로 webdriver를 다운로드 받을 필요가 없어졌습니다.  \n",
    "webdriver 파일이 없으면 selenium이 자체적으로 다운로드하게 된다고 합니다. [stackoverflow](https://stackoverflow.com/questions/22130109/cant-use-chrome-driver-for-seleniumhttps://stackoverflow.com/questions/22130109/cant-use-chrome-driver-for-selenium)  \n",
    "본 예제의 selenium 코드 크롤링 코드는 [wikidocs](https://wikidocs.net/137914) 내용을 참조하였습니다.  "
   ]
  },
  {
   "cell_type": "code",
   "execution_count": 26,
   "id": "63e1ba1f-2e06-481d-a66b-6ad9e99b0940",
   "metadata": {
    "execution": {
     "iopub.execute_input": "2024-05-02T08:47:04.112714Z",
     "iopub.status.busy": "2024-05-02T08:47:04.111532Z",
     "iopub.status.idle": "2024-05-02T11:34:13.060728Z",
     "shell.execute_reply": "2024-05-02T11:34:13.060165Z",
     "shell.execute_reply.started": "2024-05-02T08:47:04.112661Z"
    },
    "tags": []
   },
   "outputs": [
    {
     "name": "stderr",
     "output_type": "stream",
     "text": [
      "100%|███████████████████████████████████████████████████████████████████████████████| 960/960 [2:47:07<00:00, 10.45s/it]\n"
     ]
    }
   ],
   "source": [
    "search_data = utils.get_document_through_selenium(\n",
    "    inputs=queries,\n",
    "    n_documents=5,\n",
    "    indent=4,\n",
    "    save_path = \"./data/document.json\"\n",
    ")"
   ]
  },
  {
   "cell_type": "code",
   "execution_count": 31,
   "id": "ba1dc97c-e57d-4930-9e9f-764a77521247",
   "metadata": {
    "execution": {
     "iopub.execute_input": "2024-05-02T12:07:25.068422Z",
     "iopub.status.busy": "2024-05-02T12:07:25.068151Z",
     "iopub.status.idle": "2024-05-02T12:07:25.106825Z",
     "shell.execute_reply": "2024-05-02T12:07:25.106458Z",
     "shell.execute_reply.started": "2024-05-02T12:07:25.068405Z"
    },
    "tags": []
   },
   "outputs": [
    {
     "name": "stdout",
     "output_type": "stream",
     "text": [
      "말해야 되나요? 주택임대차보호법 제 6조 제 1항 (계약의 갱신) 계약이 해지되기 6개월 전부터 2개월 전까지, 계약을 해지하겠다는 통보를 해야 한다. 즉, 법률상 늦어도 계약이 종료되기 2개월 전까지는 임대인에게 말해야 된다는 뜻인데요. 만약 해당 기간 안에 말하지 않았다면? 자동으로 연장되는 묵시적 갱신이 될 수 있습니다. 때문에, 종료 시점에 맞춰서 자금을...\n"
     ]
    }
   ],
   "source": [
    "print(utils.jload(\"./data/document.json\")[0]['document'][0])"
   ]
  },
  {
   "cell_type": "markdown",
   "id": "658fe605-fb45-4c00-8034-283186c0058f",
   "metadata": {},
   "source": [
    "가끔 크롤링이 안되는 경우가 있어서 한번 검수해줍니다."
   ]
  },
  {
   "cell_type": "code",
   "execution_count": 2,
   "id": "46f9f0b3-3970-45ad-8f6b-7a423ff49ac9",
   "metadata": {
    "execution": {
     "iopub.execute_input": "2024-05-02T12:59:30.800891Z",
     "iopub.status.busy": "2024-05-02T12:59:30.798800Z",
     "iopub.status.idle": "2024-05-02T12:59:30.835056Z",
     "shell.execute_reply": "2024-05-02T12:59:30.834540Z",
     "shell.execute_reply.started": "2024-05-02T12:59:30.800839Z"
    },
    "tags": []
   },
   "outputs": [
    {
     "name": "stdout",
     "output_type": "stream",
     "text": [
      "Index [18] 번째 데이터가 수집되지 않았네요.\n",
      "Index [298] 번째 데이터가 수집되지 않았네요.\n",
      "Index [503] 번째 데이터가 수집되지 않았네요.\n",
      "Index [507] 번째 데이터가 수집되지 않았네요.\n",
      "Index [594] 번째 데이터가 수집되지 않았네요.\n",
      "Index [693] 번째 데이터가 수집되지 않았네요.\n",
      "Index [783] 번째 데이터가 수집되지 않았네요.\n",
      "Index [933] 번째 데이터가 수집되지 않았네요.\n",
      "Index [937] 번째 데이터가 수집되지 않았네요.\n"
     ]
    }
   ],
   "source": [
    "search_data = utils.jload('./data/document.json')\n",
    "for idx in range(len(search_data)):\n",
    "    if len(search_data[idx]['document']) == 0:\n",
    "        print(f\"Index [{idx}] 번째 데이터가 수집되지 않았네요.\")"
   ]
  },
  {
   "cell_type": "markdown",
   "id": "930e1334-1b85-460f-9cd8-ead31b8ab56c",
   "metadata": {},
   "source": [
    "수집되지 않은 데이터를 한번더 크롤링하게 하고 `document.json`에 저장합니다."
   ]
  },
  {
   "cell_type": "code",
   "execution_count": 3,
   "id": "1cef1aaa-fb9e-42cb-a529-5a06097c75bc",
   "metadata": {
    "execution": {
     "iopub.execute_input": "2024-05-02T12:59:32.965698Z",
     "iopub.status.busy": "2024-05-02T12:59:32.964938Z",
     "iopub.status.idle": "2024-05-02T13:01:11.154786Z",
     "shell.execute_reply": "2024-05-02T13:01:11.154105Z",
     "shell.execute_reply.started": "2024-05-02T12:59:32.965659Z"
    },
    "tags": []
   },
   "outputs": [
    {
     "name": "stderr",
     "output_type": "stream",
     "text": [
      "100%|█████████████████████████████████████████████████████████████████████████████████████| 1/1 [00:15<00:00, 15.80s/it]\n",
      "100%|█████████████████████████████████████████████████████████████████████████████████████| 1/1 [00:01<00:00,  1.70s/it]\n",
      "100%|█████████████████████████████████████████████████████████████████████████████████████| 1/1 [00:05<00:00,  5.79s/it]\n",
      "100%|█████████████████████████████████████████████████████████████████████████████████████| 1/1 [00:16<00:00, 16.60s/it]\n",
      "100%|█████████████████████████████████████████████████████████████████████████████████████| 1/1 [00:11<00:00, 11.55s/it]\n",
      "100%|█████████████████████████████████████████████████████████████████████████████████████| 1/1 [00:10<00:00, 10.45s/it]\n",
      "100%|█████████████████████████████████████████████████████████████████████████████████████| 1/1 [00:08<00:00,  8.61s/it]\n",
      "100%|█████████████████████████████████████████████████████████████████████████████████████| 1/1 [00:04<00:00,  4.64s/it]\n",
      "100%|█████████████████████████████████████████████████████████████████████████████████████| 1/1 [00:15<00:00, 15.56s/it]\n"
     ]
    }
   ],
   "source": [
    "for idx in range(len(search_data)):\n",
    "    if len(search_data[idx]['document']) == 0:\n",
    "        search_data[idx] = utils.get_document_through_selenium(\n",
    "            inputs=search_data[idx]['question'],\n",
    "            n_documents=5,\n",
    "            indent=4\n",
    "        )[0]"
   ]
  },
  {
   "cell_type": "markdown",
   "id": "dcf676a8-e2ce-4c8e-840f-e31071d887ce",
   "metadata": {},
   "source": [
    "제대로 수집되었는지 또 검사해줍니다."
   ]
  },
  {
   "cell_type": "code",
   "execution_count": 53,
   "id": "a91b48d5-4582-4e81-a61a-911baf012f62",
   "metadata": {
    "execution": {
     "iopub.execute_input": "2024-05-02T12:53:24.337948Z",
     "iopub.status.busy": "2024-05-02T12:53:24.336090Z",
     "iopub.status.idle": "2024-05-02T12:53:24.354848Z",
     "shell.execute_reply": "2024-05-02T12:53:24.354255Z",
     "shell.execute_reply.started": "2024-05-02T12:53:24.337764Z"
    },
    "tags": []
   },
   "outputs": [
    {
     "name": "stdout",
     "output_type": "stream",
     "text": [
      "Index [693] 번째 데이터가 수집되지 않았네요.\n"
     ]
    }
   ],
   "source": [
    "for idx in range(len(search_data)):\n",
    "    if len(search_data[idx]['document']) == 0:\n",
    "        print(f\"Index [{idx}] 번째 데이터가 수집되지 않았네요.\")"
   ]
  },
  {
   "cell_type": "markdown",
   "id": "3dd03837-9be5-4800-bb6b-cac946527463",
   "metadata": {},
   "source": [
    "원인 파악을 위해 해당 페이지로 검색해보면 인기글이 없으므로 데이터에서 삭제합니다."
   ]
  },
  {
   "cell_type": "code",
   "execution_count": 4,
   "id": "2b177ce9-aad4-4f43-bd54-d503441c6d9d",
   "metadata": {
    "execution": {
     "iopub.execute_input": "2024-05-02T13:01:11.156506Z",
     "iopub.status.busy": "2024-05-02T13:01:11.156206Z",
     "iopub.status.idle": "2024-05-02T13:01:11.160800Z",
     "shell.execute_reply": "2024-05-02T13:01:11.160103Z",
     "shell.execute_reply.started": "2024-05-02T13:01:11.156472Z"
    },
    "tags": []
   },
   "outputs": [],
   "source": [
    "# 삭제할 인덱스 모으기\n",
    "remove_idx_list = []\n",
    "for idx in range(len(search_data)):\n",
    "    if len(search_data[idx]['document']) == 0:\n",
    "        remove_idx_list.append(idx)\n",
    "\n",
    "# 삭제할 인덱스를 pop \n",
    "for idx in remove_idx_list:\n",
    "    search_data.pop(idx)"
   ]
  },
  {
   "cell_type": "code",
   "execution_count": 8,
   "id": "f32ac551-7861-46cf-bed2-c9470d1455b2",
   "metadata": {
    "execution": {
     "iopub.execute_input": "2024-05-02T13:02:28.740226Z",
     "iopub.status.busy": "2024-05-02T13:02:28.739366Z",
     "iopub.status.idle": "2024-05-02T13:02:28.770919Z",
     "shell.execute_reply": "2024-05-02T13:02:28.770602Z",
     "shell.execute_reply.started": "2024-05-02T13:02:28.740166Z"
    },
    "tags": []
   },
   "outputs": [],
   "source": [
    "utils.jsave(data=search_data, file=\"./data/document.json\", mode=\"w\", indent=4)"
   ]
  },
  {
   "cell_type": "code",
   "execution_count": 6,
   "id": "c05304e7-eeec-4873-9c32-a7bf9aa102d8",
   "metadata": {
    "execution": {
     "iopub.execute_input": "2024-05-02T13:02:08.866268Z",
     "iopub.status.busy": "2024-05-02T13:02:08.865247Z",
     "iopub.status.idle": "2024-05-02T13:02:08.883309Z",
     "shell.execute_reply": "2024-05-02T13:02:08.882333Z",
     "shell.execute_reply.started": "2024-05-02T13:02:08.866206Z"
    },
    "tags": []
   },
   "outputs": [],
   "source": [
    "for idx in range(len(search_data)):\n",
    "    if len(search_data[idx]['document']) == 0:\n",
    "        print(f\"Index [{idx}] 번째 데이터가 수집되지 않았네요.\")"
   ]
  },
  {
   "cell_type": "markdown",
   "id": "2d6130e7-344c-4058-ace3-39eb80087cfb",
   "metadata": {
    "execution": {
     "iopub.execute_input": "2024-04-28T07:05:34.818904Z",
     "iopub.status.busy": "2024-04-28T07:05:34.818806Z",
     "iopub.status.idle": "2024-04-28T07:05:34.820806Z",
     "shell.execute_reply": "2024-04-28T07:05:34.820406Z",
     "shell.execute_reply.started": "2024-04-28T07:05:34.818896Z"
    },
    "tags": []
   },
   "source": [
    "### 5. encoder 모델을 활용하여 데이터를 유사도 기준으로 정렬하기\n",
    "최근에 공개된 intfloat의 e5 Multi Lingual 모델을 사용하여 유사도를 계산합니다.  \n",
    "질문을 했을 때, 검색되는 인기글 데이터들중 유사도가 높은 순서대로 문서를 다시 정렬합니다.  \n",
    "정렬된 순서대로 데이터를 좀더 많이 참조하도록 프롬프트를 통해 지시합니다."
   ]
  },
  {
   "cell_type": "code",
   "execution_count": 2,
   "id": "6716c4ee-7092-4b5b-9090-7e3c6c20e683",
   "metadata": {
    "execution": {
     "iopub.execute_input": "2024-05-02T15:58:55.616955Z",
     "iopub.status.busy": "2024-05-02T15:58:55.616581Z",
     "iopub.status.idle": "2024-05-02T15:58:55.635868Z",
     "shell.execute_reply": "2024-05-02T15:58:55.635348Z",
     "shell.execute_reply.started": "2024-05-02T15:58:55.616921Z"
    },
    "tags": []
   },
   "outputs": [],
   "source": [
    "search_data = utils.jload(\"./data/document.json\")"
   ]
  },
  {
   "cell_type": "markdown",
   "id": "3f6c1f6f-cd6c-4b89-a0ee-ff728c8e9ca6",
   "metadata": {},
   "source": [
    "e5모델의 자세한 내용은 [hugginface](https://huggingface.co/intfloat/e5-base-v2)를 참조하세요  \n",
    "유사도 계산시 `multiprocessing` 모듈을 사용합니다.  \n",
    "데이터 전처리시에 `multiprocessing`, `threading`, `concurrent.futures` 등의 병렬처리 도구를 사용하는 것이 속도 개선에 많이 도움이 되었습니다.  "
   ]
  },
  {
   "cell_type": "code",
   "execution_count": 3,
   "id": "37a42296-087f-41be-b539-d2a5219a6ac0",
   "metadata": {
    "execution": {
     "iopub.execute_input": "2024-05-02T15:58:56.558279Z",
     "iopub.status.busy": "2024-05-02T15:58:56.557839Z",
     "iopub.status.idle": "2024-05-02T16:19:16.365125Z",
     "shell.execute_reply": "2024-05-02T16:19:16.364810Z",
     "shell.execute_reply.started": "2024-05-02T15:58:56.558242Z"
    },
    "tags": []
   },
   "outputs": [
    {
     "name": "stderr",
     "output_type": "stream",
     "text": [
      "100%|█████████████████████████████████████████████████████████████████████████████████| 959/959 [20:19<00:00,  1.27s/it]\n"
     ]
    }
   ],
   "source": [
    "for question in tqdm(search_data):\n",
    "    question['document'], question['scores'] = similarity.sort_by_similarity(question['question'], question['document'])"
   ]
  },
  {
   "cell_type": "code",
   "execution_count": 5,
   "id": "3eaf1c9d-4c3b-4efc-903c-fed86027077f",
   "metadata": {
    "execution": {
     "iopub.execute_input": "2024-05-02T16:38:37.673169Z",
     "iopub.status.busy": "2024-05-02T16:38:37.672256Z",
     "iopub.status.idle": "2024-05-02T16:38:37.709502Z",
     "shell.execute_reply": "2024-05-02T16:38:37.709084Z",
     "shell.execute_reply.started": "2024-05-02T16:38:37.673127Z"
    },
    "tags": []
   },
   "outputs": [],
   "source": [
    "utils.jsave(search_data, \"./data/search_data.json\", \"w\", indent=4)"
   ]
  },
  {
   "cell_type": "markdown",
   "id": "c26fe065-19a8-4e0a-9288-d5bfcf4a198e",
   "metadata": {
    "tags": []
   },
   "source": [
    "### 6. Instuction 데이터셋 만들기\n",
    "완성된 질문리스트와 인기글 데이터를 통해 ChatGPT에 정답을 출력하도록 요청합니다.  \n",
    "ChatGPT는 아래의 프롬프트처럼 question에 대한 answer 답변을 출력합니다.  \n",
    "완성된 question, answer 텍스트는 학습시킬 모델의 훈련용 데이터셋으로 전달됩니다.  \n",
    "본 문서의 프롬프트는 [Stanford Alpaca의 프롬프트](https://github.com/tatsu-lab/stanford_alpaca/blob/main/prompt.txthttps://github.com/tatsu-lab/stanford_alpaca/blob/main/prompt.txt)를 참조하였습니다.  \n",
    "예시 데이터는 `instruction.jsonl`로 제공합니다."
   ]
  },
  {
   "cell_type": "code",
   "execution_count": 6,
   "id": "a71a94b5-435c-402f-906c-44b844c8989c",
   "metadata": {
    "execution": {
     "iopub.execute_input": "2024-05-02T16:38:54.170793Z",
     "iopub.status.busy": "2024-05-02T16:38:54.170006Z",
     "iopub.status.idle": "2024-05-02T16:38:54.177214Z",
     "shell.execute_reply": "2024-05-02T16:38:54.176143Z",
     "shell.execute_reply.started": "2024-05-02T16:38:54.170730Z"
    },
    "tags": []
   },
   "outputs": [
    {
     "name": "stdout",
     "output_type": "stream",
     "text": [
      "요청받은 question을 document를 참조하여 answer로 답변하세요.\n",
      "question 1개당 여러개의 document가 주어지며, question은 10개씩 전달됩니다.\n",
      "\n",
      "요구사항은 다음과 같습니다:\n",
      "1. 어휘의 다양성을 위해 같은 단어를 반복하지 않습니다.\n",
      "2. 문장의 형태가 다양해야합니다. 예를 들어 질문과 명령형이 결합되는 형태여야 합니다.\n",
      "3. 답변은 제공받는 document들을 기반으로 작성되어야 합니다.\n",
      "4. 제공되는 document의 순서가 먼저 제공될 수록 더 중요한 데이터이므로 답변에 더 많은 영향을 끼쳐야합니다.\n",
      "5. 답변은 자세한 내용이 포함되도록 제공되어야하지만 200단어를 넘지 않는 것이 좋습니다.\n",
      "\n",
      "출력 형식은 JSON형식을 따라야 합니다.\n",
      "Indentation은 없도록 출력하세요.\n",
      "각 question마다 출력 형식은 다음과 같아야합니다:\n",
      "{'question': '전달 받은 question의 내용', 'answer': '답변 내용'}\n",
      "\n",
      "###question:\n",
      "{question}\n",
      "###document:\n",
      "{document}\n",
      "\n"
     ]
    }
   ],
   "source": [
    "print(prompts.INSTRUCTION_PROMPT_PREFIX + prompts.INSTRUCTION_PROMPT_CONTENT)"
   ]
  },
  {
   "cell_type": "code",
   "execution_count": 7,
   "id": "63a00105-8d72-46d6-b762-afc2c90388d3",
   "metadata": {
    "execution": {
     "iopub.execute_input": "2024-05-02T16:38:56.219723Z",
     "iopub.status.busy": "2024-05-02T16:38:56.218190Z",
     "iopub.status.idle": "2024-05-02T16:38:56.247050Z",
     "shell.execute_reply": "2024-05-02T16:38:56.246426Z",
     "shell.execute_reply.started": "2024-05-02T16:38:56.219679Z"
    },
    "tags": []
   },
   "outputs": [],
   "source": [
    "search = utils.jload(\"./data/search_data.json\")"
   ]
  },
  {
   "cell_type": "code",
   "execution_count": 8,
   "id": "2f88e377-cddf-4d41-beda-34d13b58f96c",
   "metadata": {
    "execution": {
     "iopub.execute_input": "2024-05-02T16:38:57.738753Z",
     "iopub.status.busy": "2024-05-02T16:38:57.738035Z",
     "iopub.status.idle": "2024-05-02T16:38:57.749179Z",
     "shell.execute_reply": "2024-05-02T16:38:57.748220Z",
     "shell.execute_reply.started": "2024-05-02T16:38:57.738711Z"
    },
    "tags": []
   },
   "outputs": [],
   "source": [
    "# 리스트 형태인 document 데이터를 하나로 합치기\n",
    "for data in search:\n",
    "    data['document'] = \"\\n\".join([f\"{idx+1}. {d}\" for idx, d in enumerate(data['document'])])"
   ]
  },
  {
   "cell_type": "code",
   "execution_count": 9,
   "id": "5e47d259-3bd7-4241-adfe-a37da70e23b8",
   "metadata": {
    "execution": {
     "iopub.execute_input": "2024-05-02T16:38:59.268400Z",
     "iopub.status.busy": "2024-05-02T16:38:59.267805Z",
     "iopub.status.idle": "2024-05-02T16:38:59.276535Z",
     "shell.execute_reply": "2024-05-02T16:38:59.275767Z",
     "shell.execute_reply.started": "2024-05-02T16:38:59.268361Z"
    },
    "tags": []
   },
   "outputs": [
    {
     "name": "stdout",
     "output_type": "stream",
     "text": [
      "1. 말해야 되나요? 주택임대차보호법 제 6조 제 1항 (계약의 갱신) 계약이 해지되기 6개월 전부터 2개월 전까지, 계약을 해지하겠다는 통보를 해야 한다. 즉, 법률상 늦어도 계약이 종료되기 2개월 전까지는 임대인에게 말해야 된다는 뜻인데요. 만약 해당 기간 안에 말하지 않았다면? 자동으로 연장되는 묵시적 갱신이 될 수 있습니다. 때문에, 종료 시점에 맞춰서 자금을...\n",
      "2. 기간을 보통 2달 정도 주게 되는데, 해당 기간 내 임대인은 건설사에 중도금 대출과 잔금을 모두 상환해야 하기 때문에 금액이 떨어지게 됩니다. 오늘은, 미등기 신축 아파트 전세 계약... 요즘은, 임차인이 전세를 구할 때 전세자금 대출을 받는 경우가 상당히 많습니다. 그런데 대출에 필요한 모든 서류를 은행에 제출했을 경우 은행에서 대출금이 나오는지?는...\n",
      "3. 전세보증금반환소송 유리한 결과를 위해 전세 보증금은 결국 임대인과 임차인이 계약을 하게 된 시점부터 법적 효력이 가능한 기간 동안 임차인이 임대인의 부동산을 사용하겠다는... 사례에는 얼마나 더 다양한 시점이 있는지를 사전에 꼭 파악한 뒤 철저히 준비를 해야 한다고 하였습니다. 인가결정이나도 안도할 수 없어 반환금 지급 명령은 인가 결정이 되었다고...\n",
      "4. 전세사기변호사 법무법인 이현 부동산 소송 전략센터입니다. 대여금반환청구소송에 급여채권가압류, 추심까지 책임져드렸어요 생각보다 많은 분들이 겪고 있는 문제입니다. 얼마나... 수원전세사기변호사 ‘내용증명’을 통해 보다 확실하게 계약만료를 알릴 수 있습니다. 내용증명에는 집주인에게 ‘부동산 목적물’ ‘임차’ ‘만료일’ ‘종료...\n",
      "5. 생각하면 전세사기 초기 때의 내 예전 모습이 떠올라서, 마음이 찡해진다... 얼마나 힘드실까... 그래서 결심했다. 그 사람들을 위해서, 정보의 사막 속에서 몸소 필요한 정보를 찾고... 어, 근데 계약기간이 남았다? 1. 이사 가고 싶다. 2. 전세금 반환 소송을 걸고 싶다. (승소 후 재산 압류, 경매 진행, 채권추심 하고 싶다.) 1, 2 중 하나에 해당된다면, 중도해지하는 걸...\n"
     ]
    }
   ],
   "source": [
    "print(search[0]['document'])"
   ]
  },
  {
   "cell_type": "code",
   "execution_count": 10,
   "id": "455bfdac-8ad1-41cf-85be-54fbbdf26e13",
   "metadata": {
    "execution": {
     "iopub.execute_input": "2024-05-02T16:39:01.023774Z",
     "iopub.status.busy": "2024-05-02T16:39:01.022748Z",
     "iopub.status.idle": "2024-05-02T16:39:01.030148Z",
     "shell.execute_reply": "2024-05-02T16:39:01.029435Z",
     "shell.execute_reply.started": "2024-05-02T16:39:01.023730Z"
    },
    "tags": []
   },
   "outputs": [
    {
     "name": "stdout",
     "output_type": "stream",
     "text": [
      "\n",
      "###question:\n",
      "{question}\n",
      "###document:\n",
      "{document}\n",
      "\n"
     ]
    }
   ],
   "source": [
    "print(prompts.INSTRUCTION_PROMPT_CONTENT)"
   ]
  },
  {
   "cell_type": "code",
   "execution_count": 11,
   "id": "826d6649-9f4a-454a-b9b5-78b4751f9dd8",
   "metadata": {
    "execution": {
     "iopub.execute_input": "2024-05-02T16:39:02.574588Z",
     "iopub.status.busy": "2024-05-02T16:39:02.573839Z",
     "iopub.status.idle": "2024-05-02T16:39:02.585206Z",
     "shell.execute_reply": "2024-05-02T16:39:02.584277Z",
     "shell.execute_reply.started": "2024-05-02T16:39:02.574546Z"
    },
    "tags": []
   },
   "outputs": [],
   "source": [
    "prefix = prompts.INSTRUCTION_PROMPT_PREFIX\n",
    "instructions = []\n",
    "total_instructions = len(search) // 10\n",
    "for index in range(1, total_instructions + 2):\n",
    "    start_index = (index - 1) * 10\n",
    "    end_index = index * 10\n",
    "    content = \"\\n\".join([\n",
    "        prompts.INSTRUCTION_PROMPT_CONTENT.format(question = data['question'], document = data['document'])\n",
    "        for data in search[start_index:end_index]\n",
    "    ])\n",
    "    instruction = prefix + content\n",
    "    instructions.append(instruction)"
   ]
  },
  {
   "cell_type": "code",
   "execution_count": 12,
   "id": "e0f8f046-7f46-407b-83a4-e1a6f837d372",
   "metadata": {
    "execution": {
     "iopub.execute_input": "2024-05-02T16:39:02.868718Z",
     "iopub.status.busy": "2024-05-02T16:39:02.868043Z",
     "iopub.status.idle": "2024-05-02T16:39:02.875318Z",
     "shell.execute_reply": "2024-05-02T16:39:02.874324Z",
     "shell.execute_reply.started": "2024-05-02T16:39:02.868668Z"
    },
    "tags": []
   },
   "outputs": [
    {
     "name": "stdout",
     "output_type": "stream",
     "text": [
      "요청받은 question을 document를 참조하여 answer로 답변하세요.\n",
      "question 1개당 여러개의 document가 주어지며, question은 10개씩 전달됩니다.\n",
      "\n",
      "요구사항은 다음과 같습니다:\n",
      "1. 어휘의 다양성을 위해 같은 단어를 반복하지 않습니다.\n",
      "2. 문장의 형태가 다양해야합니다. 예를 들어 질문과 명령형이 결합되는 형태여야 합니다.\n",
      "3. 답변은 제공받는 document들을 기반으로 작성되어야 합니다.\n",
      "4. 제공되는 document의 순서가 먼저 제공될 수록 더 중요한 데이터이므로 답변에 더 많은 영향을 끼쳐야합니다.\n",
      "5. 답변은 자세한 내용이 포함되도록 제공되어야하지만 200단어를 넘지 않는 것이 좋습니다.\n",
      "\n",
      "출력 형식은 JSON형식을 따라야 합니다.\n",
      "Indentation은 없도록 출력하세요.\n",
      "각 question마다 출력 형식은 다음과 같아야합니다:\n",
      "{'question': '전달 받은 question의 내용', 'answer': '답변 내용'}\n",
      "\n",
      "###question:\n",
      "전세 계약 기간은 보통 얼마나 되나요?\n",
      "###document:\n",
      "1. 말해야 되나요? 주택임대차보호법 제 6조 제 1항 (계약의 갱신) 계약이 해지되기 6개월 전부터 2개월 전까지, 계약을 해지하겠다는 통보를 해야 한다. 즉, 법률상 늦어도 계약이 종료되기 2개월 전까지는 임대인에게 말해야 된다는 뜻인데요. 만약 해당 기간 안에 말하지 않았다면? 자동으로 연장되는 묵시적 갱신이 될 수 있습니다. 때문에, 종료 시점에 맞춰서 자금을...\n",
      "2. 기간을 보통 2달 정도 주게 되는데, 해당 기간 내 임대인은 건설사에 중도금 대출과 잔금을 모두 상환해야 하기 때문에 금액이 떨어지게 됩니다. 오늘은, 미등기 신축 아파트 전세 계약... 요즘은, 임차인이 전세를 구할 때 전세자금 대출을 받는 경우가 상당히 많습니다. 그런데 대출에 필요한 모든 서류를 은행에 제출했을 경우 은행에서 대출금이 나오는지?는...\n",
      "3. 전세보증금반환소송 유리한 결과를 위해 전세 보증금은 결국 임대인과 임차인이 계약을 하게 된 시점부터 법적 효력이 가능한 기간 동안 임차인이 임대인의 부동산을 사용하겠다는... 사례에는 얼마나 더 다양한 시점이 있는지를 사전에 꼭 파악한 뒤 철저히 준비를 해야 한다고 하였습니다. 인가결정이나도 안도할 수 없어 반환금 지급 명령은 인가 결정이 되었다고...\n",
      "4. 전세사기변호사 법무법인 이현 부동산 소송 전략센터입니다. 대여금반환청구소송에 급여채권가압류, 추심까지 책임져드렸어요 생각보다 많은 분들이 겪고 있는 문제입니다. 얼마나... 수원전세사기변호사 ‘내용증명’을 통해 보다 확실하게 계약만료를 알릴 수 있습니다. 내용증명에는 집주인에게 ‘부동산 목적물’ ‘임차’ ‘만료일’ ‘종료...\n",
      "5. 생각하면 전세사기 초기 때의 내 예전 모습이 떠올라서, 마음이 찡해진다... 얼마나 힘드실까... 그래서 결심했다. 그 사람들을 위해서, 정보의 사막 속에서 몸소 필요한 정보를 찾고... 어, 근데 계약기간이 남았다? 1. 이사 가고 싶다. 2. 전세금 반환 소송을 걸고 싶다. (승소 후 재산 압류, 경매 진행, 채권추심 하고 싶다.) 1, 2 중 하나에 해당된다면, 중도해지하는 걸...\n",
      "\n",
      "\n",
      "###question:\n",
      "전세 계약서에는 어떤 내용이 포함되어야 하나요?\n",
      "###document:\n",
      "1. 전세사기 근저당과 같은 문제는 으로 인해 발생합니다. 는 있지만 실제로 많은 사람들이 돈을 빌려준다면 원금이나 이자를 갚지 못하는 경우가 많기 때문에 꼭 알아두시는 것이 좋습니다. 주의를 하셔야 할 내용들을 하나하나 정리해보았으니 자세하게 살펴보겠습니다만 이 글을 마무리하고자 합니다. 조언드렸지만 현재 진행 중인 을 정리해 보자면 다음과...\n",
      "2. 부동산 계약서 양식 어떻게 구성되어 있고 어떤 내용들을 포함하고 있을까요? 부동산 계약서 양식은 어떠한 방식으로 되어있고 어떠한 내용들을 포함하고 있는지 말씀드리겠습니다. 이... 매매 계약서의 양식은 서울중앙지방법원-양식-생활 속의 계약서 경로로 가시면 확인이 가능하십니다. 부동산 양식 하고 있는 더 상세 간단하게 씩 차근차근 말씀을...\n",
      "3. 안녕하세요 여러분 :) 전세 계약을 준비중이라면 전세계약서 양식이 어떻게 되어 있는지 어떤 내용이 들어가는지 꼼꼼히 준비하는 것이 좋습니다. 워낙 전세사기 피해자분들이 많이... 전세계약서 양식은 네이버에 검색하면 유료, 무료 많이 올라와 있습니다. 필요한 만 들어가면 되기 때문에 아무거나 다운받으셔도 되는데요. 저도 오늘 링크 가지고 왔습니다. 이...\n",
      "4. 등기부등본과 계약서의 주소명이 다를 경우 법적 문제가 발생할 수 있는데요. 특히 임대차 소송에서 많이 제기되는 문제 중 하나가 소재지의 명확하지 않는 주소 때문이라고 합니다.... 오늘은 월세와 전세의 부동산 임대차 계약서 작성방법 및 직거래 시 주의사항에 대하여 알아보았는데요. 작성이 비교적 간단하게 보이더라도 주의하실 들이 많기 때문에...\n",
      "5. 조건 등 상세 내용 포함 이번에는 중소기업 청년 전세자금대출의 조건과 더불어서 여러 가지 상세 내용에 대해서 알아보도록 하겠습니다. 중소기업취업청년 전월세보증금대출이라는... 이 외에도 소득확인 시 서류와, 주택관련 확정일자부 임대차계약서 사본, 임차주택 건물 등기사항전부증명서 등이 필요합니다. 중소기업 재직 확인을 위한 서류도 미리 구비하시길...\n",
      "\n",
      "\n",
      "###question:\n",
      "전세 계약 시 부동산 중개수수료는 어떻게 책정되나요?\n",
      "###document:\n",
      "1. 부동산 중개 수수료는 전세 계약 시 필수적으로 고려해야 할 비용입니다. 이러한 정보를 미리 알고 계시면, 부동산 계약을 보다 투명하고 안정적으로 진행할 수 있습니다. 부동산 중개수수료는 할인이 가능할까요? 부동산 중개수수료에 대한 할인은 가능한 경우도 있지만, 이는 여러 요인에 따라 다릅니다. 여기 몇 가지 중요한 사항들을 고려해야 합니다 법적 상한선...\n",
      "2. 전세(월세)계약 중도해지 시, 부동산 중개수수료 누가 부담? 안녕하세요. 명지국제KB부동산 명지김선생입니다. 특별한 경우가 아닌 이상 보통 전세계약 또는 월세계약시 임대차기간(주택)은 2년으로 계약합니다. 하지만, 피치 못할 사정으로 인해 계약기간을 채우지 못하고 여러 가지 사정으로 중도해지를 해야 되는 경우가 발생할 수 있습니다. 임차인은 어쩔 수 없이...\n",
      "3. 이제 본론으로 넘어와서 매매와 전세, 월세 계약 시 부동산 중개 수수료에 대해 알아보겠습니다. 매매 시 부동산 중개 수수료 주택 매매시 5천만원 까지는 최대 25만원을... 5억짜리 전세를 들어갈 때는 0.3%로 150만원이 복비입니다.(VAT 별도) 월세의 경우에는? 월세는 계산할까요? 매달 내는 월세에 100을 곱한 금액을 보증금에 더한 값을 기준으로...\n",
      "4. 일단 시세에 맞춰 계약을 하게 되었고 계속 거래 중인 부동산 사장님 이번에도 거래를 하게 되어 일단 계약 전 부동산 사장님과 전세중개수수료에 대해 조율하게 되었어요. 전세금이 6억이 넘어가니 부동산중개보수 요율이 0.4%더라고요. T.T 임대차 중개보수 요율이 서울시 기준 1억~ 6억 미만 구간은 0.3% 6억부터 12억 미만 구간은 0.4% 계산을 해보면 가가 6억이라면...\n",
      "5. 임대차 계약 시 임대차 계약 시에는 조금 다르게 적용됩니다. 먼저 3억원 미만 주택 임대차 시에는 부동산 중개수수료가 0.3%로 통합되고, 이후 3억원부터 6억원 미만 주택은 0.4%의 중개수수료와 30만원 공제가 적용됩니다. 6억원에서 9억원까지는 0.5%의 와 90만원 공제가 적용되며, 9억원에서 12억원까지는 0.4% 가 적용되고요. 이후 이후 6억원마다...\n",
      "\n",
      "\n",
      "###question:\n",
      "전세 계약 갱신 시 주의해야 할 점은 무엇인가요?\n",
      "###document:\n",
      "1. 만약 전세 계휙중이라면 여기 공도사 카페에 올라와 있는 전세 관련 글을 많이 참고해보시길 바랍니다. 전세 묵시적 갱신 외에도 꼭 알아야 할 것, 계약 시 주의사항 등 유용한 정보들이 올라와 있습니다. 여기까지 읽어주셔서 감사드리며 오늘 하루도 수고 많으셨습니다. ▼ 무상임대차서 작성 사항 한 눈에 확인\n",
      "2. 증액되었을 경우에는 이 부분에대한 계약서를 작성하여 추가적으로 증액된 금액에 대해서도 확정일자로 보호를 받으셔야 하겠습니다. 여기까지 전세계약연장 갱신시 주의할 점을 정리해봤는데요. 사실 공인중개사무실을 통 할 경우 대부분은 중개사가 미리 확인을 해주는 경우가 많지만 혹시라도 발생할 수 있는 상황에 대비하여 꼼곰히 직접 챙겨주셔야 하겠습니다.\n",
      "3. 전세 계약 갱신 주의할 점 주거를 마련한는 방법은 자가,전세,월세 등으로 사는 경우들이 있습니다.특히나 전월세 계약이 만료되면 집주인은 세입자에게 보증금을 돌려줘야하는데요.... 방법이라고 할 수 있겠습니다. 하지만 요즘 같이 역전세 현상에서 전세 계약 갱신 시 다시 한번 해당 주택 관련 서류 체크해보는것이 필요하며 동일한 상태에서 서로 진행하는 경우도...\n",
      "4. 여기서 주의해야 되는 부분은 임차인은 연장 후 언제든 해지 통보를 할 수 있으며 3개월 이후 계약 해지 효력이 발생됩니다. 반대로 임대인은 중간에 해지 통보를 할 수 없으며 연장된 계약기간을 모두 충족해야 됩니다. 전세 계약 장점 전세 계약에 보증금은 일반적으로 임차료에 20~30배로 측정됩니다. 국내에서는 임차인 보호 규정으로 최저 임대 기간을 2년으로 정하고...\n",
      "5. 요즘처럼 이렇게 정보를 쉽게 얻을 수 있고, 많은 것이 발전했음에도 불구하고 아직까지도 계약을 할 때 선량한 사람들에게 사기를 치는 경우가 많습니다. 특히 이제 막 사회에 나온 청년들이 주택을 계약할 때 이런 상황이 발생되는 경우가 많은데요. 그래서 오늘은 월세 사항 정리, 청구권 등에 대해서 알아보도록 하겠습니다. 바로 시작할게요!...\n",
      "\n",
      "\n",
      "###question:\n",
      "전세 계약 종료 시 보증금 반환은 어떻게 이루어지나요?\n",
      "###document:\n",
      "1. 전세계약 종료 또는 중도해지 시 전세보증금 반환절차 및 방법 전세자금대출 질권 근질권 설정통지서 전세계약 종료 시 전세보증금 반환 절차 및 방법 전세보증금을 마련하기 위해서... 그렇다면 임대인은 전세계약이 종료되어 보증금을 반환해야 할 때 누구에게 해야 할까요? 일반적으로 임대인이 생각할 수 있는 절차 및 방법은 임차인에게...\n",
      "2. 전세보증금반환소송 사전 파악은 전세계약이 종료됨에도 반환이 이뤄지지 않으면서 거의 전 재산이나 다름없는 돈을 날릴 처지에 놓이게 된 분들이 많다고 했는데요. 더욱이 은행에서 빌린 대출금 대부분을 반환하지 않은 상황에서 약정기간이 만료돼 이사를 해야 하는 상황인데 집주인에게 을 돌려받지 못하면서 막대한 재산적 피해가 초래되기도 했습니다....\n",
      "3. 계약 종료 의사를 반드시 표현하고 전화 녹음과 문자 메시지처럼 증거를 남길 수 있는 자료를 만들어야 한다고 하였습니다. 보통 부동산 계약 경험이 많지 않은 사람들의 경우 이런 문제들을 겪게 되었을 때 크게 당황할 수 있다고 하였습니다. 이에 따라 제때 제대로 된 대처를 하지 못하고 피해를 고스란히 받게 되는 경우도 많다고 하였습니다. 물론 청구소...\n",
      "4. 圖 씨는 이 사태를 어떻게 해결해 나가야 할지 고민하게 되었습니다. 여러 차례 變 씨에게 연락을 시도했음에도 불구하고, 變 씨의 응답이 없자 圖 씨는 문제를 혼자 해결할 수 없다고... 또한, 이러한 문제를 예방하기 위해서는 임대차 계약 시 보증금 반환 조건을 명확히 하는 것이 중요합니다. 또다른 소송 사건의 주인공 學 씨는 직장생활로 인해 분주한...\n",
      "5. 먼저 송달함에 있어 세입자 측이 전세보증금반환소송장을 재판소에 제출하면 즉시 소장 부본을 임차인에게 전달하여 다음 기일 지정에서 판사는 변론기일을 정하여 법률관계에 따라 심사를 한다고 했는데요. 계약의 종료에 따른 보증금 미발 후와 혜택이 명백한 경위 판사는 통상 1회의 변론기일에 심리를 종결한다고 했습니다. 최후의 판결에 관한 것은 변론 종결 후 바로...\n",
      "\n",
      "\n",
      "###question:\n",
      "전세 계약 중 집주인이 바뀌면 어떻게 해야 하나요?\n",
      "###document:\n",
      "1. 전세 계약기간중 집주인이 바뀌면 어떻게 해야하나요? 화창한 불금입니다. 이번한주도 화이팅 하셨나요. 최근 뉴스에서 들려오는 전세사기 깡통전세에 대한 피해소식이 야속하기만... 전세 계약시 특약사항을 꼼꼼하게 체크해야 합니다. 전세계약 기간 중 매매로 소유권이 변경될 경우 이 사실을 임차인에게 알려야 한다는 고시를 해야합니다. 또 채무관계가 변경되는 일은...\n",
      "2. 되었는데 집주인이 바뀌었다고 연락이 왔어요. 매매했다고요. 전 주인분 말로는 계약서가 그대로 효력이 있으니 안바꿔도 된다고 하시네요. 저는 전세로 있고, 전세, 월세 섞여있는... 받아두었어요 저는 어떻해 해야 안전할까요? 1. 전세 계약서를 새주인과 다시 쓴다. 2. 전주인과 쓴 전세계약서(4년전 쓴)가 효력이 있으므로 다시 쓸필요 없다. 1,2번중 할까요?\n",
      "3. 전세 임대계약 중 집주인 바뀌면 어떻게 해야할까 간혹 전세 계약기간 중 집주인이 바뀌는 경우가 있습니다. 기존의 집주인이 집을 매매한 경우입니다. 전세 임대계약에서 집주인이 변경되면 몇 가지 중요한 절차를 따라야 합니다. 이번 포스팅에서는 전세 계약 기간 바뀌었을 때 반드시 확인해야 할 사항들을 알려 드리겠습니다. 먼저 새 과의 임대...\n",
      "4. 바뀌면 주의 및 확인할 점 집주인이 전세계약기간 중에 바뀌었다. 세입자 입장에서 무슨 일을 주의해야하며 확인해야 안전하게 전세 보증금을 지킬 수 있을가? 계약서 다시 써야하나?... 그렇게 하지 않으면 살던 집을 그냥 뺀 것과 같아 집주인에게 보증금을 반환 받지 못할 수도 있다. 특약사항 기간 매매로 소유권이 변경되면 이 사실을 임차인에게 알려야...\n",
      "5. 현재 LH전세임대로 살고 있는데 집주인이 집을 내놓으셨다고 해요 집이 팔려도 저는 계약기간까지 살수 있나요? 혹여 집이 팔려 나가라고 하면 나가야 될까요? 중간에 나가게 되면 LH쪽에서 다시 전세임대를 알아봐주시나요? - 가구원수 = 명 - 부양의무자 = - 재산(금융&일반,부동산) = 만원 - 소득(양육비포함) = 만원/월 - 소득발생자 나이 = - 부채 = 만원 - 자동차(배기량...\n",
      "\n",
      "\n",
      "###question:\n",
      "전세 계약 시 등기부등본은 왜 확인해야 하나요?\n",
      "###document:\n",
      "1. 오늘은 전월세 계약 시 필히 확인해야 할 등기부등본(등기사항전부증명서)을 확인하는 방법에 대해 말씀드리고자 합니다. 부동산을 통해 계약을 진행하니, 등기부등본을 발급해 주고... 것은 등기부등본 첫 장의 맨 위의 주소란 입니다. 내가 본 곳의 주소와 동/호수가 맞는지 합니다. 또한 에 에 전힌 주소와 서상의 주소가 일치해야...\n",
      "2. 지금까지 등기부등본을 꼼꼼하게 확인했어도 전세 사기를 당할 수 있는 사례들을 살펴봤습니다. 최근 전세 사기가 점점 고도화∙지능화되면서 피해 역시 커지고 있는 상황인데요. 등기부등본을 통해 미쳐 파악하지 못한 부분이 있을 수 있기 때문에 전세 사기 유형 및 대처 방안을 잘 숙지하고,  반드시 주의하시길 바랍니다....\n",
      "3. 전세,월세 계약시 등기부등본 확인방법 안녕하세요~ 공인중개사 신화영입니다. 오늘 포스팅할 내용은 아파트 전,월세 계약시 등기부등본 확인하는 방법에 대해 글을 써보려고 합니다. 요즘같이 이사철에 전,월세 아파트를 알아보실텐데요~ 여러군데 집을 많이 보다가 이집이다! 싶으면 바로 을 하게되죠. 이때 아무리 마음에 꼭 드는 집을 발견하셨더라도 금 일부...\n",
      "4. 필수 등기부등본 확인 사항들 전세 계약 시 등기부등본이란, 해당 부동산의 소유자, 부동산의 권리 상태, 부동산에 대한 채무 관계 등을 확인할 수 있는 식적인 문서를 말합니다. 1.... 전에는 등기부등본을 통해 부동산의 상태를 확인하고, 필요하다면 전문가의 도움을 받는 것이 좋습니다. 보는 필수 항목들 사기 피해를 방지 하기 위해 중요한 방법중 ...\n",
      "5. 등기부 등본을 잘 확인하지 않고 계약을 했다가 낭패를 보거나 크게 손해를 보는 경우가 종종 발생하곤 하는데요 특히 전세같은 나의 거의 전재산이 등기부 등본을 잘못 봐서 위험한 경우가 간혹 생기곤 할때는 정말 괴로운일이 아닐수 없습니다. 특히 근저당권에서 가장 문제가 되는 부분은 액수인데 예를 들면 3억짜리 아파트에 근저당권이 2억5000정도 걸려있는...\n",
      "\n",
      "\n",
      "###question:\n",
      "전세 계약 기간 중 월세로 전환하는 것이 가능한가요?\n",
      "###document:\n",
      "1. 요즈음은 전세 계약을 월세로 전환하기를 희망하는 사람들이 많아지고 있어요. 왜 그럴까요? 그 이유는 부동산 가격 하락으로 인하여 전세 세입자가 전세 기간이 만료가 되었음에도... 그래서 오늘은 전세 계약을 월세로 전환할 때 적용되는 전월세 전환율에 대하여 알아볼게요. 전월세 율이란 를 바꿀 때나 월세를 로 바꿀 때 보증금과 월세의...\n",
      "2. 임대차 기간 중, 새로운 임대인으로 바뀌면서 생기는 여러 가지 경우들이 있는데요. 오늘은 새로운 임대인이 기존 전세 계약을 월세 계약으로 전환한다고 일방적 통보를 받게 된... 2년 전세로 계약을 했습니다. 그러던 중에, 임대차 기간이 1년 지난 시점에서 건물주가 바뀌었습니다. 새로운 건물주는 보증금 5천만 원만 남기고 나머지는 돌리겠다고 합니다....\n",
      "3. 아파텔 구조로 19평, 방3화2 살고 있어요~ 전세로 3억 3천 , 2년+2년 살았고(7월 만기), 월세로 돌리고자 해요. <전월세전환율>이라고 네이버에 계산기도 있고, 월세로 전환시 참고하는것 같던데요. 이게 좀 저렴하게 책정되는것 같더라구요... 이걸로 계산하는거 집주인이 싫어하나요? 이 근처에 월세가 많지 않아 참고할게 없기도 하고, 아파트가 아니다보니 이렇다 할...\n",
      "4. 2023년 6월말 제가 소유하고 있는 부동산 중 하나의 전세계약 만기가 도래합니다. 1월부터 부동산을 통해 매물을 내놓았고, 매매 또는 월세 둘다 내놓았습니다. 원래는 매도를 하고 싶었지만 3월경엔 워낙 경기가 안좋고 살려는 사람이 없어서, 마음을 접고 있긴 했습니다. 다행히 라도 들어오겠다는 사람이 있어서 월세을 했습니다. 이걸로 월세를 받는 부동산이...\n",
      "5. 연장 계약을 요청드렸다. 집주인(임대인)분께서는 2년 연장은 가능하지만 최근 집값이 많이 올라서 5% 인상을 말씀하셨고, 5% 인상분에 대한 이자를 월세 개념으로 받고 싶어 하셨다. 쉽게 말하면 기존 전세계약에서 → 월세계약으로 전환되는 것을 의미 기존 금을 보증금으로 하고 5% 인상분을 내는 개념이다. 를 계산하는 방법은 네이버...\n",
      "\n",
      "\n",
      "###question:\n",
      "전세 계약 시 확인해야 할 집의 하자 사항은 무엇인가요?\n",
      "###document:\n",
      "1. 한마디로, 계약기간이나 해지 조건 등에 대한 사항들을 자유롭게 계약할 수 있다는 것이죠. 무엇보다 어느 한 쪽에 불리한 조건으로 전세 월세 계약이 진행되지 않기 위해서 넣는 것이... 세번째는 계약을 다 한 후에 받아야 할 서류입니다. 이는 공인중개사법에 의거한 것이며, 서 작성을 완료한 후에도 중개대상물의 과 설명서 그리고 공제증서를 받아야 합니다....\n",
      "2. 지급 계약서는 서브, 메인은 예쁜 혜리님 계약서 작성시 반드시 체크! 계약서 작성한지 한달 좀 된 거 같은데 벌써 가물가물하네요ㅎㅎ ✅ 계약서상 임대인이 실제 임대인인지 확인해야... 임대 계약서 특약에 ' 입주당일의 다음날까지 임차주택에 전세권, 저당권 등 담보권 설정을 수 없다' 는 문구를 넣어달라고 하세요 ✅ 저는 월세였고, 보증금이 최우선변제금 내여서...\n",
      "3. 최근 전세 사기가 사회적 문제로 대두되면서 전세 계약 전, 계약 시 확인해야 할 사항은 많은 분들이 알고 계실 것이라고 생각합니다. 하지만 전세 계약 후 확인해야 할 사항은 잘... 전세 계약 종료 후 확인사항(3) : 임차권등기명령 부동산 계약 관련하여 '임차권등기명령'이라는 용어가 참 많이 등장하는데요. 그렇다면 '임차권등기명령'이란 무엇일까요? 출처: 네이버...\n",
      "4. 그런데 이때 본인은 전세계약 연장을 원하지만 집주인이 일방적으로 퇴거 요청을 할 수도 있습니다. 그럴 경우 계약 갱신 청구권을 요구하면 되는데 이는 임차인의 권익이 보호될 수 있도록 만들어진 제도로 만기 6개월 전에서 한 달 이내에 임대인에게 요청할 1회에 한 해 거주 기간을 2년 더 늘릴 수 있습니다. 정당 사유가 없다면 주인은 이 제안을 거절하는 게...\n",
      "5. 전세사기 예방위한 전세계약시 주의사항 체크리스트 1. 임차주택 확인 전세가격 확인 중요하게 생각되는 부분이 반환보증가입이 되는지 체크해야 합니다. ✔ 보증금 확인 ① kb부동산... 전세보증금 대출 및 반환보증 특약 임대인은 전세자금대출에 협조한다. (우편물 수령, 은행원 방문 서명 등) 물건의 로 대출승이 안될 경우 금 포함 보증금 반환해준다....\n",
      "\n",
      "\n",
      "###question:\n",
      "전세 계약 분쟁 발생 시 어떤 법적 대응을 할 수 있나요?\n",
      "###document:\n",
      "1. 상관되는 법적 대비까지 가해질 수 있으므로 적절한 대비를 마련하여 혐의에 대처하는 것이 타당하다고 재차 지적했는데요. 그동안 동료 간의 대립과 분쟁을 파악해 적개심이 있는 이해사이는 존재하나 폭력이 발생한 상황은 없다고 충언했습니다. 이에 더해 피고인 H씨와 J씨의 악감정을 계기로 고발이 했다고 주장하면서 실질적으로 무혐의 결론이 가능했다...\n",
      "2. 안정 거리가 확보 되는 활동을 위배하면 상당히 무서운 법적 분쟁을 야기하며, 어떤 사유가 있다고 존재 해도 가정폭력은 행사하면 안된다고 간언드렸습니다. 자기의 목적 달성을 위해 배우자에게 상해를 입힌다고 한다면 냉혹한 현실을 바라볼 수 있다고 주장했는데요. 수사 진행이 가중되는 것은 당연한 이치이며 피의자 입장에서는 옳은 판단으로 소명할 기회가...\n",
      "3. 사실 이러한 통보는 연락수단의 일종에 불과하기 때문에 어떤 내용을 담아서 보낸다고 해도 법적 효력이 발생하지는 않는다고 안내했습니다. 하지만 내용증명의 경우 우체국을 통해 전달하는 것이기 때문에 객관적인 증거가 남는다고 언급했는데요. 이에 소송을 진행할 경우 임대인과 이 있었는지 간편하게 소명할 수 있다고 언급했습니다. 다시 말해, 내용증명을...\n",
      "4. 천 리 길도 한 걸음부터 전세계약중도해지 분쟁이 발생한다면 임대인도 임차인도 각자의 사정이 있어 힘든 시간을 보낼 수밖에 없는데요. 아무래도 당사자 간의 합의를 이끌어낼 수... 저희는 수없이 많은 임대인을 상대해 봐서 그 수도 어느 정도 예측이 되니까, 그에 맞춰서 할 수 있게 도와드릴 수 있죠. ▼금 돌려받는 방법 더 자세히 알아보고 싶다면▼\n",
      "5. 분양권 계약을 진행하기로 마음먹었다고 했는데요. 하지만 오씨가 계약하고 난 이후 경제적인 어려움이 전 세계적으로 불어닥치면서 금리가 계속해서 인상되고 환율까지 오르는 등... 변호인은 분양권 계약은 매우 신중하게 이루어져야 하며 계약 내용을 세밀하게 검토하지 않을 경우 추후 분양해지를 원한다 하더라도 이 할 수 있다는 점을 유념해야...\n",
      "\n"
     ]
    }
   ],
   "source": [
    "print(instructions[0])"
   ]
  },
  {
   "cell_type": "markdown",
   "id": "6f9db1a4-759b-462a-83b4-0645ad4ceaf4",
   "metadata": {},
   "source": [
    "포맷팅하여 완성한 프롬프트는 아래와 같습니다.  \n",
    "아래 데이터를 ChatGPT API로 넘겨줍니다."
   ]
  },
  {
   "cell_type": "code",
   "execution_count": 13,
   "id": "9d4d6657-68fe-408a-8951-656ec3288cce",
   "metadata": {
    "execution": {
     "iopub.execute_input": "2024-05-02T16:39:06.535190Z",
     "iopub.status.busy": "2024-05-02T16:39:06.534578Z",
     "iopub.status.idle": "2024-05-02T16:39:06.542357Z",
     "shell.execute_reply": "2024-05-02T16:39:06.541171Z",
     "shell.execute_reply.started": "2024-05-02T16:39:06.535146Z"
    },
    "tags": []
   },
   "outputs": [
    {
     "name": "stdout",
     "output_type": "stream",
     "text": [
      "요청받은 question을 document를 참조하여 answer로 답변하세요.\n",
      "question 1개당 여러개의 document가 주어지며, question은 10개씩 전달됩니다.\n",
      "\n",
      "요구사항은 다음과 같습니다:\n",
      "1. 어휘의 다양성을 위해 같은 단어를 반복하지 않습니다.\n",
      "2. 문장의 형태가 다양해야합니다. 예를 들어 질문과 명령형이 결합되는 형태여야 합니다.\n",
      "3. 답변은 제공받는 document들을 기반으로 작성되어야 합니다.\n",
      "4. 제공되는 document의 순서가 먼저 제공될 수록 더 중요한 데이터이므로 답변에 더 많은 영향을 끼쳐야합니다.\n",
      "5. 답변은 자세한 내용이 포함되도록 제공되어야하지만 200단어를 넘지 않는 것이 좋습니다.\n",
      "\n",
      "출력 형식은 JSON형식을 따라야 합니다.\n",
      "Indentation은 없도록 출력하세요.\n",
      "각 question마다 출력 형식은 다음과 같아야합니다:\n",
      "{'question': '전달 받은 question의 내용', 'answer': '답변 내용'}\n",
      "\n",
      "###question:\n",
      "전세 계약 기간은 보통 얼마나 되나요?\n",
      "###document:\n",
      "1. 말해야 되나요? 주택임대차보호법 제 6조 제 1항 (계약의 갱신) 계약이 해지되기 6개월 전부터 2개월 전까지, 계약을 해지하겠다는 통보를 해야 한다. 즉, 법률상 늦어도 계약이 종료되기 2개월 전까지는 임대인에게 말해야 된다는 뜻인데요. 만약 해당 기간 안에 말하지 않았다면? 자동으로 연장되는 묵시적 갱신이 될 수 있습니다. 때문에, 종료 시점에 맞춰서 자금을...\n",
      "2. 기간을 보통 2달 정도 주게 되는데, 해당 기간 내 임대인은 건설사에 중도금 대출과 잔금을 모두 상환해야 하기 때문에 금액이 떨어지게 됩니다. 오늘은, 미등기 신축 아파트 전세 계약... 요즘은, 임차인이 전세를 구할 때 전세자금 대출을 받는 경우가 상당히 많습니다. 그런데 대출에 필요한 모든 서류를 은행에 제출했을 경우 은행에서 대출금이 나오는지?는...\n",
      "3. 전세보증금반환소송 유리한 결과를 위해 전세 보증금은 결국 임대인과 임차인이 계약을 하게 된 시점부터 법적 효력이 가능한 기간 동안 임차인이 임대인의 부동산을 사용하겠다는... 사례에는 얼마나 더 다양한 시점이 있는지를 사전에 꼭 파악한 뒤 철저히 준비를 해야 한다고 하였습니다. 인가결정이나도 안도할 수 없어 반환금 지급 명령은 인가 결정이 되었다고...\n",
      "4. 전세사기변호사 법무법인 이현 부동산 소송 전략센터입니다. 대여금반환청구소송에 급여채권가압류, 추심까지 책임져드렸어요 생각보다 많은 분들이 겪고 있는 문제입니다. 얼마나... 수원전세사기변호사 ‘내용증명’을 통해 보다 확실하게 계약만료를 알릴 수 있습니다. 내용증명에는 집주인에게 ‘부동산 목적물’ ‘임차’ ‘만료일’ ‘종료...\n",
      "5. 생각하면 전세사기 초기 때의 내 예전 모습이 떠올라서, 마음이 찡해진다... 얼마나 힘드실까... 그래서 결심했다. 그 사람들을 위해서, 정보의 사막 속에서 몸소 필요한 정보를 찾고... 어, 근데 계약기간이 남았다? 1. 이사 가고 싶다. 2. 전세금 반환 소송을 걸고 싶다. (승소 후 재산 압류, 경매 진행, 채권추심 하고 싶다.) 1, 2 중 하나에 해당된다면, 중도해지하는 걸...\n",
      "\n",
      "\n",
      "###question:\n",
      "전세 계약서에는 어떤 내용이 포함되어야 하나요?\n",
      "###document:\n",
      "1. 전세사기 근저당과 같은 문제는 으로 인해 발생합니다. 는 있지만 실제로 많은 사람들이 돈을 빌려준다면 원금이나 이자를 갚지 못하는 경우가 많기 때문에 꼭 알아두시는 것이 좋습니다. 주의를 하셔야 할 내용들을 하나하나 정리해보았으니 자세하게 살펴보겠습니다만 이 글을 마무리하고자 합니다. 조언드렸지만 현재 진행 중인 을 정리해 보자면 다음과...\n",
      "2. 부동산 계약서 양식 어떻게 구성되어 있고 어떤 내용들을 포함하고 있을까요? 부동산 계약서 양식은 어떠한 방식으로 되어있고 어떠한 내용들을 포함하고 있는지 말씀드리겠습니다. 이... 매매 계약서의 양식은 서울중앙지방법원-양식-생활 속의 계약서 경로로 가시면 확인이 가능하십니다. 부동산 양식 하고 있는 더 상세 간단하게 씩\n"
     ]
    }
   ],
   "source": [
    "print(instructions[0][:2000])"
   ]
  },
  {
   "cell_type": "markdown",
   "id": "f4b33665-0ece-4d79-898a-a05ff6880f0c",
   "metadata": {},
   "source": [
    "`gpt-4-turbo`는 `gpt-4` 보다 성능이 좋으면서 가격은 1/3입니다.  \n",
    "`gpt-4-turbo`를 사용하길 추천드립니다.  \n",
    "[OpenAI 가격 정책](https://openai.com/pricing)을 참조하세요"
   ]
  },
  {
   "cell_type": "code",
   "execution_count": 14,
   "id": "6838a02f-2375-4fef-9817-b856e3f1658b",
   "metadata": {
    "execution": {
     "iopub.execute_input": "2024-04-29T02:00:45.568410Z",
     "iopub.status.busy": "2024-04-29T02:00:45.567626Z",
     "iopub.status.idle": "2024-04-29T02:00:45.577575Z",
     "shell.execute_reply": "2024-04-29T02:00:45.576075Z",
     "shell.execute_reply.started": "2024-04-29T02:00:45.568355Z"
    },
    "tags": []
   },
   "outputs": [],
   "source": [
    "for inst in tqdm(instructions):\n",
    "    result = utils.get_completion(inst, model=\"gpt-4-turbo-2024-04-09\")\n",
    "    with open(\"instruction.jsonl\", \"a\", encoding=\"utf-8\") as f:\n",
    "        for line in result.split(\"\\n\"):\n",
    "            f.write(line)\n",
    "            f.write(\"\\n\")"
   ]
  }
 ],
 "metadata": {
  "kernelspec": {
   "display_name": "base",
   "language": "python",
   "name": ".base"
  },
  "language_info": {
   "codemirror_mode": {
    "name": "ipython",
    "version": 3
   },
   "file_extension": ".py",
   "mimetype": "text/x-python",
   "name": "python",
   "nbconvert_exporter": "python",
   "pygments_lexer": "ipython3",
   "version": "3.11.5"
  }
 },
 "nbformat": 4,
 "nbformat_minor": 5
}
