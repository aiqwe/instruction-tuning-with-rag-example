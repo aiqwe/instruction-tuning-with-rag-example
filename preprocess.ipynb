{
 "cells": [
  {
   "cell_type": "markdown",
   "id": "65d015e7-f608-4f2c-a580-e476e4d23455",
   "metadata": {
    "execution": {
     "iopub.execute_input": "2024-04-27T14:24:44.399720Z",
     "iopub.status.busy": "2024-04-27T14:24:44.399074Z",
     "iopub.status.idle": "2024-04-27T14:24:44.688783Z",
     "shell.execute_reply": "2024-04-27T14:24:44.688485Z",
     "shell.execute_reply.started": "2024-04-27T14:24:44.399656Z"
    },
    "tags": []
   },
   "source": [
    "## 데이터셋 준비 하기\n",
    "Instruction Fine Tuning을 위해 데이터셋을 준비합니다.  \n",
    "데이터셋은 아래의 순서로 진행하려 합니다.\n",
    "---\n",
    "Instruction Tuning의 데이터셋은 어떻게 만들어야할까요?  \n",
    "학습에 필요한 Instruction Dataset은 아래와 같은 데이터 형태입니다.\n",
    "([Stanford Alpca 데이터셋](https://github.com/tatsu-lab/stanford_alpaca/blob/main/alpaca_data.json)을 참조했습니다)\n",
    "```plain\n",
    "질문 :\n",
    "건강하기 위한 3가지 팁 알려줘.\n",
    "답변 :\n",
    "1. 충분한 양의 채소와 과일을 섭취해서 균형있는 식단을 가지세요.\n",
    "2. 신체가 활동적이고 건강할 수 있도록 규칙적으로 운동을 하세요.\n",
    "3. 충분한 수면시간을 가지고 규칙적인 수면 습관을 가지세요.\n",
    "```\n",
    "데이터셋을 만드는건 많은 시간과 비용이 소요되기 때문에, 강력한 언어모델을 활용하게 됩니다. 이 예제에서는 ChatGPT를 활용하여 학습 데이터를 생성하였습니다.  \n",
    "데이터셋은 1) 키워드 기반으로 생성, 2) 부동산 스터디 카페글을 기반으로 생성하는 2가지 방법으로 생성하였습니다.  \n",
    "\n",
    "이 예제에서 데이터셋을 만드는 순서는 간단하게 아래와 같습니다.  \n",
    "\n",
    "#### <span style=\"color: #F2D388;\"> 1. 도메인 정하기  </span>\n",
    "어떤 Assistant(챗봇)을 만들까?를 먼저 정해봅니다. 사내 봇? 주식 답변? ...  \n",
    "이 예제에서는 부동산을 타겟으로 하였습니다.  \n",
    "\n",
    "\n",
    "#### <span style=\"color: #F2D388;\"> 2. 키워드 기반으로 데이터셋 만들기 </span>\n",
    "##### <span style=\"color: #ECA75D;\"> 2-1. 부동산에 관련된 키워드 모으기 </span>\n",
    "책, 뉴스, 부동산 사이트에서 키워드를 수집해보았습니다.  \n",
    "사람들이 궁금해할만한 키워드를 대상으로 합니다. (예: 전세 계약, 신혼부부 특별공급, 토지거래허가구역...)  \n",
    "키워드에 대한 예제 데이터는 [data/seed_words.txt](https://github.com/aiqwe/instruction-tuning-with-rag-example/blob/main/data/seed_words.txt)를 참조해주세요.  \n",
    "##### <span style=\"color: #ECA75D;\"> 2-2. 부동산 키워드를 통해 사람들이 찾아볼만한 질문리스트를 만들기 </span>\n",
    "2번에서 수집한 키워드를 기반으로, 사람들이 궁금해할만한 질문리스트를 ChatGPT를 활용해 만들어봅니다.  \n",
    "검색 질문리스트 예제 데이터는 [data/questions_search.jsonl](https://github.com/aiqwe/instruction-tuning-with-rag-example/blob/main/data/questions_search.jsonl)를 참조해주세요. \n",
    "\n",
    "\n",
    "#### <span style=\"color: #F2D388;\"> 3. 카페글 기반으로 데이터셋 만들기 </span>\n",
    "##### <span style=\"color: #ECA75D;\"> 3-1. 네이버 카페 글의 질문으로 질문 데이터셋 만들기 </span>\n",
    "부동산 관련 카페중 가장 큰 규모인 부동산스터디 카페의 회원간 묻고 답하기 글을 크롤링합니다.  \n",
    "##### <span style=\"color: #ECA75D;\"> 3-2. 수집한 카페 글을 유사도 기준으로 필터링하기 </span>\n",
    "카페글 중엔 부동산과 관련이 없는 데이터셋이 있을 수 있습니다. 따라서 그러한 데이터를 필터링합니다.  \n",
    "수집된 데이터를 그대로 ChatGPT로 필터링하면 요금이 비싸기 때문에 먼저 인코더 모델로 유사도를 계산합니다.\n",
    "##### <span style=\"color: #ECA75D;\"> 3-3. 유사도로 필터링한 데이터를 ChatGPT로 한번 더 필터링하기 </span>\n",
    "3-2번에서 필터링한 데이터를 ChatGPT로 한번 더 필터링합니다. 이 때 유사도 기반으로 필터링하지 못한 데이터들을 ChatGPT가 필터링해줄 수 있습니다.  \n",
    "\n",
    "    \n",
    "#### <span style=\"color: #F2D388;\"> 4. 질문리스트로 네이버에 검색하여 인기 글 데이터 수집하기 </span>\n",
    "2, 3번에서 수집한 질문리스트를 Selenium 라이브러리를 활용하여 네이버에 검색합니다. 검색 결과중 인기글의 텍스트 데이터를 추출합니다.  \n",
    "인기글 문서 예제 데이터는 [data/documents.jsonl](https://github.com/aiqwe/instruction-tuning-with-rag-example/blob/main/data/documents.jsonl)를 참조해주세요.  \n",
    "\n",
    "\n",
    "#### <span style=\"color: #F2D388;\"> 5. encoder 모델을 활용하여 데이터를 유사도 기준으로 정렬하기 </span>\n",
    "4번에서 수집한 인기글 텍스트 데이터가 질문리스트와 얼마나 유사한지 계산합니다.\n",
    "질문리스트와 가장 유사한 인기글 텍스트를 상위 순위로 정렬합니다.\n",
    "인기글 문서 예제 데이터는 [data/documents.jsonl](https://github.com/aiqwe/instruction-tuning-with-rag-example/blob/main/data/documents.jsonl)를 참조해주세요.  \n",
    "\n",
    "\n",
    "#### <span style=\"color: #F2D388;\"> 6. Instuction 데이터셋 만들기 </span>\n",
    "질문리스트 + 정렬한 인기글을 합쳐서 ChatGPT에 Instruction 데이터를 만들어달라고 요청합니다. 이 Instruction 데이터는 Fine Tuning에 사용됩니다.\n",
    "인기글 문서 예제 데이터는 [data/instructions.jsonl](https://github.com/aiqwe/instruction-tuning-with-rag-example/blob/main/data/instructions.jsonl)를 참조해주세요.  "
   ]
  },
  {
   "cell_type": "code",
   "execution_count": 1,
   "id": "236cc32b-567d-4444-97cb-b3eff129879d",
   "metadata": {
    "execution": {
     "iopub.execute_input": "2024-05-12T10:52:02.242743Z",
     "iopub.status.busy": "2024-05-12T10:52:02.242475Z",
     "iopub.status.idle": "2024-05-12T10:52:04.043653Z",
     "shell.execute_reply": "2024-05-12T10:52:04.043335Z",
     "shell.execute_reply.started": "2024-05-12T10:52:02.242724Z"
    },
    "tags": []
   },
   "outputs": [
    {
     "name": "stdout",
     "output_type": "stream",
     "text": [
      "\n",
      "\u001b[1m[\u001b[0m\u001b[34;49mnotice\u001b[0m\u001b[1;39;49m]\u001b[0m\u001b[39;49m A new release of pip is available: \u001b[0m\u001b[31;49m23.3.1\u001b[0m\u001b[39;49m -> \u001b[0m\u001b[32;49m24.0\u001b[0m\n",
      "\u001b[1m[\u001b[0m\u001b[34;49mnotice\u001b[0m\u001b[1;39;49m]\u001b[0m\u001b[39;49m To update, run: \u001b[0m\u001b[32;49mpip install --upgrade pip\u001b[0m\n"
     ]
    }
   ],
   "source": [
    "!pip install --quiet\\\n",
    "selenium==4.20.0\\\n",
    "openai==1.23.6\\\n",
    "python-dotenv==1.0.1"
   ]
  },
  {
   "cell_type": "markdown",
   "id": "e2efb55f-3c57-4e7e-89e3-96fcab92db7d",
   "metadata": {},
   "source": [
    "## <span style=\"color: #F2D388;\"> 2. 키워드 기반으로 데이터셋 만들기 </span>"
   ]
  },
  {
   "cell_type": "markdown",
   "id": "6122411d-b899-41bc-8b3a-e6961161e86d",
   "metadata": {},
   "source": [
    "### <span style=\"color: #ECA75D;\"> 2-1. 부동산에 관련된 키워드 모으기 </span>\n",
    "부동산에 관련된 키워드를 수집하여 저장합니다.  \n",
    "예제 데이터는 [data/seed_words.txt](https://github.com/aiqwe/instruction-tuning-with-rag-example/blob/main/data/seed_words.txt)를 참조해주세요."
   ]
  },
  {
   "cell_type": "code",
   "execution_count": 24,
   "id": "8703faac-3a56-4259-b2f8-003c63485699",
   "metadata": {
    "execution": {
     "iopub.execute_input": "2024-05-12T14:35:43.414276Z",
     "iopub.status.busy": "2024-05-12T14:35:43.413684Z",
     "iopub.status.idle": "2024-05-12T14:35:43.420340Z",
     "shell.execute_reply": "2024-05-12T14:35:43.419588Z",
     "shell.execute_reply.started": "2024-05-12T14:35:43.414232Z"
    },
    "tags": []
   },
   "outputs": [],
   "source": [
    "with open(\"./data/seed_words.txt\", \"r\") as f:\n",
    "    seed_words = f.readlines()"
   ]
  },
  {
   "cell_type": "code",
   "execution_count": 3,
   "id": "0b731610-6b30-4eb4-ae3a-5faa7175b005",
   "metadata": {
    "execution": {
     "iopub.execute_input": "2024-05-12T10:52:05.672353Z",
     "iopub.status.busy": "2024-05-12T10:52:05.671688Z",
     "iopub.status.idle": "2024-05-12T10:52:05.682349Z",
     "shell.execute_reply": "2024-05-12T10:52:05.681209Z",
     "shell.execute_reply.started": "2024-05-12T10:52:05.672315Z"
    },
    "tags": []
   },
   "outputs": [
    {
     "data": {
      "text/plain": [
       "['전세 계약\\n', '임대차 계약\\n', '전세 사기\\n', '임대차 분쟁\\n']"
      ]
     },
     "execution_count": 3,
     "metadata": {},
     "output_type": "execute_result"
    }
   ],
   "source": [
    "seed_words[:4]"
   ]
  },
  {
   "cell_type": "markdown",
   "id": "02a47a69-2bbf-4bc2-b46f-62b48e46d2f6",
   "metadata": {},
   "source": [
    "불필요한 newline이 있어서 제거해줍니다."
   ]
  },
  {
   "cell_type": "code",
   "execution_count": 4,
   "id": "4cd9daee-9abf-49ca-a418-1515ef78aab3",
   "metadata": {
    "execution": {
     "iopub.execute_input": "2024-05-12T10:52:06.441851Z",
     "iopub.status.busy": "2024-05-12T10:52:06.441191Z",
     "iopub.status.idle": "2024-05-12T10:52:06.447554Z",
     "shell.execute_reply": "2024-05-12T10:52:06.446531Z",
     "shell.execute_reply.started": "2024-05-12T10:52:06.441795Z"
    },
    "tags": []
   },
   "outputs": [],
   "source": [
    "# Element마다 있는 \\n 제거, '전세 계약\\n' -> '전세 계약'\n",
    "seed_words = list(map(lambda x: x.strip(\"\\n\"), seed_words))"
   ]
  },
  {
   "cell_type": "code",
   "execution_count": 5,
   "id": "d4a7994b-fe60-4f7a-9446-22ee51936085",
   "metadata": {
    "execution": {
     "iopub.execute_input": "2024-05-12T10:52:06.550884Z",
     "iopub.status.busy": "2024-05-12T10:52:06.550193Z",
     "iopub.status.idle": "2024-05-12T10:52:06.556758Z",
     "shell.execute_reply": "2024-05-12T10:52:06.556135Z",
     "shell.execute_reply.started": "2024-05-12T10:52:06.550825Z"
    },
    "tags": []
   },
   "outputs": [
    {
     "data": {
      "text/plain": [
       "['전세 계약', '임대차 계약', '전세 사기', '임대차 분쟁']"
      ]
     },
     "execution_count": 5,
     "metadata": {},
     "output_type": "execute_result"
    }
   ],
   "source": [
    "seed_words[:4]"
   ]
  },
  {
   "cell_type": "markdown",
   "id": "c539ba2e-355f-4482-a1d7-b8a315a43c2e",
   "metadata": {
    "execution": {
     "iopub.execute_input": "2024-04-27T14:46:47.170359Z",
     "iopub.status.busy": "2024-04-27T14:46:47.169552Z",
     "iopub.status.idle": "2024-04-27T14:46:47.181132Z",
     "shell.execute_reply": "2024-04-27T14:46:47.178484Z",
     "shell.execute_reply.started": "2024-04-27T14:46:47.170307Z"
    },
    "tags": []
   },
   "source": [
    "### <span style=\"color: #ECA75D;\"> 2-2. 부동산 키워드를 통해 사람들이 찾아볼만한 질문리스트를 만들기 </span>\n",
    "미리 작성된 프롬프트에 `seed_words`를 `format` 적용하여 프롬프트를 완성시킵니다.  \n",
    "프롬프트 작성은 [Deeplearning.ai의 강의](https://www.deeplearning.ai/short-courses/chatgpt-prompt-engineering-for-developers)(무료)를 참조하였습니다."
   ]
  },
  {
   "cell_type": "code",
   "execution_count": 6,
   "id": "f06a5e79-9697-4ff9-ac38-6b23d298a483",
   "metadata": {
    "execution": {
     "iopub.execute_input": "2024-05-12T10:52:07.463173Z",
     "iopub.status.busy": "2024-05-12T10:52:07.462821Z",
     "iopub.status.idle": "2024-05-12T10:52:07.470238Z",
     "shell.execute_reply": "2024-05-12T10:52:07.469500Z",
     "shell.execute_reply.started": "2024-05-12T10:52:07.463137Z"
    },
    "tags": []
   },
   "outputs": [
    {
     "name": "stdout",
     "output_type": "stream",
     "text": [
      "당신은 부동산에 관심이 많은 사람입니다. 당신의 역할에 따라 주어진 seed_word에 대해 궁금해할 질문을 생성하세요.\n",
      "seed_word는 총 5개씩 주어집니다.\n",
      "seed_word에 대해 각각 20개의 질문을 생성해야합니다.\n",
      "생성할 질문에 대한 요구 사항은 다음과 같습니다:\n",
      "1. 지시대명사를 사용해서는 안됩니다. seed_word에 있는 명사를 그대로 사용하세요.\n",
      "2. 이미 만들어낸 질문과 동일하거나 유사한 질문을 만들어내서는 안됩니다.\n",
      "3. 만들어내는 질문들은 어휘의 다양성을 위해 다양한 단어를 사용해야 합니다.\n",
      "4. 만들어내는 질문들은 문장의 다양성을 위해 의문문과 평서문을 모두 사용해야 합니다.\n",
      "5. 반드시 한글로 질문을 만드세요.\n",
      "6. 만들어낸 질문은 JSON형식을 따라야 하고, indent는 없어야 합니다.\n",
      "7. 응답하는 답변 문자에는 줄바꿈, \\n, \\t, \\b 등의 특수 문자가 없어야합니다.\n",
      "8. seed_word에 대해 중복으로 질문을 생성했는지 확인하세요. seed_word에 대한 질문을 이미 생성했다면, 동일한 seed_word에 대한 작업을 해서는 안됩니다.\n",
      "9. 아래 양식으로 출력하세요:\n",
      "{{\"seed_word\": \"주어진 seed_word\", \"answer\": [\"1번째 질문\", \"2번째 질문\"... , \"20번째 질문\"]}}\n",
      "\n",
      "seed_word는 다음과 같습니다:\n",
      "{seed_word}\n"
     ]
    }
   ],
   "source": [
    "from prompts import SEED_WORD_PROMPT_PREFIX, SEED_WORD_PROMPT_CONTENT\n",
    "\n",
    "# prompts.py에 프롬프트들 템플릿이 있습니다.\n",
    "print(SEED_WORD_PROMPT_PREFIX + SEED_WORD_PROMPT_CONTENT)"
   ]
  },
  {
   "cell_type": "code",
   "execution_count": 7,
   "id": "18924823-18df-4d08-8b9a-34184d3f8153",
   "metadata": {
    "execution": {
     "iopub.execute_input": "2024-05-12T10:52:08.188996Z",
     "iopub.status.busy": "2024-05-12T10:52:08.188249Z",
     "iopub.status.idle": "2024-05-12T10:52:08.193891Z",
     "shell.execute_reply": "2024-05-12T10:52:08.192651Z",
     "shell.execute_reply.started": "2024-05-12T10:52:08.188964Z"
    },
    "tags": []
   },
   "outputs": [
    {
     "name": "stdout",
     "output_type": "stream",
     "text": [
      "당신은 부동산에 관심이 많은 사람입니다. 당신의 역할에 따라 주어진 seed_word에 대해 궁금해할 질문을 생성하세요.\n",
      "seed_word는 총 5개씩 주어집니다.\n",
      "seed_word에 대해 각각 20개의 질문을 생성해야합니다.\n",
      "생성할 질문에 대한 요구 사항은 다음과 같습니다:\n",
      "1. 지시대명사를 사용해서는 안됩니다. seed_word에 있는 명사를 그대로 사용하세요.\n",
      "2. 이미 만들어낸 질문과 동일하거나 유사한 질문을 만들어내서는 안됩니다.\n",
      "3. 만들어내는 질문들은 어휘의 다양성을 위해 다양한 단어를 사용해야 합니다.\n",
      "4. 만들어내는 질문들은 문장의 다양성을 위해 의문문과 평서문을 모두 사용해야 합니다.\n",
      "5. 반드시 한글로 질문을 만드세요.\n",
      "6. 만들어낸 질문은 JSON형식을 따라야 하고, indent는 없어야 합니다.\n",
      "7. 응답하는 답변 문자에는 줄바꿈, \\n, \\t, \\b 등의 특수 문자가 없어야합니다.\n",
      "8. seed_word에 대해 중복으로 질문을 생성했는지 확인하세요. seed_word에 대한 질문을 이미 생성했다면, 동일한 seed_word에 대한 작업을 해서는 안됩니다.\n",
      "9. 아래 양식으로 출력하세요:\n",
      "{{\"seed_word\": \"주어진 seed_word\", \"answer\": [\"1번째 질문\", \"2번째 질문\"... , \"20번째 질문\"]}}\n",
      "\n",
      "seed_word는 다음과 같습니다:\n",
      "전세 계약\n"
     ]
    }
   ],
   "source": [
    "print(SEED_WORD_PROMPT_PREFIX + SEED_WORD_PROMPT_CONTENT.format(seed_word=seed_words[0]))"
   ]
  },
  {
   "cell_type": "markdown",
   "id": "c3190d17-8336-4acb-9c89-c8474f0bb0de",
   "metadata": {},
   "source": [
    "GPT모델의 토큰 수 계산은 Input도 포함됩니다. 따라서 불필요하게 `SEED_WORD_PROMPT_PREFIX`를 모든 키워드에 반복해서 전달할 필요가 없습니다.  "
   ]
  },
  {
   "cell_type": "code",
   "execution_count": 8,
   "id": "ea0cf546-2d03-4c4e-b433-e02fb9bfed34",
   "metadata": {
    "execution": {
     "iopub.execute_input": "2024-05-12T10:52:10.391485Z",
     "iopub.status.busy": "2024-05-12T10:52:10.390753Z",
     "iopub.status.idle": "2024-05-12T10:52:10.397423Z",
     "shell.execute_reply": "2024-05-12T10:52:10.396340Z",
     "shell.execute_reply.started": "2024-05-12T10:52:10.391422Z"
    },
    "tags": []
   },
   "outputs": [],
   "source": [
    "# 모델에게 Prefix 토큰을 중복해서 전달할 필요가 없으므로, Prefix 토큰은 1번만 사용하고 Content을 반복해서 프롬프트를 생성\n",
    "seed_word_prefix = SEED_WORD_PROMPT_PREFIX\n",
    "seed_word_content = [SEED_WORD_PROMPT_CONTENT.format(seed_word=s) for s in seed_words]"
   ]
  },
  {
   "cell_type": "code",
   "execution_count": 9,
   "id": "3d94a38a-2f41-47ae-84a0-fec8a8cbe016",
   "metadata": {
    "execution": {
     "iopub.execute_input": "2024-05-12T10:52:11.055389Z",
     "iopub.status.busy": "2024-05-12T10:52:11.054213Z",
     "iopub.status.idle": "2024-05-12T10:52:11.061708Z",
     "shell.execute_reply": "2024-05-12T10:52:11.060805Z",
     "shell.execute_reply.started": "2024-05-12T10:52:11.055323Z"
    },
    "tags": []
   },
   "outputs": [],
   "source": [
    "# 1개의 Prefix 마다 n_content개의 Content를 추가합니다.\n",
    "n_content = 5\n",
    "\n",
    "seed_word_prompts = []\n",
    "total_prompts = len(seed_words) // n_content\n",
    "for idx in range(1, total_prompts+2):\n",
    "    start_index = (idx -1) * n_content\n",
    "    end_index = idx * n_content\n",
    "    seed_word_prompt = seed_word_prefix + \"\\n\".join(seed_word_content[start_index:end_index])\n",
    "    seed_word_prompts.append(seed_word_prompt)"
   ]
  },
  {
   "cell_type": "code",
   "execution_count": 10,
   "id": "45756685-409d-44e9-9833-c90d5d5a8ae9",
   "metadata": {
    "execution": {
     "iopub.execute_input": "2024-05-12T10:52:11.555088Z",
     "iopub.status.busy": "2024-05-12T10:52:11.554425Z",
     "iopub.status.idle": "2024-05-12T10:52:11.560965Z",
     "shell.execute_reply": "2024-05-12T10:52:11.560138Z",
     "shell.execute_reply.started": "2024-05-12T10:52:11.555032Z"
    },
    "tags": []
   },
   "outputs": [
    {
     "name": "stdout",
     "output_type": "stream",
     "text": [
      "당신은 부동산에 관심이 많은 사람입니다. 당신의 역할에 따라 주어진 seed_word에 대해 궁금해할 질문을 생성하세요.\n",
      "seed_word는 총 5개씩 주어집니다.\n",
      "seed_word에 대해 각각 20개의 질문을 생성해야합니다.\n",
      "생성할 질문에 대한 요구 사항은 다음과 같습니다:\n",
      "1. 지시대명사를 사용해서는 안됩니다. seed_word에 있는 명사를 그대로 사용하세요.\n",
      "2. 이미 만들어낸 질문과 동일하거나 유사한 질문을 만들어내서는 안됩니다.\n",
      "3. 만들어내는 질문들은 어휘의 다양성을 위해 다양한 단어를 사용해야 합니다.\n",
      "4. 만들어내는 질문들은 문장의 다양성을 위해 의문문과 평서문을 모두 사용해야 합니다.\n",
      "5. 반드시 한글로 질문을 만드세요.\n",
      "6. 만들어낸 질문은 JSON형식을 따라야 하고, indent는 없어야 합니다.\n",
      "7. 응답하는 답변 문자에는 줄바꿈, \\n, \\t, \\b 등의 특수 문자가 없어야합니다.\n",
      "8. seed_word에 대해 중복으로 질문을 생성했는지 확인하세요. seed_word에 대한 질문을 이미 생성했다면, 동일한 seed_word에 대한 작업을 해서는 안됩니다.\n",
      "9. 아래 양식으로 출력하세요:\n",
      "{{\"seed_word\": \"주어진 seed_word\", \"answer\": [\"1번째 질문\", \"2번째 질문\"... , \"20번째 질문\"]}}\n",
      "\n",
      "seed_word는 다음과 같습니다:\n",
      "전세 계약\n",
      "임대차 계약\n",
      "전세 사기\n",
      "임대차 분쟁\n",
      "깡통 전세\n"
     ]
    }
   ],
   "source": [
    "print(seed_word_prompts[0])"
   ]
  },
  {
   "cell_type": "markdown",
   "id": "c07e8462-bf81-4f73-9f8e-b6e34e913eaa",
   "metadata": {},
   "source": [
    "이제 ChatGPT에게 데이터를 작성하도록 합니다.  \n",
    "💡 ChatGPT API를 사용하기 전에, [ChatGPT 모델 가격 정책](https://openai.com/pricing)을 참조하세요.  \n",
    "ChatGPT는 지속적으로 업데이트를 하는데, 과거버전은 사용하지 않도록 합니다.  \n",
    "과거버젼은 퍼포먼스도 안좋은데 가격이 비싸므로 사용할 이유가 없습니다.  \n",
    "이 예제에서는 `gpt-4-turbo`를 사용합니다."
   ]
  },
  {
   "cell_type": "markdown",
   "id": "a1ddde97-81e5-4929-8581-ff6f726ea438",
   "metadata": {},
   "source": [
    "데이터 전처리의 경우 병렬처리를 사용합니다.  \n",
    "spark, hive 등의 분산 처리 시스템 또는 Multi Threading과 같은 병렬 처리를 적극 활용하면 속도가 많이 개선됩니다.  \n",
    "이 예제의 ChatGPT API는 [Multi Threading](https://docs.python.org/ko/3/library/concurrent.futures.html#concurrent.futures.ThreadPoolExecutor)을 사용합니다."
   ]
  },
  {
   "cell_type": "code",
   "execution_count": 13,
   "id": "a6e2da76-3338-4183-ab31-930d9fb21cb0",
   "metadata": {
    "execution": {
     "iopub.execute_input": "2024-05-10T20:18:44.799148Z",
     "iopub.status.busy": "2024-05-10T20:18:44.798614Z",
     "iopub.status.idle": "2024-05-10T20:32:58.868999Z",
     "shell.execute_reply": "2024-05-10T20:32:58.865146Z",
     "shell.execute_reply.started": "2024-05-10T20:18:44.799110Z"
    },
    "tags": []
   },
   "outputs": [
    {
     "name": "stderr",
     "output_type": "stream",
     "text": [
      "55it [14:13, 15.53s/it]\n"
     ]
    }
   ],
   "source": [
    "from concurrent.futures import ThreadPoolExecutor\n",
    "from tqdm import tqdm\n",
    "\n",
    "# Worker의 수는 32개 또는 코어수 +4개가 디폴트값입니다. - 공식 가이드 문서 참조\n",
    "with ThreadPoolExecutor() as pool:\n",
    "    questions = list(tqdm(pool.map(partial(get_completion, model=\"gpt-4-turbo\"), seed_word_prompts)))\n",
    "    \n",
    "with open(\"./data/questions_keyword.jsonl\", \"a\") as f:\n",
    "    f.write(\"\\n\".join(questions))"
   ]
  },
  {
   "cell_type": "code",
   "execution_count": 17,
   "id": "385c8859-b237-4763-be9f-75a3e6633987",
   "metadata": {
    "execution": {
     "iopub.execute_input": "2024-05-12T11:02:50.820568Z",
     "iopub.status.busy": "2024-05-12T11:02:50.819879Z",
     "iopub.status.idle": "2024-05-12T11:02:50.835097Z",
     "shell.execute_reply": "2024-05-12T11:02:50.834105Z",
     "shell.execute_reply.started": "2024-05-12T11:02:50.820518Z"
    },
    "tags": []
   },
   "outputs": [
    {
     "data": {
      "text/plain": [
       "{'seed_word': '전세 계약',\n",
       " 'answer': ['전세 계약을 체결할 때 필요한 서류는 무엇인가요?',\n",
       "  '전세 계약 시 주의해야 할 점은 무엇인가요?',\n",
       "  '전세 계약 갱신 청구권은 어떻게 적용되나요?',\n",
       "  '전세 계약을 해지하려면 어떤 절차를 밟아야 하나요?',\n",
       "  '전세 계약 시 보증금 반환 문제는 어떻게 해결하나요?',\n",
       "  '전세 계약 기간 중 집주인이 바뀌면 어떻게 되나요?',\n",
       "  '전세 계약을 할 때 중개수수료는 얼마인가요?',\n",
       "  '전세 계약 시 보증금을 보호받을 수 있는 방법은 무엇인가요?',\n",
       "  '전세 계약 갱신 시 임대료 인상률은 어떻게 결정되나요?',\n",
       "  '전세 계약 체결 전에 확인해야 할 주택 상태는 무엇인가요?',\n",
       "  '전세 계약 시 임차인의 권리와 의무는 무엇인가요?',\n",
       "  '전세 계약 시 임대인의 권리와 의무는 무엇인가요?',\n",
       "  '전세 계약 시 확정일자는 왜 중요한가요?',\n",
       "  '전세 계약 시 전입신고는 언제 해야 하나요?',\n",
       "  '전세 계약 갱신 거절 시 임차인은 어떤 조치를 취할 수 있나요?',\n",
       "  '전세 계약 시 보증금을 전액 돌려받지 못하는 경우는 어떤 경우인가요?',\n",
       "  '전세 계약 시 임대인이 파산하면 보증금은 어떻게 되나요?',\n",
       "  '전세 계약 시 임대인과 임차인 간의 분쟁 해결 방법은 무엇인가요?',\n",
       "  '전세 계약 시 임대인이 계약을 일방적으로 해지할 수 있나요?',\n",
       "  '전세 계약 시 임차인이 보증금을 늦게 받는 경우 어떻게 대처해야 하나요?']}"
      ]
     },
     "execution_count": 17,
     "metadata": {},
     "output_type": "execute_result"
    }
   ],
   "source": [
    "from utils import jload\n",
    "\n",
    "jload(\"./data/questions_keyword.jsonl\")[0]"
   ]
  },
  {
   "cell_type": "markdown",
   "id": "e63dc71b-342d-45cc-b612-85b3118d2db2",
   "metadata": {},
   "source": [
    "## <span style=\"color: #F2D388;\"> 3. 카페글 기반으로 데이터셋 만들기 </span>"
   ]
  },
  {
   "cell_type": "markdown",
   "id": "4dceb2e7-660f-474f-97f3-204a02b07c52",
   "metadata": {},
   "source": [
    "### <span style=\"color: #ECA75D;\"> 3-1. 네이버 카페 글의 질문으로 질문 데이터셋 만들기 </span>\n",
    "부동산 관련 카페중 가장 큰 규모인 부동산스터디 카페의 회원간 묻고 답하기 글을 크롤링합니다.  "
   ]
  },
  {
   "cell_type": "code",
   "execution_count": 11,
   "id": "66d20daa-cf6a-4c53-b4c0-c1311ca64f41",
   "metadata": {
    "execution": {
     "iopub.execute_input": "2024-05-12T14:55:13.938757Z",
     "iopub.status.busy": "2024-05-12T14:55:13.937995Z",
     "iopub.status.idle": "2024-05-12T14:55:22.079555Z",
     "shell.execute_reply": "2024-05-12T14:55:22.079206Z",
     "shell.execute_reply.started": "2024-05-12T14:55:13.938696Z"
    },
    "tags": []
   },
   "outputs": [
    {
     "name": "stderr",
     "output_type": "stream",
     "text": [
      "20it [00:08,  2.49it/s]\n"
     ]
    }
   ],
   "source": [
    "from utils import get_document_through_selenium\n",
    "\n",
    "cafe_data = get_document_through_selenium(\n",
    "    crawling_type=\"cafe\",\n",
    "    n_page=20,\n",
    "    indent=4,\n",
    "    mode=\"w\",\n",
    "    save_path = \"./data/questions_cafe.json\"\n",
    ")"
   ]
  },
  {
   "cell_type": "code",
   "execution_count": 12,
   "id": "52b309ac-1c8a-48af-b483-8c8d1edb0f78",
   "metadata": {
    "execution": {
     "iopub.execute_input": "2024-05-12T14:55:24.829365Z",
     "iopub.status.busy": "2024-05-12T14:55:24.828764Z",
     "iopub.status.idle": "2024-05-12T14:55:24.836679Z",
     "shell.execute_reply": "2024-05-12T14:55:24.836119Z",
     "shell.execute_reply.started": "2024-05-12T14:55:24.829324Z"
    },
    "tags": []
   },
   "outputs": [
    {
     "data": {
      "text/plain": [
       "['[LG전자 베스트샵 봉천센트럴점]🥳RENEWAL OPEN 행사🥳 (광고)',\n",
       " '[LG전자 베스트샵 롯데 수원점] 리뉴얼 GRAND OPEN 가전제품 세일 💕',\n",
       " '부동산 스터디 카페에 올라오는 주식 홍보방들은 모두 사기글입니다.',\n",
       " '[공지]붇스터디게시판 운영가이드(2023.9.3 수정추가)',\n",
       " '부동산 스터디 카페 내에 계정 해킹 사례가 너무 많네요',\n",
       " '전라도 사람들은 투표권 주지말자',\n",
       " '고수님들은 3억 자금이 있다면 무엇을 하시나요?',\n",
       " '용산 vs 강남 신혼부부 집 조언부탁드립니다!',\n",
       " '부동산 관련이 아니라 죄송하지만.. 고민거리가 있어서 고견을 구합니다.',\n",
       " '서울 구축 vs 다산 신도시 어디가 좋을까요?']"
      ]
     },
     "execution_count": 12,
     "metadata": {},
     "output_type": "execute_result"
    }
   ],
   "source": [
    "jload(\"./data/questions_cafe.json\")[0]['document'][:10]"
   ]
  },
  {
   "cell_type": "markdown",
   "id": "adc2ddbe-59d1-474a-96e2-16091b535559",
   "metadata": {
    "tags": []
   },
   "source": [
    "### <span style=\"color: #ECA75D;\"> 3-3. ChatGPT로 필터링하기 </span>\n",
    "수집한 데이터에서 부동산에 관련이 있는 데이터들만 필터링합니다.  \n",
    "ChatGPT에 요청하여 이러한 데이터들을 필터링할 수 있게 합니다.  \n",
    "💡 충분히 파인튜닝된 인코더 모델이 있다면, Similarity로 분류한 뒤 ChatGPT로 분류하면 토큰 비용을 아낄 수 있습니다."
   ]
  },
  {
   "cell_type": "code",
   "execution_count": 1,
   "id": "a9fcdbda-0557-4a3e-8f27-2728a1ee2f86",
   "metadata": {
    "execution": {
     "iopub.execute_input": "2024-05-12T15:17:25.123021Z",
     "iopub.status.busy": "2024-05-12T15:17:25.122360Z",
     "iopub.status.idle": "2024-05-12T15:17:26.741496Z",
     "shell.execute_reply": "2024-05-12T15:17:26.741220Z",
     "shell.execute_reply.started": "2024-05-12T15:17:25.122950Z"
    },
    "tags": []
   },
   "outputs": [],
   "source": [
    "from utils import jload\n",
    "\n",
    "questions_cafe = jload(\"./data/questions_cafe.json\")"
   ]
  },
  {
   "cell_type": "code",
   "execution_count": 2,
   "id": "0f8a9089-0464-4c89-8642-5e13da95a045",
   "metadata": {
    "execution": {
     "iopub.execute_input": "2024-05-12T15:17:26.742327Z",
     "iopub.status.busy": "2024-05-12T15:17:26.742180Z",
     "iopub.status.idle": "2024-05-12T15:17:26.746422Z",
     "shell.execute_reply": "2024-05-12T15:17:26.746177Z",
     "shell.execute_reply.started": "2024-05-12T15:17:26.742318Z"
    },
    "tags": []
   },
   "outputs": [
    {
     "data": {
      "text/plain": [
       "['[LG전자 베스트샵 봉천센트럴점]🥳RENEWAL OPEN 행사🥳 (광고)',\n",
       " '[LG전자 베스트샵 롯데 수원점] 리뉴얼 GRAND OPEN 가전제품 세일 💕',\n",
       " '부동산 스터디 카페에 올라오는 주식 홍보방들은 모두 사기글입니다.',\n",
       " '[공지]붇스터디게시판 운영가이드(2023.9.3 수정추가)',\n",
       " '부동산 스터디 카페 내에 계정 해킹 사례가 너무 많네요',\n",
       " '전라도 사람들은 투표권 주지말자',\n",
       " '고수님들은 3억 자금이 있다면 무엇을 하시나요?',\n",
       " '용산 vs 강남 신혼부부 집 조언부탁드립니다!',\n",
       " '부동산 관련이 아니라 죄송하지만.. 고민거리가 있어서 고견을 구합니다.',\n",
       " '서울 구축 vs 다산 신도시 어디가 좋을까요?',\n",
       " '여기 브릿지보이는 곳 어딘가요?',\n",
       " '목센아 vs 올파포 어떨까요?',\n",
       " '차용증 쓰고 가족간 빌린 돈 갚을 때',\n",
       " '청약시 무주택자격 질문',\n",
       " '전세계약 종료 후 실거주입주 시 주담대 신규로 가능?',\n",
       " '광진구 매수하려 하는데 조언좀 부탁드리겠습니다 ㅠ',\n",
       " '일원동 보고 있어요 의견 부탁드립니다',\n",
       " '급질문) 전세나갈 때 전세보증금 10%를 꼭 주어야 하나요?',\n",
       " '안녕하세요 부린이입니다! 흑석 자이 vs 상도동 e편한세상노빌리티..',\n",
       " '여의도 매수하려고 하는데요']"
      ]
     },
     "execution_count": 2,
     "metadata": {},
     "output_type": "execute_result"
    }
   ],
   "source": [
    "questions_cafe[0]['document'][:20]"
   ]
  },
  {
   "cell_type": "markdown",
   "id": "9728d5d6-6216-4d10-b327-5610124ef265",
   "metadata": {},
   "source": [
    "`List[Dict[List]]`의 중첩된 형태이므로, flatten하여 list 형태로 바꿔줍니다."
   ]
  },
  {
   "cell_type": "code",
   "execution_count": 3,
   "id": "1b61aa71-524f-46cc-a6f1-8b95df5d2308",
   "metadata": {
    "execution": {
     "iopub.execute_input": "2024-05-12T15:17:26.746857Z",
     "iopub.status.busy": "2024-05-12T15:17:26.746774Z",
     "iopub.status.idle": "2024-05-12T15:17:26.749213Z",
     "shell.execute_reply": "2024-05-12T15:17:26.748958Z",
     "shell.execute_reply.started": "2024-05-12T15:17:26.746848Z"
    },
    "tags": []
   },
   "outputs": [],
   "source": [
    "from itertools import chain\n",
    "\n",
    "documents = [q['document'] for q in questions_cafe]\n",
    "questions_cafe = list(chain(*documents))"
   ]
  },
  {
   "cell_type": "markdown",
   "id": "45248ccd-e027-46c0-80f9-1cecc2a76759",
   "metadata": {},
   "source": [
    "약 500개의 게시글 타이틀이 수집되어 있습니다."
   ]
  },
  {
   "cell_type": "code",
   "execution_count": 4,
   "id": "82516429-5f30-49a5-bd1f-68f799f13fd0",
   "metadata": {
    "execution": {
     "iopub.execute_input": "2024-05-12T15:17:26.750304Z",
     "iopub.status.busy": "2024-05-12T15:17:26.750186Z",
     "iopub.status.idle": "2024-05-12T15:17:26.752666Z",
     "shell.execute_reply": "2024-05-12T15:17:26.752400Z",
     "shell.execute_reply.started": "2024-05-12T15:17:26.750295Z"
    },
    "tags": []
   },
   "outputs": [
    {
     "data": {
      "text/plain": [
       "1008"
      ]
     },
     "execution_count": 4,
     "metadata": {},
     "output_type": "execute_result"
    }
   ],
   "source": [
    "len(questions_cafe)"
   ]
  },
  {
   "cell_type": "code",
   "execution_count": 5,
   "id": "856638aa-f049-4885-a0aa-9346de410be1",
   "metadata": {
    "execution": {
     "iopub.execute_input": "2024-05-12T15:17:26.753024Z",
     "iopub.status.busy": "2024-05-12T15:17:26.752959Z",
     "iopub.status.idle": "2024-05-12T15:17:26.754461Z",
     "shell.execute_reply": "2024-05-12T15:17:26.754207Z",
     "shell.execute_reply.started": "2024-05-12T15:17:26.753016Z"
    },
    "tags": []
   },
   "outputs": [],
   "source": [
    "from prompts import CAFE_PROMPT_PREFIX, CAFE_PROMPT_CONTENT"
   ]
  },
  {
   "cell_type": "code",
   "execution_count": 6,
   "id": "1f3d3591-4a52-4d01-89e2-b554c8d5dd77",
   "metadata": {
    "execution": {
     "iopub.execute_input": "2024-05-12T15:17:26.923482Z",
     "iopub.status.busy": "2024-05-12T15:17:26.923236Z",
     "iopub.status.idle": "2024-05-12T15:17:26.926433Z",
     "shell.execute_reply": "2024-05-12T15:17:26.925961Z",
     "shell.execute_reply.started": "2024-05-12T15:17:26.923463Z"
    },
    "tags": []
   },
   "outputs": [
    {
     "name": "stdout",
     "output_type": "stream",
     "text": [
      "당신은 부동산에 관심이 많은 사람입니다. documents를 요구사항에 따라 필터링하고 질문을 생성해야합니다.\n",
      "documents는 20개가 주어지며, 필터링한 documents를 수정하여 명확하고 구어적인 표현으로 질문을 생성해야 합니다.\n",
      "요구사항은 다음과 같습니다:\n",
      "1. 정치적 발언, 혐오 발언 등 독성있고 해로운 documents는 제외하세요.\n",
      "2. 부동산 분야와 관련된 documents만 높은 기준으로 필터링하세요.\n",
      "3. 필터링한 documents로 사람들이 궁금해 할만한 질문을 생성하세요.\n",
      "4. 필터링한 documents는 출력 결과에 포함하지마세요.\n",
      "5. 출력한 데이터는 JSON형식을 따라야하고, indent는 없어야 합니다.\n",
      "6. 아래 양식으로 출력하세요.\n",
      "[\"생성한 질문1\", \"생성한 질문2\", ...]\n",
      "\n",
      "예시1:\n",
      "documents = '청약시 무주택자격 질문'\n",
      "생성한 질문 = '청약시 무주택 자격이 어떻게 되나요?'\n",
      "\n",
      "예시2:\n",
      "documents = '여의도 매수하려고 하는데요.'\n",
      "생성한 질문 = '여의도 매수 관하여 질문드립니다.'\n",
      "\n",
      "예시3:\n",
      "documents = '서울 아파트 매물이 빠른 속도로 소진되고 있네요...'\n",
      "생성한 질문 = '서울 아파트 매물이 추세가 어떻게 되고 있나요?'\n",
      "\n",
      "예시4:\n",
      "documents = '매매 전세 동시진행'\n",
      "생성한 질문 = '매매와 전세를 동시에 진행하는데 주의할 점이 뭘까요?'\n",
      "\n",
      "예시5:\n",
      "documents = '3기신도시 당해 아닌경우'\n",
      "생성한 질문 = '3기신도시 당해 조건에 해당하지 않는 경우 문의드립니다.'\n",
      "\n",
      "###documents:\n",
      "{documents}\n",
      "\n"
     ]
    }
   ],
   "source": [
    "print(CAFE_PROMPT_PREFIX + CAFE_PROMPT_CONTENT)"
   ]
  },
  {
   "cell_type": "markdown",
   "id": "48549f4d-4506-45e7-9895-da71e450da7f",
   "metadata": {},
   "source": [
    "이번에는 1개의 프롬프트에 20개의 documents를 추가해줍니다.  "
   ]
  },
  {
   "cell_type": "code",
   "execution_count": 7,
   "id": "9ea1a385-e8ee-49e8-8ccf-194ac7f55644",
   "metadata": {
    "execution": {
     "iopub.execute_input": "2024-05-12T15:17:28.833995Z",
     "iopub.status.busy": "2024-05-12T15:17:28.833380Z",
     "iopub.status.idle": "2024-05-12T15:17:28.841309Z",
     "shell.execute_reply": "2024-05-12T15:17:28.840504Z",
     "shell.execute_reply.started": "2024-05-12T15:17:28.833944Z"
    },
    "tags": []
   },
   "outputs": [],
   "source": [
    "n_queries = 20\n",
    "\n",
    "queries = []\n",
    "batch = len(questions_cafe) // n_queries\n",
    "for idx in range(1, batch+2):\n",
    "    start_index = (idx -1) * n_queries\n",
    "    end_index = idx * n_queries\n",
    "    query_documents = questions_cafe[start_index:end_index]\n",
    "    query_documents = \"\\n\".join(query_documents)\n",
    "    queries.append(CAFE_PROMPT_PREFIX + CAFE_PROMPT_CONTENT.format(documents=query_documents))"
   ]
  },
  {
   "cell_type": "code",
   "execution_count": 9,
   "id": "49afef32-3eee-4b32-b7c2-b83ef5500e07",
   "metadata": {
    "execution": {
     "iopub.execute_input": "2024-05-12T15:17:45.185092Z",
     "iopub.status.busy": "2024-05-12T15:17:45.184419Z",
     "iopub.status.idle": "2024-05-12T15:17:45.191051Z",
     "shell.execute_reply": "2024-05-12T15:17:45.189956Z",
     "shell.execute_reply.started": "2024-05-12T15:17:45.185043Z"
    },
    "tags": []
   },
   "outputs": [
    {
     "name": "stdout",
     "output_type": "stream",
     "text": [
      "당신은 부동산에 관심이 많은 사람입니다. documents를 요구사항에 따라 필터링하고 질문을 생성해야합니다.\n",
      "documents는 20개가 주어지며, 필터링한 documents를 수정하여 명확하고 구어적인 표현으로 질문을 생성해야 합니다.\n",
      "요구사항은 다음과 같습니다:\n",
      "1. 정치적 발언, 혐오 발언 등 독성있고 해로운 documents는 제외하세요.\n",
      "2. 부동산 분야와 관련된 documents만 높은 기준으로 필터링하세요.\n",
      "3. 필터링한 documents로 사람들이 궁금해 할만한 질문을 생성하세요.\n",
      "4. 필터링한 documents는 출력 결과에 포함하지마세요.\n",
      "5. 출력한 데이터는 JSON형식을 따라야하고, indent는 없어야 합니다.\n",
      "6. 아래 양식으로 출력하세요.\n",
      "[\"생성한 질문1\", \"생성한 질문2\", ...]\n",
      "\n",
      "예시1:\n",
      "documents = '청약시 무주택자격 질문'\n",
      "생성한 질문 = '청약시 무주택 자격이 어떻게 되나요?'\n",
      "\n",
      "예시2:\n",
      "documents = '여의도 매수하려고 하는데요.'\n",
      "생성한 질문 = '여의도 매수 관하여 질문드립니다.'\n",
      "\n",
      "예시3:\n",
      "documents = '서울 아파트 매물이 빠른 속도로 소진되고 있네요...'\n",
      "생성한 질문 = '서울 아파트 매물이 추세가 어떻게 되고 있나요?'\n",
      "\n",
      "예시4:\n",
      "documents = '매매 전세 동시진행'\n",
      "생성한 질문 = '매매와 전세를 동시에 진행하는데 주의할 점이 뭘까요?'\n",
      "\n",
      "예시5:\n",
      "documents = '3기신도시 당해 아닌경우'\n",
      "생성한 질문 = '3기신도시 당해 조건에 해당하지 않는 경우 문의드립니다.'\n",
      "\n",
      "###documents:\n",
      "[LG전자 베스트샵 봉천센트럴점]🥳RENEWAL OPEN 행사🥳 (광고)\n",
      "[LG전자 베스트샵 롯데 수원점] 리뉴얼 GRAND OPEN 가전제품 세일 💕\n",
      "부동산 스터디 카페에 올라오는 주식 홍보방들은 모두 사기글입니다.\n",
      "[공지]붇스터디게시판 운영가이드(2023.9.3 수정추가)\n",
      "부동산 스터디 카페 내에 계정 해킹 사례가 너무 많네요\n",
      "전라도 사람들은 투표권 주지말자\n",
      "고수님들은 3억 자금이 있다면 무엇을 하시나요?\n",
      "용산 vs 강남 신혼부부 집 조언부탁드립니다!\n",
      "부동산 관련이 아니라 죄송하지만.. 고민거리가 있어서 고견을 구합니다.\n",
      "서울 구축 vs 다산 신도시 어디가 좋을까요?\n",
      "여기 브릿지보이는 곳 어딘가요?\n",
      "목센아 vs 올파포 어떨까요?\n",
      "차용증 쓰고 가족간 빌린 돈 갚을 때\n",
      "청약시 무주택자격 질문\n",
      "전세계약 종료 후 실거주입주 시 주담대 신규로 가능?\n",
      "광진구 매수하려 하는데 조언좀 부탁드리겠습니다 ㅠ\n",
      "일원동 보고 있어요 의견 부탁드립니다\n",
      "급질문) 전세나갈 때 전세보증금 10%를 꼭 주어야 하나요?\n",
      "안녕하세요 부린이입니다! 흑석 자이 vs 상도동 e편한세상노빌리티..\n",
      "여의도 매수하려고 하는데요\n",
      "\n"
     ]
    }
   ],
   "source": [
    "print(queries[0])"
   ]
  },
  {
   "cell_type": "code",
   "execution_count": 44,
   "id": "75106249-9a0a-4edd-a588-4d9dfda04b5a",
   "metadata": {
    "execution": {
     "iopub.execute_input": "2024-05-12T14:41:58.418149Z",
     "iopub.status.busy": "2024-05-12T14:41:58.417536Z",
     "iopub.status.idle": "2024-05-12T14:41:58.426537Z",
     "shell.execute_reply": "2024-05-12T14:41:58.425670Z",
     "shell.execute_reply.started": "2024-05-12T14:41:58.418111Z"
    },
    "tags": []
   },
   "outputs": [
    {
     "data": {
      "text/plain": [
       "['부동산 하락',\n",
       " '부동산 중도금',\n",
       " '파주시 부동산',\n",
       " '전라도 부동산',\n",
       " '갭투자',\n",
       " '의왕시 부동산',\n",
       " '수원시 부동산',\n",
       " 'GTX-B',\n",
       " '아파트 프리미엄',\n",
       " '부동산 대출',\n",
       " '부동산 잔금',\n",
       " '부동산 취득세 납부',\n",
       " '실거래신고',\n",
       " '서울 아파트 매매가',\n",
       " '청약 대출',\n",
       " '별내신도시 부동산',\n",
       " '시흥시 부동산',\n",
       " '임차인 우선변제권',\n",
       " '신통기획 현황',\n",
       " '중동 부동산']"
      ]
     },
     "execution_count": 44,
     "metadata": {},
     "output_type": "execute_result"
    }
   ],
   "source": [
    "random.sample(seed_words, 20)"
   ]
  },
  {
   "cell_type": "code",
   "execution_count": null,
   "id": "d88aa811-09ef-4a7d-8a34-67382373ee5a",
   "metadata": {},
   "outputs": [],
   "source": []
  },
  {
   "cell_type": "code",
   "execution_count": 36,
   "id": "d9bcd61a-fc22-45b9-8bd4-03aa51704de6",
   "metadata": {
    "execution": {
     "iopub.execute_input": "2024-05-12T14:37:37.449029Z",
     "iopub.status.busy": "2024-05-12T14:37:37.448274Z",
     "iopub.status.idle": "2024-05-12T14:37:37.455159Z",
     "shell.execute_reply": "2024-05-12T14:37:37.454440Z",
     "shell.execute_reply.started": "2024-05-12T14:37:37.448991Z"
    },
    "tags": []
   },
   "outputs": [
    {
     "name": "stdout",
     "output_type": "stream",
     "text": [
      "당신은 부동산에 관심이 많은 사람입니다. documents를 요구사항에 따라 필터링하고 seed_words를 참고하여 질문리스트를 생성해야합니다.\n",
      "요구사항의 규칙에 의해 documents를 필터링하고, seed_words를 참고하여 사람들이 궁금해할만한 질문리스트를 각 documents마다 20개씩 생성합니다.\n",
      "요구사항은 다음과 같습니다:\n",
      "1. 정치적 발언, 혐오 발언 등 독성있고 해로운 documents는 삭제하세요.\n",
      "2. seed_words들과 관련이 있는 documents만 필터링하여 사용하세요.\n",
      "3. 필터링한 documents와 seed_words를 참조하여 사람들이 궁금해 할만한 질문리스트를 생성하세요.\n",
      "3. 출력한 데이터는 JSON형식을 따라야하고, indent는 없어야 합니다.\n",
      "4. 아래 양식으로 출력하세요.\n",
      "[\"질문1\", \"질문2\", \"질문3\" ...]\n",
      "\n",
      "###seed_words:\n",
      "전세 계약\n",
      "임대차 계약\n",
      "전세 사기\n",
      "임대차 분쟁\n",
      "깡통 전세\n",
      "전세자금대출\n",
      "전세보증금 반환보증\n",
      "전월세계약서\n",
      "전월세 중개수수료\n",
      "전입신고\n",
      "전세 확정일자\n",
      "전세권 설정\n",
      "주택임대차보호법\n",
      "임차인 우선변제권\n",
      "임차권등기명령\n",
      "전월세 등기부등본\n",
      "LTV\n",
      "DSR\n",
      "DTI\n",
      "부동산 계약금\n",
      "부동산 중도금\n",
      "부동산 잔금\n",
      "서울시 재개발\n",
      "서울시 재건축\n",
      "조정대상지역\n",
      "토지거래허가제\n",
      "분양가 상한제\n",
      "투기과열지구\n",
      "실거주 의무\n",
      "서울시 신통기획\n",
      "신속통합기획\n",
      "신통기획 현황\n",
      "정비사업\n",
      "부동산 동향\n",
      "부동산 현황\n",
      "부동산 매매건수\n",
      "부동산 시장\n",
      "부동산 상승\n",
      "부동산 하락\n",
      "부동산 추이\n",
      "부동산 추세\n",
      "아파트 동향\n",
      "아파트 현황\n",
      "아파트 매매건수\n",
      "아파트 시장\n",
      "아파트 상승\n",
      "아파트 하락\n",
      "아파트 추이\n",
      "아파트 추세\n",
      "아파트 매매거래량\n",
      "국토교통부 2023년 정책\n",
      "국토교통부 2024년 정책\n",
      "리모델링 추진\n",
      "역세권 시프트\n",
      "서울시 도시 주거 환경 정비 기본 계획\n",
      "1기 신도시 재건축\n",
      "3기 신도시 현황\n",
      "한남뉴타운\n",
      "성수 전략 정비구역\n",
      "반포 재건축\n",
      "방배동 재건축\n",
      "송파 재건축\n",
      "용산 정비창\n",
      "노량진 뉴타운\n",
      "광운대 역사개발\n",
      "특별공급\n",
      "신혼부부 특공\n",
      "청약\n",
      "분양권\n",
      "입주권\n",
      "청약 대출\n",
      "청약 모집 공고\n",
      "청약 통장 수\n",
      "분양권 전매\n",
      "실거주\n",
      "교통 계획\n",
      "수도권 지하철 9호선 연장\n",
      "수도권 지하철 8호선 연장\n",
      "수도권 지하철 5호선 연장\n",
      "GTX-A\n",
      "GTX-B\n",
      "GTX-C\n",
      "GTX-D\n",
      "부동산 양도세\n",
      "부동산 취득세\n",
      "재산세\n",
      "종합부동산세\n",
      "생애 최초 주택 구매\n",
      "장기보유 특별 공제\n",
      "주택임대사업자\n",
      "종부세 중과세\n",
      "보금자리론\n",
      "디딤돌대출\n",
      "정책모기지\n",
      "부동산 매도\n",
      "부동산 매수\n",
      "부동산 가계약금\n",
      "부동산 계약금\n",
      "부동산 중도금\n",
      "부동산 잔금\n",
      "부동산 배액배상\n",
      "부동산 계약금 포기\n",
      "실거래신고\n",
      "부동산 취득세 신고\n",
      "부동산 취득세 납부\n",
      "국민주택채권\n",
      "소유권이전등기\n",
      "등기 필증\n",
      "임차권\n",
      "부동산 임대인\n",
      "부동산 임차인\n",
      "부동산 보증금\n",
      "전대차\n",
      "상가 권리금\n",
      "전세\n",
      "월세\n",
      "분양권\n",
      "전매\n",
      "아파트 프리미엄\n",
      "전매 제한\n",
      "공공 분양\n",
      "전용 면적\n",
      "주거 공용 면적\n",
      "분양 면적\n",
      "기타 공용 면적\n",
      "계약 면적\n",
      "부동산 취득세\n",
      "부동산 양도세\n",
      "부동산 양도차익\n",
      "부동산 비과세 혜택\n",
      "임장\n",
      "부동산 근저당\n",
      "몸테크\n",
      "주담대\n",
      "마통\n",
      "주복\n",
      "초품아\n",
      "특공\n",
      "떳다방\n",
      "부동산 정책\n",
      "부동산 규제\n",
      "부동산 부양\n",
      "압구정 재건축\n",
      "부동산 PF\n",
      "부동산 전망\n",
      "부동산 하반기 전망\n",
      "부동산 상반기 전망\n",
      "전세가율\n",
      "전세전환율\n",
      "부동산 상승 이유\n",
      "부동산 하락 이유\n",
      "부동산 경기 전망\n",
      "신생아 대출\n",
      "신혼부부 대출\n",
      "부동산 경매\n",
      "부동산 공매\n",
      "부동산 권리분석\n",
      "원펜타스 분양\n",
      "대치 에델루이 분양\n",
      "원페를라 분양\n",
      "레벤투스 분양\n",
      "청담 르엘 분양\n",
      "라디우스 파크 푸르지오 분양\n",
      "라체르보 푸르지오 써밋 분양\n",
      "더파크사이드 분양\n",
      "아세아 아파트 분양\n",
      "가점제\n",
      "계약 갱신 청구권\n",
      "갭투자\n",
      "증여세\n",
      "상속세\n",
      "청년버팀목전세대출\n",
      "역전세\n",
      "초과 이익환 수제\n",
      "미분양\n",
      "준공 미분양\n",
      "서울 아파트 매매가\n",
      "서울 개발 계획\n",
      "공시지가\n",
      "부동산 대출\n",
      "용산구 부동산\n",
      "마포구 부동산\n",
      "중구 부동산\n",
      "성동구 부동산\n",
      "동작구 부동산\n",
      "관악구 부동산\n",
      "광진구 부동산\n",
      "강남구 부동산\n",
      "서초구 부동산\n",
      "강동구 부동산\n",
      "송파구 부동산\n",
      "영등포구 부동산\n",
      "금천구 부동산\n",
      "양천구 부동산\n",
      "강서구 부동산\n",
      "구로구 부동산\n",
      "서대문구 부동산\n",
      "은평구 부동산\n",
      "종로구 부동산\n",
      "강북구 부동산\n",
      "성북구 부동산\n",
      "동대문구 부동산\n",
      "도봉구 부동산\n",
      "중랑구 부동산\n",
      "노원구 부동산\n",
      "위례신도시 부동산\n",
      "인천시 부동산\n",
      "송도신도시 부동산\n",
      "검단신도시 부동산\n",
      "청라신도시 부동산\n",
      "영종국제도시 부동산\n",
      "성남시 부동산\n",
      "분당 부동산\n",
      "판교 부동산\n",
      "용인시 부동산\n",
      "수지 부동산\n",
      "하남시 부동산\n",
      "미사강변도시 부동산\n",
      "경기도 광주시 부동산\n",
      "고양시 부동산\n",
      "일산 부동산\n",
      "덕양구 부동산\n",
      "파주시 부동산\n",
      "김포시 부동산\n",
      "김포한강신도시 \n",
      "과천시 부동산\n",
      "안양시 부동산\n",
      "평촌 부동산\n",
      "안산시 부동산\n",
      "군포시 부동산\n",
      "산본 부동산\n",
      "의왕시 부동산\n",
      "광명시 부동산\n",
      "부천시 부동산\n",
      "중동 부동산\n",
      "시흥시 부동산\n",
      "구리시 부동산\n",
      "구리갈매지구 부동산\n",
      "남양주시 부동산\n",
      "별내신도시 부동산\n",
      "다산신도시 부동산\n",
      "왕숙신도시 부동산\n",
      "의정부 부동산\n",
      "동두천시 부동산\n",
      "양주시 부동산\n",
      "수원시 부동산\n",
      "광교 신도시 부동산\n",
      "화성시 부동산\n",
      "동탄신도시 부동산\n",
      "오산시 부동산\n",
      "평택시 부동산\n",
      "고덕국제신도시 부동산\n",
      "수도권 부동산\n",
      "경상북도 부동산\n",
      "대구시 부동산\n",
      "세종시 부동산\n",
      "대전시 부동산\n",
      "강원도 부동산\n",
      "충청도 부동산\n",
      "전라도 부동산\n",
      "광주광역시 부동산\n",
      "부산시 부동산\n",
      "울산 부동산\n",
      "경남 부동산\n",
      "제주도 부동산\n",
      "해외 부동산\n",
      "가로 주택 정비 사업\n",
      "대지지분\n",
      "재건축 기간\n",
      "재개발 기간\n",
      "\n",
      "###documents:\n",
      "[LG전자 베스트샵 봉천센트럴점]🥳RENEWAL OPEN 행사🥳 (광고)\n",
      "[LG전자 베스트샵 롯데 수원점] 리뉴얼 GRAND OPEN 가전제품 세일 💕\n",
      "부동산 스터디 카페에 올라오는 주식 홍보방들은 모두 사기글입니다.\n",
      "[공지]붇스터디게시판 운영가이드(2023.9.3 수정추가)\n",
      "부동산 스터디 카페 내에 계정 해킹 사례가 너무 많네요\n",
      "전라도 사람들은 투표권 주지말자\n",
      "고수님들은 3억 자금이 있다면 무엇을 하시나요?\n",
      "용산 vs 강남 신혼부부 집 조언부탁드립니다!\n",
      "전세계약 종료 후 실거주입주 시 주담대 신규로 가능?\n",
      "증여관련 세무조사\n",
      "광진구 매수하려 하는데 조언좀 부탁드리겠습니다 ㅠ\n",
      "일원동 보고 있어요 의견 부탁드립니다\n",
      "급질문) 전세나갈 때 전세보증금 10%를 꼭 주어야 하나요?\n",
      "안녕하세요 부린이입니다! 흑석 자이 vs 상도동 e편한세상노빌리티..\n",
      "여의도 매수하려고 하는데요\n",
      "3기신도시 당해 아닌경우\n",
      "세입자 만기되어서 나갈때요??\n",
      "직장 수원 및 학군 생각해서 동네 추천 바랍니다\n",
      "처음으로 전세끼고 아파트 구매했습니다. 전세입자와의 관계에서 유의해야할 점이 있을까요?\n",
      "상암 월드컵 파크 2단지 vs 용두 롯데캐슬리치\n",
      "\n"
     ]
    }
   ],
   "source": [
    "print(queries[0])"
   ]
  },
  {
   "cell_type": "code",
   "execution_count": 32,
   "id": "17427f51-7c1d-454d-9fe1-7a889068218f",
   "metadata": {
    "execution": {
     "iopub.execute_input": "2024-05-12T14:37:07.428345Z",
     "iopub.status.busy": "2024-05-12T14:37:07.427798Z",
     "iopub.status.idle": "2024-05-12T14:37:15.076896Z",
     "shell.execute_reply": "2024-05-12T14:37:15.076456Z",
     "shell.execute_reply.started": "2024-05-12T14:37:07.428311Z"
    },
    "tags": []
   },
   "outputs": [
    {
     "ename": "KeyboardInterrupt",
     "evalue": "",
     "output_type": "error",
     "traceback": [
      "\u001b[0;31m---------------------------------------------------------------------------\u001b[0m",
      "\u001b[0;31mKeyboardInterrupt\u001b[0m                         Traceback (most recent call last)",
      "Cell \u001b[0;32mIn[32], line 1\u001b[0m\n\u001b[0;32m----> 1\u001b[0m seed_words\n",
      "File \u001b[0;32m~/python_env/.base/lib/python3.10/site-packages/IPython/core/displayhook.py:274\u001b[0m, in \u001b[0;36mDisplayHook.__call__\u001b[0;34m(self, result)\u001b[0m\n\u001b[1;32m    272\u001b[0m     \u001b[38;5;28mself\u001b[39m\u001b[38;5;241m.\u001b[39mwrite_format_data(format_dict, md_dict)\n\u001b[1;32m    273\u001b[0m     \u001b[38;5;28mself\u001b[39m\u001b[38;5;241m.\u001b[39mlog_output(format_dict)\n\u001b[0;32m--> 274\u001b[0m \u001b[38;5;28;41mself\u001b[39;49m\u001b[38;5;241;41m.\u001b[39;49m\u001b[41mfinish_displayhook\u001b[49m\u001b[41m(\u001b[49m\u001b[41m)\u001b[49m\n",
      "File \u001b[0;32m~/python_env/.base/lib/python3.10/site-packages/ipykernel/displayhook.py:100\u001b[0m, in \u001b[0;36mZMQShellDisplayHook.finish_displayhook\u001b[0;34m(self)\u001b[0m\n\u001b[1;32m     98\u001b[0m sys\u001b[38;5;241m.\u001b[39mstderr\u001b[38;5;241m.\u001b[39mflush()\n\u001b[1;32m     99\u001b[0m \u001b[38;5;28;01mif\u001b[39;00m \u001b[38;5;28mself\u001b[39m\u001b[38;5;241m.\u001b[39mmsg \u001b[38;5;129;01mand\u001b[39;00m \u001b[38;5;28mself\u001b[39m\u001b[38;5;241m.\u001b[39mmsg[\u001b[38;5;124m\"\u001b[39m\u001b[38;5;124mcontent\u001b[39m\u001b[38;5;124m\"\u001b[39m][\u001b[38;5;124m\"\u001b[39m\u001b[38;5;124mdata\u001b[39m\u001b[38;5;124m\"\u001b[39m] \u001b[38;5;129;01mand\u001b[39;00m \u001b[38;5;28mself\u001b[39m\u001b[38;5;241m.\u001b[39msession:\n\u001b[0;32m--> 100\u001b[0m     \u001b[38;5;28;41mself\u001b[39;49m\u001b[38;5;241;41m.\u001b[39;49m\u001b[41msession\u001b[49m\u001b[38;5;241;41m.\u001b[39;49m\u001b[41msend\u001b[49m\u001b[41m(\u001b[49m\u001b[38;5;28;41mself\u001b[39;49m\u001b[38;5;241;41m.\u001b[39;49m\u001b[41mpub_socket\u001b[49m\u001b[41m,\u001b[49m\u001b[41m \u001b[49m\u001b[38;5;28;41mself\u001b[39;49m\u001b[38;5;241;41m.\u001b[39;49m\u001b[41mmsg\u001b[49m\u001b[41m,\u001b[49m\u001b[41m \u001b[49m\u001b[41mident\u001b[49m\u001b[38;5;241;41m=\u001b[39;49m\u001b[38;5;28;41mself\u001b[39;49m\u001b[38;5;241;41m.\u001b[39;49m\u001b[41mtopic\u001b[49m\u001b[41m)\u001b[49m\n\u001b[1;32m    101\u001b[0m \u001b[38;5;28mself\u001b[39m\u001b[38;5;241m.\u001b[39mmsg \u001b[38;5;241m=\u001b[39m \u001b[38;5;28;01mNone\u001b[39;00m\n",
      "File \u001b[0;32m~/python_env/.base/lib/python3.10/site-packages/jupyter_client/session.py:848\u001b[0m, in \u001b[0;36mSession.send\u001b[0;34m(self, stream, msg_or_type, content, parent, ident, buffers, track, header, metadata)\u001b[0m\n\u001b[1;32m    846\u001b[0m \u001b[38;5;28;01mif\u001b[39;00m \u001b[38;5;28mself\u001b[39m\u001b[38;5;241m.\u001b[39madapt_version:\n\u001b[1;32m    847\u001b[0m     msg \u001b[38;5;241m=\u001b[39m adapt(msg, \u001b[38;5;28mself\u001b[39m\u001b[38;5;241m.\u001b[39madapt_version)\n\u001b[0;32m--> 848\u001b[0m to_send \u001b[38;5;241m=\u001b[39m \u001b[38;5;28;41mself\u001b[39;49m\u001b[38;5;241;41m.\u001b[39;49m\u001b[41mserialize\u001b[49m\u001b[41m(\u001b[49m\u001b[41mmsg\u001b[49m\u001b[41m,\u001b[49m\u001b[41m \u001b[49m\u001b[41mident\u001b[49m\u001b[41m)\u001b[49m\n\u001b[1;32m    849\u001b[0m to_send\u001b[38;5;241m.\u001b[39mextend(buffers)\n\u001b[1;32m    850\u001b[0m longest \u001b[38;5;241m=\u001b[39m \u001b[38;5;28mmax\u001b[39m([\u001b[38;5;28mlen\u001b[39m(s) \u001b[38;5;28;01mfor\u001b[39;00m s \u001b[38;5;129;01min\u001b[39;00m to_send])\n",
      "File \u001b[0;32m~/python_env/.base/lib/python3.10/site-packages/jupyter_client/session.py:718\u001b[0m, in \u001b[0;36mSession.serialize\u001b[0;34m(self, msg, ident)\u001b[0m\n\u001b[1;32m    716\u001b[0m     content \u001b[38;5;241m=\u001b[39m \u001b[38;5;28mself\u001b[39m\u001b[38;5;241m.\u001b[39mnone\n\u001b[1;32m    717\u001b[0m \u001b[38;5;28;01melif\u001b[39;00m \u001b[38;5;28misinstance\u001b[39m(content, \u001b[38;5;28mdict\u001b[39m):\n\u001b[0;32m--> 718\u001b[0m     content \u001b[38;5;241m=\u001b[39m \u001b[38;5;28;41mself\u001b[39;49m\u001b[38;5;241;41m.\u001b[39;49m\u001b[41mpack\u001b[49m\u001b[41m(\u001b[49m\u001b[41mcontent\u001b[49m\u001b[41m)\u001b[49m\n\u001b[1;32m    719\u001b[0m \u001b[38;5;28;01melif\u001b[39;00m \u001b[38;5;28misinstance\u001b[39m(content, \u001b[38;5;28mbytes\u001b[39m):\n\u001b[1;32m    720\u001b[0m     \u001b[38;5;66;03m# content is already packed, as in a relayed message\u001b[39;00m\n\u001b[1;32m    721\u001b[0m     \u001b[38;5;28;01mpass\u001b[39;00m\n",
      "File \u001b[0;32m~/python_env/.base/lib/python3.10/site-packages/jupyter_client/session.py:99\u001b[0m, in \u001b[0;36mjson_packer\u001b[0;34m(obj)\u001b[0m\n\u001b[1;32m     97\u001b[0m \u001b[38;5;28;01mdef\u001b[39;00m \u001b[38;5;21mjson_packer\u001b[39m(obj):\n\u001b[1;32m     98\u001b[0m     \u001b[38;5;28;01mtry\u001b[39;00m:\n\u001b[0;32m---> 99\u001b[0m         \u001b[38;5;28;01mreturn\u001b[39;00m \u001b[41mjson\u001b[49m\u001b[38;5;241;41m.\u001b[39;49m\u001b[41mdumps\u001b[49m\u001b[41m(\u001b[49m\n\u001b[1;32m    100\u001b[0m \u001b[41m            \u001b[49m\u001b[41mobj\u001b[49m\u001b[41m,\u001b[49m\n\u001b[1;32m    101\u001b[0m \u001b[41m            \u001b[49m\u001b[41mdefault\u001b[49m\u001b[38;5;241;41m=\u001b[39;49m\u001b[41mjson_default\u001b[49m\u001b[41m,\u001b[49m\n\u001b[1;32m    102\u001b[0m \u001b[41m            \u001b[49m\u001b[41mensure_ascii\u001b[49m\u001b[38;5;241;41m=\u001b[39;49m\u001b[38;5;28;41;01mFalse\u001b[39;49;00m\u001b[41m,\u001b[49m\n\u001b[1;32m    103\u001b[0m \u001b[41m            \u001b[49m\u001b[41mallow_nan\u001b[49m\u001b[38;5;241;41m=\u001b[39;49m\u001b[38;5;28;41;01mFalse\u001b[39;49;00m\u001b[41m,\u001b[49m\n\u001b[1;32m    104\u001b[0m \u001b[41m        \u001b[49m\u001b[41m)\u001b[49m\u001b[38;5;241;41m.\u001b[39;49m\u001b[41mencode\u001b[49m\u001b[41m(\u001b[49m\u001b[38;5;124;41m\"\u001b[39;49m\u001b[38;5;124;41mutf8\u001b[39;49m\u001b[38;5;124;41m\"\u001b[39;49m\u001b[41m,\u001b[49m\u001b[41m \u001b[49m\u001b[41merrors\u001b[49m\u001b[38;5;241;41m=\u001b[39;49m\u001b[38;5;124;41m\"\u001b[39;49m\u001b[38;5;124;41msurrogateescape\u001b[39;49m\u001b[38;5;124;41m\"\u001b[39;49m\u001b[41m)\u001b[49m\n\u001b[1;32m    105\u001b[0m     \u001b[38;5;28;01mexcept\u001b[39;00m (\u001b[38;5;167;01mTypeError\u001b[39;00m, \u001b[38;5;167;01mValueError\u001b[39;00m) \u001b[38;5;28;01mas\u001b[39;00m e:\n\u001b[1;32m    106\u001b[0m         \u001b[38;5;66;03m# Fallback to trying to clean the json before serializing\u001b[39;00m\n\u001b[1;32m    107\u001b[0m         packed \u001b[38;5;241m=\u001b[39m json\u001b[38;5;241m.\u001b[39mdumps(\n\u001b[1;32m    108\u001b[0m             json_clean(obj),\n\u001b[1;32m    109\u001b[0m             default\u001b[38;5;241m=\u001b[39mjson_default,\n\u001b[1;32m    110\u001b[0m             ensure_ascii\u001b[38;5;241m=\u001b[39m\u001b[38;5;28;01mFalse\u001b[39;00m,\n\u001b[1;32m    111\u001b[0m             allow_nan\u001b[38;5;241m=\u001b[39m\u001b[38;5;28;01mFalse\u001b[39;00m,\n\u001b[1;32m    112\u001b[0m         )\u001b[38;5;241m.\u001b[39mencode(\u001b[38;5;124m\"\u001b[39m\u001b[38;5;124mutf8\u001b[39m\u001b[38;5;124m\"\u001b[39m, errors\u001b[38;5;241m=\u001b[39m\u001b[38;5;124m\"\u001b[39m\u001b[38;5;124msurrogateescape\u001b[39m\u001b[38;5;124m\"\u001b[39m)\n",
      "\u001b[0;31mKeyboardInterrupt\u001b[0m: "
     ]
    }
   ],
   "source": [
    "seed_words"
   ]
  },
  {
   "cell_type": "code",
   "execution_count": null,
   "id": "80c5828e-c71b-4942-9014-05c7e5fead82",
   "metadata": {},
   "outputs": [],
   "source": []
  },
  {
   "cell_type": "code",
   "execution_count": null,
   "id": "e0861ad3-f23f-41bb-8a37-945396a832f5",
   "metadata": {
    "execution": {
     "iopub.status.busy": "2024-05-12T14:36:54.486249Z",
     "iopub.status.idle": "2024-05-12T14:36:54.486346Z",
     "shell.execute_reply": "2024-05-12T14:36:54.486293Z",
     "shell.execute_reply.started": "2024-05-12T14:36:54.486288Z"
    },
    "tags": []
   },
   "outputs": [],
   "source": [
    "print(queries[0])"
   ]
  },
  {
   "cell_type": "code",
   "execution_count": null,
   "id": "2dfa8423-d3d9-4c40-9368-ca62dbff1fe0",
   "metadata": {},
   "outputs": [],
   "source": [
    "from concurrent.futures import ThreadPoolExecutor\n",
    "from functools import partial\n",
    "import os\n",
    "\n",
    "with ThreadPoolExecutor(os.cpu_count()) as pool:\n",
    "    result = list(tqdm(pool.map(partial(get_completion, model=\"gpt-4-turbo\"), queries)))\n",
    "    with open(\"questions_cafe_filtered.jsonl\", \"a\", encoding=\"utf-8\") as f:\n",
    "        for r in result:\n",
    "            for line in r.split(\"\\n\"):\n",
    "                f.write(line)\n",
    "                f.write(\"\\n\")"
   ]
  },
  {
   "cell_type": "markdown",
   "id": "83112114-910f-42e6-96a4-96b4ef6cca19",
   "metadata": {},
   "source": [
    "## <span style=\"color: #F2D388;\"> 4. 질문리스트로 네이버에 검색하여 인기 글 데이터 수집하기 </span>\n",
    "3번에서 생성한 질문리스트를 selenium 라이브러리를 통해 네이버로 검색합니다.  \n",
    "검색 결과의 인기글의 텍스트 정보를 저장합니다.  "
   ]
  },
  {
   "cell_type": "code",
   "execution_count": 5,
   "id": "ae2f00a6-9463-4689-adc3-23edb4fcbef4",
   "metadata": {
    "execution": {
     "iopub.execute_input": "2024-05-11T02:02:10.584098Z",
     "iopub.status.busy": "2024-05-11T02:02:10.583216Z",
     "iopub.status.idle": "2024-05-11T02:02:10.595487Z",
     "shell.execute_reply": "2024-05-11T02:02:10.594754Z",
     "shell.execute_reply.started": "2024-05-11T02:02:10.584063Z"
    },
    "tags": []
   },
   "outputs": [],
   "source": [
    "query_data_search = jload(\"./data/questions_keyword.jsonl\")"
   ]
  },
  {
   "cell_type": "code",
   "execution_count": 6,
   "id": "ae8c5144-b151-4e2a-b9f4-c4a12c0890c0",
   "metadata": {
    "execution": {
     "iopub.execute_input": "2024-05-11T02:02:14.955580Z",
     "iopub.status.busy": "2024-05-11T02:02:14.954920Z",
     "iopub.status.idle": "2024-05-11T02:02:14.966143Z",
     "shell.execute_reply": "2024-05-11T02:02:14.965272Z",
     "shell.execute_reply.started": "2024-05-11T02:02:14.955532Z"
    },
    "tags": []
   },
   "outputs": [
    {
     "data": {
      "text/plain": [
       "{'seed_word': '전세 계약',\n",
       " 'answer': ['전세 계약을 체결할 때 필요한 서류는 무엇인가요?',\n",
       "  '전세 계약 시 주의해야 할 점은 무엇인가요?',\n",
       "  '전세 계약 갱신 청구권은 어떻게 적용되나요?',\n",
       "  '전세 계약을 해지하려면 어떤 절차를 밟아야 하나요?',\n",
       "  '전세 계약 시 보증금 반환 문제는 어떻게 해결하나요?',\n",
       "  '전세 계약 기간 중 집주인이 바뀌면 어떻게 되나요?',\n",
       "  '전세 계약을 할 때 중개수수료는 얼마인가요?',\n",
       "  '전세 계약 시 보증금을 보호받을 수 있는 방법은 무엇인가요?',\n",
       "  '전세 계약 갱신 시 임대료 인상률은 어떻게 결정되나요?',\n",
       "  '전세 계약 체결 전에 확인해야 할 주택 상태는 무엇인가요?',\n",
       "  '전세 계약 시 임차인의 권리와 의무는 무엇인가요?',\n",
       "  '전세 계약 시 임대인의 권리와 의무는 무엇인가요?',\n",
       "  '전세 계약 시 확정일자는 왜 중요한가요?',\n",
       "  '전세 계약 시 전입신고는 언제 해야 하나요?',\n",
       "  '전세 계약 갱신 거절 시 임차인은 어떤 조치를 취할 수 있나요?',\n",
       "  '전세 계약 시 보증금을 전액 돌려받지 못하는 경우는 어떤 경우인가요?',\n",
       "  '전세 계약 시 임대인이 파산하면 보증금은 어떻게 되나요?',\n",
       "  '전세 계약 시 임대인과 임차인 간의 분쟁 해결 방법은 무엇인가요?',\n",
       "  '전세 계약 시 임대인이 계약을 일방적으로 해지할 수 있나요?',\n",
       "  '전세 계약 시 임차인이 보증금을 늦게 받는 경우 어떻게 대처해야 하나요?']}"
      ]
     },
     "execution_count": 6,
     "metadata": {},
     "output_type": "execute_result"
    }
   ],
   "source": [
    "query_data_search[0]"
   ]
  },
  {
   "cell_type": "code",
   "execution_count": 7,
   "id": "24b29dcf-f85e-48e9-ab0f-dfb1978bf1cd",
   "metadata": {
    "execution": {
     "iopub.execute_input": "2024-05-11T02:02:16.907656Z",
     "iopub.status.busy": "2024-05-11T02:02:16.906685Z",
     "iopub.status.idle": "2024-05-11T02:02:16.914074Z",
     "shell.execute_reply": "2024-05-11T02:02:16.913119Z",
     "shell.execute_reply.started": "2024-05-11T02:02:16.907619Z"
    },
    "tags": []
   },
   "outputs": [],
   "source": [
    "from itertools import chain\n",
    "\n",
    "# answer를 추출해서 [[query1], [query2]] 구조를 [query1, query2]로 flatten해주기\n",
    "queries = [data['answer'] for data in query_data]\n",
    "queries = list(chain(*queries))"
   ]
  },
  {
   "cell_type": "markdown",
   "id": "1da64bd8-30be-4fff-bd61-76cb89867d54",
   "metadata": {},
   "source": [
    "selenium이 4.1 버전으로 업그레이드 되면서 별도로 webdriver를 다운로드 받을 필요가 없어졌습니다.  \n",
    "webdriver 파일이 없으면 selenium이 자체적으로 다운로드하게 된다고 합니다. [stackoverflow](https://stackoverflow.com/questions/22130109/cant-use-chrome-driver-for-seleniumhttps://stackoverflow.com/questions/22130109/cant-use-chrome-driver-for-selenium)  \n",
    "본 예제의 selenium 코드 크롤링 코드는 [wikidocs](https://wikidocs.net/137914) 내용을 참조하였습니다.  \n",
    "아래 코드는 내부에 `multiprocessing`으로 구현되어 있으며, pool의 갯수는 CPU Core 갯수로 설정되어 있습니다.  \n",
    "코드 실행시에 PC가 조금 느려질 수 있으니 참조해주세요."
   ]
  },
  {
   "cell_type": "code",
   "execution_count": 1,
   "id": "63e1ba1f-2e06-481d-a66b-6ad9e99b0940",
   "metadata": {
    "execution": {
     "iopub.execute_input": "2024-05-12T05:57:05.634461Z",
     "iopub.status.busy": "2024-05-12T05:57:05.631632Z",
     "iopub.status.idle": "2024-05-12T05:57:07.065064Z",
     "shell.execute_reply": "2024-05-12T05:57:07.064761Z",
     "shell.execute_reply.started": "2024-05-12T05:57:05.634410Z"
    },
    "tags": []
   },
   "outputs": [],
   "source": [
    "from utils import get_document_through_selenium\n",
    "\n",
    "search_data = get_document_through_selenium(\n",
    "    crawling_type=\"search\"\n",
    "    inputs=queries,\n",
    "    n_documents=5,\n",
    "    indent=4,\n",
    "    mode=\"a\",\n",
    "    save_path = \"./data/document.json\"\n",
    ")"
   ]
  },
  {
   "cell_type": "code",
   "execution_count": 3,
   "id": "ba1dc97c-e57d-4930-9e9f-764a77521247",
   "metadata": {
    "execution": {
     "iopub.execute_input": "2024-05-11T03:52:53.578688Z",
     "iopub.status.busy": "2024-05-11T03:52:53.578305Z",
     "iopub.status.idle": "2024-05-11T03:52:53.637531Z",
     "shell.execute_reply": "2024-05-11T03:52:53.637220Z",
     "shell.execute_reply.started": "2024-05-11T03:52:53.578659Z"
    },
    "tags": []
   },
   "outputs": [
    {
     "data": {
      "text/plain": [
       "{'question': '전세 계약을 체결할 때 필요한 서류는 무엇인가요?',\n",
       " 'document': ['경매, 공매 절차에서 무엇보다 중요한 것은 바로 \"배당 순위\"이기 때문입니다. 집주인의 입장에서 세입자와 전세계약을 체결하고 전세보증금을 받는 것은 사실상 무이자 대출을 받는... 신탁등기 전세사기까지는 아니라고 하더라도 부동산 임대차 계약을 체결할 때 위탁자와 공인중개사가 \"신탁등기를 말소해줄테니 하자\"고 제안하는 경우가 많습니다. 이...',\n",
       "  '금리 및 서류 1. 2024신혼부부 전세대출 대상 주택도시기금의 신혼부부 전세대출을 받으려면 위의 6가지 조건을 만족시켜야 합니다. 우선 전세계약을 체결한 이후 임차보증금의 5... 마지막으로 필요한 서류입니다. 먼저 본인 확인을 위한 신분증과 신혼부부 확인을 위한 주민등록초본이 하구요. 결혼 예정자인 경우 예식장 서 또는 청첩장이 있어야 합니다....',\n",
       "  '오늘은 청년들에게 내 집 마련할 때 도움이 되고자 청년전용 버팀목 전세자금 대출에 대해서 알아보겠습니다. 청년 전용 버팀목 전세자금 대출은 당연히 청년들에게 해당되며 이... 같은 계약서 형태의 서류가 필요로 합니다. 소득확인 서류로는 소득확인 증명서, 원천징수영수증, 급여 명세표 등이 하고 사업자는 소득확인 증명서나 원천징수영수증...',\n",
       "  '만약 전세보증금에서 임차인 부담금을 LH 통해서 받으려면, 추가 서류를 제출해야 한다. 어떤 서류가 필요한지는 팩스를 보내면 LH 측에서 알려주시는데, 나는 또 서류 준비하기 귀찮아서 그냥 임대인한테 바로 받겠다고 작성해서 보냈다. 이주 재계약 체결일에 이 도 들고 가야 하는데, 에 차질이 없도록 꼬옥 미리 받아두어야 한다. (사실 기존 임대인에게...',\n",
       "  '부동산 전자계약 체결 시 연 0.1%p가 적용되며, 자녀 수에 따라서도 금리가 적용됩니다. 다자녀일 경우 연 0.7%p, 2자녀일 경우 연 0.5%p, 1자녀일 경우 연 0.3%p까지 적용됩니다. 부동산... 참고로 전세 계약을 새로 하거나, 갱신할 경우 필요한 서류와 날짜를 잘 확인하세요! 오늘은 신혼부부 대출에 대해 알아보았는데요. 혹시 신생아 특례대출도 함께 알아보시는 부부가...']}"
      ]
     },
     "execution_count": 3,
     "metadata": {},
     "output_type": "execute_result"
    }
   ],
   "source": [
    "jload(\"./data/document.json\")[0]"
   ]
  },
  {
   "cell_type": "markdown",
   "id": "658fe605-fb45-4c00-8034-283186c0058f",
   "metadata": {},
   "source": [
    "가끔 크롤링이 안되는 경우가 있어서 한번 검수해줍니다."
   ]
  },
  {
   "cell_type": "code",
   "execution_count": 4,
   "id": "46f9f0b3-3970-45ad-8f6b-7a423ff49ac9",
   "metadata": {
    "execution": {
     "iopub.execute_input": "2024-05-11T03:53:03.304533Z",
     "iopub.status.busy": "2024-05-11T03:53:03.303956Z",
     "iopub.status.idle": "2024-05-11T03:53:03.383307Z",
     "shell.execute_reply": "2024-05-11T03:53:03.382970Z",
     "shell.execute_reply.started": "2024-05-11T03:53:03.304491Z"
    },
    "tags": []
   },
   "outputs": [
    {
     "name": "stdout",
     "output_type": "stream",
     "text": [
      "Index [1686] 번째 데이터가 수집되지 않았네요.\n",
      "Index [3950] 번째 데이터가 수집되지 않았네요.\n",
      "Index [3990] 번째 데이터가 수집되지 않았네요.\n"
     ]
    }
   ],
   "source": [
    "search_data = jload('./data/document.json')\n",
    "for idx in range(len(search_data)):\n",
    "    if len(search_data[idx]['document']) == 0:\n",
    "        print(f\"Index [{idx}] 번째 데이터가 수집되지 않았네요.\")"
   ]
  },
  {
   "cell_type": "markdown",
   "id": "930e1334-1b85-460f-9cd8-ead31b8ab56c",
   "metadata": {},
   "source": [
    "수집되지 않은 데이터를 한번더 크롤링하게 하고 `document.json`에 저장합니다."
   ]
  },
  {
   "cell_type": "code",
   "execution_count": 7,
   "id": "1cef1aaa-fb9e-42cb-a529-5a06097c75bc",
   "metadata": {
    "execution": {
     "iopub.execute_input": "2024-05-11T03:53:39.779368Z",
     "iopub.status.busy": "2024-05-11T03:53:39.778765Z",
     "iopub.status.idle": "2024-05-11T03:53:49.281332Z",
     "shell.execute_reply": "2024-05-11T03:53:49.280954Z",
     "shell.execute_reply.started": "2024-05-11T03:53:39.779332Z"
    },
    "tags": []
   },
   "outputs": [
    {
     "name": "stderr",
     "output_type": "stream",
     "text": [
      "1it [00:03,  3.71s/it]\n",
      "1it [00:02,  2.77s/it]\n",
      "1it [00:02,  2.78s/it]\n"
     ]
    }
   ],
   "source": [
    "for idx in range(len(search_data)):\n",
    "    if len(search_data[idx]['document']) == 0:\n",
    "        search_data[idx] = get_document_through_selenium(\n",
    "            inputs=search_data[idx]['question'],\n",
    "            n_documents=5,\n",
    "            indent=4\n",
    "        )[0]"
   ]
  },
  {
   "cell_type": "markdown",
   "id": "dcf676a8-e2ce-4c8e-840f-e31071d887ce",
   "metadata": {},
   "source": [
    "제대로 수집되었는지 또 검사해줍니다."
   ]
  },
  {
   "cell_type": "code",
   "execution_count": 8,
   "id": "a91b48d5-4582-4e81-a61a-911baf012f62",
   "metadata": {
    "execution": {
     "iopub.execute_input": "2024-05-11T03:53:50.897745Z",
     "iopub.status.busy": "2024-05-11T03:53:50.896990Z",
     "iopub.status.idle": "2024-05-11T03:53:50.905339Z",
     "shell.execute_reply": "2024-05-11T03:53:50.904519Z",
     "shell.execute_reply.started": "2024-05-11T03:53:50.897701Z"
    },
    "tags": []
   },
   "outputs": [
    {
     "name": "stdout",
     "output_type": "stream",
     "text": [
      "Index [3950] 번째 데이터가 수집되지 않았네요.\n",
      "Index [3990] 번째 데이터가 수집되지 않았네요.\n"
     ]
    }
   ],
   "source": [
    "for idx in range(len(search_data)):\n",
    "    if len(search_data[idx]['document']) == 0:\n",
    "        print(f\"Index [{idx}] 번째 데이터가 수집되지 않았네요.\")"
   ]
  },
  {
   "cell_type": "markdown",
   "id": "3dd03837-9be5-4800-bb6b-cac946527463",
   "metadata": {},
   "source": [
    "원인 파악을 위해 해당 질문으로 직접 검색을 해봅니다.  \n",
    "검색해보면 인기글이 검색되지 않습니다.  \n",
    "해당 데이터는 삭제하겠습니다.  "
   ]
  },
  {
   "cell_type": "code",
   "execution_count": 11,
   "id": "4e75185d-5b85-4c32-be6c-d000e1f09763",
   "metadata": {
    "execution": {
     "iopub.execute_input": "2024-05-11T03:56:29.081801Z",
     "iopub.status.busy": "2024-05-11T03:56:29.081171Z",
     "iopub.status.idle": "2024-05-11T03:56:29.087867Z",
     "shell.execute_reply": "2024-05-11T03:56:29.087126Z",
     "shell.execute_reply.started": "2024-05-11T03:56:29.081767Z"
    },
    "tags": []
   },
   "outputs": [
    {
     "data": {
      "text/plain": [
       "{'question': '도봉구 부동산 관련 법적 요건은 무엇인가요?', 'document': []}"
      ]
     },
     "execution_count": 11,
     "metadata": {},
     "output_type": "execute_result"
    }
   ],
   "source": [
    "search_data[3950]"
   ]
  },
  {
   "cell_type": "code",
   "execution_count": 17,
   "id": "2b177ce9-aad4-4f43-bd54-d503441c6d9d",
   "metadata": {
    "execution": {
     "iopub.execute_input": "2024-05-11T03:57:20.375118Z",
     "iopub.status.busy": "2024-05-11T03:57:20.373789Z",
     "iopub.status.idle": "2024-05-11T03:57:20.384276Z",
     "shell.execute_reply": "2024-05-11T03:57:20.383311Z",
     "shell.execute_reply.started": "2024-05-11T03:57:20.375049Z"
    },
    "tags": []
   },
   "outputs": [],
   "source": [
    "# 삭제할 인덱스 모으기\n",
    "remove_idx_list = []\n",
    "for idx in range(len(search_data)):\n",
    "    if len(search_data[idx]['document']) == 0:\n",
    "        remove_idx_list.append(idx)\n",
    "\n",
    "# 삭제할 인덱스를 pop \n",
    "for idx in remove_idx_list:\n",
    "    search_data.pop(idx)"
   ]
  },
  {
   "cell_type": "code",
   "execution_count": 18,
   "id": "f32ac551-7861-46cf-bed2-c9470d1455b2",
   "metadata": {
    "execution": {
     "iopub.execute_input": "2024-05-11T03:57:22.332750Z",
     "iopub.status.busy": "2024-05-11T03:57:22.332205Z",
     "iopub.status.idle": "2024-05-11T03:57:22.409405Z",
     "shell.execute_reply": "2024-05-11T03:57:22.409119Z",
     "shell.execute_reply.started": "2024-05-11T03:57:22.332713Z"
    },
    "tags": []
   },
   "outputs": [],
   "source": [
    "from utils import jsave\n",
    "\n",
    "jsave(data=search_data, save_path=\"./data/document.json\", mode=\"w\", indent=4)"
   ]
  },
  {
   "cell_type": "code",
   "execution_count": 19,
   "id": "c05304e7-eeec-4873-9c32-a7bf9aa102d8",
   "metadata": {
    "execution": {
     "iopub.execute_input": "2024-05-11T03:57:23.841944Z",
     "iopub.status.busy": "2024-05-11T03:57:23.841361Z",
     "iopub.status.idle": "2024-05-11T03:57:23.849788Z",
     "shell.execute_reply": "2024-05-11T03:57:23.848527Z",
     "shell.execute_reply.started": "2024-05-11T03:57:23.841903Z"
    },
    "tags": []
   },
   "outputs": [],
   "source": [
    "for idx in range(len(search_data)):\n",
    "    if len(search_data[idx]['document']) == 0:\n",
    "        print(f\"Index [{idx}] 번째 데이터가 수집되지 않았네요.\")"
   ]
  },
  {
   "cell_type": "markdown",
   "id": "2d6130e7-344c-4058-ace3-39eb80087cfb",
   "metadata": {
    "execution": {
     "iopub.execute_input": "2024-04-28T07:05:34.818904Z",
     "iopub.status.busy": "2024-04-28T07:05:34.818806Z",
     "iopub.status.idle": "2024-04-28T07:05:34.820806Z",
     "shell.execute_reply": "2024-04-28T07:05:34.820406Z",
     "shell.execute_reply.started": "2024-04-28T07:05:34.818896Z"
    },
    "tags": []
   },
   "source": [
    "## <span style=\"color: #F2D388;\"> 5. encoder 모델을 활용하여 데이터를 유사도 기준으로 정렬하기 </span>\n",
    "비교적 최근에 공개된 인코더 모델인 [intfloat/multilingual-e5-base](https://huggingface.co/intfloat/multilingual-e5-base) 모델([arxiv](https://arxiv.org/pdf/2402.05672))을 사용하여 유사도를 계산합니다.  \n",
    "질문을 했을 때, 검색되는 인기글 데이터들중 유사도가 높은 순서대로 문서를 다시 정렬합니다.  \n",
    "정렬된 순서대로 데이터를 좀더 많이 참조하도록 프롬프트를 통해 지시합니다."
   ]
  },
  {
   "cell_type": "code",
   "execution_count": 21,
   "id": "6716c4ee-7092-4b5b-9090-7e3c6c20e683",
   "metadata": {
    "execution": {
     "iopub.execute_input": "2024-05-11T03:57:41.748947Z",
     "iopub.status.busy": "2024-05-11T03:57:41.748161Z",
     "iopub.status.idle": "2024-05-11T03:57:41.831174Z",
     "shell.execute_reply": "2024-05-11T03:57:41.830849Z",
     "shell.execute_reply.started": "2024-05-11T03:57:41.748885Z"
    },
    "tags": []
   },
   "outputs": [],
   "source": [
    "search_data = jload(\"./data/document.json\")"
   ]
  },
  {
   "cell_type": "markdown",
   "id": "3f6c1f6f-cd6c-4b89-a0ee-ff728c8e9ca6",
   "metadata": {},
   "source": [
    "e5모델의 자세한 내용은 [hugginface](https://huggingface.co/intfloat/e5-base-v2)를 참조하세요  \n",
    "유사도 계산시 `multiprocessing` 모듈을 사용합니다.  \n",
    "데이터 전처리시에 `multiprocessing`, `threading`, `concurrent.futures` 등의 병렬처리 도구를 사용하는 것이 속도 개선에 많이 도움이 되었습니다.  "
   ]
  },
  {
   "cell_type": "code",
   "execution_count": 24,
   "id": "37a42296-087f-41be-b539-d2a5219a6ac0",
   "metadata": {
    "execution": {
     "iopub.execute_input": "2024-05-11T03:58:10.734064Z",
     "iopub.status.busy": "2024-05-11T03:58:10.733524Z",
     "iopub.status.idle": "2024-05-11T05:44:30.355467Z",
     "shell.execute_reply": "2024-05-11T05:44:30.355022Z",
     "shell.execute_reply.started": "2024-05-11T03:58:10.734028Z"
    },
    "tags": []
   },
   "outputs": [
    {
     "name": "stderr",
     "output_type": "stream",
     "text": [
      "100%|█████████████████████████████████████████████████████████████████████████████████████| 5417/5417 [1:46:19<00:00,  1.18s/it]\n"
     ]
    }
   ],
   "source": [
    "from similarity import sort_by_similarity\n",
    "from tqdm import tqdm\n",
    "\n",
    "for question in tqdm(search_data):\n",
    "    question['document'], question['scores'] = sort_by_similarity(question['question'], question['document'])"
   ]
  },
  {
   "cell_type": "code",
   "execution_count": 27,
   "id": "3eaf1c9d-4c3b-4efc-903c-fed86027077f",
   "metadata": {
    "execution": {
     "iopub.execute_input": "2024-05-11T06:54:26.256146Z",
     "iopub.status.busy": "2024-05-11T06:54:26.255401Z",
     "iopub.status.idle": "2024-05-11T06:54:26.361425Z",
     "shell.execute_reply": "2024-05-11T06:54:26.361095Z",
     "shell.execute_reply.started": "2024-05-11T06:54:26.256088Z"
    },
    "tags": []
   },
   "outputs": [],
   "source": [
    "jsave(search_data, \"./data/document.json\", \"w\", indent=4)"
   ]
  },
  {
   "cell_type": "markdown",
   "id": "c26fe065-19a8-4e0a-9288-d5bfcf4a198e",
   "metadata": {
    "tags": []
   },
   "source": [
    "## <span style=\"color: #F2D388;\"> 6. Instuction 데이터셋 만들기 </span>\n",
    "완성된 질문리스트와 인기글 데이터를 통해 ChatGPT에 정답을 출력하도록 요청합니다.  \n",
    "ChatGPT는 아래의 프롬프트처럼 question에 대한 answer 답변을 출력합니다.  \n",
    "완성된 question, answer 텍스트는 학습시킬 모델의 훈련용 데이터셋으로 전달됩니다.  \n",
    "본 문서의 프롬프트는 [Stanford Alpaca의 프롬프트](https://github.com/tatsu-lab/stanford_alpaca/blob/main/prompt.txthttps://github.com/tatsu-lab/stanford_alpaca/blob/main/prompt.txt)를 참조하였습니다.  "
   ]
  },
  {
   "cell_type": "code",
   "execution_count": 6,
   "id": "a71a94b5-435c-402f-906c-44b844c8989c",
   "metadata": {
    "execution": {
     "iopub.execute_input": "2024-05-02T16:38:54.170793Z",
     "iopub.status.busy": "2024-05-02T16:38:54.170006Z",
     "iopub.status.idle": "2024-05-02T16:38:54.177214Z",
     "shell.execute_reply": "2024-05-02T16:38:54.176143Z",
     "shell.execute_reply.started": "2024-05-02T16:38:54.170730Z"
    },
    "tags": []
   },
   "outputs": [
    {
     "name": "stdout",
     "output_type": "stream",
     "text": [
      "요청받은 question을 document를 참조하여 answer로 답변하세요.\n",
      "question 1개당 여러개의 document가 주어지며, question은 10개씩 전달됩니다.\n",
      "\n",
      "요구사항은 다음과 같습니다:\n",
      "1. 어휘의 다양성을 위해 같은 단어를 반복하지 않습니다.\n",
      "2. 문장의 형태가 다양해야합니다. 예를 들어 질문과 명령형이 결합되는 형태여야 합니다.\n",
      "3. 답변은 제공받는 document들을 기반으로 작성되어야 합니다.\n",
      "4. 제공되는 document의 순서가 먼저 제공될 수록 더 중요한 데이터이므로 답변에 더 많은 영향을 끼쳐야합니다.\n",
      "5. 답변은 자세한 내용이 포함되도록 제공되어야하지만 200단어를 넘지 않는 것이 좋습니다.\n",
      "\n",
      "출력 형식은 JSON형식을 따라야 합니다.\n",
      "Indentation은 없도록 출력하세요.\n",
      "각 question마다 출력 형식은 다음과 같아야합니다:\n",
      "{'question': '전달 받은 question의 내용', 'answer': '답변 내용'}\n",
      "\n",
      "###question:\n",
      "{question}\n",
      "###document:\n",
      "{document}\n"
     ]
    }
   ],
   "source": [
    "from prompts import INSTRUCTION_PROMPT_PREFIX, INSTRUCTION_PROMPT_CONTENT\n",
    "\n",
    "print(INSTRUCTION_PROMPT_PREFIX + INSTRUCTION_PROMPT_CONTENT)"
   ]
  },
  {
   "cell_type": "code",
   "execution_count": 7,
   "id": "63a00105-8d72-46d6-b762-afc2c90388d3",
   "metadata": {
    "execution": {
     "iopub.execute_input": "2024-05-02T16:38:56.219723Z",
     "iopub.status.busy": "2024-05-02T16:38:56.218190Z",
     "iopub.status.idle": "2024-05-02T16:38:56.247050Z",
     "shell.execute_reply": "2024-05-02T16:38:56.246426Z",
     "shell.execute_reply.started": "2024-05-02T16:38:56.219679Z"
    },
    "tags": []
   },
   "outputs": [],
   "source": [
    "search = jload(\"./data/document.json\")"
   ]
  },
  {
   "cell_type": "code",
   "execution_count": 8,
   "id": "2f88e377-cddf-4d41-beda-34d13b58f96c",
   "metadata": {
    "execution": {
     "iopub.execute_input": "2024-05-02T16:38:57.738753Z",
     "iopub.status.busy": "2024-05-02T16:38:57.738035Z",
     "iopub.status.idle": "2024-05-02T16:38:57.749179Z",
     "shell.execute_reply": "2024-05-02T16:38:57.748220Z",
     "shell.execute_reply.started": "2024-05-02T16:38:57.738711Z"
    },
    "tags": []
   },
   "outputs": [],
   "source": [
    "# 리스트 형태인 document 데이터를 하나로 합치기\n",
    "for data in search:\n",
    "    data['document'] = \"\\n\".join([f\"{idx+1}. {d}\" for idx, d in enumerate(data['document'])])"
   ]
  },
  {
   "cell_type": "code",
   "execution_count": 9,
   "id": "5e47d259-3bd7-4241-adfe-a37da70e23b8",
   "metadata": {
    "execution": {
     "iopub.execute_input": "2024-05-02T16:38:59.268400Z",
     "iopub.status.busy": "2024-05-02T16:38:59.267805Z",
     "iopub.status.idle": "2024-05-02T16:38:59.276535Z",
     "shell.execute_reply": "2024-05-02T16:38:59.275767Z",
     "shell.execute_reply.started": "2024-05-02T16:38:59.268361Z"
    },
    "tags": []
   },
   "outputs": [
    {
     "name": "stdout",
     "output_type": "stream",
     "text": [
      "1. 말해야 되나요? 주택임대차보호법 제 6조 제 1항 (계약의 갱신) 계약이 해지되기 6개월 전부터 2개월 전까지, 계약을 해지하겠다는 통보를 해야 한다. 즉, 법률상 늦어도 계약이 종료되기 2개월 전까지는 임대인에게 말해야 된다는 뜻인데요. 만약 해당 기간 안에 말하지 않았다면? 자동으로 연장되는 묵시적 갱신이 될 수 있습니다. 때문에, 종료 시점에 맞춰서 자금을...\n",
      "2. 기간을 보통 2달 정도 주게 되는데, 해당 기간 내 임대인은 건설사에 중도금 대출과 잔금을 모두 상환해야 하기 때문에 금액이 떨어지게 됩니다. 오늘은, 미등기 신축 아파트 전세 계약... 요즘은, 임차인이 전세를 구할 때 전세자금 대출을 받는 경우가 상당히 많습니다. 그런데 대출에 필요한 모든 서류를 은행에 제출했을 경우 은행에서 대출금이 나오는지?는...\n",
      "3. 전세보증금반환소송 유리한 결과를 위해 전세 보증금은 결국 임대인과 임차인이 계약을 하게 된 시점부터 법적 효력이 가능한 기간 동안 임차인이 임대인의 부동산을 사용하겠다는... 사례에는 얼마나 더 다양한 시점이 있는지를 사전에 꼭 파악한 뒤 철저히 준비를 해야 한다고 하였습니다. 인가결정이나도 안도할 수 없어 반환금 지급 명령은 인가 결정이 되었다고...\n",
      "4. 전세사기변호사 법무법인 이현 부동산 소송 전략센터입니다. 대여금반환청구소송에 급여채권가압류, 추심까지 책임져드렸어요 생각보다 많은 분들이 겪고 있는 문제입니다. 얼마나... 수원전세사기변호사 ‘내용증명’을 통해 보다 확실하게 계약만료를 알릴 수 있습니다. 내용증명에는 집주인에게 ‘부동산 목적물’ ‘임차’ ‘만료일’ ‘종료...\n",
      "5. 생각하면 전세사기 초기 때의 내 예전 모습이 떠올라서, 마음이 찡해진다... 얼마나 힘드실까... 그래서 결심했다. 그 사람들을 위해서, 정보의 사막 속에서 몸소 필요한 정보를 찾고... 어, 근데 계약기간이 남았다? 1. 이사 가고 싶다. 2. 전세금 반환 소송을 걸고 싶다. (승소 후 재산 압류, 경매 진행, 채권추심 하고 싶다.) 1, 2 중 하나에 해당된다면, 중도해지하는 걸...\n"
     ]
    }
   ],
   "source": [
    "print(search[0]['document'])"
   ]
  },
  {
   "cell_type": "code",
   "execution_count": 10,
   "id": "455bfdac-8ad1-41cf-85be-54fbbdf26e13",
   "metadata": {
    "execution": {
     "iopub.execute_input": "2024-05-02T16:39:01.023774Z",
     "iopub.status.busy": "2024-05-02T16:39:01.022748Z",
     "iopub.status.idle": "2024-05-02T16:39:01.030148Z",
     "shell.execute_reply": "2024-05-02T16:39:01.029435Z",
     "shell.execute_reply.started": "2024-05-02T16:39:01.023730Z"
    },
    "tags": []
   },
   "outputs": [
    {
     "name": "stdout",
     "output_type": "stream",
     "text": [
      "\n",
      "###question:\n",
      "{question}\n",
      "###document:\n",
      "{document}\n"
     ]
    }
   ],
   "source": [
    "print(INSTRUCTION_PROMPT_CONTENT)"
   ]
  },
  {
   "cell_type": "code",
   "execution_count": 11,
   "id": "826d6649-9f4a-454a-b9b5-78b4751f9dd8",
   "metadata": {
    "execution": {
     "iopub.execute_input": "2024-05-02T16:39:02.574588Z",
     "iopub.status.busy": "2024-05-02T16:39:02.573839Z",
     "iopub.status.idle": "2024-05-02T16:39:02.585206Z",
     "shell.execute_reply": "2024-05-02T16:39:02.584277Z",
     "shell.execute_reply.started": "2024-05-02T16:39:02.574546Z"
    },
    "tags": []
   },
   "outputs": [],
   "source": [
    "prefix = INSTRUCTION_PROMPT_PREFIX\n",
    "instructions = []\n",
    "total_instructions = len(search) // 10\n",
    "for index in range(1, total_instructions + 2):\n",
    "    start_index = (index - 1) * 10\n",
    "    end_index = index * 10\n",
    "    content = \"\\n\".join([\n",
    "        INSTRUCTION_PROMPT_CONTENT.format(question = data['question'], document = data['document'])\n",
    "        for data in search[start_index:end_index]\n",
    "    ])\n",
    "    instruction = prefix + content\n",
    "    instructions.append(instruction)"
   ]
  },
  {
   "cell_type": "code",
   "execution_count": 12,
   "id": "e0f8f046-7f46-407b-83a4-e1a6f837d372",
   "metadata": {
    "execution": {
     "iopub.execute_input": "2024-05-02T16:39:02.868718Z",
     "iopub.status.busy": "2024-05-02T16:39:02.868043Z",
     "iopub.status.idle": "2024-05-02T16:39:02.875318Z",
     "shell.execute_reply": "2024-05-02T16:39:02.874324Z",
     "shell.execute_reply.started": "2024-05-02T16:39:02.868668Z"
    },
    "tags": []
   },
   "outputs": [
    {
     "name": "stdout",
     "output_type": "stream",
     "text": [
      "요청받은 question을 document를 참조하여 answer로 답변하세요.\n",
      "question 1개당 여러개의 document가 주어지며, question은 10개씩 전달됩니다.\n",
      "\n",
      "요구사항은 다음과 같습니다:\n",
      "1. 어휘의 다양성을 위해 같은 단어를 반복하지 않습니다.\n",
      "2. 문장의 형태가 다양해야합니다. 예를 들어 질문과 명령형이 결합되는 형태여야 합니다.\n",
      "3. 답변은 제공받는 document들을 기반으로 작성되어야 합니다.\n",
      "4. 제공되는 document의 순서가 먼저 제공될 수록 더 중요한 데이터이므로 답변에 더 많은 영향을 끼쳐야합니다.\n",
      "5. 답변은 자세한 내용이 포함되도록 제공되어야하지만 200단어를 넘지 않는 것이 좋습니다.\n",
      "\n",
      "출력 형식은 JSON형식을 따라야 합니다.\n",
      "Indentation은 없도록 출력하세요.\n",
      "각 question마다 출력 형식은 다음과 같아야합니다:\n",
      "{'question': '전달 받은 question의 내용', 'answer': '답변 내용'}\n",
      "\n",
      "###question:\n",
      "전세 계약 기간은 보통 얼마나 되나요?\n",
      "###document:\n",
      "1. 말해야 되나요? 주택임대차보호법 제 6조 제 1항 (계약의 갱신) 계약이 해지되기 6개월 전부터 2개월 전까지, 계약을 해지하겠다는 통보를 해야 한다. 즉, 법률상 늦어도 계약이 종료되기 2개월 전까지는 임대인에게 말해야 된다는 뜻인데요. 만약 해당 기간 안에 말하지 않았다면? 자동으로 연장되는 묵시적 갱신이 될 수 있습니다. 때문에, 종료 시점에 맞춰서 자금을...\n",
      "2. 기간을 보통 2달 정도 주게 되는데, 해당 기간 내 임대인은 건설사에 중도금 대출과 잔금을 모두 상환해야 하기 때문에 금액이 떨어지게 됩니다. 오늘은, 미등기 신축 아파트 전세 계약... 요즘은, 임차인이 전세를 구할 때 전세자금 대출을 받는 경우가 상당히 많습니다. 그런데 대출에 필요한 모든 서류를 은행에 제출했을 경우 은행에서 대출금이 나오는지?는...\n",
      "3. 전세보증금반환소송 유리한 결과를 위해 전세 보증금은 결국 임대인과 임차인이 계약을 하게 된 시점부터 법적 효력이 가능한 기간 동안 임차인이 임대인의 부동산을 사용하겠다는... 사례에는 얼마나 더 다양한 시점이 있는지를 사전에 꼭 파악한 뒤 철저히 준비를 해야 한다고 하였습니다. 인가결정이나도 안도할 수 없어 반환금 지급 명령은 인가 결정이 되었다고...\n",
      "4. 전세사기변호사 법무법인 이현 부동산 소송 전략센터입니다. 대여금반환청구소송에 급여채권가압류, 추심까지 책임져드렸어요 생각보다 많은 분들이 겪고 있는 문제입니다. 얼마나... 수원전세사기변호사 ‘내용증명’을 통해 보다 확실하게 계약만료를 알릴 수 있습니다. 내용증명에는 집주인에게 ‘부동산 목적물’ ‘임차’ ‘만료일’ ‘종료...\n",
      "5. 생각하면 전세사기 초기 때의 내 예전 모습이 떠올라서, 마음이 찡해진다... 얼마나 힘드실까... 그래서 결심했다. 그 사람들을 위해서, 정보의 사막 속에서 몸소 필요한 정보를 찾고... 어, 근데 계약기간이 남았다? 1. 이사 가고 싶다. 2. 전세금 반환 소송을 걸고 싶다. (승소 후 재산 압류, 경매 진행, 채권추심 하고 싶다.) 1, 2 중 하나에 해당된다면, 중도해지하는 걸...\n",
      "\n",
      "\n",
      "###question:\n",
      "전세 계약서에는 어떤 내용이 포함되어야 하나요?\n",
      "###document:\n",
      "1. 전세사기 근저당과 같은 문제는 으로 인해 발생합니다. 는 있지만 실제로 많은 사람들이 돈을 빌려준다면 원금이나 이자를 갚지 못하는 경우가 많기 때문에 꼭 알아두시는 것이 좋습니다. 주의를 하셔야 할 내용들을 하나하나 정리해보았으니 자세하게 살펴보겠습니다만 이 글을 마무리하고자 합니다. 조언드렸지만 현재 진행 중인 을 정리해 보자면 다음과...\n",
      "2. 부동산 계약서 양식 어떻게 구성되어 있고 어떤 내용들을 포함하고 있을까요? 부동산 계약서 양식은 어떠한 방식으로 되어있고 어떠한 내용들을 포함하고 있는지 말씀드리겠습니다. 이... 매매 계약서의 양식은 서울중앙지방법원-양식-생활 속의 계약서 경로로 가시면 확인이 가능하십니다. 부동산 양식 하고 있는 더 상세 간단하게 씩 차근차근 말씀을...\n",
      "3. 안녕하세요 여러분 :) 전세 계약을 준비중이라면 전세계약서 양식이 어떻게 되어 있는지 어떤 내용이 들어가는지 꼼꼼히 준비하는 것이 좋습니다. 워낙 전세사기 피해자분들이 많이... 전세계약서 양식은 네이버에 검색하면 유료, 무료 많이 올라와 있습니다. 필요한 만 들어가면 되기 때문에 아무거나 다운받으셔도 되는데요. 저도 오늘 링크 가지고 왔습니다. 이...\n",
      "4. 등기부등본과 계약서의 주소명이 다를 경우 법적 문제가 발생할 수 있는데요. 특히 임대차 소송에서 많이 제기되는 문제 중 하나가 소재지의 명확하지 않는 주소 때문이라고 합니다.... 오늘은 월세와 전세의 부동산 임대차 계약서 작성방법 및 직거래 시 주의사항에 대하여 알아보았는데요. 작성이 비교적 간단하게 보이더라도 주의하실 들이 많기 때문에...\n",
      "5. 조건 등 상세 내용 포함 이번에는 중소기업 청년 전세자금대출의 조건과 더불어서 여러 가지 상세 내용에 대해서 알아보도록 하겠습니다. 중소기업취업청년 전월세보증금대출이라는... 이 외에도 소득확인 시 서류와, 주택관련 확정일자부 임대차계약서 사본, 임차주택 건물 등기사항전부증명서 등이 필요합니다. 중소기업 재직 확인을 위한 서류도 미리 구비하시길...\n",
      "\n",
      "\n",
      "###question:\n",
      "전세 계약 시 부동산 중개수수료는 어떻게 책정되나요?\n",
      "###document:\n",
      "1. 부동산 중개 수수료는 전세 계약 시 필수적으로 고려해야 할 비용입니다. 이러한 정보를 미리 알고 계시면, 부동산 계약을 보다 투명하고 안정적으로 진행할 수 있습니다. 부동산 중개수수료는 할인이 가능할까요? 부동산 중개수수료에 대한 할인은 가능한 경우도 있지만, 이는 여러 요인에 따라 다릅니다. 여기 몇 가지 중요한 사항들을 고려해야 합니다 법적 상한선...\n",
      "2. 전세(월세)계약 중도해지 시, 부동산 중개수수료 누가 부담? 안녕하세요. 명지국제KB부동산 명지김선생입니다. 특별한 경우가 아닌 이상 보통 전세계약 또는 월세계약시 임대차기간(주택)은 2년으로 계약합니다. 하지만, 피치 못할 사정으로 인해 계약기간을 채우지 못하고 여러 가지 사정으로 중도해지를 해야 되는 경우가 발생할 수 있습니다. 임차인은 어쩔 수 없이...\n",
      "3. 이제 본론으로 넘어와서 매매와 전세, 월세 계약 시 부동산 중개 수수료에 대해 알아보겠습니다. 매매 시 부동산 중개 수수료 주택 매매시 5천만원 까지는 최대 25만원을... 5억짜리 전세를 들어갈 때는 0.3%로 150만원이 복비입니다.(VAT 별도) 월세의 경우에는? 월세는 계산할까요? 매달 내는 월세에 100을 곱한 금액을 보증금에 더한 값을 기준으로...\n",
      "4. 일단 시세에 맞춰 계약을 하게 되었고 계속 거래 중인 부동산 사장님 이번에도 거래를 하게 되어 일단 계약 전 부동산 사장님과 전세중개수수료에 대해 조율하게 되었어요. 전세금이 6억이 넘어가니 부동산중개보수 요율이 0.4%더라고요. T.T 임대차 중개보수 요율이 서울시 기준 1억~ 6억 미만 구간은 0.3% 6억부터 12억 미만 구간은 0.4% 계산을 해보면 가가 6억이라면...\n",
      "5. 임대차 계약 시 임대차 계약 시에는 조금 다르게 적용됩니다. 먼저 3억원 미만 주택 임대차 시에는 부동산 중개수수료가 0.3%로 통합되고, 이후 3억원부터 6억원 미만 주택은 0.4%의 중개수수료와 30만원 공제가 적용됩니다. 6억원에서 9억원까지는 0.5%의 와 90만원 공제가 적용되며, 9억원에서 12억원까지는 0.4% 가 적용되고요. 이후 이후 6억원마다...\n",
      "\n",
      "\n",
      "###question:\n",
      "전세 계약 갱신 시 주의해야 할 점은 무엇인가요?\n",
      "###document:\n",
      "1. 만약 전세 계휙중이라면 여기 공도사 카페에 올라와 있는 전세 관련 글을 많이 참고해보시길 바랍니다. 전세 묵시적 갱신 외에도 꼭 알아야 할 것, 계약 시 주의사항 등 유용한 정보들이 올라와 있습니다. 여기까지 읽어주셔서 감사드리며 오늘 하루도 수고 많으셨습니다. ▼ 무상임대차서 작성 사항 한 눈에 확인\n",
      "2. 증액되었을 경우에는 이 부분에대한 계약서를 작성하여 추가적으로 증액된 금액에 대해서도 확정일자로 보호를 받으셔야 하겠습니다. 여기까지 전세계약연장 갱신시 주의할 점을 정리해봤는데요. 사실 공인중개사무실을 통 할 경우 대부분은 중개사가 미리 확인을 해주는 경우가 많지만 혹시라도 발생할 수 있는 상황에 대비하여 꼼곰히 직접 챙겨주셔야 하겠습니다.\n",
      "3. 전세 계약 갱신 주의할 점 주거를 마련한는 방법은 자가,전세,월세 등으로 사는 경우들이 있습니다.특히나 전월세 계약이 만료되면 집주인은 세입자에게 보증금을 돌려줘야하는데요.... 방법이라고 할 수 있겠습니다. 하지만 요즘 같이 역전세 현상에서 전세 계약 갱신 시 다시 한번 해당 주택 관련 서류 체크해보는것이 필요하며 동일한 상태에서 서로 진행하는 경우도...\n",
      "4. 여기서 주의해야 되는 부분은 임차인은 연장 후 언제든 해지 통보를 할 수 있으며 3개월 이후 계약 해지 효력이 발생됩니다. 반대로 임대인은 중간에 해지 통보를 할 수 없으며 연장된 계약기간을 모두 충족해야 됩니다. 전세 계약 장점 전세 계약에 보증금은 일반적으로 임차료에 20~30배로 측정됩니다. 국내에서는 임차인 보호 규정으로 최저 임대 기간을 2년으로 정하고...\n",
      "5. 요즘처럼 이렇게 정보를 쉽게 얻을 수 있고, 많은 것이 발전했음에도 불구하고 아직까지도 계약을 할 때 선량한 사람들에게 사기를 치는 경우가 많습니다. 특히 이제 막 사회에 나온 청년들이 주택을 계약할 때 이런 상황이 발생되는 경우가 많은데요. 그래서 오늘은 월세 사항 정리, 청구권 등에 대해서 알아보도록 하겠습니다. 바로 시작할게요!...\n",
      "\n",
      "\n",
      "###question:\n",
      "전세 계약 종료 시 보증금 반환은 어떻게 이루어지나요?\n",
      "###document:\n",
      "1. 전세계약 종료 또는 중도해지 시 전세보증금 반환절차 및 방법 전세자금대출 질권 근질권 설정통지서 전세계약 종료 시 전세보증금 반환 절차 및 방법 전세보증금을 마련하기 위해서... 그렇다면 임대인은 전세계약이 종료되어 보증금을 반환해야 할 때 누구에게 해야 할까요? 일반적으로 임대인이 생각할 수 있는 절차 및 방법은 임차인에게...\n",
      "2. 전세보증금반환소송 사전 파악은 전세계약이 종료됨에도 반환이 이뤄지지 않으면서 거의 전 재산이나 다름없는 돈을 날릴 처지에 놓이게 된 분들이 많다고 했는데요. 더욱이 은행에서 빌린 대출금 대부분을 반환하지 않은 상황에서 약정기간이 만료돼 이사를 해야 하는 상황인데 집주인에게 을 돌려받지 못하면서 막대한 재산적 피해가 초래되기도 했습니다....\n",
      "3. 계약 종료 의사를 반드시 표현하고 전화 녹음과 문자 메시지처럼 증거를 남길 수 있는 자료를 만들어야 한다고 하였습니다. 보통 부동산 계약 경험이 많지 않은 사람들의 경우 이런 문제들을 겪게 되었을 때 크게 당황할 수 있다고 하였습니다. 이에 따라 제때 제대로 된 대처를 하지 못하고 피해를 고스란히 받게 되는 경우도 많다고 하였습니다. 물론 청구소...\n",
      "4. 圖 씨는 이 사태를 어떻게 해결해 나가야 할지 고민하게 되었습니다. 여러 차례 變 씨에게 연락을 시도했음에도 불구하고, 變 씨의 응답이 없자 圖 씨는 문제를 혼자 해결할 수 없다고... 또한, 이러한 문제를 예방하기 위해서는 임대차 계약 시 보증금 반환 조건을 명확히 하는 것이 중요합니다. 또다른 소송 사건의 주인공 學 씨는 직장생활로 인해 분주한...\n",
      "5. 먼저 송달함에 있어 세입자 측이 전세보증금반환소송장을 재판소에 제출하면 즉시 소장 부본을 임차인에게 전달하여 다음 기일 지정에서 판사는 변론기일을 정하여 법률관계에 따라 심사를 한다고 했는데요. 계약의 종료에 따른 보증금 미발 후와 혜택이 명백한 경위 판사는 통상 1회의 변론기일에 심리를 종결한다고 했습니다. 최후의 판결에 관한 것은 변론 종결 후 바로...\n",
      "\n",
      "\n",
      "###question:\n",
      "전세 계약 중 집주인이 바뀌면 어떻게 해야 하나요?\n",
      "###document:\n",
      "1. 전세 계약기간중 집주인이 바뀌면 어떻게 해야하나요? 화창한 불금입니다. 이번한주도 화이팅 하셨나요. 최근 뉴스에서 들려오는 전세사기 깡통전세에 대한 피해소식이 야속하기만... 전세 계약시 특약사항을 꼼꼼하게 체크해야 합니다. 전세계약 기간 중 매매로 소유권이 변경될 경우 이 사실을 임차인에게 알려야 한다는 고시를 해야합니다. 또 채무관계가 변경되는 일은...\n",
      "2. 되었는데 집주인이 바뀌었다고 연락이 왔어요. 매매했다고요. 전 주인분 말로는 계약서가 그대로 효력이 있으니 안바꿔도 된다고 하시네요. 저는 전세로 있고, 전세, 월세 섞여있는... 받아두었어요 저는 어떻해 해야 안전할까요? 1. 전세 계약서를 새주인과 다시 쓴다. 2. 전주인과 쓴 전세계약서(4년전 쓴)가 효력이 있으므로 다시 쓸필요 없다. 1,2번중 할까요?\n",
      "3. 전세 임대계약 중 집주인 바뀌면 어떻게 해야할까 간혹 전세 계약기간 중 집주인이 바뀌는 경우가 있습니다. 기존의 집주인이 집을 매매한 경우입니다. 전세 임대계약에서 집주인이 변경되면 몇 가지 중요한 절차를 따라야 합니다. 이번 포스팅에서는 전세 계약 기간 바뀌었을 때 반드시 확인해야 할 사항들을 알려 드리겠습니다. 먼저 새 과의 임대...\n",
      "4. 바뀌면 주의 및 확인할 점 집주인이 전세계약기간 중에 바뀌었다. 세입자 입장에서 무슨 일을 주의해야하며 확인해야 안전하게 전세 보증금을 지킬 수 있을가? 계약서 다시 써야하나?... 그렇게 하지 않으면 살던 집을 그냥 뺀 것과 같아 집주인에게 보증금을 반환 받지 못할 수도 있다. 특약사항 기간 매매로 소유권이 변경되면 이 사실을 임차인에게 알려야...\n",
      "5. 현재 LH전세임대로 살고 있는데 집주인이 집을 내놓으셨다고 해요 집이 팔려도 저는 계약기간까지 살수 있나요? 혹여 집이 팔려 나가라고 하면 나가야 될까요? 중간에 나가게 되면 LH쪽에서 다시 전세임대를 알아봐주시나요? - 가구원수 = 명 - 부양의무자 = - 재산(금융&일반,부동산) = 만원 - 소득(양육비포함) = 만원/월 - 소득발생자 나이 = - 부채 = 만원 - 자동차(배기량...\n",
      "\n",
      "\n",
      "###question:\n",
      "전세 계약 시 등기부등본은 왜 확인해야 하나요?\n",
      "###document:\n",
      "1. 오늘은 전월세 계약 시 필히 확인해야 할 등기부등본(등기사항전부증명서)을 확인하는 방법에 대해 말씀드리고자 합니다. 부동산을 통해 계약을 진행하니, 등기부등본을 발급해 주고... 것은 등기부등본 첫 장의 맨 위의 주소란 입니다. 내가 본 곳의 주소와 동/호수가 맞는지 합니다. 또한 에 에 전힌 주소와 서상의 주소가 일치해야...\n",
      "2. 지금까지 등기부등본을 꼼꼼하게 확인했어도 전세 사기를 당할 수 있는 사례들을 살펴봤습니다. 최근 전세 사기가 점점 고도화∙지능화되면서 피해 역시 커지고 있는 상황인데요. 등기부등본을 통해 미쳐 파악하지 못한 부분이 있을 수 있기 때문에 전세 사기 유형 및 대처 방안을 잘 숙지하고,  반드시 주의하시길 바랍니다....\n",
      "3. 전세,월세 계약시 등기부등본 확인방법 안녕하세요~ 공인중개사 신화영입니다. 오늘 포스팅할 내용은 아파트 전,월세 계약시 등기부등본 확인하는 방법에 대해 글을 써보려고 합니다. 요즘같이 이사철에 전,월세 아파트를 알아보실텐데요~ 여러군데 집을 많이 보다가 이집이다! 싶으면 바로 을 하게되죠. 이때 아무리 마음에 꼭 드는 집을 발견하셨더라도 금 일부...\n",
      "4. 필수 등기부등본 확인 사항들 전세 계약 시 등기부등본이란, 해당 부동산의 소유자, 부동산의 권리 상태, 부동산에 대한 채무 관계 등을 확인할 수 있는 식적인 문서를 말합니다. 1.... 전에는 등기부등본을 통해 부동산의 상태를 확인하고, 필요하다면 전문가의 도움을 받는 것이 좋습니다. 보는 필수 항목들 사기 피해를 방지 하기 위해 중요한 방법중 ...\n",
      "5. 등기부 등본을 잘 확인하지 않고 계약을 했다가 낭패를 보거나 크게 손해를 보는 경우가 종종 발생하곤 하는데요 특히 전세같은 나의 거의 전재산이 등기부 등본을 잘못 봐서 위험한 경우가 간혹 생기곤 할때는 정말 괴로운일이 아닐수 없습니다. 특히 근저당권에서 가장 문제가 되는 부분은 액수인데 예를 들면 3억짜리 아파트에 근저당권이 2억5000정도 걸려있는...\n",
      "\n",
      "\n",
      "###question:\n",
      "전세 계약 기간 중 월세로 전환하는 것이 가능한가요?\n",
      "###document:\n",
      "1. 요즈음은 전세 계약을 월세로 전환하기를 희망하는 사람들이 많아지고 있어요. 왜 그럴까요? 그 이유는 부동산 가격 하락으로 인하여 전세 세입자가 전세 기간이 만료가 되었음에도... 그래서 오늘은 전세 계약을 월세로 전환할 때 적용되는 전월세 전환율에 대하여 알아볼게요. 전월세 율이란 를 바꿀 때나 월세를 로 바꿀 때 보증금과 월세의...\n",
      "2. 임대차 기간 중, 새로운 임대인으로 바뀌면서 생기는 여러 가지 경우들이 있는데요. 오늘은 새로운 임대인이 기존 전세 계약을 월세 계약으로 전환한다고 일방적 통보를 받게 된... 2년 전세로 계약을 했습니다. 그러던 중에, 임대차 기간이 1년 지난 시점에서 건물주가 바뀌었습니다. 새로운 건물주는 보증금 5천만 원만 남기고 나머지는 돌리겠다고 합니다....\n",
      "3. 아파텔 구조로 19평, 방3화2 살고 있어요~ 전세로 3억 3천 , 2년+2년 살았고(7월 만기), 월세로 돌리고자 해요. <전월세전환율>이라고 네이버에 계산기도 있고, 월세로 전환시 참고하는것 같던데요. 이게 좀 저렴하게 책정되는것 같더라구요... 이걸로 계산하는거 집주인이 싫어하나요? 이 근처에 월세가 많지 않아 참고할게 없기도 하고, 아파트가 아니다보니 이렇다 할...\n",
      "4. 2023년 6월말 제가 소유하고 있는 부동산 중 하나의 전세계약 만기가 도래합니다. 1월부터 부동산을 통해 매물을 내놓았고, 매매 또는 월세 둘다 내놓았습니다. 원래는 매도를 하고 싶었지만 3월경엔 워낙 경기가 안좋고 살려는 사람이 없어서, 마음을 접고 있긴 했습니다. 다행히 라도 들어오겠다는 사람이 있어서 월세을 했습니다. 이걸로 월세를 받는 부동산이...\n",
      "5. 연장 계약을 요청드렸다. 집주인(임대인)분께서는 2년 연장은 가능하지만 최근 집값이 많이 올라서 5% 인상을 말씀하셨고, 5% 인상분에 대한 이자를 월세 개념으로 받고 싶어 하셨다. 쉽게 말하면 기존 전세계약에서 → 월세계약으로 전환되는 것을 의미 기존 금을 보증금으로 하고 5% 인상분을 내는 개념이다. 를 계산하는 방법은 네이버...\n",
      "\n",
      "\n",
      "###question:\n",
      "전세 계약 시 확인해야 할 집의 하자 사항은 무엇인가요?\n",
      "###document:\n",
      "1. 한마디로, 계약기간이나 해지 조건 등에 대한 사항들을 자유롭게 계약할 수 있다는 것이죠. 무엇보다 어느 한 쪽에 불리한 조건으로 전세 월세 계약이 진행되지 않기 위해서 넣는 것이... 세번째는 계약을 다 한 후에 받아야 할 서류입니다. 이는 공인중개사법에 의거한 것이며, 서 작성을 완료한 후에도 중개대상물의 과 설명서 그리고 공제증서를 받아야 합니다....\n",
      "2. 지급 계약서는 서브, 메인은 예쁜 혜리님 계약서 작성시 반드시 체크! 계약서 작성한지 한달 좀 된 거 같은데 벌써 가물가물하네요ㅎㅎ ✅ 계약서상 임대인이 실제 임대인인지 확인해야... 임대 계약서 특약에 ' 입주당일의 다음날까지 임차주택에 전세권, 저당권 등 담보권 설정을 수 없다' 는 문구를 넣어달라고 하세요 ✅ 저는 월세였고, 보증금이 최우선변제금 내여서...\n",
      "3. 최근 전세 사기가 사회적 문제로 대두되면서 전세 계약 전, 계약 시 확인해야 할 사항은 많은 분들이 알고 계실 것이라고 생각합니다. 하지만 전세 계약 후 확인해야 할 사항은 잘... 전세 계약 종료 후 확인사항(3) : 임차권등기명령 부동산 계약 관련하여 '임차권등기명령'이라는 용어가 참 많이 등장하는데요. 그렇다면 '임차권등기명령'이란 무엇일까요? 출처: 네이버...\n",
      "4. 그런데 이때 본인은 전세계약 연장을 원하지만 집주인이 일방적으로 퇴거 요청을 할 수도 있습니다. 그럴 경우 계약 갱신 청구권을 요구하면 되는데 이는 임차인의 권익이 보호될 수 있도록 만들어진 제도로 만기 6개월 전에서 한 달 이내에 임대인에게 요청할 1회에 한 해 거주 기간을 2년 더 늘릴 수 있습니다. 정당 사유가 없다면 주인은 이 제안을 거절하는 게...\n",
      "5. 전세사기 예방위한 전세계약시 주의사항 체크리스트 1. 임차주택 확인 전세가격 확인 중요하게 생각되는 부분이 반환보증가입이 되는지 체크해야 합니다. ✔ 보증금 확인 ① kb부동산... 전세보증금 대출 및 반환보증 특약 임대인은 전세자금대출에 협조한다. (우편물 수령, 은행원 방문 서명 등) 물건의 로 대출승이 안될 경우 금 포함 보증금 반환해준다....\n",
      "\n",
      "\n",
      "###question:\n",
      "전세 계약 분쟁 발생 시 어떤 법적 대응을 할 수 있나요?\n",
      "###document:\n",
      "1. 상관되는 법적 대비까지 가해질 수 있으므로 적절한 대비를 마련하여 혐의에 대처하는 것이 타당하다고 재차 지적했는데요. 그동안 동료 간의 대립과 분쟁을 파악해 적개심이 있는 이해사이는 존재하나 폭력이 발생한 상황은 없다고 충언했습니다. 이에 더해 피고인 H씨와 J씨의 악감정을 계기로 고발이 했다고 주장하면서 실질적으로 무혐의 결론이 가능했다...\n",
      "2. 안정 거리가 확보 되는 활동을 위배하면 상당히 무서운 법적 분쟁을 야기하며, 어떤 사유가 있다고 존재 해도 가정폭력은 행사하면 안된다고 간언드렸습니다. 자기의 목적 달성을 위해 배우자에게 상해를 입힌다고 한다면 냉혹한 현실을 바라볼 수 있다고 주장했는데요. 수사 진행이 가중되는 것은 당연한 이치이며 피의자 입장에서는 옳은 판단으로 소명할 기회가...\n",
      "3. 사실 이러한 통보는 연락수단의 일종에 불과하기 때문에 어떤 내용을 담아서 보낸다고 해도 법적 효력이 발생하지는 않는다고 안내했습니다. 하지만 내용증명의 경우 우체국을 통해 전달하는 것이기 때문에 객관적인 증거가 남는다고 언급했는데요. 이에 소송을 진행할 경우 임대인과 이 있었는지 간편하게 소명할 수 있다고 언급했습니다. 다시 말해, 내용증명을...\n",
      "4. 천 리 길도 한 걸음부터 전세계약중도해지 분쟁이 발생한다면 임대인도 임차인도 각자의 사정이 있어 힘든 시간을 보낼 수밖에 없는데요. 아무래도 당사자 간의 합의를 이끌어낼 수... 저희는 수없이 많은 임대인을 상대해 봐서 그 수도 어느 정도 예측이 되니까, 그에 맞춰서 할 수 있게 도와드릴 수 있죠. ▼금 돌려받는 방법 더 자세히 알아보고 싶다면▼\n",
      "5. 분양권 계약을 진행하기로 마음먹었다고 했는데요. 하지만 오씨가 계약하고 난 이후 경제적인 어려움이 전 세계적으로 불어닥치면서 금리가 계속해서 인상되고 환율까지 오르는 등... 변호인은 분양권 계약은 매우 신중하게 이루어져야 하며 계약 내용을 세밀하게 검토하지 않을 경우 추후 분양해지를 원한다 하더라도 이 할 수 있다는 점을 유념해야...\n"
     ]
    }
   ],
   "source": [
    "print(instructions[0])"
   ]
  },
  {
   "cell_type": "markdown",
   "id": "6f9db1a4-759b-462a-83b4-0645ad4ceaf4",
   "metadata": {},
   "source": [
    "포맷팅하여 완성한 프롬프트는 아래와 같습니다.  \n",
    "아래 데이터를 ChatGPT API로 넘겨줍니다."
   ]
  },
  {
   "cell_type": "code",
   "execution_count": 13,
   "id": "9d4d6657-68fe-408a-8951-656ec3288cce",
   "metadata": {
    "execution": {
     "iopub.execute_input": "2024-05-02T16:39:06.535190Z",
     "iopub.status.busy": "2024-05-02T16:39:06.534578Z",
     "iopub.status.idle": "2024-05-02T16:39:06.542357Z",
     "shell.execute_reply": "2024-05-02T16:39:06.541171Z",
     "shell.execute_reply.started": "2024-05-02T16:39:06.535146Z"
    },
    "tags": []
   },
   "outputs": [
    {
     "name": "stdout",
     "output_type": "stream",
     "text": [
      "요청받은 question을 document를 참조하여 answer로 답변하세요.\n",
      "question 1개당 여러개의 document가 주어지며, question은 10개씩 전달됩니다.\n",
      "\n",
      "요구사항은 다음과 같습니다:\n",
      "1. 어휘의 다양성을 위해 같은 단어를 반복하지 않습니다.\n",
      "2. 문장의 형태가 다양해야합니다. 예를 들어 질문과 명령형이 결합되는 형태여야 합니다.\n",
      "3. 답변은 제공받는 document들을 기반으로 작성되어야 합니다.\n",
      "4. 제공되는 document의 순서가 먼저 제공될 수록 더 중요한 데이터이므로 답변에 더 많은 영향을 끼쳐야합니다.\n",
      "5. 답변은 자세한 내용이 포함되도록 제공되어야하지만 200단어를 넘지 않는 것이 좋습니다.\n",
      "\n",
      "출력 형식은 JSON형식을 따라야 합니다.\n",
      "Indentation은 없도록 출력하세요.\n",
      "각 question마다 출력 형식은 다음과 같아야합니다:\n",
      "{'question': '전달 받은 question의 내용', 'answer': '답변 내용'}\n",
      "\n",
      "###question:\n",
      "전세 계약 기간은 보통 얼마나 되나요?\n",
      "###document:\n",
      "1. 말해야 되나요? 주택임대차보호법 제 6조 제 1항 (계약의 갱신) 계약이 해지되기 6개월 전부터 2개월 전까지, 계약을 해지하겠다는 통보를 해야 한다. 즉, 법률상 늦어도 계약이 종료되기 2개월 전까지는 임대인에게 말해야 된다는 뜻인데요. 만약 해당 기간 안에 말하지 않았다면? 자동으로 연장되는 묵시적 갱신이 될 수 있습니다. 때문에, 종료 시점에 맞춰서 자금을...\n",
      "2. 기간을 보통 2달 정도 주게 되는데, 해당 기간 내 임대인은 건설사에 중도금 대출과 잔금을 모두 상환해야 하기 때문에 금액이 떨어지게 됩니다. 오늘은, 미등기 신축 아파트 전세 계약... 요즘은, 임차인이 전세를 구할 때 전세자금 대출을 받는 경우가 상당히 많습니다. 그런데 대출에 필요한 모든 서류를 은행에 제출했을 경우 은행에서 대출금이 나오는지?는...\n",
      "3. 전세보증금반환소송 유리한 결과를 위해 전세 보증금은 결국 임대인과 임차인이 계약을 하게 된 시점부터 법적 효력이 가능한 기간 동안 임차인이 임대인의 부동산을 사용하겠다는... 사례에는 얼마나 더 다양한 시점이 있는지를 사전에 꼭 파악한 뒤 철저히 준비를 해야 한다고 하였습니다. 인가결정이나도 안도할 수 없어 반환금 지급 명령은 인가 결정이 되었다고...\n",
      "4. 전세사기변호사 법무법인 이현 부동산 소송 전략센터입니다. 대여금반환청구소송에 급여채권가압류, 추심까지 책임져드렸어요 생각보다 많은 분들이 겪고 있는 문제입니다. 얼마나... 수원전세사기변호사 ‘내용증명’을 통해 보다 확실하게 계약만료를 알릴 수 있습니다. 내용증명에는 집주인에게 ‘부동산 목적물’ ‘임차’ ‘만료일’ ‘종료...\n",
      "5. 생각하면 전세사기 초기 때의 내 예전 모습이 떠올라서, 마음이 찡해진다... 얼마나 힘드실까... 그래서 결심했다. 그 사람들을 위해서, 정보의 사막 속에서 몸소 필요한 정보를 찾고... 어, 근데 계약기간이 남았다? 1. 이사 가고 싶다. 2. 전세금 반환 소송을 걸고 싶다. (승소 후 재산 압류, 경매 진행, 채권추심 하고 싶다.) 1, 2 중 하나에 해당된다면, 중도해지하는 걸...\n",
      "\n",
      "\n",
      "###question:\n",
      "전세 계약서에는 어떤 내용이 포함되어야 하나요?\n",
      "###document:\n",
      "1. 전세사기 근저당과 같은 문제는 으로 인해 발생합니다. 는 있지만 실제로 많은 사람들이 돈을 빌려준다면 원금이나 이자를 갚지 못하는 경우가 많기 때문에 꼭 알아두시는 것이 좋습니다. 주의를 하셔야 할 내용들을 하나하나 정리해보았으니 자세하게 살펴보겠습니다만 이 글을 마무리하고자 합니다. 조언드렸지만 현재 진행 중인 을 정리해 보자면 다음과...\n",
      "2. 부동산 계약서 양식 어떻게 구성되어 있고 어떤 내용들을 포함하고 있을까요? 부동산 계약서 양식은 어떠한 방식으로 되어있고 어떠한 내용들을 포함하고 있는지 말씀드리겠습니다. 이... 매매 계약서의 양식은 서울중앙지방법원-양식-생활 속의 계약서 경로로 가시면 확인이 가능하십니다. 부동산 양식 하고 있는 더 상세 간단하게 씩\n"
     ]
    }
   ],
   "source": [
    "print(instructions[0][:2000])"
   ]
  },
  {
   "cell_type": "code",
   "execution_count": 14,
   "id": "6838a02f-2375-4fef-9817-b856e3f1658b",
   "metadata": {
    "execution": {
     "iopub.execute_input": "2024-04-29T02:00:45.568410Z",
     "iopub.status.busy": "2024-04-29T02:00:45.567626Z",
     "iopub.status.idle": "2024-04-29T02:00:45.577575Z",
     "shell.execute_reply": "2024-04-29T02:00:45.576075Z",
     "shell.execute_reply.started": "2024-04-29T02:00:45.568355Z"
    },
    "tags": []
   },
   "outputs": [],
   "source": [
    "from concurrent.futures import ThreadPoolExecutor\n",
    "from functools import partial\n",
    "import os\n",
    "\n",
    "with ThreadPoolExecutor(os.cpu_count()) as pool:\n",
    "    result = list(tqdm(pool.map(partial(utils.get_completion, model=\"gpt-4-turbo\"), instructions[10:])))\n",
    "    with open(\"instruction.jsonl\", \"a\", encoding=\"utf-8\") as f:\n",
    "        for r in result:\n",
    "            for line in r.split(\"\\n\"):\n",
    "                f.write(line)\n",
    "                f.write(\"\\n\")"
   ]
  }
 ],
 "metadata": {
  "kernelspec": {
   "display_name": "Python 3 (ipykernel)",
   "language": "python",
   "name": "python3"
  },
  "language_info": {
   "codemirror_mode": {
    "name": "ipython",
    "version": 3
   },
   "file_extension": ".py",
   "mimetype": "text/x-python",
   "name": "python",
   "nbconvert_exporter": "python",
   "pygments_lexer": "ipython3",
   "version": "3.10.14"
  }
 },
 "nbformat": 4,
 "nbformat_minor": 5
}
