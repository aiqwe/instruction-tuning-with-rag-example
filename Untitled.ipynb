{
 "cells": [
  {
   "cell_type": "code",
   "execution_count": 1,
   "id": "0ba7f6e9-f525-476d-9239-7dea7fb66fd6",
   "metadata": {
    "execution": {
     "iopub.execute_input": "2024-05-10T17:00:38.134066Z",
     "iopub.status.busy": "2024-05-10T17:00:38.133898Z",
     "iopub.status.idle": "2024-05-10T17:00:38.188082Z",
     "shell.execute_reply": "2024-05-10T17:00:38.187789Z",
     "shell.execute_reply.started": "2024-05-10T17:00:38.134053Z"
    },
    "tags": []
   },
   "outputs": [],
   "source": [
    "import requests"
   ]
  },
  {
   "cell_type": "code",
   "execution_count": 2,
   "id": "6b90d01d-278d-4019-9867-851faf2d5006",
   "metadata": {
    "execution": {
     "iopub.execute_input": "2024-05-10T17:00:51.315686Z",
     "iopub.status.busy": "2024-05-10T17:00:51.314952Z",
     "iopub.status.idle": "2024-05-10T17:00:51.974373Z",
     "shell.execute_reply": "2024-05-10T17:00:51.973687Z",
     "shell.execute_reply.started": "2024-05-10T17:00:51.315625Z"
    },
    "tags": []
   },
   "outputs": [],
   "source": [
    "data = requests.get(\"https://raw.githubusercontent.com/tatsu-lab/stanford_alpaca/main/alpaca_data.json\")"
   ]
  },
  {
   "cell_type": "code",
   "execution_count": 6,
   "id": "26b9a1c6-8458-4cf7-923b-8d324b9420a6",
   "metadata": {
    "execution": {
     "iopub.execute_input": "2024-05-10T17:01:10.660989Z",
     "iopub.status.busy": "2024-05-10T17:01:10.660377Z",
     "iopub.status.idle": "2024-05-10T17:01:10.672437Z",
     "shell.execute_reply": "2024-05-10T17:01:10.671866Z",
     "shell.execute_reply.started": "2024-05-10T17:01:10.660926Z"
    },
    "tags": []
   },
   "outputs": [],
   "source": [
    "data = data.content.decode()"
   ]
  },
  {
   "cell_type": "code",
   "execution_count": 8,
   "id": "5d0e11f9-8bbe-4d49-a5dc-05d88b130c6c",
   "metadata": {
    "execution": {
     "iopub.execute_input": "2024-05-10T17:01:25.991509Z",
     "iopub.status.busy": "2024-05-10T17:01:25.991368Z",
     "iopub.status.idle": "2024-05-10T17:01:26.058250Z",
     "shell.execute_reply": "2024-05-10T17:01:26.057989Z",
     "shell.execute_reply.started": "2024-05-10T17:01:25.991496Z"
    },
    "tags": []
   },
   "outputs": [],
   "source": [
    "import json\n",
    "\n",
    "data = json.loads(data)"
   ]
  },
  {
   "cell_type": "code",
   "execution_count": 10,
   "id": "42193d31-e586-4986-97b6-d350b90b9eb2",
   "metadata": {
    "execution": {
     "iopub.execute_input": "2024-05-10T17:01:35.972801Z",
     "iopub.status.busy": "2024-05-10T17:01:35.972033Z",
     "iopub.status.idle": "2024-05-10T17:01:35.978450Z",
     "shell.execute_reply": "2024-05-10T17:01:35.977603Z",
     "shell.execute_reply.started": "2024-05-10T17:01:35.972760Z"
    },
    "tags": []
   },
   "outputs": [
    {
     "data": {
      "text/plain": [
       "52002"
      ]
     },
     "execution_count": 10,
     "metadata": {},
     "output_type": "execute_result"
    }
   ],
   "source": [
    "len(data)"
   ]
  },
  {
   "cell_type": "code",
   "execution_count": null,
   "id": "0e1f5c1f-1d24-46cc-9c66-084f24650f71",
   "metadata": {},
   "outputs": [],
   "source": [
    "백만토큰 = 0.1달러"
   ]
  },
  {
   "cell_type": "code",
   "execution_count": 1,
   "id": "0c5fb622-87ae-474d-86c1-2e199e23deb6",
   "metadata": {
    "execution": {
     "iopub.execute_input": "2024-05-10T17:49:58.247351Z",
     "iopub.status.busy": "2024-05-10T17:49:58.246898Z",
     "iopub.status.idle": "2024-05-10T17:49:59.891585Z",
     "shell.execute_reply": "2024-05-10T17:49:59.891346Z",
     "shell.execute_reply.started": "2024-05-10T17:49:58.247312Z"
    },
    "tags": []
   },
   "outputs": [],
   "source": [
    "from utils import jsave, jload"
   ]
  },
  {
   "cell_type": "code",
   "execution_count": 2,
   "id": "5f2c0c79-920c-49c9-a944-30361a09c1eb",
   "metadata": {
    "execution": {
     "iopub.execute_input": "2024-05-10T17:49:59.892616Z",
     "iopub.status.busy": "2024-05-10T17:49:59.892482Z",
     "iopub.status.idle": "2024-05-10T17:49:59.894344Z",
     "shell.execute_reply": "2024-05-10T17:49:59.894131Z",
     "shell.execute_reply.started": "2024-05-10T17:49:59.892605Z"
    },
    "tags": []
   },
   "outputs": [],
   "source": [
    "d = jload(\"./data/eval_dataset.jsonl\")"
   ]
  },
  {
   "cell_type": "code",
   "execution_count": 3,
   "id": "c99d22b4-bdfa-4ab1-a83e-db58082ee021",
   "metadata": {
    "execution": {
     "iopub.execute_input": "2024-05-10T17:49:59.894880Z",
     "iopub.status.busy": "2024-05-10T17:49:59.894754Z",
     "iopub.status.idle": "2024-05-10T17:49:59.897239Z",
     "shell.execute_reply": "2024-05-10T17:49:59.897045Z",
     "shell.execute_reply.started": "2024-05-10T17:49:59.894871Z"
    },
    "tags": []
   },
   "outputs": [
    {
     "data": {
      "text/plain": [
       "list"
      ]
     },
     "execution_count": 3,
     "metadata": {},
     "output_type": "execute_result"
    }
   ],
   "source": [
    "type(d)"
   ]
  },
  {
   "cell_type": "code",
   "execution_count": 6,
   "id": "64756e75-82bb-477b-a38b-fd107de5e91c",
   "metadata": {
    "execution": {
     "iopub.execute_input": "2024-05-10T17:50:16.892533Z",
     "iopub.status.busy": "2024-05-10T17:50:16.891950Z",
     "iopub.status.idle": "2024-05-10T17:50:16.900393Z",
     "shell.execute_reply": "2024-05-10T17:50:16.899142Z",
     "shell.execute_reply.started": "2024-05-10T17:50:16.892494Z"
    },
    "tags": []
   },
   "outputs": [],
   "source": [
    "jsave(d, \"./data/test.jsonl\", mode=\"a\")"
   ]
  },
  {
   "cell_type": "code",
   "execution_count": 22,
   "id": "f1616caa-0b54-4ca2-90b6-5140b7fba0e4",
   "metadata": {
    "execution": {
     "iopub.execute_input": "2024-05-10T18:03:58.549041Z",
     "iopub.status.busy": "2024-05-10T18:03:58.548459Z",
     "iopub.status.idle": "2024-05-10T18:03:58.555350Z",
     "shell.execute_reply": "2024-05-10T18:03:58.554343Z",
     "shell.execute_reply.started": "2024-05-10T18:03:58.548999Z"
    },
    "tags": []
   },
   "outputs": [],
   "source": [
    "d = jload(\"./data/questions.jsonl\")"
   ]
  },
  {
   "cell_type": "code",
   "execution_count": 23,
   "id": "aeae176e-68cd-4a71-b7c7-2497722e71fb",
   "metadata": {
    "execution": {
     "iopub.execute_input": "2024-05-10T18:03:58.767767Z",
     "iopub.status.busy": "2024-05-10T18:03:58.766536Z",
     "iopub.status.idle": "2024-05-10T18:03:58.773918Z",
     "shell.execute_reply": "2024-05-10T18:03:58.772804Z",
     "shell.execute_reply.started": "2024-05-10T18:03:58.767555Z"
    },
    "tags": []
   },
   "outputs": [
    {
     "data": {
      "text/plain": [
       "['{\"seed_word\": \"전세 계약\", \"answer\": [\"전세 계약 시 보증금은 어떻게 처리되나요?\", \"전세 계약 기간 중 중간에 계약을 해지할 수 있을까요?\", \"전세 계약 시 월세와 관리비는 누가 부담하나요?\", \"전세 계약 시 임대인이 부담해야 하는 유지보수 비용은 무엇이 있을까요?\", \"전세 계약 시 임차인이 공사를 할 경우 어떻게 해야 하나요?\", \"전세 계약 시 임대인이 부도가 나면 어떻게 되는 건가요?\", \"전세 계약 시 임차인이 사망하면 어떻게 처리되는 건가요?\", \"전세 계약 시 전세금을 납부하지 않을 경우 어떤 법적 조치가 이뤄지나요?\", \"전세 계약 시 전세금을 납부한 후에도 계약을 해지할 수 있을까요?\", \"전세 계약 시 전세금을 반환받을 수 있는 경우는 어떤 경우가 있을까요?\", \"전세 계약 시 전세금을 반환받지 못하는 경우는 어떤 경우가 있을까요?\", \"전세 계약 시 전세금 반환 시 세입자와 임대인 간의 분쟁이 발생하면 어떻게 해결해야 하나요?\", \"전세 계약 시 전세금 반환 시 중개인이 개입하면 어떤 문제가 발생할 수 있을까요?\", \"전세 계약 시 전세금 반환 시 법적인 절차는 어떻게 진행되는 건가요?\", \"전세 계약 시 전세금 반환 시 소송을 제기할 수 있는 경우는 어떤 경우가 있을까요?\", \"전세 계약 시 전세금 반환 시 변호사를 선임하는 것이 좋은 이유는 무엇인가요?\", \"전세 계약 시 전세금 반환 시 변호사 비용은 누가 부담해야 하나요?\", \"전세 계약 시 전세금 반환 시 변호사를 선임하지 않아도 되는 경우는 어떤 경우가 있을까요?\", \"전세 계약 시 전세금 반환 시 변호사를 선임하지 않으면 어떤 위험이 있을까요?\", \"전세 계약 시 전세금 반환 시 변호사를 선임하지 않아도 되는 경우는 어떤 경우가 있을까요?\"]}',\n",
       " '{\"seed_word\": \"전세 확정일자\", \"answer\": [\"전세 계약 시 확정일자를 변경할 수 있을까요?\", \"확정일자가 지나면 어떤 일이 벌어질까요?\", \"확정일자를 미룰 수 있는 경우가 있을까요?\", \"확정일자 변경에 대한 법적 근거는 무엇인가요?\", \"확정일자 변경 시 부동산 가치에 어떤 영향을 미칠까요?\", \"확정일자 변경 시 중개수수료는 어떻게 처리되나요?\", \"확정일자 변경 시 선불금은 돌려받을 수 있을까요?\", \"확정일자 변경 시 계약서 재작성이 필요한가요?\", \"확정일자 변경 시 세금 부담이 어떻게 변화할까요?\", \"확정일자 변경 시 이의제기 절차는 어떻게 되나요?\", \"확정일자 변경 시 보증금 처리 방법은 어떻게 되나요?\", \"확정일자 변경 시 계약해지 가능 여부는 어떻게 되나요?\", \"확정일자 변경 시 중개사무소의 책임은 어떻게 되나요?\", \"확정일자 변경 시 법적 분쟁 시 소송 절차는 어떻게 진행되나요?\", \"확정일자 변경 시 부동산 등기부등본에 어떤 영향을 미칠까요?\", \"확정일자 변경 시 임차인의 권리와 의무는 어떻게 변화할까요?\", \"확정일자 변경 시 임대인의 책임 범위는 어떻게 되나요?\", \"확정일자 변경 시 보증인의 역할은 무엇인가요?\", \"확정일자 변경 시 계약해지 시 부동산 재매각 절차는 어떻게 되나요?\"]}']"
      ]
     },
     "execution_count": 23,
     "metadata": {},
     "output_type": "execute_result"
    }
   ],
   "source": [
    "d"
   ]
  },
  {
   "cell_type": "code",
   "execution_count": 24,
   "id": "5fc095c0-cf2e-4343-b681-0bd58f829448",
   "metadata": {
    "execution": {
     "iopub.execute_input": "2024-05-10T18:04:00.968257Z",
     "iopub.status.busy": "2024-05-10T18:04:00.968120Z",
     "iopub.status.idle": "2024-05-10T18:04:00.970120Z",
     "shell.execute_reply": "2024-05-10T18:04:00.969907Z",
     "shell.execute_reply.started": "2024-05-10T18:04:00.968247Z"
    },
    "tags": []
   },
   "outputs": [],
   "source": [
    "d = [json.loads(d1) for d1 in d]\n",
    "jsave(d, \"./data/test_parsed.jsonl\", mode=\"a\")"
   ]
  },
  {
   "cell_type": "code",
   "execution_count": null,
   "id": "1b4b4138-cebc-434e-b657-a60b6e654593",
   "metadata": {},
   "outputs": [],
   "source": [
    "result = []\n",
    "for idx in range(len(data)):\n",
    "    try:\n",
    "        decoded = json.loads(data[idx])\n",
    "        result.append(decoded)\n",
    "    except:\n",
    "        raise ValueError(\n",
    "            f\"Can't decode to json at index [{idx}].\\n\"\n",
    "            \"You should check whether json format is correct or not first.\"\n",
    "        )"
   ]
  }
 ],
 "metadata": {
  "kernelspec": {
   "display_name": "Python 3 (ipykernel)",
   "language": "python",
   "name": "python3"
  },
  "language_info": {
   "codemirror_mode": {
    "name": "ipython",
    "version": 3
   },
   "file_extension": ".py",
   "mimetype": "text/x-python",
   "name": "python",
   "nbconvert_exporter": "python",
   "pygments_lexer": "ipython3",
   "version": "3.10.14"
  }
 },
 "nbformat": 4,
 "nbformat_minor": 5
}
